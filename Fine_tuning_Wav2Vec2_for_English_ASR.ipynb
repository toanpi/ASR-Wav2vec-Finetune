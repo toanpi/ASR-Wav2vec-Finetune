{
  "nbformat": 4,
  "nbformat_minor": 0,
  "metadata": {
    "colab": {
      "name": "Fine-tuning Wav2Vec2 for English ASR",
      "provenance": [],
      "machine_shape": "hm",
      "include_colab_link": true
    },
    "kernelspec": {
      "name": "python3",
      "display_name": "Python 3"
    },
    "accelerator": "GPU",
    "widgets": {
      "application/vnd.jupyter.widget-state+json": {
        "a7725ad7a1774178bba1b39b48bee36b": {
          "model_module": "@jupyter-widgets/controls",
          "model_name": "HBoxModel",
          "model_module_version": "1.5.0",
          "state": {
            "_dom_classes": [],
            "_model_module": "@jupyter-widgets/controls",
            "_model_module_version": "1.5.0",
            "_model_name": "HBoxModel",
            "_view_count": null,
            "_view_module": "@jupyter-widgets/controls",
            "_view_module_version": "1.5.0",
            "_view_name": "HBoxView",
            "box_style": "",
            "children": [
              "IPY_MODEL_acc6c975316f4fc9af3f449ccaf71646",
              "IPY_MODEL_2b48e3c58b284b32ae51a3c3afb13d85",
              "IPY_MODEL_7748d6bd4e224b3f836a06b321e72de0"
            ],
            "layout": "IPY_MODEL_b29aab47d701449181b8d8c715b09657"
          }
        },
        "acc6c975316f4fc9af3f449ccaf71646": {
          "model_module": "@jupyter-widgets/controls",
          "model_name": "HTMLModel",
          "model_module_version": "1.5.0",
          "state": {
            "_dom_classes": [],
            "_model_module": "@jupyter-widgets/controls",
            "_model_module_version": "1.5.0",
            "_model_name": "HTMLModel",
            "_view_count": null,
            "_view_module": "@jupyter-widgets/controls",
            "_view_module_version": "1.5.0",
            "_view_name": "HTMLView",
            "description": "",
            "description_tooltip": null,
            "layout": "IPY_MODEL_5cb2c62e3d6f426f8c17eec2fe6e23ae",
            "placeholder": "​",
            "style": "IPY_MODEL_f44a8453ba314ddbb153e1278eb59eec",
            "value": "Upload file pytorch_model.bin: 100%"
          }
        },
        "2b48e3c58b284b32ae51a3c3afb13d85": {
          "model_module": "@jupyter-widgets/controls",
          "model_name": "FloatProgressModel",
          "model_module_version": "1.5.0",
          "state": {
            "_dom_classes": [],
            "_model_module": "@jupyter-widgets/controls",
            "_model_module_version": "1.5.0",
            "_model_name": "FloatProgressModel",
            "_view_count": null,
            "_view_module": "@jupyter-widgets/controls",
            "_view_module_version": "1.5.0",
            "_view_name": "ProgressView",
            "bar_style": "success",
            "description": "",
            "description_tooltip": null,
            "layout": "IPY_MODEL_6ba56300bd3240629256a72060f36fde",
            "max": 377671575,
            "min": 0,
            "orientation": "horizontal",
            "style": "IPY_MODEL_d8f4c2ce266a4a9284572af28ad9ad1c",
            "value": 377671575
          }
        },
        "7748d6bd4e224b3f836a06b321e72de0": {
          "model_module": "@jupyter-widgets/controls",
          "model_name": "HTMLModel",
          "model_module_version": "1.5.0",
          "state": {
            "_dom_classes": [],
            "_model_module": "@jupyter-widgets/controls",
            "_model_module_version": "1.5.0",
            "_model_name": "HTMLModel",
            "_view_count": null,
            "_view_module": "@jupyter-widgets/controls",
            "_view_module_version": "1.5.0",
            "_view_name": "HTMLView",
            "description": "",
            "description_tooltip": null,
            "layout": "IPY_MODEL_4cdbe067372b4c32bc782f966aea7f42",
            "placeholder": "​",
            "style": "IPY_MODEL_afe17562ac7948edab0233eb3804d9cb",
            "value": " 360M/360M [05:26&lt;00:00, 735kB/s]"
          }
        },
        "b29aab47d701449181b8d8c715b09657": {
          "model_module": "@jupyter-widgets/base",
          "model_name": "LayoutModel",
          "model_module_version": "1.2.0",
          "state": {
            "_model_module": "@jupyter-widgets/base",
            "_model_module_version": "1.2.0",
            "_model_name": "LayoutModel",
            "_view_count": null,
            "_view_module": "@jupyter-widgets/base",
            "_view_module_version": "1.2.0",
            "_view_name": "LayoutView",
            "align_content": null,
            "align_items": null,
            "align_self": null,
            "border": null,
            "bottom": null,
            "display": null,
            "flex": null,
            "flex_flow": null,
            "grid_area": null,
            "grid_auto_columns": null,
            "grid_auto_flow": null,
            "grid_auto_rows": null,
            "grid_column": null,
            "grid_gap": null,
            "grid_row": null,
            "grid_template_areas": null,
            "grid_template_columns": null,
            "grid_template_rows": null,
            "height": null,
            "justify_content": null,
            "justify_items": null,
            "left": null,
            "margin": null,
            "max_height": null,
            "max_width": null,
            "min_height": null,
            "min_width": null,
            "object_fit": null,
            "object_position": null,
            "order": null,
            "overflow": null,
            "overflow_x": null,
            "overflow_y": null,
            "padding": null,
            "right": null,
            "top": null,
            "visibility": null,
            "width": null
          }
        },
        "5cb2c62e3d6f426f8c17eec2fe6e23ae": {
          "model_module": "@jupyter-widgets/base",
          "model_name": "LayoutModel",
          "model_module_version": "1.2.0",
          "state": {
            "_model_module": "@jupyter-widgets/base",
            "_model_module_version": "1.2.0",
            "_model_name": "LayoutModel",
            "_view_count": null,
            "_view_module": "@jupyter-widgets/base",
            "_view_module_version": "1.2.0",
            "_view_name": "LayoutView",
            "align_content": null,
            "align_items": null,
            "align_self": null,
            "border": null,
            "bottom": null,
            "display": null,
            "flex": null,
            "flex_flow": null,
            "grid_area": null,
            "grid_auto_columns": null,
            "grid_auto_flow": null,
            "grid_auto_rows": null,
            "grid_column": null,
            "grid_gap": null,
            "grid_row": null,
            "grid_template_areas": null,
            "grid_template_columns": null,
            "grid_template_rows": null,
            "height": null,
            "justify_content": null,
            "justify_items": null,
            "left": null,
            "margin": null,
            "max_height": null,
            "max_width": null,
            "min_height": null,
            "min_width": null,
            "object_fit": null,
            "object_position": null,
            "order": null,
            "overflow": null,
            "overflow_x": null,
            "overflow_y": null,
            "padding": null,
            "right": null,
            "top": null,
            "visibility": null,
            "width": null
          }
        },
        "f44a8453ba314ddbb153e1278eb59eec": {
          "model_module": "@jupyter-widgets/controls",
          "model_name": "DescriptionStyleModel",
          "model_module_version": "1.5.0",
          "state": {
            "_model_module": "@jupyter-widgets/controls",
            "_model_module_version": "1.5.0",
            "_model_name": "DescriptionStyleModel",
            "_view_count": null,
            "_view_module": "@jupyter-widgets/base",
            "_view_module_version": "1.2.0",
            "_view_name": "StyleView",
            "description_width": ""
          }
        },
        "6ba56300bd3240629256a72060f36fde": {
          "model_module": "@jupyter-widgets/base",
          "model_name": "LayoutModel",
          "model_module_version": "1.2.0",
          "state": {
            "_model_module": "@jupyter-widgets/base",
            "_model_module_version": "1.2.0",
            "_model_name": "LayoutModel",
            "_view_count": null,
            "_view_module": "@jupyter-widgets/base",
            "_view_module_version": "1.2.0",
            "_view_name": "LayoutView",
            "align_content": null,
            "align_items": null,
            "align_self": null,
            "border": null,
            "bottom": null,
            "display": null,
            "flex": null,
            "flex_flow": null,
            "grid_area": null,
            "grid_auto_columns": null,
            "grid_auto_flow": null,
            "grid_auto_rows": null,
            "grid_column": null,
            "grid_gap": null,
            "grid_row": null,
            "grid_template_areas": null,
            "grid_template_columns": null,
            "grid_template_rows": null,
            "height": null,
            "justify_content": null,
            "justify_items": null,
            "left": null,
            "margin": null,
            "max_height": null,
            "max_width": null,
            "min_height": null,
            "min_width": null,
            "object_fit": null,
            "object_position": null,
            "order": null,
            "overflow": null,
            "overflow_x": null,
            "overflow_y": null,
            "padding": null,
            "right": null,
            "top": null,
            "visibility": null,
            "width": null
          }
        },
        "d8f4c2ce266a4a9284572af28ad9ad1c": {
          "model_module": "@jupyter-widgets/controls",
          "model_name": "ProgressStyleModel",
          "model_module_version": "1.5.0",
          "state": {
            "_model_module": "@jupyter-widgets/controls",
            "_model_module_version": "1.5.0",
            "_model_name": "ProgressStyleModel",
            "_view_count": null,
            "_view_module": "@jupyter-widgets/base",
            "_view_module_version": "1.2.0",
            "_view_name": "StyleView",
            "bar_color": null,
            "description_width": ""
          }
        },
        "4cdbe067372b4c32bc782f966aea7f42": {
          "model_module": "@jupyter-widgets/base",
          "model_name": "LayoutModel",
          "model_module_version": "1.2.0",
          "state": {
            "_model_module": "@jupyter-widgets/base",
            "_model_module_version": "1.2.0",
            "_model_name": "LayoutModel",
            "_view_count": null,
            "_view_module": "@jupyter-widgets/base",
            "_view_module_version": "1.2.0",
            "_view_name": "LayoutView",
            "align_content": null,
            "align_items": null,
            "align_self": null,
            "border": null,
            "bottom": null,
            "display": null,
            "flex": null,
            "flex_flow": null,
            "grid_area": null,
            "grid_auto_columns": null,
            "grid_auto_flow": null,
            "grid_auto_rows": null,
            "grid_column": null,
            "grid_gap": null,
            "grid_row": null,
            "grid_template_areas": null,
            "grid_template_columns": null,
            "grid_template_rows": null,
            "height": null,
            "justify_content": null,
            "justify_items": null,
            "left": null,
            "margin": null,
            "max_height": null,
            "max_width": null,
            "min_height": null,
            "min_width": null,
            "object_fit": null,
            "object_position": null,
            "order": null,
            "overflow": null,
            "overflow_x": null,
            "overflow_y": null,
            "padding": null,
            "right": null,
            "top": null,
            "visibility": null,
            "width": null
          }
        },
        "afe17562ac7948edab0233eb3804d9cb": {
          "model_module": "@jupyter-widgets/controls",
          "model_name": "DescriptionStyleModel",
          "model_module_version": "1.5.0",
          "state": {
            "_model_module": "@jupyter-widgets/controls",
            "_model_module_version": "1.5.0",
            "_model_name": "DescriptionStyleModel",
            "_view_count": null,
            "_view_module": "@jupyter-widgets/base",
            "_view_module_version": "1.2.0",
            "_view_name": "StyleView",
            "description_width": ""
          }
        },
        "00a02ff8b284413f853da9d7c41afedd": {
          "model_module": "@jupyter-widgets/controls",
          "model_name": "HBoxModel",
          "model_module_version": "1.5.0",
          "state": {
            "_dom_classes": [],
            "_model_module": "@jupyter-widgets/controls",
            "_model_module_version": "1.5.0",
            "_model_name": "HBoxModel",
            "_view_count": null,
            "_view_module": "@jupyter-widgets/controls",
            "_view_module_version": "1.5.0",
            "_view_name": "HBoxView",
            "box_style": "",
            "children": [
              "IPY_MODEL_73b586087e9447e688c97318bf6eba11",
              "IPY_MODEL_6ba8f8fde3fc4050a304df11cc1d2c7c",
              "IPY_MODEL_0ceb294ca03a4bf2ae5586ffbbb6f0fc"
            ],
            "layout": "IPY_MODEL_ffa2bd3495f54f1c81f15ebf50fd4fee"
          }
        },
        "73b586087e9447e688c97318bf6eba11": {
          "model_module": "@jupyter-widgets/controls",
          "model_name": "HTMLModel",
          "model_module_version": "1.5.0",
          "state": {
            "_dom_classes": [],
            "_model_module": "@jupyter-widgets/controls",
            "_model_module_version": "1.5.0",
            "_model_name": "HTMLModel",
            "_view_count": null,
            "_view_module": "@jupyter-widgets/controls",
            "_view_module_version": "1.5.0",
            "_view_name": "HTMLView",
            "description": "",
            "description_tooltip": null,
            "layout": "IPY_MODEL_e53ec4e8ee3d44bb8b3bdcf323335c8a",
            "placeholder": "​",
            "style": "IPY_MODEL_ceef78fab0024c578976ad6c589c0d7f",
            "value": "Upload file runs/May10_11-02-51_d58de38fbf77/1652180636.6085317/events.out.tfevents.1652180636.d58de38fbf77.96.3: 100%"
          }
        },
        "6ba8f8fde3fc4050a304df11cc1d2c7c": {
          "model_module": "@jupyter-widgets/controls",
          "model_name": "FloatProgressModel",
          "model_module_version": "1.5.0",
          "state": {
            "_dom_classes": [],
            "_model_module": "@jupyter-widgets/controls",
            "_model_module_version": "1.5.0",
            "_model_name": "FloatProgressModel",
            "_view_count": null,
            "_view_module": "@jupyter-widgets/controls",
            "_view_module_version": "1.5.0",
            "_view_name": "ProgressView",
            "bar_style": "success",
            "description": "",
            "description_tooltip": null,
            "layout": "IPY_MODEL_35a9027e670146f3a25db0d06035fd1b",
            "max": 4825,
            "min": 0,
            "orientation": "horizontal",
            "style": "IPY_MODEL_0cd65792216b4decaf24961bb33802d0",
            "value": 4825
          }
        },
        "0ceb294ca03a4bf2ae5586ffbbb6f0fc": {
          "model_module": "@jupyter-widgets/controls",
          "model_name": "HTMLModel",
          "model_module_version": "1.5.0",
          "state": {
            "_dom_classes": [],
            "_model_module": "@jupyter-widgets/controls",
            "_model_module_version": "1.5.0",
            "_model_name": "HTMLModel",
            "_view_count": null,
            "_view_module": "@jupyter-widgets/controls",
            "_view_module_version": "1.5.0",
            "_view_name": "HTMLView",
            "description": "",
            "description_tooltip": null,
            "layout": "IPY_MODEL_968f456d45ab4f25aeaf57b0c0ddc190",
            "placeholder": "​",
            "style": "IPY_MODEL_92ae2ab85efc40fa89da650ccbe85e21",
            "value": " 4.71k/4.71k [05:26&lt;00:00, 13.9kB/s]"
          }
        },
        "ffa2bd3495f54f1c81f15ebf50fd4fee": {
          "model_module": "@jupyter-widgets/base",
          "model_name": "LayoutModel",
          "model_module_version": "1.2.0",
          "state": {
            "_model_module": "@jupyter-widgets/base",
            "_model_module_version": "1.2.0",
            "_model_name": "LayoutModel",
            "_view_count": null,
            "_view_module": "@jupyter-widgets/base",
            "_view_module_version": "1.2.0",
            "_view_name": "LayoutView",
            "align_content": null,
            "align_items": null,
            "align_self": null,
            "border": null,
            "bottom": null,
            "display": null,
            "flex": null,
            "flex_flow": null,
            "grid_area": null,
            "grid_auto_columns": null,
            "grid_auto_flow": null,
            "grid_auto_rows": null,
            "grid_column": null,
            "grid_gap": null,
            "grid_row": null,
            "grid_template_areas": null,
            "grid_template_columns": null,
            "grid_template_rows": null,
            "height": null,
            "justify_content": null,
            "justify_items": null,
            "left": null,
            "margin": null,
            "max_height": null,
            "max_width": null,
            "min_height": null,
            "min_width": null,
            "object_fit": null,
            "object_position": null,
            "order": null,
            "overflow": null,
            "overflow_x": null,
            "overflow_y": null,
            "padding": null,
            "right": null,
            "top": null,
            "visibility": null,
            "width": null
          }
        },
        "e53ec4e8ee3d44bb8b3bdcf323335c8a": {
          "model_module": "@jupyter-widgets/base",
          "model_name": "LayoutModel",
          "model_module_version": "1.2.0",
          "state": {
            "_model_module": "@jupyter-widgets/base",
            "_model_module_version": "1.2.0",
            "_model_name": "LayoutModel",
            "_view_count": null,
            "_view_module": "@jupyter-widgets/base",
            "_view_module_version": "1.2.0",
            "_view_name": "LayoutView",
            "align_content": null,
            "align_items": null,
            "align_self": null,
            "border": null,
            "bottom": null,
            "display": null,
            "flex": null,
            "flex_flow": null,
            "grid_area": null,
            "grid_auto_columns": null,
            "grid_auto_flow": null,
            "grid_auto_rows": null,
            "grid_column": null,
            "grid_gap": null,
            "grid_row": null,
            "grid_template_areas": null,
            "grid_template_columns": null,
            "grid_template_rows": null,
            "height": null,
            "justify_content": null,
            "justify_items": null,
            "left": null,
            "margin": null,
            "max_height": null,
            "max_width": null,
            "min_height": null,
            "min_width": null,
            "object_fit": null,
            "object_position": null,
            "order": null,
            "overflow": null,
            "overflow_x": null,
            "overflow_y": null,
            "padding": null,
            "right": null,
            "top": null,
            "visibility": null,
            "width": null
          }
        },
        "ceef78fab0024c578976ad6c589c0d7f": {
          "model_module": "@jupyter-widgets/controls",
          "model_name": "DescriptionStyleModel",
          "model_module_version": "1.5.0",
          "state": {
            "_model_module": "@jupyter-widgets/controls",
            "_model_module_version": "1.5.0",
            "_model_name": "DescriptionStyleModel",
            "_view_count": null,
            "_view_module": "@jupyter-widgets/base",
            "_view_module_version": "1.2.0",
            "_view_name": "StyleView",
            "description_width": ""
          }
        },
        "35a9027e670146f3a25db0d06035fd1b": {
          "model_module": "@jupyter-widgets/base",
          "model_name": "LayoutModel",
          "model_module_version": "1.2.0",
          "state": {
            "_model_module": "@jupyter-widgets/base",
            "_model_module_version": "1.2.0",
            "_model_name": "LayoutModel",
            "_view_count": null,
            "_view_module": "@jupyter-widgets/base",
            "_view_module_version": "1.2.0",
            "_view_name": "LayoutView",
            "align_content": null,
            "align_items": null,
            "align_self": null,
            "border": null,
            "bottom": null,
            "display": null,
            "flex": null,
            "flex_flow": null,
            "grid_area": null,
            "grid_auto_columns": null,
            "grid_auto_flow": null,
            "grid_auto_rows": null,
            "grid_column": null,
            "grid_gap": null,
            "grid_row": null,
            "grid_template_areas": null,
            "grid_template_columns": null,
            "grid_template_rows": null,
            "height": null,
            "justify_content": null,
            "justify_items": null,
            "left": null,
            "margin": null,
            "max_height": null,
            "max_width": null,
            "min_height": null,
            "min_width": null,
            "object_fit": null,
            "object_position": null,
            "order": null,
            "overflow": null,
            "overflow_x": null,
            "overflow_y": null,
            "padding": null,
            "right": null,
            "top": null,
            "visibility": null,
            "width": null
          }
        },
        "0cd65792216b4decaf24961bb33802d0": {
          "model_module": "@jupyter-widgets/controls",
          "model_name": "ProgressStyleModel",
          "model_module_version": "1.5.0",
          "state": {
            "_model_module": "@jupyter-widgets/controls",
            "_model_module_version": "1.5.0",
            "_model_name": "ProgressStyleModel",
            "_view_count": null,
            "_view_module": "@jupyter-widgets/base",
            "_view_module_version": "1.2.0",
            "_view_name": "StyleView",
            "bar_color": null,
            "description_width": ""
          }
        },
        "968f456d45ab4f25aeaf57b0c0ddc190": {
          "model_module": "@jupyter-widgets/base",
          "model_name": "LayoutModel",
          "model_module_version": "1.2.0",
          "state": {
            "_model_module": "@jupyter-widgets/base",
            "_model_module_version": "1.2.0",
            "_model_name": "LayoutModel",
            "_view_count": null,
            "_view_module": "@jupyter-widgets/base",
            "_view_module_version": "1.2.0",
            "_view_name": "LayoutView",
            "align_content": null,
            "align_items": null,
            "align_self": null,
            "border": null,
            "bottom": null,
            "display": null,
            "flex": null,
            "flex_flow": null,
            "grid_area": null,
            "grid_auto_columns": null,
            "grid_auto_flow": null,
            "grid_auto_rows": null,
            "grid_column": null,
            "grid_gap": null,
            "grid_row": null,
            "grid_template_areas": null,
            "grid_template_columns": null,
            "grid_template_rows": null,
            "height": null,
            "justify_content": null,
            "justify_items": null,
            "left": null,
            "margin": null,
            "max_height": null,
            "max_width": null,
            "min_height": null,
            "min_width": null,
            "object_fit": null,
            "object_position": null,
            "order": null,
            "overflow": null,
            "overflow_x": null,
            "overflow_y": null,
            "padding": null,
            "right": null,
            "top": null,
            "visibility": null,
            "width": null
          }
        },
        "92ae2ab85efc40fa89da650ccbe85e21": {
          "model_module": "@jupyter-widgets/controls",
          "model_name": "DescriptionStyleModel",
          "model_module_version": "1.5.0",
          "state": {
            "_model_module": "@jupyter-widgets/controls",
            "_model_module_version": "1.5.0",
            "_model_name": "DescriptionStyleModel",
            "_view_count": null,
            "_view_module": "@jupyter-widgets/base",
            "_view_module_version": "1.2.0",
            "_view_name": "StyleView",
            "description_width": ""
          }
        },
        "e1a34af59be04546808279b6e673c498": {
          "model_module": "@jupyter-widgets/controls",
          "model_name": "HBoxModel",
          "model_module_version": "1.5.0",
          "state": {
            "_dom_classes": [],
            "_model_module": "@jupyter-widgets/controls",
            "_model_module_version": "1.5.0",
            "_model_name": "HBoxModel",
            "_view_count": null,
            "_view_module": "@jupyter-widgets/controls",
            "_view_module_version": "1.5.0",
            "_view_name": "HBoxView",
            "box_style": "",
            "children": [
              "IPY_MODEL_91a9bd637428473192d5ec47ba137268",
              "IPY_MODEL_f11e33bc060746758ad638204b71955c",
              "IPY_MODEL_ef69985b8f7c4662912a11a377e99b59"
            ],
            "layout": "IPY_MODEL_9721f00cdfc942e8ab8a4faf8080ef2d"
          }
        },
        "91a9bd637428473192d5ec47ba137268": {
          "model_module": "@jupyter-widgets/controls",
          "model_name": "HTMLModel",
          "model_module_version": "1.5.0",
          "state": {
            "_dom_classes": [],
            "_model_module": "@jupyter-widgets/controls",
            "_model_module_version": "1.5.0",
            "_model_name": "HTMLModel",
            "_view_count": null,
            "_view_module": "@jupyter-widgets/controls",
            "_view_module_version": "1.5.0",
            "_view_name": "HTMLView",
            "description": "",
            "description_tooltip": null,
            "layout": "IPY_MODEL_196c66080f944a61a537a0ddd9905248",
            "placeholder": "​",
            "style": "IPY_MODEL_e7d54319900548208c3852623ebc3dcf",
            "value": "Upload file training_args.bin: 100%"
          }
        },
        "f11e33bc060746758ad638204b71955c": {
          "model_module": "@jupyter-widgets/controls",
          "model_name": "FloatProgressModel",
          "model_module_version": "1.5.0",
          "state": {
            "_dom_classes": [],
            "_model_module": "@jupyter-widgets/controls",
            "_model_module_version": "1.5.0",
            "_model_name": "FloatProgressModel",
            "_view_count": null,
            "_view_module": "@jupyter-widgets/controls",
            "_view_module_version": "1.5.0",
            "_view_name": "ProgressView",
            "bar_style": "success",
            "description": "",
            "description_tooltip": null,
            "layout": "IPY_MODEL_adbd04cd03624b66a8c725f9a89647b6",
            "max": 3055,
            "min": 0,
            "orientation": "horizontal",
            "style": "IPY_MODEL_200b5fada23d45ff947953003d052605",
            "value": 3055
          }
        },
        "ef69985b8f7c4662912a11a377e99b59": {
          "model_module": "@jupyter-widgets/controls",
          "model_name": "HTMLModel",
          "model_module_version": "1.5.0",
          "state": {
            "_dom_classes": [],
            "_model_module": "@jupyter-widgets/controls",
            "_model_module_version": "1.5.0",
            "_model_name": "HTMLModel",
            "_view_count": null,
            "_view_module": "@jupyter-widgets/controls",
            "_view_module_version": "1.5.0",
            "_view_name": "HTMLView",
            "description": "",
            "description_tooltip": null,
            "layout": "IPY_MODEL_8c89f99cd7b9408eafbfbf8e0c56d39c",
            "placeholder": "​",
            "style": "IPY_MODEL_a40561b6f013481ba77fa137ab43b1c2",
            "value": " 2.98k/2.98k [05:26&lt;?, ?B/s]"
          }
        },
        "9721f00cdfc942e8ab8a4faf8080ef2d": {
          "model_module": "@jupyter-widgets/base",
          "model_name": "LayoutModel",
          "model_module_version": "1.2.0",
          "state": {
            "_model_module": "@jupyter-widgets/base",
            "_model_module_version": "1.2.0",
            "_model_name": "LayoutModel",
            "_view_count": null,
            "_view_module": "@jupyter-widgets/base",
            "_view_module_version": "1.2.0",
            "_view_name": "LayoutView",
            "align_content": null,
            "align_items": null,
            "align_self": null,
            "border": null,
            "bottom": null,
            "display": null,
            "flex": null,
            "flex_flow": null,
            "grid_area": null,
            "grid_auto_columns": null,
            "grid_auto_flow": null,
            "grid_auto_rows": null,
            "grid_column": null,
            "grid_gap": null,
            "grid_row": null,
            "grid_template_areas": null,
            "grid_template_columns": null,
            "grid_template_rows": null,
            "height": null,
            "justify_content": null,
            "justify_items": null,
            "left": null,
            "margin": null,
            "max_height": null,
            "max_width": null,
            "min_height": null,
            "min_width": null,
            "object_fit": null,
            "object_position": null,
            "order": null,
            "overflow": null,
            "overflow_x": null,
            "overflow_y": null,
            "padding": null,
            "right": null,
            "top": null,
            "visibility": null,
            "width": null
          }
        },
        "196c66080f944a61a537a0ddd9905248": {
          "model_module": "@jupyter-widgets/base",
          "model_name": "LayoutModel",
          "model_module_version": "1.2.0",
          "state": {
            "_model_module": "@jupyter-widgets/base",
            "_model_module_version": "1.2.0",
            "_model_name": "LayoutModel",
            "_view_count": null,
            "_view_module": "@jupyter-widgets/base",
            "_view_module_version": "1.2.0",
            "_view_name": "LayoutView",
            "align_content": null,
            "align_items": null,
            "align_self": null,
            "border": null,
            "bottom": null,
            "display": null,
            "flex": null,
            "flex_flow": null,
            "grid_area": null,
            "grid_auto_columns": null,
            "grid_auto_flow": null,
            "grid_auto_rows": null,
            "grid_column": null,
            "grid_gap": null,
            "grid_row": null,
            "grid_template_areas": null,
            "grid_template_columns": null,
            "grid_template_rows": null,
            "height": null,
            "justify_content": null,
            "justify_items": null,
            "left": null,
            "margin": null,
            "max_height": null,
            "max_width": null,
            "min_height": null,
            "min_width": null,
            "object_fit": null,
            "object_position": null,
            "order": null,
            "overflow": null,
            "overflow_x": null,
            "overflow_y": null,
            "padding": null,
            "right": null,
            "top": null,
            "visibility": null,
            "width": null
          }
        },
        "e7d54319900548208c3852623ebc3dcf": {
          "model_module": "@jupyter-widgets/controls",
          "model_name": "DescriptionStyleModel",
          "model_module_version": "1.5.0",
          "state": {
            "_model_module": "@jupyter-widgets/controls",
            "_model_module_version": "1.5.0",
            "_model_name": "DescriptionStyleModel",
            "_view_count": null,
            "_view_module": "@jupyter-widgets/base",
            "_view_module_version": "1.2.0",
            "_view_name": "StyleView",
            "description_width": ""
          }
        },
        "adbd04cd03624b66a8c725f9a89647b6": {
          "model_module": "@jupyter-widgets/base",
          "model_name": "LayoutModel",
          "model_module_version": "1.2.0",
          "state": {
            "_model_module": "@jupyter-widgets/base",
            "_model_module_version": "1.2.0",
            "_model_name": "LayoutModel",
            "_view_count": null,
            "_view_module": "@jupyter-widgets/base",
            "_view_module_version": "1.2.0",
            "_view_name": "LayoutView",
            "align_content": null,
            "align_items": null,
            "align_self": null,
            "border": null,
            "bottom": null,
            "display": null,
            "flex": null,
            "flex_flow": null,
            "grid_area": null,
            "grid_auto_columns": null,
            "grid_auto_flow": null,
            "grid_auto_rows": null,
            "grid_column": null,
            "grid_gap": null,
            "grid_row": null,
            "grid_template_areas": null,
            "grid_template_columns": null,
            "grid_template_rows": null,
            "height": null,
            "justify_content": null,
            "justify_items": null,
            "left": null,
            "margin": null,
            "max_height": null,
            "max_width": null,
            "min_height": null,
            "min_width": null,
            "object_fit": null,
            "object_position": null,
            "order": null,
            "overflow": null,
            "overflow_x": null,
            "overflow_y": null,
            "padding": null,
            "right": null,
            "top": null,
            "visibility": null,
            "width": null
          }
        },
        "200b5fada23d45ff947953003d052605": {
          "model_module": "@jupyter-widgets/controls",
          "model_name": "ProgressStyleModel",
          "model_module_version": "1.5.0",
          "state": {
            "_model_module": "@jupyter-widgets/controls",
            "_model_module_version": "1.5.0",
            "_model_name": "ProgressStyleModel",
            "_view_count": null,
            "_view_module": "@jupyter-widgets/base",
            "_view_module_version": "1.2.0",
            "_view_name": "StyleView",
            "bar_color": null,
            "description_width": ""
          }
        },
        "8c89f99cd7b9408eafbfbf8e0c56d39c": {
          "model_module": "@jupyter-widgets/base",
          "model_name": "LayoutModel",
          "model_module_version": "1.2.0",
          "state": {
            "_model_module": "@jupyter-widgets/base",
            "_model_module_version": "1.2.0",
            "_model_name": "LayoutModel",
            "_view_count": null,
            "_view_module": "@jupyter-widgets/base",
            "_view_module_version": "1.2.0",
            "_view_name": "LayoutView",
            "align_content": null,
            "align_items": null,
            "align_self": null,
            "border": null,
            "bottom": null,
            "display": null,
            "flex": null,
            "flex_flow": null,
            "grid_area": null,
            "grid_auto_columns": null,
            "grid_auto_flow": null,
            "grid_auto_rows": null,
            "grid_column": null,
            "grid_gap": null,
            "grid_row": null,
            "grid_template_areas": null,
            "grid_template_columns": null,
            "grid_template_rows": null,
            "height": null,
            "justify_content": null,
            "justify_items": null,
            "left": null,
            "margin": null,
            "max_height": null,
            "max_width": null,
            "min_height": null,
            "min_width": null,
            "object_fit": null,
            "object_position": null,
            "order": null,
            "overflow": null,
            "overflow_x": null,
            "overflow_y": null,
            "padding": null,
            "right": null,
            "top": null,
            "visibility": null,
            "width": null
          }
        },
        "a40561b6f013481ba77fa137ab43b1c2": {
          "model_module": "@jupyter-widgets/controls",
          "model_name": "DescriptionStyleModel",
          "model_module_version": "1.5.0",
          "state": {
            "_model_module": "@jupyter-widgets/controls",
            "_model_module_version": "1.5.0",
            "_model_name": "DescriptionStyleModel",
            "_view_count": null,
            "_view_module": "@jupyter-widgets/base",
            "_view_module_version": "1.2.0",
            "_view_name": "StyleView",
            "description_width": ""
          }
        },
        "63ee5e2413434249bd47a8d662ec0da6": {
          "model_module": "@jupyter-widgets/controls",
          "model_name": "HBoxModel",
          "model_module_version": "1.5.0",
          "state": {
            "_dom_classes": [],
            "_model_module": "@jupyter-widgets/controls",
            "_model_module_version": "1.5.0",
            "_model_name": "HBoxModel",
            "_view_count": null,
            "_view_module": "@jupyter-widgets/controls",
            "_view_module_version": "1.5.0",
            "_view_name": "HBoxView",
            "box_style": "",
            "children": [
              "IPY_MODEL_d10215d60b9f471ab681a948ad143159",
              "IPY_MODEL_bcb33e49c5ab412eb5b8cd823cf06706",
              "IPY_MODEL_f23b78d30ff040f481b5584a83083b39"
            ],
            "layout": "IPY_MODEL_fe39df4b5e9d41f6a0233bafb4522dd4"
          }
        },
        "d10215d60b9f471ab681a948ad143159": {
          "model_module": "@jupyter-widgets/controls",
          "model_name": "HTMLModel",
          "model_module_version": "1.5.0",
          "state": {
            "_dom_classes": [],
            "_model_module": "@jupyter-widgets/controls",
            "_model_module_version": "1.5.0",
            "_model_name": "HTMLModel",
            "_view_count": null,
            "_view_module": "@jupyter-widgets/controls",
            "_view_module_version": "1.5.0",
            "_view_name": "HTMLView",
            "description": "",
            "description_tooltip": null,
            "layout": "IPY_MODEL_6cac8e9fcefd4353a76244f89ff459e1",
            "placeholder": "​",
            "style": "IPY_MODEL_4f70c2c356074adf9aa7c1fb6b20f8e3",
            "value": "Upload file runs/May10_11-02-51_d58de38fbf77/events.out.tfevents.1652180636.d58de38fbf77.96.2: 100%"
          }
        },
        "bcb33e49c5ab412eb5b8cd823cf06706": {
          "model_module": "@jupyter-widgets/controls",
          "model_name": "FloatProgressModel",
          "model_module_version": "1.5.0",
          "state": {
            "_dom_classes": [],
            "_model_module": "@jupyter-widgets/controls",
            "_model_module_version": "1.5.0",
            "_model_name": "FloatProgressModel",
            "_view_count": null,
            "_view_module": "@jupyter-widgets/controls",
            "_view_module_version": "1.5.0",
            "_view_name": "ProgressView",
            "bar_style": "success",
            "description": "",
            "description_tooltip": null,
            "layout": "IPY_MODEL_4cc884973b734098a135619736b5f599",
            "max": 19164,
            "min": 0,
            "orientation": "horizontal",
            "style": "IPY_MODEL_fd72ea27c82843ceb5fdb74886fc5b44",
            "value": 19164
          }
        },
        "f23b78d30ff040f481b5584a83083b39": {
          "model_module": "@jupyter-widgets/controls",
          "model_name": "HTMLModel",
          "model_module_version": "1.5.0",
          "state": {
            "_dom_classes": [],
            "_model_module": "@jupyter-widgets/controls",
            "_model_module_version": "1.5.0",
            "_model_name": "HTMLModel",
            "_view_count": null,
            "_view_module": "@jupyter-widgets/controls",
            "_view_module_version": "1.5.0",
            "_view_name": "HTMLView",
            "description": "",
            "description_tooltip": null,
            "layout": "IPY_MODEL_28b1ff0d507e40fb84e4083537207de4",
            "placeholder": "​",
            "style": "IPY_MODEL_bf2896c4b25147f0a303c748fa2b0cd9",
            "value": " 18.7k/18.7k [05:26&lt;00:00, 48.2B/s]"
          }
        },
        "fe39df4b5e9d41f6a0233bafb4522dd4": {
          "model_module": "@jupyter-widgets/base",
          "model_name": "LayoutModel",
          "model_module_version": "1.2.0",
          "state": {
            "_model_module": "@jupyter-widgets/base",
            "_model_module_version": "1.2.0",
            "_model_name": "LayoutModel",
            "_view_count": null,
            "_view_module": "@jupyter-widgets/base",
            "_view_module_version": "1.2.0",
            "_view_name": "LayoutView",
            "align_content": null,
            "align_items": null,
            "align_self": null,
            "border": null,
            "bottom": null,
            "display": null,
            "flex": null,
            "flex_flow": null,
            "grid_area": null,
            "grid_auto_columns": null,
            "grid_auto_flow": null,
            "grid_auto_rows": null,
            "grid_column": null,
            "grid_gap": null,
            "grid_row": null,
            "grid_template_areas": null,
            "grid_template_columns": null,
            "grid_template_rows": null,
            "height": null,
            "justify_content": null,
            "justify_items": null,
            "left": null,
            "margin": null,
            "max_height": null,
            "max_width": null,
            "min_height": null,
            "min_width": null,
            "object_fit": null,
            "object_position": null,
            "order": null,
            "overflow": null,
            "overflow_x": null,
            "overflow_y": null,
            "padding": null,
            "right": null,
            "top": null,
            "visibility": null,
            "width": null
          }
        },
        "6cac8e9fcefd4353a76244f89ff459e1": {
          "model_module": "@jupyter-widgets/base",
          "model_name": "LayoutModel",
          "model_module_version": "1.2.0",
          "state": {
            "_model_module": "@jupyter-widgets/base",
            "_model_module_version": "1.2.0",
            "_model_name": "LayoutModel",
            "_view_count": null,
            "_view_module": "@jupyter-widgets/base",
            "_view_module_version": "1.2.0",
            "_view_name": "LayoutView",
            "align_content": null,
            "align_items": null,
            "align_self": null,
            "border": null,
            "bottom": null,
            "display": null,
            "flex": null,
            "flex_flow": null,
            "grid_area": null,
            "grid_auto_columns": null,
            "grid_auto_flow": null,
            "grid_auto_rows": null,
            "grid_column": null,
            "grid_gap": null,
            "grid_row": null,
            "grid_template_areas": null,
            "grid_template_columns": null,
            "grid_template_rows": null,
            "height": null,
            "justify_content": null,
            "justify_items": null,
            "left": null,
            "margin": null,
            "max_height": null,
            "max_width": null,
            "min_height": null,
            "min_width": null,
            "object_fit": null,
            "object_position": null,
            "order": null,
            "overflow": null,
            "overflow_x": null,
            "overflow_y": null,
            "padding": null,
            "right": null,
            "top": null,
            "visibility": null,
            "width": null
          }
        },
        "4f70c2c356074adf9aa7c1fb6b20f8e3": {
          "model_module": "@jupyter-widgets/controls",
          "model_name": "DescriptionStyleModel",
          "model_module_version": "1.5.0",
          "state": {
            "_model_module": "@jupyter-widgets/controls",
            "_model_module_version": "1.5.0",
            "_model_name": "DescriptionStyleModel",
            "_view_count": null,
            "_view_module": "@jupyter-widgets/base",
            "_view_module_version": "1.2.0",
            "_view_name": "StyleView",
            "description_width": ""
          }
        },
        "4cc884973b734098a135619736b5f599": {
          "model_module": "@jupyter-widgets/base",
          "model_name": "LayoutModel",
          "model_module_version": "1.2.0",
          "state": {
            "_model_module": "@jupyter-widgets/base",
            "_model_module_version": "1.2.0",
            "_model_name": "LayoutModel",
            "_view_count": null,
            "_view_module": "@jupyter-widgets/base",
            "_view_module_version": "1.2.0",
            "_view_name": "LayoutView",
            "align_content": null,
            "align_items": null,
            "align_self": null,
            "border": null,
            "bottom": null,
            "display": null,
            "flex": null,
            "flex_flow": null,
            "grid_area": null,
            "grid_auto_columns": null,
            "grid_auto_flow": null,
            "grid_auto_rows": null,
            "grid_column": null,
            "grid_gap": null,
            "grid_row": null,
            "grid_template_areas": null,
            "grid_template_columns": null,
            "grid_template_rows": null,
            "height": null,
            "justify_content": null,
            "justify_items": null,
            "left": null,
            "margin": null,
            "max_height": null,
            "max_width": null,
            "min_height": null,
            "min_width": null,
            "object_fit": null,
            "object_position": null,
            "order": null,
            "overflow": null,
            "overflow_x": null,
            "overflow_y": null,
            "padding": null,
            "right": null,
            "top": null,
            "visibility": null,
            "width": null
          }
        },
        "fd72ea27c82843ceb5fdb74886fc5b44": {
          "model_module": "@jupyter-widgets/controls",
          "model_name": "ProgressStyleModel",
          "model_module_version": "1.5.0",
          "state": {
            "_model_module": "@jupyter-widgets/controls",
            "_model_module_version": "1.5.0",
            "_model_name": "ProgressStyleModel",
            "_view_count": null,
            "_view_module": "@jupyter-widgets/base",
            "_view_module_version": "1.2.0",
            "_view_name": "StyleView",
            "bar_color": null,
            "description_width": ""
          }
        },
        "28b1ff0d507e40fb84e4083537207de4": {
          "model_module": "@jupyter-widgets/base",
          "model_name": "LayoutModel",
          "model_module_version": "1.2.0",
          "state": {
            "_model_module": "@jupyter-widgets/base",
            "_model_module_version": "1.2.0",
            "_model_name": "LayoutModel",
            "_view_count": null,
            "_view_module": "@jupyter-widgets/base",
            "_view_module_version": "1.2.0",
            "_view_name": "LayoutView",
            "align_content": null,
            "align_items": null,
            "align_self": null,
            "border": null,
            "bottom": null,
            "display": null,
            "flex": null,
            "flex_flow": null,
            "grid_area": null,
            "grid_auto_columns": null,
            "grid_auto_flow": null,
            "grid_auto_rows": null,
            "grid_column": null,
            "grid_gap": null,
            "grid_row": null,
            "grid_template_areas": null,
            "grid_template_columns": null,
            "grid_template_rows": null,
            "height": null,
            "justify_content": null,
            "justify_items": null,
            "left": null,
            "margin": null,
            "max_height": null,
            "max_width": null,
            "min_height": null,
            "min_width": null,
            "object_fit": null,
            "object_position": null,
            "order": null,
            "overflow": null,
            "overflow_x": null,
            "overflow_y": null,
            "padding": null,
            "right": null,
            "top": null,
            "visibility": null,
            "width": null
          }
        },
        "bf2896c4b25147f0a303c748fa2b0cd9": {
          "model_module": "@jupyter-widgets/controls",
          "model_name": "DescriptionStyleModel",
          "model_module_version": "1.5.0",
          "state": {
            "_model_module": "@jupyter-widgets/controls",
            "_model_module_version": "1.5.0",
            "_model_name": "DescriptionStyleModel",
            "_view_count": null,
            "_view_module": "@jupyter-widgets/base",
            "_view_module_version": "1.2.0",
            "_view_name": "StyleView",
            "description_width": ""
          }
        },
        "524b5795780746f5966c06b878cc0fbc": {
          "model_module": "@jupyter-widgets/controls",
          "model_name": "HBoxModel",
          "model_module_version": "1.5.0",
          "state": {
            "_dom_classes": [],
            "_model_module": "@jupyter-widgets/controls",
            "_model_module_version": "1.5.0",
            "_model_name": "HBoxModel",
            "_view_count": null,
            "_view_module": "@jupyter-widgets/controls",
            "_view_module_version": "1.5.0",
            "_view_name": "HBoxView",
            "box_style": "",
            "children": [
              "IPY_MODEL_8eb41fee8e1c452a9d69a07a266d871a",
              "IPY_MODEL_f22febfc3bbe48058be84b2a20e906f5",
              "IPY_MODEL_ab51fefefa1b464a9a780b80c6f0c020"
            ],
            "layout": "IPY_MODEL_88fd1cb973f8485b97caa19b7801c3d3"
          }
        },
        "8eb41fee8e1c452a9d69a07a266d871a": {
          "model_module": "@jupyter-widgets/controls",
          "model_name": "HTMLModel",
          "model_module_version": "1.5.0",
          "state": {
            "_dom_classes": [],
            "_model_module": "@jupyter-widgets/controls",
            "_model_module_version": "1.5.0",
            "_model_name": "HTMLModel",
            "_view_count": null,
            "_view_module": "@jupyter-widgets/controls",
            "_view_module_version": "1.5.0",
            "_view_name": "HTMLView",
            "description": "",
            "description_tooltip": null,
            "layout": "IPY_MODEL_3234edc4a75e4658acd19feef174e88f",
            "placeholder": "​",
            "style": "IPY_MODEL_6bfe6219ad934146a4d680e38ed19879",
            "value": "Downloading: 100%"
          }
        },
        "f22febfc3bbe48058be84b2a20e906f5": {
          "model_module": "@jupyter-widgets/controls",
          "model_name": "FloatProgressModel",
          "model_module_version": "1.5.0",
          "state": {
            "_dom_classes": [],
            "_model_module": "@jupyter-widgets/controls",
            "_model_module_version": "1.5.0",
            "_model_name": "FloatProgressModel",
            "_view_count": null,
            "_view_module": "@jupyter-widgets/controls",
            "_view_module_version": "1.5.0",
            "_view_name": "ProgressView",
            "bar_style": "success",
            "description": "",
            "description_tooltip": null,
            "layout": "IPY_MODEL_63e9fc689ea54fbfa7226cc9918977cb",
            "max": 215,
            "min": 0,
            "orientation": "horizontal",
            "style": "IPY_MODEL_dc034b4bf9e34963ab79f391c55d44ac",
            "value": 215
          }
        },
        "ab51fefefa1b464a9a780b80c6f0c020": {
          "model_module": "@jupyter-widgets/controls",
          "model_name": "HTMLModel",
          "model_module_version": "1.5.0",
          "state": {
            "_dom_classes": [],
            "_model_module": "@jupyter-widgets/controls",
            "_model_module_version": "1.5.0",
            "_model_name": "HTMLModel",
            "_view_count": null,
            "_view_module": "@jupyter-widgets/controls",
            "_view_module_version": "1.5.0",
            "_view_name": "HTMLView",
            "description": "",
            "description_tooltip": null,
            "layout": "IPY_MODEL_6b3288ffeef34c2a925d2554c7c4f521",
            "placeholder": "​",
            "style": "IPY_MODEL_116e45bbe2d640d18d6a47309692dc20",
            "value": " 215/215 [00:00&lt;00:00, 8.22kB/s]"
          }
        },
        "88fd1cb973f8485b97caa19b7801c3d3": {
          "model_module": "@jupyter-widgets/base",
          "model_name": "LayoutModel",
          "model_module_version": "1.2.0",
          "state": {
            "_model_module": "@jupyter-widgets/base",
            "_model_module_version": "1.2.0",
            "_model_name": "LayoutModel",
            "_view_count": null,
            "_view_module": "@jupyter-widgets/base",
            "_view_module_version": "1.2.0",
            "_view_name": "LayoutView",
            "align_content": null,
            "align_items": null,
            "align_self": null,
            "border": null,
            "bottom": null,
            "display": null,
            "flex": null,
            "flex_flow": null,
            "grid_area": null,
            "grid_auto_columns": null,
            "grid_auto_flow": null,
            "grid_auto_rows": null,
            "grid_column": null,
            "grid_gap": null,
            "grid_row": null,
            "grid_template_areas": null,
            "grid_template_columns": null,
            "grid_template_rows": null,
            "height": null,
            "justify_content": null,
            "justify_items": null,
            "left": null,
            "margin": null,
            "max_height": null,
            "max_width": null,
            "min_height": null,
            "min_width": null,
            "object_fit": null,
            "object_position": null,
            "order": null,
            "overflow": null,
            "overflow_x": null,
            "overflow_y": null,
            "padding": null,
            "right": null,
            "top": null,
            "visibility": null,
            "width": null
          }
        },
        "3234edc4a75e4658acd19feef174e88f": {
          "model_module": "@jupyter-widgets/base",
          "model_name": "LayoutModel",
          "model_module_version": "1.2.0",
          "state": {
            "_model_module": "@jupyter-widgets/base",
            "_model_module_version": "1.2.0",
            "_model_name": "LayoutModel",
            "_view_count": null,
            "_view_module": "@jupyter-widgets/base",
            "_view_module_version": "1.2.0",
            "_view_name": "LayoutView",
            "align_content": null,
            "align_items": null,
            "align_self": null,
            "border": null,
            "bottom": null,
            "display": null,
            "flex": null,
            "flex_flow": null,
            "grid_area": null,
            "grid_auto_columns": null,
            "grid_auto_flow": null,
            "grid_auto_rows": null,
            "grid_column": null,
            "grid_gap": null,
            "grid_row": null,
            "grid_template_areas": null,
            "grid_template_columns": null,
            "grid_template_rows": null,
            "height": null,
            "justify_content": null,
            "justify_items": null,
            "left": null,
            "margin": null,
            "max_height": null,
            "max_width": null,
            "min_height": null,
            "min_width": null,
            "object_fit": null,
            "object_position": null,
            "order": null,
            "overflow": null,
            "overflow_x": null,
            "overflow_y": null,
            "padding": null,
            "right": null,
            "top": null,
            "visibility": null,
            "width": null
          }
        },
        "6bfe6219ad934146a4d680e38ed19879": {
          "model_module": "@jupyter-widgets/controls",
          "model_name": "DescriptionStyleModel",
          "model_module_version": "1.5.0",
          "state": {
            "_model_module": "@jupyter-widgets/controls",
            "_model_module_version": "1.5.0",
            "_model_name": "DescriptionStyleModel",
            "_view_count": null,
            "_view_module": "@jupyter-widgets/base",
            "_view_module_version": "1.2.0",
            "_view_name": "StyleView",
            "description_width": ""
          }
        },
        "63e9fc689ea54fbfa7226cc9918977cb": {
          "model_module": "@jupyter-widgets/base",
          "model_name": "LayoutModel",
          "model_module_version": "1.2.0",
          "state": {
            "_model_module": "@jupyter-widgets/base",
            "_model_module_version": "1.2.0",
            "_model_name": "LayoutModel",
            "_view_count": null,
            "_view_module": "@jupyter-widgets/base",
            "_view_module_version": "1.2.0",
            "_view_name": "LayoutView",
            "align_content": null,
            "align_items": null,
            "align_self": null,
            "border": null,
            "bottom": null,
            "display": null,
            "flex": null,
            "flex_flow": null,
            "grid_area": null,
            "grid_auto_columns": null,
            "grid_auto_flow": null,
            "grid_auto_rows": null,
            "grid_column": null,
            "grid_gap": null,
            "grid_row": null,
            "grid_template_areas": null,
            "grid_template_columns": null,
            "grid_template_rows": null,
            "height": null,
            "justify_content": null,
            "justify_items": null,
            "left": null,
            "margin": null,
            "max_height": null,
            "max_width": null,
            "min_height": null,
            "min_width": null,
            "object_fit": null,
            "object_position": null,
            "order": null,
            "overflow": null,
            "overflow_x": null,
            "overflow_y": null,
            "padding": null,
            "right": null,
            "top": null,
            "visibility": null,
            "width": null
          }
        },
        "dc034b4bf9e34963ab79f391c55d44ac": {
          "model_module": "@jupyter-widgets/controls",
          "model_name": "ProgressStyleModel",
          "model_module_version": "1.5.0",
          "state": {
            "_model_module": "@jupyter-widgets/controls",
            "_model_module_version": "1.5.0",
            "_model_name": "ProgressStyleModel",
            "_view_count": null,
            "_view_module": "@jupyter-widgets/base",
            "_view_module_version": "1.2.0",
            "_view_name": "StyleView",
            "bar_color": null,
            "description_width": ""
          }
        },
        "6b3288ffeef34c2a925d2554c7c4f521": {
          "model_module": "@jupyter-widgets/base",
          "model_name": "LayoutModel",
          "model_module_version": "1.2.0",
          "state": {
            "_model_module": "@jupyter-widgets/base",
            "_model_module_version": "1.2.0",
            "_model_name": "LayoutModel",
            "_view_count": null,
            "_view_module": "@jupyter-widgets/base",
            "_view_module_version": "1.2.0",
            "_view_name": "LayoutView",
            "align_content": null,
            "align_items": null,
            "align_self": null,
            "border": null,
            "bottom": null,
            "display": null,
            "flex": null,
            "flex_flow": null,
            "grid_area": null,
            "grid_auto_columns": null,
            "grid_auto_flow": null,
            "grid_auto_rows": null,
            "grid_column": null,
            "grid_gap": null,
            "grid_row": null,
            "grid_template_areas": null,
            "grid_template_columns": null,
            "grid_template_rows": null,
            "height": null,
            "justify_content": null,
            "justify_items": null,
            "left": null,
            "margin": null,
            "max_height": null,
            "max_width": null,
            "min_height": null,
            "min_width": null,
            "object_fit": null,
            "object_position": null,
            "order": null,
            "overflow": null,
            "overflow_x": null,
            "overflow_y": null,
            "padding": null,
            "right": null,
            "top": null,
            "visibility": null,
            "width": null
          }
        },
        "116e45bbe2d640d18d6a47309692dc20": {
          "model_module": "@jupyter-widgets/controls",
          "model_name": "DescriptionStyleModel",
          "model_module_version": "1.5.0",
          "state": {
            "_model_module": "@jupyter-widgets/controls",
            "_model_module_version": "1.5.0",
            "_model_name": "DescriptionStyleModel",
            "_view_count": null,
            "_view_module": "@jupyter-widgets/base",
            "_view_module_version": "1.2.0",
            "_view_name": "StyleView",
            "description_width": ""
          }
        },
        "66d5a397b26e4d66a97bc3b3159e96bd": {
          "model_module": "@jupyter-widgets/controls",
          "model_name": "HBoxModel",
          "model_module_version": "1.5.0",
          "state": {
            "_dom_classes": [],
            "_model_module": "@jupyter-widgets/controls",
            "_model_module_version": "1.5.0",
            "_model_name": "HBoxModel",
            "_view_count": null,
            "_view_module": "@jupyter-widgets/controls",
            "_view_module_version": "1.5.0",
            "_view_name": "HBoxView",
            "box_style": "",
            "children": [
              "IPY_MODEL_041870fd5bac43b394956252364a16c4",
              "IPY_MODEL_26f6574d99724fb29159071dda6039b5",
              "IPY_MODEL_55d0bfd5c746402f89e6b86a7ca37b3a"
            ],
            "layout": "IPY_MODEL_b69bad861f014c20b4cb470c73b1fe37"
          }
        },
        "041870fd5bac43b394956252364a16c4": {
          "model_module": "@jupyter-widgets/controls",
          "model_name": "HTMLModel",
          "model_module_version": "1.5.0",
          "state": {
            "_dom_classes": [],
            "_model_module": "@jupyter-widgets/controls",
            "_model_module_version": "1.5.0",
            "_model_name": "HTMLModel",
            "_view_count": null,
            "_view_module": "@jupyter-widgets/controls",
            "_view_module_version": "1.5.0",
            "_view_name": "HTMLView",
            "description": "",
            "description_tooltip": null,
            "layout": "IPY_MODEL_940e030ce7ae40d68136ddf1a1a67736",
            "placeholder": "​",
            "style": "IPY_MODEL_c80bdd3bae794c08b81c950a33ff9ba0",
            "value": "Downloading: 100%"
          }
        },
        "26f6574d99724fb29159071dda6039b5": {
          "model_module": "@jupyter-widgets/controls",
          "model_name": "FloatProgressModel",
          "model_module_version": "1.5.0",
          "state": {
            "_dom_classes": [],
            "_model_module": "@jupyter-widgets/controls",
            "_model_module_version": "1.5.0",
            "_model_name": "FloatProgressModel",
            "_view_count": null,
            "_view_module": "@jupyter-widgets/controls",
            "_view_module_version": "1.5.0",
            "_view_name": "ProgressView",
            "bar_style": "success",
            "description": "",
            "description_tooltip": null,
            "layout": "IPY_MODEL_7b0c8bc5bb66433384aeb47bf99001ae",
            "max": 217,
            "min": 0,
            "orientation": "horizontal",
            "style": "IPY_MODEL_6b03d462bd0f4fbeab0df76bbb881621",
            "value": 217
          }
        },
        "55d0bfd5c746402f89e6b86a7ca37b3a": {
          "model_module": "@jupyter-widgets/controls",
          "model_name": "HTMLModel",
          "model_module_version": "1.5.0",
          "state": {
            "_dom_classes": [],
            "_model_module": "@jupyter-widgets/controls",
            "_model_module_version": "1.5.0",
            "_model_name": "HTMLModel",
            "_view_count": null,
            "_view_module": "@jupyter-widgets/controls",
            "_view_module_version": "1.5.0",
            "_view_name": "HTMLView",
            "description": "",
            "description_tooltip": null,
            "layout": "IPY_MODEL_be78bdab8638431e80c087a0fe9a7a8f",
            "placeholder": "​",
            "style": "IPY_MODEL_d44a1f0b3216469fb1ac597951f9471a",
            "value": " 217/217 [00:00&lt;00:00, 8.74kB/s]"
          }
        },
        "b69bad861f014c20b4cb470c73b1fe37": {
          "model_module": "@jupyter-widgets/base",
          "model_name": "LayoutModel",
          "model_module_version": "1.2.0",
          "state": {
            "_model_module": "@jupyter-widgets/base",
            "_model_module_version": "1.2.0",
            "_model_name": "LayoutModel",
            "_view_count": null,
            "_view_module": "@jupyter-widgets/base",
            "_view_module_version": "1.2.0",
            "_view_name": "LayoutView",
            "align_content": null,
            "align_items": null,
            "align_self": null,
            "border": null,
            "bottom": null,
            "display": null,
            "flex": null,
            "flex_flow": null,
            "grid_area": null,
            "grid_auto_columns": null,
            "grid_auto_flow": null,
            "grid_auto_rows": null,
            "grid_column": null,
            "grid_gap": null,
            "grid_row": null,
            "grid_template_areas": null,
            "grid_template_columns": null,
            "grid_template_rows": null,
            "height": null,
            "justify_content": null,
            "justify_items": null,
            "left": null,
            "margin": null,
            "max_height": null,
            "max_width": null,
            "min_height": null,
            "min_width": null,
            "object_fit": null,
            "object_position": null,
            "order": null,
            "overflow": null,
            "overflow_x": null,
            "overflow_y": null,
            "padding": null,
            "right": null,
            "top": null,
            "visibility": null,
            "width": null
          }
        },
        "940e030ce7ae40d68136ddf1a1a67736": {
          "model_module": "@jupyter-widgets/base",
          "model_name": "LayoutModel",
          "model_module_version": "1.2.0",
          "state": {
            "_model_module": "@jupyter-widgets/base",
            "_model_module_version": "1.2.0",
            "_model_name": "LayoutModel",
            "_view_count": null,
            "_view_module": "@jupyter-widgets/base",
            "_view_module_version": "1.2.0",
            "_view_name": "LayoutView",
            "align_content": null,
            "align_items": null,
            "align_self": null,
            "border": null,
            "bottom": null,
            "display": null,
            "flex": null,
            "flex_flow": null,
            "grid_area": null,
            "grid_auto_columns": null,
            "grid_auto_flow": null,
            "grid_auto_rows": null,
            "grid_column": null,
            "grid_gap": null,
            "grid_row": null,
            "grid_template_areas": null,
            "grid_template_columns": null,
            "grid_template_rows": null,
            "height": null,
            "justify_content": null,
            "justify_items": null,
            "left": null,
            "margin": null,
            "max_height": null,
            "max_width": null,
            "min_height": null,
            "min_width": null,
            "object_fit": null,
            "object_position": null,
            "order": null,
            "overflow": null,
            "overflow_x": null,
            "overflow_y": null,
            "padding": null,
            "right": null,
            "top": null,
            "visibility": null,
            "width": null
          }
        },
        "c80bdd3bae794c08b81c950a33ff9ba0": {
          "model_module": "@jupyter-widgets/controls",
          "model_name": "DescriptionStyleModel",
          "model_module_version": "1.5.0",
          "state": {
            "_model_module": "@jupyter-widgets/controls",
            "_model_module_version": "1.5.0",
            "_model_name": "DescriptionStyleModel",
            "_view_count": null,
            "_view_module": "@jupyter-widgets/base",
            "_view_module_version": "1.2.0",
            "_view_name": "StyleView",
            "description_width": ""
          }
        },
        "7b0c8bc5bb66433384aeb47bf99001ae": {
          "model_module": "@jupyter-widgets/base",
          "model_name": "LayoutModel",
          "model_module_version": "1.2.0",
          "state": {
            "_model_module": "@jupyter-widgets/base",
            "_model_module_version": "1.2.0",
            "_model_name": "LayoutModel",
            "_view_count": null,
            "_view_module": "@jupyter-widgets/base",
            "_view_module_version": "1.2.0",
            "_view_name": "LayoutView",
            "align_content": null,
            "align_items": null,
            "align_self": null,
            "border": null,
            "bottom": null,
            "display": null,
            "flex": null,
            "flex_flow": null,
            "grid_area": null,
            "grid_auto_columns": null,
            "grid_auto_flow": null,
            "grid_auto_rows": null,
            "grid_column": null,
            "grid_gap": null,
            "grid_row": null,
            "grid_template_areas": null,
            "grid_template_columns": null,
            "grid_template_rows": null,
            "height": null,
            "justify_content": null,
            "justify_items": null,
            "left": null,
            "margin": null,
            "max_height": null,
            "max_width": null,
            "min_height": null,
            "min_width": null,
            "object_fit": null,
            "object_position": null,
            "order": null,
            "overflow": null,
            "overflow_x": null,
            "overflow_y": null,
            "padding": null,
            "right": null,
            "top": null,
            "visibility": null,
            "width": null
          }
        },
        "6b03d462bd0f4fbeab0df76bbb881621": {
          "model_module": "@jupyter-widgets/controls",
          "model_name": "ProgressStyleModel",
          "model_module_version": "1.5.0",
          "state": {
            "_model_module": "@jupyter-widgets/controls",
            "_model_module_version": "1.5.0",
            "_model_name": "ProgressStyleModel",
            "_view_count": null,
            "_view_module": "@jupyter-widgets/base",
            "_view_module_version": "1.2.0",
            "_view_name": "StyleView",
            "bar_color": null,
            "description_width": ""
          }
        },
        "be78bdab8638431e80c087a0fe9a7a8f": {
          "model_module": "@jupyter-widgets/base",
          "model_name": "LayoutModel",
          "model_module_version": "1.2.0",
          "state": {
            "_model_module": "@jupyter-widgets/base",
            "_model_module_version": "1.2.0",
            "_model_name": "LayoutModel",
            "_view_count": null,
            "_view_module": "@jupyter-widgets/base",
            "_view_module_version": "1.2.0",
            "_view_name": "LayoutView",
            "align_content": null,
            "align_items": null,
            "align_self": null,
            "border": null,
            "bottom": null,
            "display": null,
            "flex": null,
            "flex_flow": null,
            "grid_area": null,
            "grid_auto_columns": null,
            "grid_auto_flow": null,
            "grid_auto_rows": null,
            "grid_column": null,
            "grid_gap": null,
            "grid_row": null,
            "grid_template_areas": null,
            "grid_template_columns": null,
            "grid_template_rows": null,
            "height": null,
            "justify_content": null,
            "justify_items": null,
            "left": null,
            "margin": null,
            "max_height": null,
            "max_width": null,
            "min_height": null,
            "min_width": null,
            "object_fit": null,
            "object_position": null,
            "order": null,
            "overflow": null,
            "overflow_x": null,
            "overflow_y": null,
            "padding": null,
            "right": null,
            "top": null,
            "visibility": null,
            "width": null
          }
        },
        "d44a1f0b3216469fb1ac597951f9471a": {
          "model_module": "@jupyter-widgets/controls",
          "model_name": "DescriptionStyleModel",
          "model_module_version": "1.5.0",
          "state": {
            "_model_module": "@jupyter-widgets/controls",
            "_model_module_version": "1.5.0",
            "_model_name": "DescriptionStyleModel",
            "_view_count": null,
            "_view_module": "@jupyter-widgets/base",
            "_view_module_version": "1.2.0",
            "_view_name": "StyleView",
            "description_width": ""
          }
        },
        "a0e897961bb049438847879cf082adf3": {
          "model_module": "@jupyter-widgets/controls",
          "model_name": "HBoxModel",
          "model_module_version": "1.5.0",
          "state": {
            "_dom_classes": [],
            "_model_module": "@jupyter-widgets/controls",
            "_model_module_version": "1.5.0",
            "_model_name": "HBoxModel",
            "_view_count": null,
            "_view_module": "@jupyter-widgets/controls",
            "_view_module_version": "1.5.0",
            "_view_name": "HBoxView",
            "box_style": "",
            "children": [
              "IPY_MODEL_820ac3ce474346728b80a609d47848ee",
              "IPY_MODEL_045273b88fa04afba97bf7ba6027f164",
              "IPY_MODEL_4847949da7b64782895b4fca8b432ec8"
            ],
            "layout": "IPY_MODEL_427b99cf8b964a59bbbf0b4d04504906"
          }
        },
        "820ac3ce474346728b80a609d47848ee": {
          "model_module": "@jupyter-widgets/controls",
          "model_name": "HTMLModel",
          "model_module_version": "1.5.0",
          "state": {
            "_dom_classes": [],
            "_model_module": "@jupyter-widgets/controls",
            "_model_module_version": "1.5.0",
            "_model_name": "HTMLModel",
            "_view_count": null,
            "_view_module": "@jupyter-widgets/controls",
            "_view_module_version": "1.5.0",
            "_view_name": "HTMLView",
            "description": "",
            "description_tooltip": null,
            "layout": "IPY_MODEL_f652ea3e007c42669e445a7247bb0430",
            "placeholder": "​",
            "style": "IPY_MODEL_527bf8b3612b4da89479424c5b66681e",
            "value": "Downloading: 100%"
          }
        },
        "045273b88fa04afba97bf7ba6027f164": {
          "model_module": "@jupyter-widgets/controls",
          "model_name": "FloatProgressModel",
          "model_module_version": "1.5.0",
          "state": {
            "_dom_classes": [],
            "_model_module": "@jupyter-widgets/controls",
            "_model_module_version": "1.5.0",
            "_model_name": "FloatProgressModel",
            "_view_count": null,
            "_view_module": "@jupyter-widgets/controls",
            "_view_module_version": "1.5.0",
            "_view_name": "ProgressView",
            "bar_style": "success",
            "description": "",
            "description_tooltip": null,
            "layout": "IPY_MODEL_708ff309676040119bccd6f21d1684f6",
            "max": 268,
            "min": 0,
            "orientation": "horizontal",
            "style": "IPY_MODEL_6a8694b9181f4828ba3ef4ff828fd1c3",
            "value": 268
          }
        },
        "4847949da7b64782895b4fca8b432ec8": {
          "model_module": "@jupyter-widgets/controls",
          "model_name": "HTMLModel",
          "model_module_version": "1.5.0",
          "state": {
            "_dom_classes": [],
            "_model_module": "@jupyter-widgets/controls",
            "_model_module_version": "1.5.0",
            "_model_name": "HTMLModel",
            "_view_count": null,
            "_view_module": "@jupyter-widgets/controls",
            "_view_module_version": "1.5.0",
            "_view_name": "HTMLView",
            "description": "",
            "description_tooltip": null,
            "layout": "IPY_MODEL_90dbfe5bab604315b329a6a8fcf131b1",
            "placeholder": "​",
            "style": "IPY_MODEL_b1a51bfb07774b7bac783d1c4d5a680c",
            "value": " 268/268 [00:00&lt;00:00, 11.2kB/s]"
          }
        },
        "427b99cf8b964a59bbbf0b4d04504906": {
          "model_module": "@jupyter-widgets/base",
          "model_name": "LayoutModel",
          "model_module_version": "1.2.0",
          "state": {
            "_model_module": "@jupyter-widgets/base",
            "_model_module_version": "1.2.0",
            "_model_name": "LayoutModel",
            "_view_count": null,
            "_view_module": "@jupyter-widgets/base",
            "_view_module_version": "1.2.0",
            "_view_name": "LayoutView",
            "align_content": null,
            "align_items": null,
            "align_self": null,
            "border": null,
            "bottom": null,
            "display": null,
            "flex": null,
            "flex_flow": null,
            "grid_area": null,
            "grid_auto_columns": null,
            "grid_auto_flow": null,
            "grid_auto_rows": null,
            "grid_column": null,
            "grid_gap": null,
            "grid_row": null,
            "grid_template_areas": null,
            "grid_template_columns": null,
            "grid_template_rows": null,
            "height": null,
            "justify_content": null,
            "justify_items": null,
            "left": null,
            "margin": null,
            "max_height": null,
            "max_width": null,
            "min_height": null,
            "min_width": null,
            "object_fit": null,
            "object_position": null,
            "order": null,
            "overflow": null,
            "overflow_x": null,
            "overflow_y": null,
            "padding": null,
            "right": null,
            "top": null,
            "visibility": null,
            "width": null
          }
        },
        "f652ea3e007c42669e445a7247bb0430": {
          "model_module": "@jupyter-widgets/base",
          "model_name": "LayoutModel",
          "model_module_version": "1.2.0",
          "state": {
            "_model_module": "@jupyter-widgets/base",
            "_model_module_version": "1.2.0",
            "_model_name": "LayoutModel",
            "_view_count": null,
            "_view_module": "@jupyter-widgets/base",
            "_view_module_version": "1.2.0",
            "_view_name": "LayoutView",
            "align_content": null,
            "align_items": null,
            "align_self": null,
            "border": null,
            "bottom": null,
            "display": null,
            "flex": null,
            "flex_flow": null,
            "grid_area": null,
            "grid_auto_columns": null,
            "grid_auto_flow": null,
            "grid_auto_rows": null,
            "grid_column": null,
            "grid_gap": null,
            "grid_row": null,
            "grid_template_areas": null,
            "grid_template_columns": null,
            "grid_template_rows": null,
            "height": null,
            "justify_content": null,
            "justify_items": null,
            "left": null,
            "margin": null,
            "max_height": null,
            "max_width": null,
            "min_height": null,
            "min_width": null,
            "object_fit": null,
            "object_position": null,
            "order": null,
            "overflow": null,
            "overflow_x": null,
            "overflow_y": null,
            "padding": null,
            "right": null,
            "top": null,
            "visibility": null,
            "width": null
          }
        },
        "527bf8b3612b4da89479424c5b66681e": {
          "model_module": "@jupyter-widgets/controls",
          "model_name": "DescriptionStyleModel",
          "model_module_version": "1.5.0",
          "state": {
            "_model_module": "@jupyter-widgets/controls",
            "_model_module_version": "1.5.0",
            "_model_name": "DescriptionStyleModel",
            "_view_count": null,
            "_view_module": "@jupyter-widgets/base",
            "_view_module_version": "1.2.0",
            "_view_name": "StyleView",
            "description_width": ""
          }
        },
        "708ff309676040119bccd6f21d1684f6": {
          "model_module": "@jupyter-widgets/base",
          "model_name": "LayoutModel",
          "model_module_version": "1.2.0",
          "state": {
            "_model_module": "@jupyter-widgets/base",
            "_model_module_version": "1.2.0",
            "_model_name": "LayoutModel",
            "_view_count": null,
            "_view_module": "@jupyter-widgets/base",
            "_view_module_version": "1.2.0",
            "_view_name": "LayoutView",
            "align_content": null,
            "align_items": null,
            "align_self": null,
            "border": null,
            "bottom": null,
            "display": null,
            "flex": null,
            "flex_flow": null,
            "grid_area": null,
            "grid_auto_columns": null,
            "grid_auto_flow": null,
            "grid_auto_rows": null,
            "grid_column": null,
            "grid_gap": null,
            "grid_row": null,
            "grid_template_areas": null,
            "grid_template_columns": null,
            "grid_template_rows": null,
            "height": null,
            "justify_content": null,
            "justify_items": null,
            "left": null,
            "margin": null,
            "max_height": null,
            "max_width": null,
            "min_height": null,
            "min_width": null,
            "object_fit": null,
            "object_position": null,
            "order": null,
            "overflow": null,
            "overflow_x": null,
            "overflow_y": null,
            "padding": null,
            "right": null,
            "top": null,
            "visibility": null,
            "width": null
          }
        },
        "6a8694b9181f4828ba3ef4ff828fd1c3": {
          "model_module": "@jupyter-widgets/controls",
          "model_name": "ProgressStyleModel",
          "model_module_version": "1.5.0",
          "state": {
            "_model_module": "@jupyter-widgets/controls",
            "_model_module_version": "1.5.0",
            "_model_name": "ProgressStyleModel",
            "_view_count": null,
            "_view_module": "@jupyter-widgets/base",
            "_view_module_version": "1.2.0",
            "_view_name": "StyleView",
            "bar_color": null,
            "description_width": ""
          }
        },
        "90dbfe5bab604315b329a6a8fcf131b1": {
          "model_module": "@jupyter-widgets/base",
          "model_name": "LayoutModel",
          "model_module_version": "1.2.0",
          "state": {
            "_model_module": "@jupyter-widgets/base",
            "_model_module_version": "1.2.0",
            "_model_name": "LayoutModel",
            "_view_count": null,
            "_view_module": "@jupyter-widgets/base",
            "_view_module_version": "1.2.0",
            "_view_name": "LayoutView",
            "align_content": null,
            "align_items": null,
            "align_self": null,
            "border": null,
            "bottom": null,
            "display": null,
            "flex": null,
            "flex_flow": null,
            "grid_area": null,
            "grid_auto_columns": null,
            "grid_auto_flow": null,
            "grid_auto_rows": null,
            "grid_column": null,
            "grid_gap": null,
            "grid_row": null,
            "grid_template_areas": null,
            "grid_template_columns": null,
            "grid_template_rows": null,
            "height": null,
            "justify_content": null,
            "justify_items": null,
            "left": null,
            "margin": null,
            "max_height": null,
            "max_width": null,
            "min_height": null,
            "min_width": null,
            "object_fit": null,
            "object_position": null,
            "order": null,
            "overflow": null,
            "overflow_x": null,
            "overflow_y": null,
            "padding": null,
            "right": null,
            "top": null,
            "visibility": null,
            "width": null
          }
        },
        "b1a51bfb07774b7bac783d1c4d5a680c": {
          "model_module": "@jupyter-widgets/controls",
          "model_name": "DescriptionStyleModel",
          "model_module_version": "1.5.0",
          "state": {
            "_model_module": "@jupyter-widgets/controls",
            "_model_module_version": "1.5.0",
            "_model_name": "DescriptionStyleModel",
            "_view_count": null,
            "_view_module": "@jupyter-widgets/base",
            "_view_module_version": "1.2.0",
            "_view_name": "StyleView",
            "description_width": ""
          }
        },
        "6ca0c9b3d250425b9597de9baa6bd77b": {
          "model_module": "@jupyter-widgets/controls",
          "model_name": "HBoxModel",
          "model_module_version": "1.5.0",
          "state": {
            "_dom_classes": [],
            "_model_module": "@jupyter-widgets/controls",
            "_model_module_version": "1.5.0",
            "_model_name": "HBoxModel",
            "_view_count": null,
            "_view_module": "@jupyter-widgets/controls",
            "_view_module_version": "1.5.0",
            "_view_name": "HBoxView",
            "box_style": "",
            "children": [
              "IPY_MODEL_b7d46c7f5da646eba0ed9e38fed6b4ee",
              "IPY_MODEL_7291673613bb43848bec1abee7447078",
              "IPY_MODEL_5c49d625a7f742f1a64820bc6f749f3a"
            ],
            "layout": "IPY_MODEL_a6a5bcb980df41d1b3e7b581701eae16"
          }
        },
        "b7d46c7f5da646eba0ed9e38fed6b4ee": {
          "model_module": "@jupyter-widgets/controls",
          "model_name": "HTMLModel",
          "model_module_version": "1.5.0",
          "state": {
            "_dom_classes": [],
            "_model_module": "@jupyter-widgets/controls",
            "_model_module_version": "1.5.0",
            "_model_name": "HTMLModel",
            "_view_count": null,
            "_view_module": "@jupyter-widgets/controls",
            "_view_module_version": "1.5.0",
            "_view_name": "HTMLView",
            "description": "",
            "description_tooltip": null,
            "layout": "IPY_MODEL_6412d390b2ce416fae910d689c3f6e70",
            "placeholder": "​",
            "style": "IPY_MODEL_255c276a050446ed9df81f8eeb7c1178",
            "value": "Downloading: 100%"
          }
        },
        "7291673613bb43848bec1abee7447078": {
          "model_module": "@jupyter-widgets/controls",
          "model_name": "FloatProgressModel",
          "model_module_version": "1.5.0",
          "state": {
            "_dom_classes": [],
            "_model_module": "@jupyter-widgets/controls",
            "_model_module_version": "1.5.0",
            "_model_name": "FloatProgressModel",
            "_view_count": null,
            "_view_module": "@jupyter-widgets/controls",
            "_view_module_version": "1.5.0",
            "_view_name": "ProgressView",
            "bar_style": "success",
            "description": "",
            "description_tooltip": null,
            "layout": "IPY_MODEL_ddd975596c234b0eacc40ef18ef40778",
            "max": 85,
            "min": 0,
            "orientation": "horizontal",
            "style": "IPY_MODEL_a5fd824b8eb64bb7b8d83354961927e6",
            "value": 85
          }
        },
        "5c49d625a7f742f1a64820bc6f749f3a": {
          "model_module": "@jupyter-widgets/controls",
          "model_name": "HTMLModel",
          "model_module_version": "1.5.0",
          "state": {
            "_dom_classes": [],
            "_model_module": "@jupyter-widgets/controls",
            "_model_module_version": "1.5.0",
            "_model_name": "HTMLModel",
            "_view_count": null,
            "_view_module": "@jupyter-widgets/controls",
            "_view_module_version": "1.5.0",
            "_view_name": "HTMLView",
            "description": "",
            "description_tooltip": null,
            "layout": "IPY_MODEL_17e3d063396848548af91c55c8f8e282",
            "placeholder": "​",
            "style": "IPY_MODEL_a3b48bc669674ff2a0bcce75a50e81eb",
            "value": " 85.0/85.0 [00:00&lt;00:00, 3.59kB/s]"
          }
        },
        "a6a5bcb980df41d1b3e7b581701eae16": {
          "model_module": "@jupyter-widgets/base",
          "model_name": "LayoutModel",
          "model_module_version": "1.2.0",
          "state": {
            "_model_module": "@jupyter-widgets/base",
            "_model_module_version": "1.2.0",
            "_model_name": "LayoutModel",
            "_view_count": null,
            "_view_module": "@jupyter-widgets/base",
            "_view_module_version": "1.2.0",
            "_view_name": "LayoutView",
            "align_content": null,
            "align_items": null,
            "align_self": null,
            "border": null,
            "bottom": null,
            "display": null,
            "flex": null,
            "flex_flow": null,
            "grid_area": null,
            "grid_auto_columns": null,
            "grid_auto_flow": null,
            "grid_auto_rows": null,
            "grid_column": null,
            "grid_gap": null,
            "grid_row": null,
            "grid_template_areas": null,
            "grid_template_columns": null,
            "grid_template_rows": null,
            "height": null,
            "justify_content": null,
            "justify_items": null,
            "left": null,
            "margin": null,
            "max_height": null,
            "max_width": null,
            "min_height": null,
            "min_width": null,
            "object_fit": null,
            "object_position": null,
            "order": null,
            "overflow": null,
            "overflow_x": null,
            "overflow_y": null,
            "padding": null,
            "right": null,
            "top": null,
            "visibility": null,
            "width": null
          }
        },
        "6412d390b2ce416fae910d689c3f6e70": {
          "model_module": "@jupyter-widgets/base",
          "model_name": "LayoutModel",
          "model_module_version": "1.2.0",
          "state": {
            "_model_module": "@jupyter-widgets/base",
            "_model_module_version": "1.2.0",
            "_model_name": "LayoutModel",
            "_view_count": null,
            "_view_module": "@jupyter-widgets/base",
            "_view_module_version": "1.2.0",
            "_view_name": "LayoutView",
            "align_content": null,
            "align_items": null,
            "align_self": null,
            "border": null,
            "bottom": null,
            "display": null,
            "flex": null,
            "flex_flow": null,
            "grid_area": null,
            "grid_auto_columns": null,
            "grid_auto_flow": null,
            "grid_auto_rows": null,
            "grid_column": null,
            "grid_gap": null,
            "grid_row": null,
            "grid_template_areas": null,
            "grid_template_columns": null,
            "grid_template_rows": null,
            "height": null,
            "justify_content": null,
            "justify_items": null,
            "left": null,
            "margin": null,
            "max_height": null,
            "max_width": null,
            "min_height": null,
            "min_width": null,
            "object_fit": null,
            "object_position": null,
            "order": null,
            "overflow": null,
            "overflow_x": null,
            "overflow_y": null,
            "padding": null,
            "right": null,
            "top": null,
            "visibility": null,
            "width": null
          }
        },
        "255c276a050446ed9df81f8eeb7c1178": {
          "model_module": "@jupyter-widgets/controls",
          "model_name": "DescriptionStyleModel",
          "model_module_version": "1.5.0",
          "state": {
            "_model_module": "@jupyter-widgets/controls",
            "_model_module_version": "1.5.0",
            "_model_name": "DescriptionStyleModel",
            "_view_count": null,
            "_view_module": "@jupyter-widgets/base",
            "_view_module_version": "1.2.0",
            "_view_name": "StyleView",
            "description_width": ""
          }
        },
        "ddd975596c234b0eacc40ef18ef40778": {
          "model_module": "@jupyter-widgets/base",
          "model_name": "LayoutModel",
          "model_module_version": "1.2.0",
          "state": {
            "_model_module": "@jupyter-widgets/base",
            "_model_module_version": "1.2.0",
            "_model_name": "LayoutModel",
            "_view_count": null,
            "_view_module": "@jupyter-widgets/base",
            "_view_module_version": "1.2.0",
            "_view_name": "LayoutView",
            "align_content": null,
            "align_items": null,
            "align_self": null,
            "border": null,
            "bottom": null,
            "display": null,
            "flex": null,
            "flex_flow": null,
            "grid_area": null,
            "grid_auto_columns": null,
            "grid_auto_flow": null,
            "grid_auto_rows": null,
            "grid_column": null,
            "grid_gap": null,
            "grid_row": null,
            "grid_template_areas": null,
            "grid_template_columns": null,
            "grid_template_rows": null,
            "height": null,
            "justify_content": null,
            "justify_items": null,
            "left": null,
            "margin": null,
            "max_height": null,
            "max_width": null,
            "min_height": null,
            "min_width": null,
            "object_fit": null,
            "object_position": null,
            "order": null,
            "overflow": null,
            "overflow_x": null,
            "overflow_y": null,
            "padding": null,
            "right": null,
            "top": null,
            "visibility": null,
            "width": null
          }
        },
        "a5fd824b8eb64bb7b8d83354961927e6": {
          "model_module": "@jupyter-widgets/controls",
          "model_name": "ProgressStyleModel",
          "model_module_version": "1.5.0",
          "state": {
            "_model_module": "@jupyter-widgets/controls",
            "_model_module_version": "1.5.0",
            "_model_name": "ProgressStyleModel",
            "_view_count": null,
            "_view_module": "@jupyter-widgets/base",
            "_view_module_version": "1.2.0",
            "_view_name": "StyleView",
            "bar_color": null,
            "description_width": ""
          }
        },
        "17e3d063396848548af91c55c8f8e282": {
          "model_module": "@jupyter-widgets/base",
          "model_name": "LayoutModel",
          "model_module_version": "1.2.0",
          "state": {
            "_model_module": "@jupyter-widgets/base",
            "_model_module_version": "1.2.0",
            "_model_name": "LayoutModel",
            "_view_count": null,
            "_view_module": "@jupyter-widgets/base",
            "_view_module_version": "1.2.0",
            "_view_name": "LayoutView",
            "align_content": null,
            "align_items": null,
            "align_self": null,
            "border": null,
            "bottom": null,
            "display": null,
            "flex": null,
            "flex_flow": null,
            "grid_area": null,
            "grid_auto_columns": null,
            "grid_auto_flow": null,
            "grid_auto_rows": null,
            "grid_column": null,
            "grid_gap": null,
            "grid_row": null,
            "grid_template_areas": null,
            "grid_template_columns": null,
            "grid_template_rows": null,
            "height": null,
            "justify_content": null,
            "justify_items": null,
            "left": null,
            "margin": null,
            "max_height": null,
            "max_width": null,
            "min_height": null,
            "min_width": null,
            "object_fit": null,
            "object_position": null,
            "order": null,
            "overflow": null,
            "overflow_x": null,
            "overflow_y": null,
            "padding": null,
            "right": null,
            "top": null,
            "visibility": null,
            "width": null
          }
        },
        "a3b48bc669674ff2a0bcce75a50e81eb": {
          "model_module": "@jupyter-widgets/controls",
          "model_name": "DescriptionStyleModel",
          "model_module_version": "1.5.0",
          "state": {
            "_model_module": "@jupyter-widgets/controls",
            "_model_module_version": "1.5.0",
            "_model_name": "DescriptionStyleModel",
            "_view_count": null,
            "_view_module": "@jupyter-widgets/base",
            "_view_module_version": "1.2.0",
            "_view_name": "StyleView",
            "description_width": ""
          }
        },
        "8fbdb230253a4152be95bf6229049f09": {
          "model_module": "@jupyter-widgets/controls",
          "model_name": "HBoxModel",
          "model_module_version": "1.5.0",
          "state": {
            "_dom_classes": [],
            "_model_module": "@jupyter-widgets/controls",
            "_model_module_version": "1.5.0",
            "_model_name": "HBoxModel",
            "_view_count": null,
            "_view_module": "@jupyter-widgets/controls",
            "_view_module_version": "1.5.0",
            "_view_name": "HBoxView",
            "box_style": "",
            "children": [
              "IPY_MODEL_857f0c099d8549e98991a93c791db4c1",
              "IPY_MODEL_16561789e2b9417a80ddcb6ef9d8676a",
              "IPY_MODEL_050c9d6bfd1e4b6ebe67401183a8d397"
            ],
            "layout": "IPY_MODEL_5874591082f944ff9b32202a1edbfd60"
          }
        },
        "857f0c099d8549e98991a93c791db4c1": {
          "model_module": "@jupyter-widgets/controls",
          "model_name": "HTMLModel",
          "model_module_version": "1.5.0",
          "state": {
            "_dom_classes": [],
            "_model_module": "@jupyter-widgets/controls",
            "_model_module_version": "1.5.0",
            "_model_name": "HTMLModel",
            "_view_count": null,
            "_view_module": "@jupyter-widgets/controls",
            "_view_module_version": "1.5.0",
            "_view_name": "HTMLView",
            "description": "",
            "description_tooltip": null,
            "layout": "IPY_MODEL_8c968b160d3d4fbb998840734f9f07e4",
            "placeholder": "​",
            "style": "IPY_MODEL_d2fd7c9e56b1419f9d23a10c260a7c7d",
            "value": ""
          }
        },
        "16561789e2b9417a80ddcb6ef9d8676a": {
          "model_module": "@jupyter-widgets/controls",
          "model_name": "FloatProgressModel",
          "model_module_version": "1.5.0",
          "state": {
            "_dom_classes": [],
            "_model_module": "@jupyter-widgets/controls",
            "_model_module_version": "1.5.0",
            "_model_name": "FloatProgressModel",
            "_view_count": null,
            "_view_module": "@jupyter-widgets/controls",
            "_view_module_version": "1.5.0",
            "_view_name": "ProgressView",
            "bar_style": "success",
            "description": "",
            "description_tooltip": null,
            "layout": "IPY_MODEL_4a03fb6d945f4102bc4f7192195d810d",
            "max": 1,
            "min": 0,
            "orientation": "horizontal",
            "style": "IPY_MODEL_8ab2466b187047fbbe4d8b72455b1108",
            "value": 1
          }
        },
        "050c9d6bfd1e4b6ebe67401183a8d397": {
          "model_module": "@jupyter-widgets/controls",
          "model_name": "HTMLModel",
          "model_module_version": "1.5.0",
          "state": {
            "_dom_classes": [],
            "_model_module": "@jupyter-widgets/controls",
            "_model_module_version": "1.5.0",
            "_model_name": "HTMLModel",
            "_view_count": null,
            "_view_module": "@jupyter-widgets/controls",
            "_view_module_version": "1.5.0",
            "_view_name": "HTMLView",
            "description": "",
            "description_tooltip": null,
            "layout": "IPY_MODEL_89472d79793e4db9afa6845fb016c8ad",
            "placeholder": "​",
            "style": "IPY_MODEL_f5e79b8c3a634eae8a555f18b9dc9bd6",
            "value": " 1680/? [00:55&lt;00:00, 30.41ex/s]"
          }
        },
        "5874591082f944ff9b32202a1edbfd60": {
          "model_module": "@jupyter-widgets/base",
          "model_name": "LayoutModel",
          "model_module_version": "1.2.0",
          "state": {
            "_model_module": "@jupyter-widgets/base",
            "_model_module_version": "1.2.0",
            "_model_name": "LayoutModel",
            "_view_count": null,
            "_view_module": "@jupyter-widgets/base",
            "_view_module_version": "1.2.0",
            "_view_name": "LayoutView",
            "align_content": null,
            "align_items": null,
            "align_self": null,
            "border": null,
            "bottom": null,
            "display": null,
            "flex": null,
            "flex_flow": null,
            "grid_area": null,
            "grid_auto_columns": null,
            "grid_auto_flow": null,
            "grid_auto_rows": null,
            "grid_column": null,
            "grid_gap": null,
            "grid_row": null,
            "grid_template_areas": null,
            "grid_template_columns": null,
            "grid_template_rows": null,
            "height": null,
            "justify_content": null,
            "justify_items": null,
            "left": null,
            "margin": null,
            "max_height": null,
            "max_width": null,
            "min_height": null,
            "min_width": null,
            "object_fit": null,
            "object_position": null,
            "order": null,
            "overflow": null,
            "overflow_x": null,
            "overflow_y": null,
            "padding": null,
            "right": null,
            "top": null,
            "visibility": null,
            "width": null
          }
        },
        "8c968b160d3d4fbb998840734f9f07e4": {
          "model_module": "@jupyter-widgets/base",
          "model_name": "LayoutModel",
          "model_module_version": "1.2.0",
          "state": {
            "_model_module": "@jupyter-widgets/base",
            "_model_module_version": "1.2.0",
            "_model_name": "LayoutModel",
            "_view_count": null,
            "_view_module": "@jupyter-widgets/base",
            "_view_module_version": "1.2.0",
            "_view_name": "LayoutView",
            "align_content": null,
            "align_items": null,
            "align_self": null,
            "border": null,
            "bottom": null,
            "display": null,
            "flex": null,
            "flex_flow": null,
            "grid_area": null,
            "grid_auto_columns": null,
            "grid_auto_flow": null,
            "grid_auto_rows": null,
            "grid_column": null,
            "grid_gap": null,
            "grid_row": null,
            "grid_template_areas": null,
            "grid_template_columns": null,
            "grid_template_rows": null,
            "height": null,
            "justify_content": null,
            "justify_items": null,
            "left": null,
            "margin": null,
            "max_height": null,
            "max_width": null,
            "min_height": null,
            "min_width": null,
            "object_fit": null,
            "object_position": null,
            "order": null,
            "overflow": null,
            "overflow_x": null,
            "overflow_y": null,
            "padding": null,
            "right": null,
            "top": null,
            "visibility": null,
            "width": null
          }
        },
        "d2fd7c9e56b1419f9d23a10c260a7c7d": {
          "model_module": "@jupyter-widgets/controls",
          "model_name": "DescriptionStyleModel",
          "model_module_version": "1.5.0",
          "state": {
            "_model_module": "@jupyter-widgets/controls",
            "_model_module_version": "1.5.0",
            "_model_name": "DescriptionStyleModel",
            "_view_count": null,
            "_view_module": "@jupyter-widgets/base",
            "_view_module_version": "1.2.0",
            "_view_name": "StyleView",
            "description_width": ""
          }
        },
        "4a03fb6d945f4102bc4f7192195d810d": {
          "model_module": "@jupyter-widgets/base",
          "model_name": "LayoutModel",
          "model_module_version": "1.2.0",
          "state": {
            "_model_module": "@jupyter-widgets/base",
            "_model_module_version": "1.2.0",
            "_model_name": "LayoutModel",
            "_view_count": null,
            "_view_module": "@jupyter-widgets/base",
            "_view_module_version": "1.2.0",
            "_view_name": "LayoutView",
            "align_content": null,
            "align_items": null,
            "align_self": null,
            "border": null,
            "bottom": null,
            "display": null,
            "flex": null,
            "flex_flow": null,
            "grid_area": null,
            "grid_auto_columns": null,
            "grid_auto_flow": null,
            "grid_auto_rows": null,
            "grid_column": null,
            "grid_gap": null,
            "grid_row": null,
            "grid_template_areas": null,
            "grid_template_columns": null,
            "grid_template_rows": null,
            "height": null,
            "justify_content": null,
            "justify_items": null,
            "left": null,
            "margin": null,
            "max_height": null,
            "max_width": null,
            "min_height": null,
            "min_width": null,
            "object_fit": null,
            "object_position": null,
            "order": null,
            "overflow": null,
            "overflow_x": null,
            "overflow_y": null,
            "padding": null,
            "right": null,
            "top": null,
            "visibility": null,
            "width": "20px"
          }
        },
        "8ab2466b187047fbbe4d8b72455b1108": {
          "model_module": "@jupyter-widgets/controls",
          "model_name": "ProgressStyleModel",
          "model_module_version": "1.5.0",
          "state": {
            "_model_module": "@jupyter-widgets/controls",
            "_model_module_version": "1.5.0",
            "_model_name": "ProgressStyleModel",
            "_view_count": null,
            "_view_module": "@jupyter-widgets/base",
            "_view_module_version": "1.2.0",
            "_view_name": "StyleView",
            "bar_color": null,
            "description_width": ""
          }
        },
        "89472d79793e4db9afa6845fb016c8ad": {
          "model_module": "@jupyter-widgets/base",
          "model_name": "LayoutModel",
          "model_module_version": "1.2.0",
          "state": {
            "_model_module": "@jupyter-widgets/base",
            "_model_module_version": "1.2.0",
            "_model_name": "LayoutModel",
            "_view_count": null,
            "_view_module": "@jupyter-widgets/base",
            "_view_module_version": "1.2.0",
            "_view_name": "LayoutView",
            "align_content": null,
            "align_items": null,
            "align_self": null,
            "border": null,
            "bottom": null,
            "display": null,
            "flex": null,
            "flex_flow": null,
            "grid_area": null,
            "grid_auto_columns": null,
            "grid_auto_flow": null,
            "grid_auto_rows": null,
            "grid_column": null,
            "grid_gap": null,
            "grid_row": null,
            "grid_template_areas": null,
            "grid_template_columns": null,
            "grid_template_rows": null,
            "height": null,
            "justify_content": null,
            "justify_items": null,
            "left": null,
            "margin": null,
            "max_height": null,
            "max_width": null,
            "min_height": null,
            "min_width": null,
            "object_fit": null,
            "object_position": null,
            "order": null,
            "overflow": null,
            "overflow_x": null,
            "overflow_y": null,
            "padding": null,
            "right": null,
            "top": null,
            "visibility": null,
            "width": null
          }
        },
        "f5e79b8c3a634eae8a555f18b9dc9bd6": {
          "model_module": "@jupyter-widgets/controls",
          "model_name": "DescriptionStyleModel",
          "model_module_version": "1.5.0",
          "state": {
            "_model_module": "@jupyter-widgets/controls",
            "_model_module_version": "1.5.0",
            "_model_name": "DescriptionStyleModel",
            "_view_count": null,
            "_view_module": "@jupyter-widgets/base",
            "_view_module_version": "1.2.0",
            "_view_name": "StyleView",
            "description_width": ""
          }
        },
        "b8c3c8fa6d064432bbe67433015c7ddd": {
          "model_module": "@jupyter-widgets/controls",
          "model_name": "VBoxModel",
          "model_module_version": "1.5.0",
          "state": {
            "_dom_classes": [],
            "_model_module": "@jupyter-widgets/controls",
            "_model_module_version": "1.5.0",
            "_model_name": "VBoxModel",
            "_view_count": null,
            "_view_module": "@jupyter-widgets/controls",
            "_view_module_version": "1.5.0",
            "_view_name": "VBoxView",
            "box_style": "",
            "children": [],
            "layout": "IPY_MODEL_7764c12abdce4fd8ae224d6e598ef637"
          }
        },
        "d04d03f085324eb790997c226ed29553": {
          "model_module": "@jupyter-widgets/controls",
          "model_name": "HTMLModel",
          "model_module_version": "1.5.0",
          "state": {
            "_dom_classes": [],
            "_model_module": "@jupyter-widgets/controls",
            "_model_module_version": "1.5.0",
            "_model_name": "HTMLModel",
            "_view_count": null,
            "_view_module": "@jupyter-widgets/controls",
            "_view_module_version": "1.5.0",
            "_view_name": "HTMLView",
            "description": "",
            "description_tooltip": null,
            "layout": "IPY_MODEL_dec73bf28a694dddb43e61c38b799b84",
            "placeholder": "​",
            "style": "IPY_MODEL_ea29702437eb47368d3074e9e122ff1c",
            "value": "<center> <img\nsrc=https://huggingface.co/front/assets/huggingface_logo-noborder.svg\nalt='Hugging Face'> <br> Copy a token from <a\nhref=\"https://huggingface.co/settings/tokens\" target=\"_blank\">your Hugging Face\ntokens page</a> and paste it below. <br> Immediately click login after copying\nyour token or it might be stored in plain text in this notebook file. </center>"
          }
        },
        "797bcb545fb94eb988a93753801af942": {
          "model_module": "@jupyter-widgets/controls",
          "model_name": "PasswordModel",
          "model_module_version": "1.5.0",
          "state": {
            "_dom_classes": [],
            "_model_module": "@jupyter-widgets/controls",
            "_model_module_version": "1.5.0",
            "_model_name": "PasswordModel",
            "_view_count": null,
            "_view_module": "@jupyter-widgets/controls",
            "_view_module_version": "1.5.0",
            "_view_name": "PasswordView",
            "continuous_update": true,
            "description": "Token:",
            "description_tooltip": null,
            "disabled": false,
            "layout": "IPY_MODEL_e3a429aea51341fdb60e0904c706f2d1",
            "placeholder": "​",
            "style": "IPY_MODEL_c66b6e3f203e445a9fa25b9f303493f6",
            "value": ""
          }
        },
        "33bfb23bc07a4616b9c3806b080a8a71": {
          "model_module": "@jupyter-widgets/controls",
          "model_name": "CheckboxModel",
          "model_module_version": "1.5.0",
          "state": {
            "_dom_classes": [],
            "_model_module": "@jupyter-widgets/controls",
            "_model_module_version": "1.5.0",
            "_model_name": "CheckboxModel",
            "_view_count": null,
            "_view_module": "@jupyter-widgets/controls",
            "_view_module_version": "1.5.0",
            "_view_name": "CheckboxView",
            "description": "Add token as git credential?",
            "description_tooltip": null,
            "disabled": false,
            "indent": true,
            "layout": "IPY_MODEL_61ef280ebda349d389eef5556a1829f6",
            "style": "IPY_MODEL_59a65231149f416cb13eb09773c2f7cc",
            "value": true
          }
        },
        "121ca215f2ca4b12b0285749cc62ab33": {
          "model_module": "@jupyter-widgets/controls",
          "model_name": "ButtonModel",
          "model_module_version": "1.5.0",
          "state": {
            "_dom_classes": [],
            "_model_module": "@jupyter-widgets/controls",
            "_model_module_version": "1.5.0",
            "_model_name": "ButtonModel",
            "_view_count": null,
            "_view_module": "@jupyter-widgets/controls",
            "_view_module_version": "1.5.0",
            "_view_name": "ButtonView",
            "button_style": "",
            "description": "Login",
            "disabled": false,
            "icon": "",
            "layout": "IPY_MODEL_dbd9c852e3174ff3861d2401fd7c1120",
            "style": "IPY_MODEL_5f51c75a5e0a4d2b92e21a9befc1a2c8",
            "tooltip": ""
          }
        },
        "49475b2f04cf4bd6b6b25bdd0395bb2a": {
          "model_module": "@jupyter-widgets/controls",
          "model_name": "HTMLModel",
          "model_module_version": "1.5.0",
          "state": {
            "_dom_classes": [],
            "_model_module": "@jupyter-widgets/controls",
            "_model_module_version": "1.5.0",
            "_model_name": "HTMLModel",
            "_view_count": null,
            "_view_module": "@jupyter-widgets/controls",
            "_view_module_version": "1.5.0",
            "_view_name": "HTMLView",
            "description": "",
            "description_tooltip": null,
            "layout": "IPY_MODEL_e74f2cc94d23404a8419ca7669acea9c",
            "placeholder": "​",
            "style": "IPY_MODEL_295f6f8c84ac44c3b0c5647b2faa97a1",
            "value": "\n<b>Pro Tip:</b> If you don't already have one, you can create a dedicated\n'notebooks' token with 'write' access, that you can then easily reuse for all\nnotebooks. </center>"
          }
        },
        "7764c12abdce4fd8ae224d6e598ef637": {
          "model_module": "@jupyter-widgets/base",
          "model_name": "LayoutModel",
          "model_module_version": "1.2.0",
          "state": {
            "_model_module": "@jupyter-widgets/base",
            "_model_module_version": "1.2.0",
            "_model_name": "LayoutModel",
            "_view_count": null,
            "_view_module": "@jupyter-widgets/base",
            "_view_module_version": "1.2.0",
            "_view_name": "LayoutView",
            "align_content": null,
            "align_items": "center",
            "align_self": null,
            "border": null,
            "bottom": null,
            "display": "flex",
            "flex": null,
            "flex_flow": "column",
            "grid_area": null,
            "grid_auto_columns": null,
            "grid_auto_flow": null,
            "grid_auto_rows": null,
            "grid_column": null,
            "grid_gap": null,
            "grid_row": null,
            "grid_template_areas": null,
            "grid_template_columns": null,
            "grid_template_rows": null,
            "height": null,
            "justify_content": null,
            "justify_items": null,
            "left": null,
            "margin": null,
            "max_height": null,
            "max_width": null,
            "min_height": null,
            "min_width": null,
            "object_fit": null,
            "object_position": null,
            "order": null,
            "overflow": null,
            "overflow_x": null,
            "overflow_y": null,
            "padding": null,
            "right": null,
            "top": null,
            "visibility": null,
            "width": "50%"
          }
        },
        "dec73bf28a694dddb43e61c38b799b84": {
          "model_module": "@jupyter-widgets/base",
          "model_name": "LayoutModel",
          "model_module_version": "1.2.0",
          "state": {
            "_model_module": "@jupyter-widgets/base",
            "_model_module_version": "1.2.0",
            "_model_name": "LayoutModel",
            "_view_count": null,
            "_view_module": "@jupyter-widgets/base",
            "_view_module_version": "1.2.0",
            "_view_name": "LayoutView",
            "align_content": null,
            "align_items": null,
            "align_self": null,
            "border": null,
            "bottom": null,
            "display": null,
            "flex": null,
            "flex_flow": null,
            "grid_area": null,
            "grid_auto_columns": null,
            "grid_auto_flow": null,
            "grid_auto_rows": null,
            "grid_column": null,
            "grid_gap": null,
            "grid_row": null,
            "grid_template_areas": null,
            "grid_template_columns": null,
            "grid_template_rows": null,
            "height": null,
            "justify_content": null,
            "justify_items": null,
            "left": null,
            "margin": null,
            "max_height": null,
            "max_width": null,
            "min_height": null,
            "min_width": null,
            "object_fit": null,
            "object_position": null,
            "order": null,
            "overflow": null,
            "overflow_x": null,
            "overflow_y": null,
            "padding": null,
            "right": null,
            "top": null,
            "visibility": null,
            "width": null
          }
        },
        "ea29702437eb47368d3074e9e122ff1c": {
          "model_module": "@jupyter-widgets/controls",
          "model_name": "DescriptionStyleModel",
          "model_module_version": "1.5.0",
          "state": {
            "_model_module": "@jupyter-widgets/controls",
            "_model_module_version": "1.5.0",
            "_model_name": "DescriptionStyleModel",
            "_view_count": null,
            "_view_module": "@jupyter-widgets/base",
            "_view_module_version": "1.2.0",
            "_view_name": "StyleView",
            "description_width": ""
          }
        },
        "e3a429aea51341fdb60e0904c706f2d1": {
          "model_module": "@jupyter-widgets/base",
          "model_name": "LayoutModel",
          "model_module_version": "1.2.0",
          "state": {
            "_model_module": "@jupyter-widgets/base",
            "_model_module_version": "1.2.0",
            "_model_name": "LayoutModel",
            "_view_count": null,
            "_view_module": "@jupyter-widgets/base",
            "_view_module_version": "1.2.0",
            "_view_name": "LayoutView",
            "align_content": null,
            "align_items": null,
            "align_self": null,
            "border": null,
            "bottom": null,
            "display": null,
            "flex": null,
            "flex_flow": null,
            "grid_area": null,
            "grid_auto_columns": null,
            "grid_auto_flow": null,
            "grid_auto_rows": null,
            "grid_column": null,
            "grid_gap": null,
            "grid_row": null,
            "grid_template_areas": null,
            "grid_template_columns": null,
            "grid_template_rows": null,
            "height": null,
            "justify_content": null,
            "justify_items": null,
            "left": null,
            "margin": null,
            "max_height": null,
            "max_width": null,
            "min_height": null,
            "min_width": null,
            "object_fit": null,
            "object_position": null,
            "order": null,
            "overflow": null,
            "overflow_x": null,
            "overflow_y": null,
            "padding": null,
            "right": null,
            "top": null,
            "visibility": null,
            "width": null
          }
        },
        "c66b6e3f203e445a9fa25b9f303493f6": {
          "model_module": "@jupyter-widgets/controls",
          "model_name": "DescriptionStyleModel",
          "model_module_version": "1.5.0",
          "state": {
            "_model_module": "@jupyter-widgets/controls",
            "_model_module_version": "1.5.0",
            "_model_name": "DescriptionStyleModel",
            "_view_count": null,
            "_view_module": "@jupyter-widgets/base",
            "_view_module_version": "1.2.0",
            "_view_name": "StyleView",
            "description_width": ""
          }
        },
        "61ef280ebda349d389eef5556a1829f6": {
          "model_module": "@jupyter-widgets/base",
          "model_name": "LayoutModel",
          "model_module_version": "1.2.0",
          "state": {
            "_model_module": "@jupyter-widgets/base",
            "_model_module_version": "1.2.0",
            "_model_name": "LayoutModel",
            "_view_count": null,
            "_view_module": "@jupyter-widgets/base",
            "_view_module_version": "1.2.0",
            "_view_name": "LayoutView",
            "align_content": null,
            "align_items": null,
            "align_self": null,
            "border": null,
            "bottom": null,
            "display": null,
            "flex": null,
            "flex_flow": null,
            "grid_area": null,
            "grid_auto_columns": null,
            "grid_auto_flow": null,
            "grid_auto_rows": null,
            "grid_column": null,
            "grid_gap": null,
            "grid_row": null,
            "grid_template_areas": null,
            "grid_template_columns": null,
            "grid_template_rows": null,
            "height": null,
            "justify_content": null,
            "justify_items": null,
            "left": null,
            "margin": null,
            "max_height": null,
            "max_width": null,
            "min_height": null,
            "min_width": null,
            "object_fit": null,
            "object_position": null,
            "order": null,
            "overflow": null,
            "overflow_x": null,
            "overflow_y": null,
            "padding": null,
            "right": null,
            "top": null,
            "visibility": null,
            "width": null
          }
        },
        "59a65231149f416cb13eb09773c2f7cc": {
          "model_module": "@jupyter-widgets/controls",
          "model_name": "DescriptionStyleModel",
          "model_module_version": "1.5.0",
          "state": {
            "_model_module": "@jupyter-widgets/controls",
            "_model_module_version": "1.5.0",
            "_model_name": "DescriptionStyleModel",
            "_view_count": null,
            "_view_module": "@jupyter-widgets/base",
            "_view_module_version": "1.2.0",
            "_view_name": "StyleView",
            "description_width": ""
          }
        },
        "dbd9c852e3174ff3861d2401fd7c1120": {
          "model_module": "@jupyter-widgets/base",
          "model_name": "LayoutModel",
          "model_module_version": "1.2.0",
          "state": {
            "_model_module": "@jupyter-widgets/base",
            "_model_module_version": "1.2.0",
            "_model_name": "LayoutModel",
            "_view_count": null,
            "_view_module": "@jupyter-widgets/base",
            "_view_module_version": "1.2.0",
            "_view_name": "LayoutView",
            "align_content": null,
            "align_items": null,
            "align_self": null,
            "border": null,
            "bottom": null,
            "display": null,
            "flex": null,
            "flex_flow": null,
            "grid_area": null,
            "grid_auto_columns": null,
            "grid_auto_flow": null,
            "grid_auto_rows": null,
            "grid_column": null,
            "grid_gap": null,
            "grid_row": null,
            "grid_template_areas": null,
            "grid_template_columns": null,
            "grid_template_rows": null,
            "height": null,
            "justify_content": null,
            "justify_items": null,
            "left": null,
            "margin": null,
            "max_height": null,
            "max_width": null,
            "min_height": null,
            "min_width": null,
            "object_fit": null,
            "object_position": null,
            "order": null,
            "overflow": null,
            "overflow_x": null,
            "overflow_y": null,
            "padding": null,
            "right": null,
            "top": null,
            "visibility": null,
            "width": null
          }
        },
        "5f51c75a5e0a4d2b92e21a9befc1a2c8": {
          "model_module": "@jupyter-widgets/controls",
          "model_name": "ButtonStyleModel",
          "model_module_version": "1.5.0",
          "state": {
            "_model_module": "@jupyter-widgets/controls",
            "_model_module_version": "1.5.0",
            "_model_name": "ButtonStyleModel",
            "_view_count": null,
            "_view_module": "@jupyter-widgets/base",
            "_view_module_version": "1.2.0",
            "_view_name": "StyleView",
            "button_color": null,
            "font_weight": ""
          }
        },
        "e74f2cc94d23404a8419ca7669acea9c": {
          "model_module": "@jupyter-widgets/base",
          "model_name": "LayoutModel",
          "model_module_version": "1.2.0",
          "state": {
            "_model_module": "@jupyter-widgets/base",
            "_model_module_version": "1.2.0",
            "_model_name": "LayoutModel",
            "_view_count": null,
            "_view_module": "@jupyter-widgets/base",
            "_view_module_version": "1.2.0",
            "_view_name": "LayoutView",
            "align_content": null,
            "align_items": null,
            "align_self": null,
            "border": null,
            "bottom": null,
            "display": null,
            "flex": null,
            "flex_flow": null,
            "grid_area": null,
            "grid_auto_columns": null,
            "grid_auto_flow": null,
            "grid_auto_rows": null,
            "grid_column": null,
            "grid_gap": null,
            "grid_row": null,
            "grid_template_areas": null,
            "grid_template_columns": null,
            "grid_template_rows": null,
            "height": null,
            "justify_content": null,
            "justify_items": null,
            "left": null,
            "margin": null,
            "max_height": null,
            "max_width": null,
            "min_height": null,
            "min_width": null,
            "object_fit": null,
            "object_position": null,
            "order": null,
            "overflow": null,
            "overflow_x": null,
            "overflow_y": null,
            "padding": null,
            "right": null,
            "top": null,
            "visibility": null,
            "width": null
          }
        },
        "295f6f8c84ac44c3b0c5647b2faa97a1": {
          "model_module": "@jupyter-widgets/controls",
          "model_name": "DescriptionStyleModel",
          "model_module_version": "1.5.0",
          "state": {
            "_model_module": "@jupyter-widgets/controls",
            "_model_module_version": "1.5.0",
            "_model_name": "DescriptionStyleModel",
            "_view_count": null,
            "_view_module": "@jupyter-widgets/base",
            "_view_module_version": "1.2.0",
            "_view_name": "StyleView",
            "description_width": ""
          }
        },
        "7e12e28aef98410db98e29ded03ca2c8": {
          "model_module": "@jupyter-widgets/controls",
          "model_name": "LabelModel",
          "model_module_version": "1.5.0",
          "state": {
            "_dom_classes": [],
            "_model_module": "@jupyter-widgets/controls",
            "_model_module_version": "1.5.0",
            "_model_name": "LabelModel",
            "_view_count": null,
            "_view_module": "@jupyter-widgets/controls",
            "_view_module_version": "1.5.0",
            "_view_name": "LabelView",
            "description": "",
            "description_tooltip": null,
            "layout": "IPY_MODEL_76b74b13b81b4ecab79dce1a131dcf12",
            "placeholder": "​",
            "style": "IPY_MODEL_395237b9f7624bc1ab00f67cfd17b90e",
            "value": "Connecting..."
          }
        },
        "76b74b13b81b4ecab79dce1a131dcf12": {
          "model_module": "@jupyter-widgets/base",
          "model_name": "LayoutModel",
          "model_module_version": "1.2.0",
          "state": {
            "_model_module": "@jupyter-widgets/base",
            "_model_module_version": "1.2.0",
            "_model_name": "LayoutModel",
            "_view_count": null,
            "_view_module": "@jupyter-widgets/base",
            "_view_module_version": "1.2.0",
            "_view_name": "LayoutView",
            "align_content": null,
            "align_items": null,
            "align_self": null,
            "border": null,
            "bottom": null,
            "display": null,
            "flex": null,
            "flex_flow": null,
            "grid_area": null,
            "grid_auto_columns": null,
            "grid_auto_flow": null,
            "grid_auto_rows": null,
            "grid_column": null,
            "grid_gap": null,
            "grid_row": null,
            "grid_template_areas": null,
            "grid_template_columns": null,
            "grid_template_rows": null,
            "height": null,
            "justify_content": null,
            "justify_items": null,
            "left": null,
            "margin": null,
            "max_height": null,
            "max_width": null,
            "min_height": null,
            "min_width": null,
            "object_fit": null,
            "object_position": null,
            "order": null,
            "overflow": null,
            "overflow_x": null,
            "overflow_y": null,
            "padding": null,
            "right": null,
            "top": null,
            "visibility": null,
            "width": null
          }
        },
        "395237b9f7624bc1ab00f67cfd17b90e": {
          "model_module": "@jupyter-widgets/controls",
          "model_name": "DescriptionStyleModel",
          "model_module_version": "1.5.0",
          "state": {
            "_model_module": "@jupyter-widgets/controls",
            "_model_module_version": "1.5.0",
            "_model_name": "DescriptionStyleModel",
            "_view_count": null,
            "_view_module": "@jupyter-widgets/base",
            "_view_module_version": "1.2.0",
            "_view_name": "StyleView",
            "description_width": ""
          }
        },
        "082412963ab241858441285f35b5731c": {
          "model_module": "@jupyter-widgets/controls",
          "model_name": "HBoxModel",
          "model_module_version": "1.5.0",
          "state": {
            "_dom_classes": [],
            "_model_module": "@jupyter-widgets/controls",
            "_model_module_version": "1.5.0",
            "_model_name": "HBoxModel",
            "_view_count": null,
            "_view_module": "@jupyter-widgets/controls",
            "_view_module_version": "1.5.0",
            "_view_name": "HBoxView",
            "box_style": "",
            "children": [
              "IPY_MODEL_52d3e0f4f8274e15a7ee087caadbb269",
              "IPY_MODEL_d6b671a578f646ca9c29f794bda7aa1d",
              "IPY_MODEL_93d6ba5185314bbeb78e184a0cb75d0a"
            ],
            "layout": "IPY_MODEL_05fb1378a482427ea3ed95f8c0c87558"
          }
        },
        "52d3e0f4f8274e15a7ee087caadbb269": {
          "model_module": "@jupyter-widgets/controls",
          "model_name": "HTMLModel",
          "model_module_version": "1.5.0",
          "state": {
            "_dom_classes": [],
            "_model_module": "@jupyter-widgets/controls",
            "_model_module_version": "1.5.0",
            "_model_name": "HTMLModel",
            "_view_count": null,
            "_view_module": "@jupyter-widgets/controls",
            "_view_module_version": "1.5.0",
            "_view_name": "HTMLView",
            "description": "",
            "description_tooltip": null,
            "layout": "IPY_MODEL_a2c0e9c15c9d43beb31531600c3644a3",
            "placeholder": "​",
            "style": "IPY_MODEL_0c4588b9abb34da2917741aaf72ae729",
            "value": "100%"
          }
        },
        "d6b671a578f646ca9c29f794bda7aa1d": {
          "model_module": "@jupyter-widgets/controls",
          "model_name": "FloatProgressModel",
          "model_module_version": "1.5.0",
          "state": {
            "_dom_classes": [],
            "_model_module": "@jupyter-widgets/controls",
            "_model_module_version": "1.5.0",
            "_model_name": "FloatProgressModel",
            "_view_count": null,
            "_view_module": "@jupyter-widgets/controls",
            "_view_module_version": "1.5.0",
            "_view_name": "ProgressView",
            "bar_style": "success",
            "description": "",
            "description_tooltip": null,
            "layout": "IPY_MODEL_632c1cb2546443fa84489a4a4c5262de",
            "max": 2,
            "min": 0,
            "orientation": "horizontal",
            "style": "IPY_MODEL_7144dde30e184af490d2b722cf7e8988",
            "value": 2
          }
        },
        "93d6ba5185314bbeb78e184a0cb75d0a": {
          "model_module": "@jupyter-widgets/controls",
          "model_name": "HTMLModel",
          "model_module_version": "1.5.0",
          "state": {
            "_dom_classes": [],
            "_model_module": "@jupyter-widgets/controls",
            "_model_module_version": "1.5.0",
            "_model_name": "HTMLModel",
            "_view_count": null,
            "_view_module": "@jupyter-widgets/controls",
            "_view_module_version": "1.5.0",
            "_view_name": "HTMLView",
            "description": "",
            "description_tooltip": null,
            "layout": "IPY_MODEL_07102fe6c5bf4ea983285642040f11e9",
            "placeholder": "​",
            "style": "IPY_MODEL_31c000b52c724d7d8a61caab13883b00",
            "value": " 2/2 [00:00&lt;00:00, 38.94it/s]"
          }
        },
        "05fb1378a482427ea3ed95f8c0c87558": {
          "model_module": "@jupyter-widgets/base",
          "model_name": "LayoutModel",
          "model_module_version": "1.2.0",
          "state": {
            "_model_module": "@jupyter-widgets/base",
            "_model_module_version": "1.2.0",
            "_model_name": "LayoutModel",
            "_view_count": null,
            "_view_module": "@jupyter-widgets/base",
            "_view_module_version": "1.2.0",
            "_view_name": "LayoutView",
            "align_content": null,
            "align_items": null,
            "align_self": null,
            "border": null,
            "bottom": null,
            "display": null,
            "flex": null,
            "flex_flow": null,
            "grid_area": null,
            "grid_auto_columns": null,
            "grid_auto_flow": null,
            "grid_auto_rows": null,
            "grid_column": null,
            "grid_gap": null,
            "grid_row": null,
            "grid_template_areas": null,
            "grid_template_columns": null,
            "grid_template_rows": null,
            "height": null,
            "justify_content": null,
            "justify_items": null,
            "left": null,
            "margin": null,
            "max_height": null,
            "max_width": null,
            "min_height": null,
            "min_width": null,
            "object_fit": null,
            "object_position": null,
            "order": null,
            "overflow": null,
            "overflow_x": null,
            "overflow_y": null,
            "padding": null,
            "right": null,
            "top": null,
            "visibility": null,
            "width": null
          }
        },
        "a2c0e9c15c9d43beb31531600c3644a3": {
          "model_module": "@jupyter-widgets/base",
          "model_name": "LayoutModel",
          "model_module_version": "1.2.0",
          "state": {
            "_model_module": "@jupyter-widgets/base",
            "_model_module_version": "1.2.0",
            "_model_name": "LayoutModel",
            "_view_count": null,
            "_view_module": "@jupyter-widgets/base",
            "_view_module_version": "1.2.0",
            "_view_name": "LayoutView",
            "align_content": null,
            "align_items": null,
            "align_self": null,
            "border": null,
            "bottom": null,
            "display": null,
            "flex": null,
            "flex_flow": null,
            "grid_area": null,
            "grid_auto_columns": null,
            "grid_auto_flow": null,
            "grid_auto_rows": null,
            "grid_column": null,
            "grid_gap": null,
            "grid_row": null,
            "grid_template_areas": null,
            "grid_template_columns": null,
            "grid_template_rows": null,
            "height": null,
            "justify_content": null,
            "justify_items": null,
            "left": null,
            "margin": null,
            "max_height": null,
            "max_width": null,
            "min_height": null,
            "min_width": null,
            "object_fit": null,
            "object_position": null,
            "order": null,
            "overflow": null,
            "overflow_x": null,
            "overflow_y": null,
            "padding": null,
            "right": null,
            "top": null,
            "visibility": null,
            "width": null
          }
        },
        "0c4588b9abb34da2917741aaf72ae729": {
          "model_module": "@jupyter-widgets/controls",
          "model_name": "DescriptionStyleModel",
          "model_module_version": "1.5.0",
          "state": {
            "_model_module": "@jupyter-widgets/controls",
            "_model_module_version": "1.5.0",
            "_model_name": "DescriptionStyleModel",
            "_view_count": null,
            "_view_module": "@jupyter-widgets/base",
            "_view_module_version": "1.2.0",
            "_view_name": "StyleView",
            "description_width": ""
          }
        },
        "632c1cb2546443fa84489a4a4c5262de": {
          "model_module": "@jupyter-widgets/base",
          "model_name": "LayoutModel",
          "model_module_version": "1.2.0",
          "state": {
            "_model_module": "@jupyter-widgets/base",
            "_model_module_version": "1.2.0",
            "_model_name": "LayoutModel",
            "_view_count": null,
            "_view_module": "@jupyter-widgets/base",
            "_view_module_version": "1.2.0",
            "_view_name": "LayoutView",
            "align_content": null,
            "align_items": null,
            "align_self": null,
            "border": null,
            "bottom": null,
            "display": null,
            "flex": null,
            "flex_flow": null,
            "grid_area": null,
            "grid_auto_columns": null,
            "grid_auto_flow": null,
            "grid_auto_rows": null,
            "grid_column": null,
            "grid_gap": null,
            "grid_row": null,
            "grid_template_areas": null,
            "grid_template_columns": null,
            "grid_template_rows": null,
            "height": null,
            "justify_content": null,
            "justify_items": null,
            "left": null,
            "margin": null,
            "max_height": null,
            "max_width": null,
            "min_height": null,
            "min_width": null,
            "object_fit": null,
            "object_position": null,
            "order": null,
            "overflow": null,
            "overflow_x": null,
            "overflow_y": null,
            "padding": null,
            "right": null,
            "top": null,
            "visibility": null,
            "width": null
          }
        },
        "7144dde30e184af490d2b722cf7e8988": {
          "model_module": "@jupyter-widgets/controls",
          "model_name": "ProgressStyleModel",
          "model_module_version": "1.5.0",
          "state": {
            "_model_module": "@jupyter-widgets/controls",
            "_model_module_version": "1.5.0",
            "_model_name": "ProgressStyleModel",
            "_view_count": null,
            "_view_module": "@jupyter-widgets/base",
            "_view_module_version": "1.2.0",
            "_view_name": "StyleView",
            "bar_color": null,
            "description_width": ""
          }
        },
        "07102fe6c5bf4ea983285642040f11e9": {
          "model_module": "@jupyter-widgets/base",
          "model_name": "LayoutModel",
          "model_module_version": "1.2.0",
          "state": {
            "_model_module": "@jupyter-widgets/base",
            "_model_module_version": "1.2.0",
            "_model_name": "LayoutModel",
            "_view_count": null,
            "_view_module": "@jupyter-widgets/base",
            "_view_module_version": "1.2.0",
            "_view_name": "LayoutView",
            "align_content": null,
            "align_items": null,
            "align_self": null,
            "border": null,
            "bottom": null,
            "display": null,
            "flex": null,
            "flex_flow": null,
            "grid_area": null,
            "grid_auto_columns": null,
            "grid_auto_flow": null,
            "grid_auto_rows": null,
            "grid_column": null,
            "grid_gap": null,
            "grid_row": null,
            "grid_template_areas": null,
            "grid_template_columns": null,
            "grid_template_rows": null,
            "height": null,
            "justify_content": null,
            "justify_items": null,
            "left": null,
            "margin": null,
            "max_height": null,
            "max_width": null,
            "min_height": null,
            "min_width": null,
            "object_fit": null,
            "object_position": null,
            "order": null,
            "overflow": null,
            "overflow_x": null,
            "overflow_y": null,
            "padding": null,
            "right": null,
            "top": null,
            "visibility": null,
            "width": null
          }
        },
        "31c000b52c724d7d8a61caab13883b00": {
          "model_module": "@jupyter-widgets/controls",
          "model_name": "DescriptionStyleModel",
          "model_module_version": "1.5.0",
          "state": {
            "_model_module": "@jupyter-widgets/controls",
            "_model_module_version": "1.5.0",
            "_model_name": "DescriptionStyleModel",
            "_view_count": null,
            "_view_module": "@jupyter-widgets/base",
            "_view_module_version": "1.2.0",
            "_view_name": "StyleView",
            "description_width": ""
          }
        },
        "de10dc433b5043908859da70e904cdf5": {
          "model_module": "@jupyter-widgets/controls",
          "model_name": "HBoxModel",
          "model_module_version": "1.5.0",
          "state": {
            "_dom_classes": [],
            "_model_module": "@jupyter-widgets/controls",
            "_model_module_version": "1.5.0",
            "_model_name": "HBoxModel",
            "_view_count": null,
            "_view_module": "@jupyter-widgets/controls",
            "_view_module_version": "1.5.0",
            "_view_name": "HBoxView",
            "box_style": "",
            "children": [
              "IPY_MODEL_dbf8540663674eafa956bea5248306c4",
              "IPY_MODEL_0e61ffbf4cf144e593602d16a0f8112f",
              "IPY_MODEL_a9bf1fc564d54dc98999bba16e0084bc"
            ],
            "layout": "IPY_MODEL_243ab6dd586a4d669fd8d58c029a6c79"
          }
        },
        "dbf8540663674eafa956bea5248306c4": {
          "model_module": "@jupyter-widgets/controls",
          "model_name": "HTMLModel",
          "model_module_version": "1.5.0",
          "state": {
            "_dom_classes": [],
            "_model_module": "@jupyter-widgets/controls",
            "_model_module_version": "1.5.0",
            "_model_name": "HTMLModel",
            "_view_count": null,
            "_view_module": "@jupyter-widgets/controls",
            "_view_module_version": "1.5.0",
            "_view_name": "HTMLView",
            "description": "",
            "description_tooltip": null,
            "layout": "IPY_MODEL_90281c44b3884b8f885ffa03035ee55f",
            "placeholder": "​",
            "style": "IPY_MODEL_1d43b3ac00ff41e0890d6177bf877030",
            "value": ""
          }
        },
        "0e61ffbf4cf144e593602d16a0f8112f": {
          "model_module": "@jupyter-widgets/controls",
          "model_name": "FloatProgressModel",
          "model_module_version": "1.5.0",
          "state": {
            "_dom_classes": [],
            "_model_module": "@jupyter-widgets/controls",
            "_model_module_version": "1.5.0",
            "_model_name": "FloatProgressModel",
            "_view_count": null,
            "_view_module": "@jupyter-widgets/controls",
            "_view_module_version": "1.5.0",
            "_view_name": "ProgressView",
            "bar_style": "success",
            "description": "",
            "description_tooltip": null,
            "layout": "IPY_MODEL_bb8a9bb1b86e402888a3930d5133273f",
            "max": 1,
            "min": 0,
            "orientation": "horizontal",
            "style": "IPY_MODEL_7cdbe13b890b4ffe8ceeea035388654f",
            "value": 1
          }
        },
        "a9bf1fc564d54dc98999bba16e0084bc": {
          "model_module": "@jupyter-widgets/controls",
          "model_name": "HTMLModel",
          "model_module_version": "1.5.0",
          "state": {
            "_dom_classes": [],
            "_model_module": "@jupyter-widgets/controls",
            "_model_module_version": "1.5.0",
            "_model_name": "HTMLModel",
            "_view_count": null,
            "_view_module": "@jupyter-widgets/controls",
            "_view_module_version": "1.5.0",
            "_view_name": "HTMLView",
            "description": "",
            "description_tooltip": null,
            "layout": "IPY_MODEL_ad65e2839af64c9d819f12798c0bfbc5",
            "placeholder": "​",
            "style": "IPY_MODEL_95c0f3f1f21844d2bc845a8711070e69",
            "value": " 4620/? [00:00&lt;00:00, 8343.56ex/s]"
          }
        },
        "243ab6dd586a4d669fd8d58c029a6c79": {
          "model_module": "@jupyter-widgets/base",
          "model_name": "LayoutModel",
          "model_module_version": "1.2.0",
          "state": {
            "_model_module": "@jupyter-widgets/base",
            "_model_module_version": "1.2.0",
            "_model_name": "LayoutModel",
            "_view_count": null,
            "_view_module": "@jupyter-widgets/base",
            "_view_module_version": "1.2.0",
            "_view_name": "LayoutView",
            "align_content": null,
            "align_items": null,
            "align_self": null,
            "border": null,
            "bottom": null,
            "display": null,
            "flex": null,
            "flex_flow": null,
            "grid_area": null,
            "grid_auto_columns": null,
            "grid_auto_flow": null,
            "grid_auto_rows": null,
            "grid_column": null,
            "grid_gap": null,
            "grid_row": null,
            "grid_template_areas": null,
            "grid_template_columns": null,
            "grid_template_rows": null,
            "height": null,
            "justify_content": null,
            "justify_items": null,
            "left": null,
            "margin": null,
            "max_height": null,
            "max_width": null,
            "min_height": null,
            "min_width": null,
            "object_fit": null,
            "object_position": null,
            "order": null,
            "overflow": null,
            "overflow_x": null,
            "overflow_y": null,
            "padding": null,
            "right": null,
            "top": null,
            "visibility": null,
            "width": null
          }
        },
        "90281c44b3884b8f885ffa03035ee55f": {
          "model_module": "@jupyter-widgets/base",
          "model_name": "LayoutModel",
          "model_module_version": "1.2.0",
          "state": {
            "_model_module": "@jupyter-widgets/base",
            "_model_module_version": "1.2.0",
            "_model_name": "LayoutModel",
            "_view_count": null,
            "_view_module": "@jupyter-widgets/base",
            "_view_module_version": "1.2.0",
            "_view_name": "LayoutView",
            "align_content": null,
            "align_items": null,
            "align_self": null,
            "border": null,
            "bottom": null,
            "display": null,
            "flex": null,
            "flex_flow": null,
            "grid_area": null,
            "grid_auto_columns": null,
            "grid_auto_flow": null,
            "grid_auto_rows": null,
            "grid_column": null,
            "grid_gap": null,
            "grid_row": null,
            "grid_template_areas": null,
            "grid_template_columns": null,
            "grid_template_rows": null,
            "height": null,
            "justify_content": null,
            "justify_items": null,
            "left": null,
            "margin": null,
            "max_height": null,
            "max_width": null,
            "min_height": null,
            "min_width": null,
            "object_fit": null,
            "object_position": null,
            "order": null,
            "overflow": null,
            "overflow_x": null,
            "overflow_y": null,
            "padding": null,
            "right": null,
            "top": null,
            "visibility": null,
            "width": null
          }
        },
        "1d43b3ac00ff41e0890d6177bf877030": {
          "model_module": "@jupyter-widgets/controls",
          "model_name": "DescriptionStyleModel",
          "model_module_version": "1.5.0",
          "state": {
            "_model_module": "@jupyter-widgets/controls",
            "_model_module_version": "1.5.0",
            "_model_name": "DescriptionStyleModel",
            "_view_count": null,
            "_view_module": "@jupyter-widgets/base",
            "_view_module_version": "1.2.0",
            "_view_name": "StyleView",
            "description_width": ""
          }
        },
        "bb8a9bb1b86e402888a3930d5133273f": {
          "model_module": "@jupyter-widgets/base",
          "model_name": "LayoutModel",
          "model_module_version": "1.2.0",
          "state": {
            "_model_module": "@jupyter-widgets/base",
            "_model_module_version": "1.2.0",
            "_model_name": "LayoutModel",
            "_view_count": null,
            "_view_module": "@jupyter-widgets/base",
            "_view_module_version": "1.2.0",
            "_view_name": "LayoutView",
            "align_content": null,
            "align_items": null,
            "align_self": null,
            "border": null,
            "bottom": null,
            "display": null,
            "flex": null,
            "flex_flow": null,
            "grid_area": null,
            "grid_auto_columns": null,
            "grid_auto_flow": null,
            "grid_auto_rows": null,
            "grid_column": null,
            "grid_gap": null,
            "grid_row": null,
            "grid_template_areas": null,
            "grid_template_columns": null,
            "grid_template_rows": null,
            "height": null,
            "justify_content": null,
            "justify_items": null,
            "left": null,
            "margin": null,
            "max_height": null,
            "max_width": null,
            "min_height": null,
            "min_width": null,
            "object_fit": null,
            "object_position": null,
            "order": null,
            "overflow": null,
            "overflow_x": null,
            "overflow_y": null,
            "padding": null,
            "right": null,
            "top": null,
            "visibility": null,
            "width": "20px"
          }
        },
        "7cdbe13b890b4ffe8ceeea035388654f": {
          "model_module": "@jupyter-widgets/controls",
          "model_name": "ProgressStyleModel",
          "model_module_version": "1.5.0",
          "state": {
            "_model_module": "@jupyter-widgets/controls",
            "_model_module_version": "1.5.0",
            "_model_name": "ProgressStyleModel",
            "_view_count": null,
            "_view_module": "@jupyter-widgets/base",
            "_view_module_version": "1.2.0",
            "_view_name": "StyleView",
            "bar_color": null,
            "description_width": ""
          }
        },
        "ad65e2839af64c9d819f12798c0bfbc5": {
          "model_module": "@jupyter-widgets/base",
          "model_name": "LayoutModel",
          "model_module_version": "1.2.0",
          "state": {
            "_model_module": "@jupyter-widgets/base",
            "_model_module_version": "1.2.0",
            "_model_name": "LayoutModel",
            "_view_count": null,
            "_view_module": "@jupyter-widgets/base",
            "_view_module_version": "1.2.0",
            "_view_name": "LayoutView",
            "align_content": null,
            "align_items": null,
            "align_self": null,
            "border": null,
            "bottom": null,
            "display": null,
            "flex": null,
            "flex_flow": null,
            "grid_area": null,
            "grid_auto_columns": null,
            "grid_auto_flow": null,
            "grid_auto_rows": null,
            "grid_column": null,
            "grid_gap": null,
            "grid_row": null,
            "grid_template_areas": null,
            "grid_template_columns": null,
            "grid_template_rows": null,
            "height": null,
            "justify_content": null,
            "justify_items": null,
            "left": null,
            "margin": null,
            "max_height": null,
            "max_width": null,
            "min_height": null,
            "min_width": null,
            "object_fit": null,
            "object_position": null,
            "order": null,
            "overflow": null,
            "overflow_x": null,
            "overflow_y": null,
            "padding": null,
            "right": null,
            "top": null,
            "visibility": null,
            "width": null
          }
        },
        "95c0f3f1f21844d2bc845a8711070e69": {
          "model_module": "@jupyter-widgets/controls",
          "model_name": "DescriptionStyleModel",
          "model_module_version": "1.5.0",
          "state": {
            "_model_module": "@jupyter-widgets/controls",
            "_model_module_version": "1.5.0",
            "_model_name": "DescriptionStyleModel",
            "_view_count": null,
            "_view_module": "@jupyter-widgets/base",
            "_view_module_version": "1.2.0",
            "_view_name": "StyleView",
            "description_width": ""
          }
        },
        "0a3466a1b14b45148b13ec30d49bca90": {
          "model_module": "@jupyter-widgets/controls",
          "model_name": "HBoxModel",
          "model_module_version": "1.5.0",
          "state": {
            "_dom_classes": [],
            "_model_module": "@jupyter-widgets/controls",
            "_model_module_version": "1.5.0",
            "_model_name": "HBoxModel",
            "_view_count": null,
            "_view_module": "@jupyter-widgets/controls",
            "_view_module_version": "1.5.0",
            "_view_name": "HBoxView",
            "box_style": "",
            "children": [
              "IPY_MODEL_0869d143f7344d1086238def7f25f3f7",
              "IPY_MODEL_e64846429b0840619c039d8e3dbc9c6b",
              "IPY_MODEL_eb3243980bf649edb9d9b7387a2eeb2b"
            ],
            "layout": "IPY_MODEL_571bccc123eb41ca930462f6bfdfa057"
          }
        },
        "0869d143f7344d1086238def7f25f3f7": {
          "model_module": "@jupyter-widgets/controls",
          "model_name": "HTMLModel",
          "model_module_version": "1.5.0",
          "state": {
            "_dom_classes": [],
            "_model_module": "@jupyter-widgets/controls",
            "_model_module_version": "1.5.0",
            "_model_name": "HTMLModel",
            "_view_count": null,
            "_view_module": "@jupyter-widgets/controls",
            "_view_module_version": "1.5.0",
            "_view_name": "HTMLView",
            "description": "",
            "description_tooltip": null,
            "layout": "IPY_MODEL_3f6f654eab5b44ecbcf705e5f685d282",
            "placeholder": "​",
            "style": "IPY_MODEL_15f60e8a948446e197d8293093eafc6d",
            "value": ""
          }
        },
        "e64846429b0840619c039d8e3dbc9c6b": {
          "model_module": "@jupyter-widgets/controls",
          "model_name": "FloatProgressModel",
          "model_module_version": "1.5.0",
          "state": {
            "_dom_classes": [],
            "_model_module": "@jupyter-widgets/controls",
            "_model_module_version": "1.5.0",
            "_model_name": "FloatProgressModel",
            "_view_count": null,
            "_view_module": "@jupyter-widgets/controls",
            "_view_module_version": "1.5.0",
            "_view_name": "ProgressView",
            "bar_style": "success",
            "description": "",
            "description_tooltip": null,
            "layout": "IPY_MODEL_99b03ff9bf5343398803c707af499a83",
            "max": 1,
            "min": 0,
            "orientation": "horizontal",
            "style": "IPY_MODEL_0b9e0a8fb49843aa958c516da3ce646c",
            "value": 1
          }
        },
        "eb3243980bf649edb9d9b7387a2eeb2b": {
          "model_module": "@jupyter-widgets/controls",
          "model_name": "HTMLModel",
          "model_module_version": "1.5.0",
          "state": {
            "_dom_classes": [],
            "_model_module": "@jupyter-widgets/controls",
            "_model_module_version": "1.5.0",
            "_model_name": "HTMLModel",
            "_view_count": null,
            "_view_module": "@jupyter-widgets/controls",
            "_view_module_version": "1.5.0",
            "_view_name": "HTMLView",
            "description": "",
            "description_tooltip": null,
            "layout": "IPY_MODEL_fa53a0e71f814665aff84834795482bf",
            "placeholder": "​",
            "style": "IPY_MODEL_32e653e56fda44f9aabc956876a3aaeb",
            "value": " 1680/? [00:00&lt;00:00, 6713.68ex/s]"
          }
        },
        "571bccc123eb41ca930462f6bfdfa057": {
          "model_module": "@jupyter-widgets/base",
          "model_name": "LayoutModel",
          "model_module_version": "1.2.0",
          "state": {
            "_model_module": "@jupyter-widgets/base",
            "_model_module_version": "1.2.0",
            "_model_name": "LayoutModel",
            "_view_count": null,
            "_view_module": "@jupyter-widgets/base",
            "_view_module_version": "1.2.0",
            "_view_name": "LayoutView",
            "align_content": null,
            "align_items": null,
            "align_self": null,
            "border": null,
            "bottom": null,
            "display": null,
            "flex": null,
            "flex_flow": null,
            "grid_area": null,
            "grid_auto_columns": null,
            "grid_auto_flow": null,
            "grid_auto_rows": null,
            "grid_column": null,
            "grid_gap": null,
            "grid_row": null,
            "grid_template_areas": null,
            "grid_template_columns": null,
            "grid_template_rows": null,
            "height": null,
            "justify_content": null,
            "justify_items": null,
            "left": null,
            "margin": null,
            "max_height": null,
            "max_width": null,
            "min_height": null,
            "min_width": null,
            "object_fit": null,
            "object_position": null,
            "order": null,
            "overflow": null,
            "overflow_x": null,
            "overflow_y": null,
            "padding": null,
            "right": null,
            "top": null,
            "visibility": null,
            "width": null
          }
        },
        "3f6f654eab5b44ecbcf705e5f685d282": {
          "model_module": "@jupyter-widgets/base",
          "model_name": "LayoutModel",
          "model_module_version": "1.2.0",
          "state": {
            "_model_module": "@jupyter-widgets/base",
            "_model_module_version": "1.2.0",
            "_model_name": "LayoutModel",
            "_view_count": null,
            "_view_module": "@jupyter-widgets/base",
            "_view_module_version": "1.2.0",
            "_view_name": "LayoutView",
            "align_content": null,
            "align_items": null,
            "align_self": null,
            "border": null,
            "bottom": null,
            "display": null,
            "flex": null,
            "flex_flow": null,
            "grid_area": null,
            "grid_auto_columns": null,
            "grid_auto_flow": null,
            "grid_auto_rows": null,
            "grid_column": null,
            "grid_gap": null,
            "grid_row": null,
            "grid_template_areas": null,
            "grid_template_columns": null,
            "grid_template_rows": null,
            "height": null,
            "justify_content": null,
            "justify_items": null,
            "left": null,
            "margin": null,
            "max_height": null,
            "max_width": null,
            "min_height": null,
            "min_width": null,
            "object_fit": null,
            "object_position": null,
            "order": null,
            "overflow": null,
            "overflow_x": null,
            "overflow_y": null,
            "padding": null,
            "right": null,
            "top": null,
            "visibility": null,
            "width": null
          }
        },
        "15f60e8a948446e197d8293093eafc6d": {
          "model_module": "@jupyter-widgets/controls",
          "model_name": "DescriptionStyleModel",
          "model_module_version": "1.5.0",
          "state": {
            "_model_module": "@jupyter-widgets/controls",
            "_model_module_version": "1.5.0",
            "_model_name": "DescriptionStyleModel",
            "_view_count": null,
            "_view_module": "@jupyter-widgets/base",
            "_view_module_version": "1.2.0",
            "_view_name": "StyleView",
            "description_width": ""
          }
        },
        "99b03ff9bf5343398803c707af499a83": {
          "model_module": "@jupyter-widgets/base",
          "model_name": "LayoutModel",
          "model_module_version": "1.2.0",
          "state": {
            "_model_module": "@jupyter-widgets/base",
            "_model_module_version": "1.2.0",
            "_model_name": "LayoutModel",
            "_view_count": null,
            "_view_module": "@jupyter-widgets/base",
            "_view_module_version": "1.2.0",
            "_view_name": "LayoutView",
            "align_content": null,
            "align_items": null,
            "align_self": null,
            "border": null,
            "bottom": null,
            "display": null,
            "flex": null,
            "flex_flow": null,
            "grid_area": null,
            "grid_auto_columns": null,
            "grid_auto_flow": null,
            "grid_auto_rows": null,
            "grid_column": null,
            "grid_gap": null,
            "grid_row": null,
            "grid_template_areas": null,
            "grid_template_columns": null,
            "grid_template_rows": null,
            "height": null,
            "justify_content": null,
            "justify_items": null,
            "left": null,
            "margin": null,
            "max_height": null,
            "max_width": null,
            "min_height": null,
            "min_width": null,
            "object_fit": null,
            "object_position": null,
            "order": null,
            "overflow": null,
            "overflow_x": null,
            "overflow_y": null,
            "padding": null,
            "right": null,
            "top": null,
            "visibility": null,
            "width": "20px"
          }
        },
        "0b9e0a8fb49843aa958c516da3ce646c": {
          "model_module": "@jupyter-widgets/controls",
          "model_name": "ProgressStyleModel",
          "model_module_version": "1.5.0",
          "state": {
            "_model_module": "@jupyter-widgets/controls",
            "_model_module_version": "1.5.0",
            "_model_name": "ProgressStyleModel",
            "_view_count": null,
            "_view_module": "@jupyter-widgets/base",
            "_view_module_version": "1.2.0",
            "_view_name": "StyleView",
            "bar_color": null,
            "description_width": ""
          }
        },
        "fa53a0e71f814665aff84834795482bf": {
          "model_module": "@jupyter-widgets/base",
          "model_name": "LayoutModel",
          "model_module_version": "1.2.0",
          "state": {
            "_model_module": "@jupyter-widgets/base",
            "_model_module_version": "1.2.0",
            "_model_name": "LayoutModel",
            "_view_count": null,
            "_view_module": "@jupyter-widgets/base",
            "_view_module_version": "1.2.0",
            "_view_name": "LayoutView",
            "align_content": null,
            "align_items": null,
            "align_self": null,
            "border": null,
            "bottom": null,
            "display": null,
            "flex": null,
            "flex_flow": null,
            "grid_area": null,
            "grid_auto_columns": null,
            "grid_auto_flow": null,
            "grid_auto_rows": null,
            "grid_column": null,
            "grid_gap": null,
            "grid_row": null,
            "grid_template_areas": null,
            "grid_template_columns": null,
            "grid_template_rows": null,
            "height": null,
            "justify_content": null,
            "justify_items": null,
            "left": null,
            "margin": null,
            "max_height": null,
            "max_width": null,
            "min_height": null,
            "min_width": null,
            "object_fit": null,
            "object_position": null,
            "order": null,
            "overflow": null,
            "overflow_x": null,
            "overflow_y": null,
            "padding": null,
            "right": null,
            "top": null,
            "visibility": null,
            "width": null
          }
        },
        "32e653e56fda44f9aabc956876a3aaeb": {
          "model_module": "@jupyter-widgets/controls",
          "model_name": "DescriptionStyleModel",
          "model_module_version": "1.5.0",
          "state": {
            "_model_module": "@jupyter-widgets/controls",
            "_model_module_version": "1.5.0",
            "_model_name": "DescriptionStyleModel",
            "_view_count": null,
            "_view_module": "@jupyter-widgets/base",
            "_view_module_version": "1.2.0",
            "_view_name": "StyleView",
            "description_width": ""
          }
        },
        "26ac35ce79e740d5a420eb3ea7598197": {
          "model_module": "@jupyter-widgets/controls",
          "model_name": "HBoxModel",
          "model_module_version": "1.5.0",
          "state": {
            "_dom_classes": [],
            "_model_module": "@jupyter-widgets/controls",
            "_model_module_version": "1.5.0",
            "_model_name": "HBoxModel",
            "_view_count": null,
            "_view_module": "@jupyter-widgets/controls",
            "_view_module_version": "1.5.0",
            "_view_name": "HBoxView",
            "box_style": "",
            "children": [
              "IPY_MODEL_61505329ce5640bc812d79e45e68b4a0",
              "IPY_MODEL_f4580a86243649fab98cbad752878f34",
              "IPY_MODEL_32faa4e916fa4453bfec2ff1f33e4b9a"
            ],
            "layout": "IPY_MODEL_2cd96877af034682b10938c65cb5b9fa"
          }
        },
        "61505329ce5640bc812d79e45e68b4a0": {
          "model_module": "@jupyter-widgets/controls",
          "model_name": "HTMLModel",
          "model_module_version": "1.5.0",
          "state": {
            "_dom_classes": [],
            "_model_module": "@jupyter-widgets/controls",
            "_model_module_version": "1.5.0",
            "_model_name": "HTMLModel",
            "_view_count": null,
            "_view_module": "@jupyter-widgets/controls",
            "_view_module_version": "1.5.0",
            "_view_name": "HTMLView",
            "description": "",
            "description_tooltip": null,
            "layout": "IPY_MODEL_8fe6309e5c1e4c74b86d1ee670545f98",
            "placeholder": "​",
            "style": "IPY_MODEL_4784e67719ed4d92b80240798a6367f6",
            "value": "100%"
          }
        },
        "f4580a86243649fab98cbad752878f34": {
          "model_module": "@jupyter-widgets/controls",
          "model_name": "FloatProgressModel",
          "model_module_version": "1.5.0",
          "state": {
            "_dom_classes": [],
            "_model_module": "@jupyter-widgets/controls",
            "_model_module_version": "1.5.0",
            "_model_name": "FloatProgressModel",
            "_view_count": null,
            "_view_module": "@jupyter-widgets/controls",
            "_view_module_version": "1.5.0",
            "_view_name": "ProgressView",
            "bar_style": "success",
            "description": "",
            "description_tooltip": null,
            "layout": "IPY_MODEL_48608c8780914371b6275884e59a8f9b",
            "max": 1,
            "min": 0,
            "orientation": "horizontal",
            "style": "IPY_MODEL_ffa307d8fb2d4641a2906704ae80013f",
            "value": 1
          }
        },
        "32faa4e916fa4453bfec2ff1f33e4b9a": {
          "model_module": "@jupyter-widgets/controls",
          "model_name": "HTMLModel",
          "model_module_version": "1.5.0",
          "state": {
            "_dom_classes": [],
            "_model_module": "@jupyter-widgets/controls",
            "_model_module_version": "1.5.0",
            "_model_name": "HTMLModel",
            "_view_count": null,
            "_view_module": "@jupyter-widgets/controls",
            "_view_module_version": "1.5.0",
            "_view_name": "HTMLView",
            "description": "",
            "description_tooltip": null,
            "layout": "IPY_MODEL_c2c7d07864474347b070c971cb6be986",
            "placeholder": "​",
            "style": "IPY_MODEL_6b80ba9d57074fe48a21e6d531363cce",
            "value": " 1/1 [00:00&lt;00:00, 16.37ba/s]"
          }
        },
        "2cd96877af034682b10938c65cb5b9fa": {
          "model_module": "@jupyter-widgets/base",
          "model_name": "LayoutModel",
          "model_module_version": "1.2.0",
          "state": {
            "_model_module": "@jupyter-widgets/base",
            "_model_module_version": "1.2.0",
            "_model_name": "LayoutModel",
            "_view_count": null,
            "_view_module": "@jupyter-widgets/base",
            "_view_module_version": "1.2.0",
            "_view_name": "LayoutView",
            "align_content": null,
            "align_items": null,
            "align_self": null,
            "border": null,
            "bottom": null,
            "display": null,
            "flex": null,
            "flex_flow": null,
            "grid_area": null,
            "grid_auto_columns": null,
            "grid_auto_flow": null,
            "grid_auto_rows": null,
            "grid_column": null,
            "grid_gap": null,
            "grid_row": null,
            "grid_template_areas": null,
            "grid_template_columns": null,
            "grid_template_rows": null,
            "height": null,
            "justify_content": null,
            "justify_items": null,
            "left": null,
            "margin": null,
            "max_height": null,
            "max_width": null,
            "min_height": null,
            "min_width": null,
            "object_fit": null,
            "object_position": null,
            "order": null,
            "overflow": null,
            "overflow_x": null,
            "overflow_y": null,
            "padding": null,
            "right": null,
            "top": null,
            "visibility": null,
            "width": null
          }
        },
        "8fe6309e5c1e4c74b86d1ee670545f98": {
          "model_module": "@jupyter-widgets/base",
          "model_name": "LayoutModel",
          "model_module_version": "1.2.0",
          "state": {
            "_model_module": "@jupyter-widgets/base",
            "_model_module_version": "1.2.0",
            "_model_name": "LayoutModel",
            "_view_count": null,
            "_view_module": "@jupyter-widgets/base",
            "_view_module_version": "1.2.0",
            "_view_name": "LayoutView",
            "align_content": null,
            "align_items": null,
            "align_self": null,
            "border": null,
            "bottom": null,
            "display": null,
            "flex": null,
            "flex_flow": null,
            "grid_area": null,
            "grid_auto_columns": null,
            "grid_auto_flow": null,
            "grid_auto_rows": null,
            "grid_column": null,
            "grid_gap": null,
            "grid_row": null,
            "grid_template_areas": null,
            "grid_template_columns": null,
            "grid_template_rows": null,
            "height": null,
            "justify_content": null,
            "justify_items": null,
            "left": null,
            "margin": null,
            "max_height": null,
            "max_width": null,
            "min_height": null,
            "min_width": null,
            "object_fit": null,
            "object_position": null,
            "order": null,
            "overflow": null,
            "overflow_x": null,
            "overflow_y": null,
            "padding": null,
            "right": null,
            "top": null,
            "visibility": null,
            "width": null
          }
        },
        "4784e67719ed4d92b80240798a6367f6": {
          "model_module": "@jupyter-widgets/controls",
          "model_name": "DescriptionStyleModel",
          "model_module_version": "1.5.0",
          "state": {
            "_model_module": "@jupyter-widgets/controls",
            "_model_module_version": "1.5.0",
            "_model_name": "DescriptionStyleModel",
            "_view_count": null,
            "_view_module": "@jupyter-widgets/base",
            "_view_module_version": "1.2.0",
            "_view_name": "StyleView",
            "description_width": ""
          }
        },
        "48608c8780914371b6275884e59a8f9b": {
          "model_module": "@jupyter-widgets/base",
          "model_name": "LayoutModel",
          "model_module_version": "1.2.0",
          "state": {
            "_model_module": "@jupyter-widgets/base",
            "_model_module_version": "1.2.0",
            "_model_name": "LayoutModel",
            "_view_count": null,
            "_view_module": "@jupyter-widgets/base",
            "_view_module_version": "1.2.0",
            "_view_name": "LayoutView",
            "align_content": null,
            "align_items": null,
            "align_self": null,
            "border": null,
            "bottom": null,
            "display": null,
            "flex": null,
            "flex_flow": null,
            "grid_area": null,
            "grid_auto_columns": null,
            "grid_auto_flow": null,
            "grid_auto_rows": null,
            "grid_column": null,
            "grid_gap": null,
            "grid_row": null,
            "grid_template_areas": null,
            "grid_template_columns": null,
            "grid_template_rows": null,
            "height": null,
            "justify_content": null,
            "justify_items": null,
            "left": null,
            "margin": null,
            "max_height": null,
            "max_width": null,
            "min_height": null,
            "min_width": null,
            "object_fit": null,
            "object_position": null,
            "order": null,
            "overflow": null,
            "overflow_x": null,
            "overflow_y": null,
            "padding": null,
            "right": null,
            "top": null,
            "visibility": null,
            "width": null
          }
        },
        "ffa307d8fb2d4641a2906704ae80013f": {
          "model_module": "@jupyter-widgets/controls",
          "model_name": "ProgressStyleModel",
          "model_module_version": "1.5.0",
          "state": {
            "_model_module": "@jupyter-widgets/controls",
            "_model_module_version": "1.5.0",
            "_model_name": "ProgressStyleModel",
            "_view_count": null,
            "_view_module": "@jupyter-widgets/base",
            "_view_module_version": "1.2.0",
            "_view_name": "StyleView",
            "bar_color": null,
            "description_width": ""
          }
        },
        "c2c7d07864474347b070c971cb6be986": {
          "model_module": "@jupyter-widgets/base",
          "model_name": "LayoutModel",
          "model_module_version": "1.2.0",
          "state": {
            "_model_module": "@jupyter-widgets/base",
            "_model_module_version": "1.2.0",
            "_model_name": "LayoutModel",
            "_view_count": null,
            "_view_module": "@jupyter-widgets/base",
            "_view_module_version": "1.2.0",
            "_view_name": "LayoutView",
            "align_content": null,
            "align_items": null,
            "align_self": null,
            "border": null,
            "bottom": null,
            "display": null,
            "flex": null,
            "flex_flow": null,
            "grid_area": null,
            "grid_auto_columns": null,
            "grid_auto_flow": null,
            "grid_auto_rows": null,
            "grid_column": null,
            "grid_gap": null,
            "grid_row": null,
            "grid_template_areas": null,
            "grid_template_columns": null,
            "grid_template_rows": null,
            "height": null,
            "justify_content": null,
            "justify_items": null,
            "left": null,
            "margin": null,
            "max_height": null,
            "max_width": null,
            "min_height": null,
            "min_width": null,
            "object_fit": null,
            "object_position": null,
            "order": null,
            "overflow": null,
            "overflow_x": null,
            "overflow_y": null,
            "padding": null,
            "right": null,
            "top": null,
            "visibility": null,
            "width": null
          }
        },
        "6b80ba9d57074fe48a21e6d531363cce": {
          "model_module": "@jupyter-widgets/controls",
          "model_name": "DescriptionStyleModel",
          "model_module_version": "1.5.0",
          "state": {
            "_model_module": "@jupyter-widgets/controls",
            "_model_module_version": "1.5.0",
            "_model_name": "DescriptionStyleModel",
            "_view_count": null,
            "_view_module": "@jupyter-widgets/base",
            "_view_module_version": "1.2.0",
            "_view_name": "StyleView",
            "description_width": ""
          }
        },
        "57ff84e4ad3e4707b0e91f6a630a00ad": {
          "model_module": "@jupyter-widgets/controls",
          "model_name": "HBoxModel",
          "model_module_version": "1.5.0",
          "state": {
            "_dom_classes": [],
            "_model_module": "@jupyter-widgets/controls",
            "_model_module_version": "1.5.0",
            "_model_name": "HBoxModel",
            "_view_count": null,
            "_view_module": "@jupyter-widgets/controls",
            "_view_module_version": "1.5.0",
            "_view_name": "HBoxView",
            "box_style": "",
            "children": [
              "IPY_MODEL_5cb532a232e74feca11299437841e2bd",
              "IPY_MODEL_4e3bd35ed98c40cba0feda335c868b72",
              "IPY_MODEL_4ea1059d0c274ccb86eb7e20f2168573"
            ],
            "layout": "IPY_MODEL_e1efd1a8984c4b0a8bba5d90a0dc430a"
          }
        },
        "5cb532a232e74feca11299437841e2bd": {
          "model_module": "@jupyter-widgets/controls",
          "model_name": "HTMLModel",
          "model_module_version": "1.5.0",
          "state": {
            "_dom_classes": [],
            "_model_module": "@jupyter-widgets/controls",
            "_model_module_version": "1.5.0",
            "_model_name": "HTMLModel",
            "_view_count": null,
            "_view_module": "@jupyter-widgets/controls",
            "_view_module_version": "1.5.0",
            "_view_name": "HTMLView",
            "description": "",
            "description_tooltip": null,
            "layout": "IPY_MODEL_8672c3033a4946f2bda0a5a401ff896b",
            "placeholder": "​",
            "style": "IPY_MODEL_f13f0d579a314b1ca15afffc60e1a67a",
            "value": "100%"
          }
        },
        "4e3bd35ed98c40cba0feda335c868b72": {
          "model_module": "@jupyter-widgets/controls",
          "model_name": "FloatProgressModel",
          "model_module_version": "1.5.0",
          "state": {
            "_dom_classes": [],
            "_model_module": "@jupyter-widgets/controls",
            "_model_module_version": "1.5.0",
            "_model_name": "FloatProgressModel",
            "_view_count": null,
            "_view_module": "@jupyter-widgets/controls",
            "_view_module_version": "1.5.0",
            "_view_name": "ProgressView",
            "bar_style": "success",
            "description": "",
            "description_tooltip": null,
            "layout": "IPY_MODEL_b3e7a148301f4b38bfa4eee74600b820",
            "max": 1,
            "min": 0,
            "orientation": "horizontal",
            "style": "IPY_MODEL_2cc720fa1422489eb701254437bc16ff",
            "value": 1
          }
        },
        "4ea1059d0c274ccb86eb7e20f2168573": {
          "model_module": "@jupyter-widgets/controls",
          "model_name": "HTMLModel",
          "model_module_version": "1.5.0",
          "state": {
            "_dom_classes": [],
            "_model_module": "@jupyter-widgets/controls",
            "_model_module_version": "1.5.0",
            "_model_name": "HTMLModel",
            "_view_count": null,
            "_view_module": "@jupyter-widgets/controls",
            "_view_module_version": "1.5.0",
            "_view_name": "HTMLView",
            "description": "",
            "description_tooltip": null,
            "layout": "IPY_MODEL_fe35a3e414484fe69b4c828b47e251ff",
            "placeholder": "​",
            "style": "IPY_MODEL_9ddbe93a3f574b1b9c98d95217626011",
            "value": " 1/1 [00:00&lt;00:00, 29.96ba/s]"
          }
        },
        "e1efd1a8984c4b0a8bba5d90a0dc430a": {
          "model_module": "@jupyter-widgets/base",
          "model_name": "LayoutModel",
          "model_module_version": "1.2.0",
          "state": {
            "_model_module": "@jupyter-widgets/base",
            "_model_module_version": "1.2.0",
            "_model_name": "LayoutModel",
            "_view_count": null,
            "_view_module": "@jupyter-widgets/base",
            "_view_module_version": "1.2.0",
            "_view_name": "LayoutView",
            "align_content": null,
            "align_items": null,
            "align_self": null,
            "border": null,
            "bottom": null,
            "display": null,
            "flex": null,
            "flex_flow": null,
            "grid_area": null,
            "grid_auto_columns": null,
            "grid_auto_flow": null,
            "grid_auto_rows": null,
            "grid_column": null,
            "grid_gap": null,
            "grid_row": null,
            "grid_template_areas": null,
            "grid_template_columns": null,
            "grid_template_rows": null,
            "height": null,
            "justify_content": null,
            "justify_items": null,
            "left": null,
            "margin": null,
            "max_height": null,
            "max_width": null,
            "min_height": null,
            "min_width": null,
            "object_fit": null,
            "object_position": null,
            "order": null,
            "overflow": null,
            "overflow_x": null,
            "overflow_y": null,
            "padding": null,
            "right": null,
            "top": null,
            "visibility": null,
            "width": null
          }
        },
        "8672c3033a4946f2bda0a5a401ff896b": {
          "model_module": "@jupyter-widgets/base",
          "model_name": "LayoutModel",
          "model_module_version": "1.2.0",
          "state": {
            "_model_module": "@jupyter-widgets/base",
            "_model_module_version": "1.2.0",
            "_model_name": "LayoutModel",
            "_view_count": null,
            "_view_module": "@jupyter-widgets/base",
            "_view_module_version": "1.2.0",
            "_view_name": "LayoutView",
            "align_content": null,
            "align_items": null,
            "align_self": null,
            "border": null,
            "bottom": null,
            "display": null,
            "flex": null,
            "flex_flow": null,
            "grid_area": null,
            "grid_auto_columns": null,
            "grid_auto_flow": null,
            "grid_auto_rows": null,
            "grid_column": null,
            "grid_gap": null,
            "grid_row": null,
            "grid_template_areas": null,
            "grid_template_columns": null,
            "grid_template_rows": null,
            "height": null,
            "justify_content": null,
            "justify_items": null,
            "left": null,
            "margin": null,
            "max_height": null,
            "max_width": null,
            "min_height": null,
            "min_width": null,
            "object_fit": null,
            "object_position": null,
            "order": null,
            "overflow": null,
            "overflow_x": null,
            "overflow_y": null,
            "padding": null,
            "right": null,
            "top": null,
            "visibility": null,
            "width": null
          }
        },
        "f13f0d579a314b1ca15afffc60e1a67a": {
          "model_module": "@jupyter-widgets/controls",
          "model_name": "DescriptionStyleModel",
          "model_module_version": "1.5.0",
          "state": {
            "_model_module": "@jupyter-widgets/controls",
            "_model_module_version": "1.5.0",
            "_model_name": "DescriptionStyleModel",
            "_view_count": null,
            "_view_module": "@jupyter-widgets/base",
            "_view_module_version": "1.2.0",
            "_view_name": "StyleView",
            "description_width": ""
          }
        },
        "b3e7a148301f4b38bfa4eee74600b820": {
          "model_module": "@jupyter-widgets/base",
          "model_name": "LayoutModel",
          "model_module_version": "1.2.0",
          "state": {
            "_model_module": "@jupyter-widgets/base",
            "_model_module_version": "1.2.0",
            "_model_name": "LayoutModel",
            "_view_count": null,
            "_view_module": "@jupyter-widgets/base",
            "_view_module_version": "1.2.0",
            "_view_name": "LayoutView",
            "align_content": null,
            "align_items": null,
            "align_self": null,
            "border": null,
            "bottom": null,
            "display": null,
            "flex": null,
            "flex_flow": null,
            "grid_area": null,
            "grid_auto_columns": null,
            "grid_auto_flow": null,
            "grid_auto_rows": null,
            "grid_column": null,
            "grid_gap": null,
            "grid_row": null,
            "grid_template_areas": null,
            "grid_template_columns": null,
            "grid_template_rows": null,
            "height": null,
            "justify_content": null,
            "justify_items": null,
            "left": null,
            "margin": null,
            "max_height": null,
            "max_width": null,
            "min_height": null,
            "min_width": null,
            "object_fit": null,
            "object_position": null,
            "order": null,
            "overflow": null,
            "overflow_x": null,
            "overflow_y": null,
            "padding": null,
            "right": null,
            "top": null,
            "visibility": null,
            "width": null
          }
        },
        "2cc720fa1422489eb701254437bc16ff": {
          "model_module": "@jupyter-widgets/controls",
          "model_name": "ProgressStyleModel",
          "model_module_version": "1.5.0",
          "state": {
            "_model_module": "@jupyter-widgets/controls",
            "_model_module_version": "1.5.0",
            "_model_name": "ProgressStyleModel",
            "_view_count": null,
            "_view_module": "@jupyter-widgets/base",
            "_view_module_version": "1.2.0",
            "_view_name": "StyleView",
            "bar_color": null,
            "description_width": ""
          }
        },
        "fe35a3e414484fe69b4c828b47e251ff": {
          "model_module": "@jupyter-widgets/base",
          "model_name": "LayoutModel",
          "model_module_version": "1.2.0",
          "state": {
            "_model_module": "@jupyter-widgets/base",
            "_model_module_version": "1.2.0",
            "_model_name": "LayoutModel",
            "_view_count": null,
            "_view_module": "@jupyter-widgets/base",
            "_view_module_version": "1.2.0",
            "_view_name": "LayoutView",
            "align_content": null,
            "align_items": null,
            "align_self": null,
            "border": null,
            "bottom": null,
            "display": null,
            "flex": null,
            "flex_flow": null,
            "grid_area": null,
            "grid_auto_columns": null,
            "grid_auto_flow": null,
            "grid_auto_rows": null,
            "grid_column": null,
            "grid_gap": null,
            "grid_row": null,
            "grid_template_areas": null,
            "grid_template_columns": null,
            "grid_template_rows": null,
            "height": null,
            "justify_content": null,
            "justify_items": null,
            "left": null,
            "margin": null,
            "max_height": null,
            "max_width": null,
            "min_height": null,
            "min_width": null,
            "object_fit": null,
            "object_position": null,
            "order": null,
            "overflow": null,
            "overflow_x": null,
            "overflow_y": null,
            "padding": null,
            "right": null,
            "top": null,
            "visibility": null,
            "width": null
          }
        },
        "9ddbe93a3f574b1b9c98d95217626011": {
          "model_module": "@jupyter-widgets/controls",
          "model_name": "DescriptionStyleModel",
          "model_module_version": "1.5.0",
          "state": {
            "_model_module": "@jupyter-widgets/controls",
            "_model_module_version": "1.5.0",
            "_model_name": "DescriptionStyleModel",
            "_view_count": null,
            "_view_module": "@jupyter-widgets/base",
            "_view_module_version": "1.2.0",
            "_view_name": "StyleView",
            "description_width": ""
          }
        }
      }
    }
  },
  "cells": [
    {
      "cell_type": "markdown",
      "metadata": {
        "id": "view-in-github",
        "colab_type": "text"
      },
      "source": [
        "<a href=\"https://colab.research.google.com/github/toanpi/ASR-Wav2vec-Finetune/blob/main/Fine_tuning_Wav2Vec2_for_English_ASR.ipynb\" target=\"_parent\"><img src=\"https://colab.research.google.com/assets/colab-badge.svg\" alt=\"Open In Colab\"/></a>"
      ]
    },
    {
      "cell_type": "markdown",
      "metadata": {
        "id": "LBSYoWbi-45k"
      },
      "source": [
        "# **Fine-tuning Wav2Vec2 for English ASR with 🤗 Transformers**"
      ]
    },
    {
      "cell_type": "markdown",
      "metadata": {
        "id": "V7YOT2mnUiea"
      },
      "source": [
        "Wav2Vec2 is a pretrained model for Automatic Speech Recognition (ASR) and was released in [September 2020](https://ai.facebook.com/blog/wav2vec-20-learning-the-structure-of-speech-from-raw-audio/) by Alexei Baevski, Michael Auli, and Alex Conneau.\n",
        "\n",
        "Using a novel contrastive pretraining objective, Wav2Vec2 learns powerful speech representations from more than 50.000 hours of unlabeled speech. Similar, to [BERT's masked language modeling](http://jalammar.github.io/illustrated-bert/), the model learns contextualized speech representations by randomly masking feature vectors before passing them to a transformer network.\n",
        "\n",
        "![wav2vec2_structure](https://raw.githubusercontent.com/patrickvonplaten/scientific_images/master/wav2vec2.png)\n",
        "\n",
        "For the first time, it has been shown that pretraining, followed by fine-tuning on very little labeled speech data achieves competitive results to state-of-the-art ASR systems. Using as little as 10 minutes of labeled data, Wav2Vec2 yields a word error rate (WER) of less than 5% on the clean test set of [LibriSpeech](https://huggingface.co/datasets/librispeech_asr) - *cf.* with Table 9 of the [paper](https://arxiv.org/pdf/2006.11477.pdf)."
      ]
    },
    {
      "cell_type": "markdown",
      "metadata": {
        "id": "nT_QrfWtsxIz"
      },
      "source": [
        "In this notebook, we will give an in-detail explanation of how Wav2Vec2's pretrained checkpoints can be fine-tuned on any English ASR dataset. Note that in this notebook, we will fine-tune Wav2Vec2 without making use of a language model. It is much simpler to use Wav2Vec2 without a language model as an end-to-end ASR system and it has been shown that a standalone Wav2Vec2 acoustic model achieves impressive results. For demonstration purposes, we fine-tune the \"base\"-sized [pretrained checkpoint](https://huggingface.co/facebook/wav2vec2-base) on the rather small [Timit](https://huggingface.co/datasets/timit_asr) dataset that contains just 5h of training data."
      ]
    },
    {
      "cell_type": "markdown",
      "metadata": {
        "id": "Gx9OdDYrCtQ1"
      },
      "source": [
        "Wav2Vec2 is fine-tuned using Connectionist Temporal Classification (CTC), which is an algorithm that is used to train neural networks for sequence-to-sequence problems and mainly in Automatic Speech Recognition and handwriting recognition.\n",
        "\n",
        "I highly recommend reading the blog post [Sequence Modeling with CTC (2017)](https://distill.pub/2017/ctc/) very well-written blog post by Awni Hannun."
      ]
    },
    {
      "cell_type": "markdown",
      "metadata": {
        "id": "qW3J3rBizeds"
      },
      "source": [
        "First, let's try to get a good GPU in our colab! With Google Colab's free version it's sadly becoming much harder to get access to a good GPU. With Google Colab Pro, one has a much easier time getting access to a V100 or P100 GPU however."
      ]
    },
    {
      "cell_type": "code",
      "metadata": {
        "id": "SLAufgh_xxj7",
        "colab": {
          "base_uri": "https://localhost:8080/"
        },
        "outputId": "56da9201-624d-4dd2-ad8f-1d2e9c829723"
      },
      "source": [
        "gpu_info = !nvidia-smi\n",
        "gpu_info = '\\n'.join(gpu_info)\n",
        "if gpu_info.find('failed') >= 0:\n",
        "  print('Not connected to a GPU')\n",
        "else:\n",
        "  print(gpu_info)"
      ],
      "execution_count": null,
      "outputs": [
        {
          "output_type": "stream",
          "name": "stdout",
          "text": [
            "Tue May 10 10:58:40 2022       \n",
            "+-----------------------------------------------------------------------------+\n",
            "| NVIDIA-SMI 460.32.03    Driver Version: 460.32.03    CUDA Version: 11.2     |\n",
            "|-------------------------------+----------------------+----------------------+\n",
            "| GPU  Name        Persistence-M| Bus-Id        Disp.A | Volatile Uncorr. ECC |\n",
            "| Fan  Temp  Perf  Pwr:Usage/Cap|         Memory-Usage | GPU-Util  Compute M. |\n",
            "|                               |                      |               MIG M. |\n",
            "|===============================+======================+======================|\n",
            "|   0  Tesla V100-SXM2...  Off  | 00000000:00:04.0 Off |                    0 |\n",
            "| N/A   38C    P0    41W / 300W |   7183MiB / 16160MiB |      0%      Default |\n",
            "|                               |                      |                  N/A |\n",
            "+-------------------------------+----------------------+----------------------+\n",
            "                                                                               \n",
            "+-----------------------------------------------------------------------------+\n",
            "| Processes:                                                                  |\n",
            "|  GPU   GI   CI        PID   Type   Process name                  GPU Memory |\n",
            "|        ID   ID                                                   Usage      |\n",
            "|=============================================================================|\n",
            "+-----------------------------------------------------------------------------+\n"
          ]
        }
      ]
    },
    {
      "cell_type": "markdown",
      "metadata": {
        "id": "e335hPmdtASZ"
      },
      "source": [
        "Before we start, let's install both `datasets` and `transformers` from master. Also, we need the `librosa` package to load audio files and the `jiwer` to evaluate our fine-tuned model using the [word error rate (WER)](https://huggingface.co/metrics/wer) metric ${}^1$."
      ]
    },
    {
      "cell_type": "code",
      "metadata": {
        "id": "c8eh87Hoee5d"
      },
      "source": [
        "%%capture\n",
        "!pip install datasets==1.18.3\n",
        "!pip install transformers==4.17.0\n",
        "!pip install jiwer"
      ],
      "execution_count": 14,
      "outputs": []
    },
    {
      "cell_type": "markdown",
      "metadata": {
        "id": "8_6kYmDMH9lR"
      },
      "source": [
        "Next we strongly suggest to upload your training checkpoints directly to the [🤗 Hub](https://huggingface.co/) while training. The [🤗 Hub](https://huggingface.co/) has integrated version control so you can be sure that no model checkpoint is getting lost during training.\n",
        "\n",
        "To do so you have to store your authentication token from the Hugging Face website (sign up [here](https://huggingface.co/join) if you haven't already!)"
      ]
    },
    {
      "cell_type": "code",
      "metadata": {
        "colab": {
          "base_uri": "https://localhost:8080/",
          "height": 17,
          "referenced_widgets": [
            "b8c3c8fa6d064432bbe67433015c7ddd",
            "d04d03f085324eb790997c226ed29553",
            "797bcb545fb94eb988a93753801af942",
            "33bfb23bc07a4616b9c3806b080a8a71",
            "121ca215f2ca4b12b0285749cc62ab33",
            "49475b2f04cf4bd6b6b25bdd0395bb2a",
            "7764c12abdce4fd8ae224d6e598ef637",
            "dec73bf28a694dddb43e61c38b799b84",
            "ea29702437eb47368d3074e9e122ff1c",
            "e3a429aea51341fdb60e0904c706f2d1",
            "c66b6e3f203e445a9fa25b9f303493f6",
            "61ef280ebda349d389eef5556a1829f6",
            "59a65231149f416cb13eb09773c2f7cc",
            "dbd9c852e3174ff3861d2401fd7c1120",
            "5f51c75a5e0a4d2b92e21a9befc1a2c8",
            "e74f2cc94d23404a8419ca7669acea9c",
            "295f6f8c84ac44c3b0c5647b2faa97a1",
            "7e12e28aef98410db98e29ded03ca2c8",
            "76b74b13b81b4ecab79dce1a131dcf12",
            "395237b9f7624bc1ab00f67cfd17b90e"
          ]
        },
        "id": "zFLBDyzQIA3R",
        "outputId": "ad36e790-936c-4c60-8f2f-48fd072b0ef4"
      },
      "source": [
        "from huggingface_hub import notebook_login\n",
        "\n",
        "notebook_login()"
      ],
      "execution_count": 13,
      "outputs": [
        {
          "output_type": "display_data",
          "data": {
            "text/plain": [
              "VBox(children=(HTML(value='<center> <img\\nsrc=https://huggingface.co/front/assets/huggingface_logo-noborder.sv…"
            ],
            "application/vnd.jupyter.widget-view+json": {
              "version_major": 2,
              "version_minor": 0,
              "model_id": "b8c3c8fa6d064432bbe67433015c7ddd"
            }
          },
          "metadata": {}
        }
      ]
    },
    {
      "cell_type": "markdown",
      "metadata": {
        "id": "zCyw5D23IQ1F"
      },
      "source": [
        "\n",
        "Then you need to install Git-LFS to upload your model checkpoints:"
      ]
    },
    {
      "cell_type": "code",
      "metadata": {
        "id": "Q9BnQDhOITBC"
      },
      "source": [
        "%%capture\n",
        "!apt install git-lfs"
      ],
      "execution_count": 15,
      "outputs": []
    },
    {
      "cell_type": "markdown",
      "metadata": {
        "id": "Mn9swf6EQ9Vd"
      },
      "source": [
        "\n",
        "\n",
        "\n",
        "---\n",
        "\n",
        "${}^1$ Timit is usually evaluated using the phoneme error rate (PER), but by far the most common metric in ASR is the word error rate (WER). To keep this notebook as general as possible we decided to evaluate the model using WER."
      ]
    },
    {
      "cell_type": "markdown",
      "metadata": {
        "id": "0mW-C1Nt-j7k"
      },
      "source": [
        "## Prepare Data, Tokenizer, Feature Extractor"
      ]
    },
    {
      "cell_type": "markdown",
      "metadata": {
        "id": "BeBosnY9BH3e"
      },
      "source": [
        "ASR models transcribe speech to text, which means that we both need a feature extractor that processes the speech signal to the model's input format, *e.g.* a feature vector, and a tokenizer that processes the model's output format to text.\n",
        "\n",
        "In 🤗 Transformers, the Wav2Vec2 model is thus accompanied by both a tokenizer, called [Wav2Vec2CTCTokenizer](https://huggingface.co/transformers/master/model_doc/wav2vec2.html#wav2vec2ctctokenizer), and a feature extractor, called [Wav2Vec2FeatureExtractor](https://huggingface.co/transformers/master/model_doc/wav2vec2.html#wav2vec2featureextractor).\n",
        "\n",
        "Let's start by creating the tokenizer responsible for decoding the model's predictions."
      ]
    },
    {
      "cell_type": "markdown",
      "metadata": {
        "id": "sEXEWEJGQPqD"
      },
      "source": [
        "### Create Wav2Vec2CTCTokenizer"
      ]
    },
    {
      "cell_type": "markdown",
      "metadata": {
        "id": "tWmMikuNEKl_"
      },
      "source": [
        "The [pretrained Wav2Vec2 checkpoint]( ) maps the speech signal to a sequence of context representations as illustrated in the figure above. A fine-tuned Wav2Vec2 checkpoint needs to map this sequence of context representations to its corresponding transcription so that a linear layer has to be added on top of the transformer block (shown in yellow). This linear layer is used to classifies each context representation to a token class analogous how, *e.g.*, after pretraining a linear layer is added on top of BERT's embeddings for further classification - *cf.* with *\"BERT\"* section of this [blog post](https://huggingface.co/blog/warm-starting-encoder-decoder).\n",
        "\n",
        "The output size of this layer corresponds to the number of tokens in the vocabulary, which does **not** depend on Wav2Vec2's pretraining task, but only on the labeled dataset used for fine-tuning. So in the first step, we will take a look at Timit and define a vocabulary based on the dataset's transcriptions."
      ]
    },
    {
      "cell_type": "markdown",
      "metadata": {
        "id": "bee4g9rpLxll"
      },
      "source": [
        "Let's start by loading the dataset and taking a look at its structure."
      ]
    },
    {
      "cell_type": "code",
      "metadata": {
        "id": "2MMXcWFFgCXU",
        "colab": {
          "base_uri": "https://localhost:8080/",
          "height": 86,
          "referenced_widgets": [
            "082412963ab241858441285f35b5731c",
            "52d3e0f4f8274e15a7ee087caadbb269",
            "d6b671a578f646ca9c29f794bda7aa1d",
            "93d6ba5185314bbeb78e184a0cb75d0a",
            "05fb1378a482427ea3ed95f8c0c87558",
            "a2c0e9c15c9d43beb31531600c3644a3",
            "0c4588b9abb34da2917741aaf72ae729",
            "632c1cb2546443fa84489a4a4c5262de",
            "7144dde30e184af490d2b722cf7e8988",
            "07102fe6c5bf4ea983285642040f11e9",
            "31c000b52c724d7d8a61caab13883b00"
          ]
        },
        "outputId": "f0687f31-70f0-4357-e8c4-e235d964591f"
      },
      "source": [
        "from datasets import load_dataset, load_metric\n",
        "\n",
        "timit = load_dataset(\"timit_asr\")"
      ],
      "execution_count": 16,
      "outputs": [
        {
          "output_type": "stream",
          "name": "stderr",
          "text": [
            "WARNING:datasets.builder:Reusing dataset timit_asr (/root/.cache/huggingface/datasets/timit_asr/clean/2.0.1/b11b576ddcccbcefa7c9f0c4e6c2a43756f3033adffe0fb686aa61043d0450ad)\n"
          ]
        },
        {
          "output_type": "display_data",
          "data": {
            "text/plain": [
              "  0%|          | 0/2 [00:00<?, ?it/s]"
            ],
            "application/vnd.jupyter.widget-view+json": {
              "version_major": 2,
              "version_minor": 0,
              "model_id": "082412963ab241858441285f35b5731c"
            }
          },
          "metadata": {}
        }
      ]
    },
    {
      "cell_type": "code",
      "metadata": {
        "colab": {
          "base_uri": "https://localhost:8080/"
        },
        "id": "QbIM-L0xdvf4",
        "outputId": "e9411dbb-61d2-48dc-ccfb-efe9d25d6619"
      },
      "source": [
        "timit"
      ],
      "execution_count": 17,
      "outputs": [
        {
          "output_type": "execute_result",
          "data": {
            "text/plain": [
              "DatasetDict({\n",
              "    train: Dataset({\n",
              "        features: ['file', 'audio', 'text', 'phonetic_detail', 'word_detail', 'dialect_region', 'sentence_type', 'speaker_id', 'id'],\n",
              "        num_rows: 4620\n",
              "    })\n",
              "    test: Dataset({\n",
              "        features: ['file', 'audio', 'text', 'phonetic_detail', 'word_detail', 'dialect_region', 'sentence_type', 'speaker_id', 'id'],\n",
              "        num_rows: 1680\n",
              "    })\n",
              "})"
            ]
          },
          "metadata": {},
          "execution_count": 17
        }
      ]
    },
    {
      "cell_type": "markdown",
      "metadata": {
        "id": "ri5y5N_HMANq"
      },
      "source": [
        "Many ASR datasets only provide the target text, `'text'` for each audio `'audio'` and file `'file'`. Timit actually provides much more information about each audio file, such as the `'phonetic_detail'`, etc., which is why many researchers choose to evaluate their models on phoneme classification instead of speech recognition when working with Timit. However, we want to keep the notebook as general as possible, so that we will only consider the transcribed text for fine-tuning.\n",
        "\n"
      ]
    },
    {
      "cell_type": "code",
      "metadata": {
        "id": "kbyq6lDgQc2a"
      },
      "source": [
        "timit = timit.remove_columns([\"phonetic_detail\", \"word_detail\", \"dialect_region\", \"id\", \"sentence_type\", \"speaker_id\"])"
      ],
      "execution_count": 18,
      "outputs": []
    },
    {
      "cell_type": "markdown",
      "metadata": {
        "id": "Go9Hq4e4NDT9"
      },
      "source": [
        "Let's write a short function to display some random samples of the dataset and run it a couple of times to get a feeling for the transcriptions."
      ]
    },
    {
      "cell_type": "code",
      "metadata": {
        "id": "72737oog2F6U"
      },
      "source": [
        "from datasets import ClassLabel\n",
        "import random\n",
        "import pandas as pd\n",
        "from IPython.display import display, HTML\n",
        "\n",
        "def show_random_elements(dataset, num_examples=10):\n",
        "    assert num_examples <= len(dataset), \"Can't pick more elements than there are in the dataset.\"\n",
        "    picks = []\n",
        "    for _ in range(num_examples):\n",
        "        pick = random.randint(0, len(dataset)-1)\n",
        "        while pick in picks:\n",
        "            pick = random.randint(0, len(dataset)-1)\n",
        "        picks.append(pick)\n",
        "\n",
        "    df = pd.DataFrame(dataset[picks])\n",
        "    display(HTML(df.to_html()))"
      ],
      "execution_count": 19,
      "outputs": []
    },
    {
      "cell_type": "code",
      "metadata": {
        "colab": {
          "base_uri": "https://localhost:8080/",
          "height": 363
        },
        "id": "K_JUmf3G3b9S",
        "outputId": "e7b171bd-9aeb-47ce-98ec-810726396c0b"
      },
      "source": [
        "show_random_elements(timit[\"train\"].remove_columns([\"audio\", \"file\"]), num_examples=10)"
      ],
      "execution_count": 20,
      "outputs": [
        {
          "output_type": "display_data",
          "data": {
            "text/plain": [
              "<IPython.core.display.HTML object>"
            ],
            "text/html": [
              "<table border=\"1\" class=\"dataframe\">\n",
              "  <thead>\n",
              "    <tr style=\"text-align: right;\">\n",
              "      <th></th>\n",
              "      <th>text</th>\n",
              "    </tr>\n",
              "  </thead>\n",
              "  <tbody>\n",
              "    <tr>\n",
              "      <th>0</th>\n",
              "      <td>It does not indicate loose management, ineffective controls or poor policy.</td>\n",
              "    </tr>\n",
              "    <tr>\n",
              "      <th>1</th>\n",
              "      <td>Promptly at seven he would clatter out of the court with twelve in the tallyho.</td>\n",
              "    </tr>\n",
              "    <tr>\n",
              "      <th>2</th>\n",
              "      <td>Don't ask me to carry an oily rag like that.</td>\n",
              "    </tr>\n",
              "    <tr>\n",
              "      <th>3</th>\n",
              "      <td>Birthday parties have cupcakes and ice cream.</td>\n",
              "    </tr>\n",
              "    <tr>\n",
              "      <th>4</th>\n",
              "      <td>They assume no burglar will ever enter here.</td>\n",
              "    </tr>\n",
              "    <tr>\n",
              "      <th>5</th>\n",
              "      <td>Shall we teach him some?</td>\n",
              "    </tr>\n",
              "    <tr>\n",
              "      <th>6</th>\n",
              "      <td>Stoneware clay for tiles.</td>\n",
              "    </tr>\n",
              "    <tr>\n",
              "      <th>7</th>\n",
              "      <td>She had your dark suit in greasy wash water all year.</td>\n",
              "    </tr>\n",
              "    <tr>\n",
              "      <th>8</th>\n",
              "      <td>Herb's birthday occurs frequently on Thanksgiving.</td>\n",
              "    </tr>\n",
              "    <tr>\n",
              "      <th>9</th>\n",
              "      <td>In an ideological argument, the participants tend to thump the table.</td>\n",
              "    </tr>\n",
              "  </tbody>\n",
              "</table>"
            ]
          },
          "metadata": {}
        }
      ]
    },
    {
      "cell_type": "markdown",
      "metadata": {
        "id": "fowcOllGNNju"
      },
      "source": [
        "Alright! The transcriptions look very clean and the language seems to correspond more to written text than dialogue. This makes sense taking into account that [Timit](https://huggingface.co/datasets/timit_asr) is a read speech corpus."
      ]
    },
    {
      "cell_type": "markdown",
      "metadata": {
        "id": "vq7OR50LN49m"
      },
      "source": [
        "We can see that the transcriptions contain some special characters, such as `,.?!;:`. Without a language model, it is much harder to classify speech chunks to such special characters because they don't really correspond to a characteristic sound unit. *E.g.*, the letter `\"s\"` has a more or less clear sound, whereas the special character `\".\"` does not.\n",
        "Also in order to understand the meaning of a speech signal, it is usually not necessary to include special characters in the transcription.\n",
        "\n",
        "In addition, we normalize the text to only have lower case letters and append a word separator token at the end."
      ]
    },
    {
      "cell_type": "code",
      "metadata": {
        "id": "svKzVJ_hQGK6"
      },
      "source": [
        "import re\n",
        "chars_to_ignore_regex = '[\\,\\?\\.\\!\\-\\;\\:\\\"]'\n",
        "\n",
        "def remove_special_characters(batch):\n",
        "    batch[\"text\"] = re.sub(chars_to_ignore_regex, '', batch[\"text\"]).lower() + \" \"\n",
        "    return batch"
      ],
      "execution_count": 21,
      "outputs": []
    },
    {
      "cell_type": "code",
      "metadata": {
        "colab": {
          "base_uri": "https://localhost:8080/",
          "height": 81,
          "referenced_widgets": [
            "de10dc433b5043908859da70e904cdf5",
            "dbf8540663674eafa956bea5248306c4",
            "0e61ffbf4cf144e593602d16a0f8112f",
            "a9bf1fc564d54dc98999bba16e0084bc",
            "243ab6dd586a4d669fd8d58c029a6c79",
            "90281c44b3884b8f885ffa03035ee55f",
            "1d43b3ac00ff41e0890d6177bf877030",
            "bb8a9bb1b86e402888a3930d5133273f",
            "7cdbe13b890b4ffe8ceeea035388654f",
            "ad65e2839af64c9d819f12798c0bfbc5",
            "95c0f3f1f21844d2bc845a8711070e69",
            "0a3466a1b14b45148b13ec30d49bca90",
            "0869d143f7344d1086238def7f25f3f7",
            "e64846429b0840619c039d8e3dbc9c6b",
            "eb3243980bf649edb9d9b7387a2eeb2b",
            "571bccc123eb41ca930462f6bfdfa057",
            "3f6f654eab5b44ecbcf705e5f685d282",
            "15f60e8a948446e197d8293093eafc6d",
            "99b03ff9bf5343398803c707af499a83",
            "0b9e0a8fb49843aa958c516da3ce646c",
            "fa53a0e71f814665aff84834795482bf",
            "32e653e56fda44f9aabc956876a3aaeb"
          ]
        },
        "id": "XIHocAuTQbBR",
        "outputId": "b77e5a37-384a-4e5c-acc7-87373a3ff00d"
      },
      "source": [
        "timit = timit.map(remove_special_characters)"
      ],
      "execution_count": 22,
      "outputs": [
        {
          "output_type": "display_data",
          "data": {
            "text/plain": [
              "0ex [00:00, ?ex/s]"
            ],
            "application/vnd.jupyter.widget-view+json": {
              "version_major": 2,
              "version_minor": 0,
              "model_id": "de10dc433b5043908859da70e904cdf5"
            }
          },
          "metadata": {}
        },
        {
          "output_type": "display_data",
          "data": {
            "text/plain": [
              "0ex [00:00, ?ex/s]"
            ],
            "application/vnd.jupyter.widget-view+json": {
              "version_major": 2,
              "version_minor": 0,
              "model_id": "0a3466a1b14b45148b13ec30d49bca90"
            }
          },
          "metadata": {}
        }
      ]
    },
    {
      "cell_type": "code",
      "metadata": {
        "colab": {
          "base_uri": "https://localhost:8080/",
          "height": 363
        },
        "id": "RBDRAAYxRE6n",
        "outputId": "a41eecdb-1f10-48b4-a15e-bae2e61391b5"
      },
      "source": [
        "show_random_elements(timit[\"train\"].remove_columns([\"audio\", \"file\"]))"
      ],
      "execution_count": 23,
      "outputs": [
        {
          "output_type": "display_data",
          "data": {
            "text/plain": [
              "<IPython.core.display.HTML object>"
            ],
            "text/html": [
              "<table border=\"1\" class=\"dataframe\">\n",
              "  <thead>\n",
              "    <tr style=\"text-align: right;\">\n",
              "      <th></th>\n",
              "      <th>text</th>\n",
              "    </tr>\n",
              "  </thead>\n",
              "  <tbody>\n",
              "    <tr>\n",
              "      <th>0</th>\n",
              "      <td>he wanted to show the town what happened to anyone who tried to start trouble</td>\n",
              "    </tr>\n",
              "    <tr>\n",
              "      <th>1</th>\n",
              "      <td>a lawyer was appointed to execute her will</td>\n",
              "    </tr>\n",
              "    <tr>\n",
              "      <th>2</th>\n",
              "      <td>no more could he defend himself against them</td>\n",
              "    </tr>\n",
              "    <tr>\n",
              "      <th>3</th>\n",
              "      <td>let's hope we come to a safer place</td>\n",
              "    </tr>\n",
              "    <tr>\n",
              "      <th>4</th>\n",
              "      <td>don't ask me to carry an oily rag like that</td>\n",
              "    </tr>\n",
              "    <tr>\n",
              "      <th>5</th>\n",
              "      <td>draw each graph on a new axis</td>\n",
              "    </tr>\n",
              "    <tr>\n",
              "      <th>6</th>\n",
              "      <td>she had your dark suit in greasy wash water all year</td>\n",
              "    </tr>\n",
              "    <tr>\n",
              "      <th>7</th>\n",
              "      <td>clear pronunciation is appreciated</td>\n",
              "    </tr>\n",
              "    <tr>\n",
              "      <th>8</th>\n",
              "      <td>approach your interview with statuesque composure</td>\n",
              "    </tr>\n",
              "    <tr>\n",
              "      <th>9</th>\n",
              "      <td>your voice is delightful he approved with a warm smile</td>\n",
              "    </tr>\n",
              "  </tbody>\n",
              "</table>"
            ]
          },
          "metadata": {}
        }
      ]
    },
    {
      "cell_type": "markdown",
      "metadata": {
        "id": "jwfaptH5RJwA"
      },
      "source": [
        "Good! This looks better. We have removed most special characters from transcriptions and normalized them to lower-case only.\n",
        "\n",
        "In CTC, it is common to classify speech chunks into letters, so we will do the same here.\n",
        "Let's extract all distinct letters of the training and test data and build our vocabulary from this set of letters.\n",
        "\n",
        "We write a mapping function that concatenates all transcriptions into one long transcription and then transforms the string into a set of chars.\n",
        "It is important to pass the argument `batched=True` to the `map(...)` function so that the mapping function has access to all transcriptions at once."
      ]
    },
    {
      "cell_type": "code",
      "metadata": {
        "id": "LwCshNbbeRZR"
      },
      "source": [
        "def extract_all_chars(batch):\n",
        "  all_text = \" \".join(batch[\"text\"])\n",
        "  vocab = list(set(all_text))\n",
        "  return {\"vocab\": [vocab], \"all_text\": [all_text]}"
      ],
      "execution_count": 25,
      "outputs": []
    },
    {
      "cell_type": "code",
      "metadata": {
        "colab": {
          "base_uri": "https://localhost:8080/",
          "height": 81,
          "referenced_widgets": [
            "26ac35ce79e740d5a420eb3ea7598197",
            "61505329ce5640bc812d79e45e68b4a0",
            "f4580a86243649fab98cbad752878f34",
            "32faa4e916fa4453bfec2ff1f33e4b9a",
            "2cd96877af034682b10938c65cb5b9fa",
            "8fe6309e5c1e4c74b86d1ee670545f98",
            "4784e67719ed4d92b80240798a6367f6",
            "48608c8780914371b6275884e59a8f9b",
            "ffa307d8fb2d4641a2906704ae80013f",
            "c2c7d07864474347b070c971cb6be986",
            "6b80ba9d57074fe48a21e6d531363cce",
            "57ff84e4ad3e4707b0e91f6a630a00ad",
            "5cb532a232e74feca11299437841e2bd",
            "4e3bd35ed98c40cba0feda335c868b72",
            "4ea1059d0c274ccb86eb7e20f2168573",
            "e1efd1a8984c4b0a8bba5d90a0dc430a",
            "8672c3033a4946f2bda0a5a401ff896b",
            "f13f0d579a314b1ca15afffc60e1a67a",
            "b3e7a148301f4b38bfa4eee74600b820",
            "2cc720fa1422489eb701254437bc16ff",
            "fe35a3e414484fe69b4c828b47e251ff",
            "9ddbe93a3f574b1b9c98d95217626011"
          ]
        },
        "id": "_m6uUjjcfbjH",
        "outputId": "7eb69b50-d0c2-41b4-d917-367cf57d3afb"
      },
      "source": [
        "vocabs = timit.map(extract_all_chars, batched=True, batch_size=-1, keep_in_memory=True, remove_columns=timit.column_names[\"train\"])"
      ],
      "execution_count": 26,
      "outputs": [
        {
          "output_type": "display_data",
          "data": {
            "text/plain": [
              "  0%|          | 0/1 [00:00<?, ?ba/s]"
            ],
            "application/vnd.jupyter.widget-view+json": {
              "version_major": 2,
              "version_minor": 0,
              "model_id": "26ac35ce79e740d5a420eb3ea7598197"
            }
          },
          "metadata": {}
        },
        {
          "output_type": "display_data",
          "data": {
            "text/plain": [
              "  0%|          | 0/1 [00:00<?, ?ba/s]"
            ],
            "application/vnd.jupyter.widget-view+json": {
              "version_major": 2,
              "version_minor": 0,
              "model_id": "57ff84e4ad3e4707b0e91f6a630a00ad"
            }
          },
          "metadata": {}
        }
      ]
    },
    {
      "cell_type": "markdown",
      "metadata": {
        "id": "7oVgE8RZSJNP"
      },
      "source": [
        "Now, we create the union of all distinct letters in the training dataset and test dataset and convert the resulting list into an enumerated dictionary."
      ]
    },
    {
      "cell_type": "code",
      "metadata": {
        "id": "aQfneNsmlJI0"
      },
      "source": [
        "vocab_list = list(set(vocabs[\"train\"][\"vocab\"][0]) | set(vocabs[\"test\"][\"vocab\"][0]))"
      ],
      "execution_count": 29,
      "outputs": []
    },
    {
      "cell_type": "code",
      "metadata": {
        "colab": {
          "base_uri": "https://localhost:8080/"
        },
        "id": "_0kRndSvqaKk",
        "outputId": "05979595-93e7-48f1-f972-e49b6f02a87a"
      },
      "source": [
        "vocab_dict = {v: k for k, v in enumerate(vocab_list)}\n",
        "vocab_dict"
      ],
      "execution_count": 30,
      "outputs": [
        {
          "output_type": "execute_result",
          "data": {
            "text/plain": [
              "{\"'\": 0,\n",
              " 'k': 1,\n",
              " 'u': 2,\n",
              " 'g': 3,\n",
              " 'c': 4,\n",
              " 'd': 5,\n",
              " 'o': 6,\n",
              " 'l': 7,\n",
              " 'i': 8,\n",
              " 'p': 9,\n",
              " 'h': 10,\n",
              " 'a': 11,\n",
              " 'q': 12,\n",
              " 'e': 13,\n",
              " ' ': 14,\n",
              " 'x': 15,\n",
              " 't': 16,\n",
              " 'v': 17,\n",
              " 'r': 18,\n",
              " 'f': 19,\n",
              " 's': 20,\n",
              " 'w': 21,\n",
              " 'm': 22,\n",
              " 'z': 23,\n",
              " 'j': 24,\n",
              " 'n': 25,\n",
              " 'b': 26,\n",
              " 'y': 27}"
            ]
          },
          "metadata": {},
          "execution_count": 30
        }
      ]
    },
    {
      "cell_type": "markdown",
      "metadata": {
        "id": "JOSzbvs9SXT1"
      },
      "source": [
        "Cool, we see that all letters of the alphabet occur in the dataset (which is not really surprising) and we also extracted the special characters `\" \"` and `'`. Note that we did not exclude those special characters because:\n",
        "\n",
        "- The model has to learn to predict when a word finished or else the model prediction would always be a sequence of chars which would make it impossible to separate words from each other.\n",
        "- In English, we need to keep the `'` character to differentiate between words, *e.g.*, `\"it's\"` and `\"its\"` which have very different meanings."
      ]
    },
    {
      "cell_type": "markdown",
      "metadata": {
        "id": "b1fBRCn-TRaO"
      },
      "source": [
        "To make it clearer that `\" \"` has its own token class, we give it a more visible character `|`. In addition, we also add an \"unknown\" token so that the model can later deal with characters not encountered in Timit's training set.\n",
        "\n",
        "Finally, we also add a padding token that corresponds to CTC's \"*blank token*\". The \"blank token\" is a core component of the CTC algorithm. For more information, please take a look at the \"Alignment\" section [here](https://distill.pub/2017/ctc/)."
      ]
    },
    {
      "cell_type": "code",
      "metadata": {
        "id": "npbIbBoLgaFX"
      },
      "source": [
        "vocab_dict[\"|\"] = vocab_dict[\" \"]\n",
        "del vocab_dict[\" \"]"
      ],
      "execution_count": 31,
      "outputs": []
    },
    {
      "cell_type": "code",
      "metadata": {
        "id": "znF0bNunsjbl",
        "colab": {
          "base_uri": "https://localhost:8080/"
        },
        "outputId": "2e5fb205-5756-48bb-fb4e-7cbebcda432f"
      },
      "source": [
        "vocab_dict[\"[UNK]\"] = len(vocab_dict)\n",
        "vocab_dict[\"[PAD]\"] = len(vocab_dict)\n",
        "len(vocab_dict)"
      ],
      "execution_count": 32,
      "outputs": [
        {
          "output_type": "execute_result",
          "data": {
            "text/plain": [
              "30"
            ]
          },
          "metadata": {},
          "execution_count": 32
        }
      ]
    },
    {
      "cell_type": "markdown",
      "metadata": {
        "id": "SFPGfet8U5sL"
      },
      "source": [
        "Cool, now our vocabulary is complete and consists of 30 tokens, which means that the linear layer that we will add on top of the pretrained Wav2Vec2 checkpoint will have an output dimension of 30."
      ]
    },
    {
      "cell_type": "markdown",
      "metadata": {
        "id": "1CujRgBNVRaD"
      },
      "source": [
        "Let's now save the vocabulary as a json file."
      ]
    },
    {
      "cell_type": "code",
      "metadata": {
        "id": "ehyUoh9vk191"
      },
      "source": [
        "import json\n",
        "with open('vocab.json', 'w') as vocab_file:\n",
        "    json.dump(vocab_dict, vocab_file)"
      ],
      "execution_count": 33,
      "outputs": []
    },
    {
      "cell_type": "markdown",
      "metadata": {
        "id": "SHJDaKlIVVim"
      },
      "source": [
        "In a final step, we use the json file to instantiate an object of the `Wav2Vec2CTCTokenizer` class."
      ]
    },
    {
      "cell_type": "code",
      "metadata": {
        "id": "xriFGEWQkO4M"
      },
      "source": [
        "from transformers import Wav2Vec2CTCTokenizer\n",
        "\n",
        "tokenizer = Wav2Vec2CTCTokenizer(\"./vocab.json\", unk_token=\"[UNK]\", pad_token=\"[PAD]\", word_delimiter_token=\"|\")"
      ],
      "execution_count": 34,
      "outputs": []
    },
    {
      "cell_type": "markdown",
      "metadata": {
        "id": "P6L2EVWwIazG"
      },
      "source": [
        "If one wants to re-use the just created tokenizer with the fine-tuned model of this notebook, it is strongly advised to upload the `tokenizer` to the [🤗 Hub](https://huggingface.co/). Let's call the repo to which we will upload the files\n",
        "`\"wav2vec2-base-timit-demo-colab\"`:"
      ]
    },
    {
      "cell_type": "code",
      "metadata": {
        "id": "1mbffBdxIl0M"
      },
      "source": [
        "repo_name = \"toanpi/wav2vec2-base-timit-demo-google-colab\""
      ],
      "execution_count": 40,
      "outputs": []
    },
    {
      "cell_type": "markdown",
      "metadata": {
        "id": "pmpG2ftFIu3B"
      },
      "source": [
        "and upload the tokenizer to the [🤗 Hub](https://huggingface.co/)."
      ]
    },
    {
      "cell_type": "code",
      "metadata": {
        "colab": {
          "base_uri": "https://localhost:8080/",
          "height": 321
        },
        "id": "ScBMUz8jIxJi",
        "outputId": "8df53822-27a1-4789-8518-dbfece0c8778"
      },
      "source": [
        "tokenizer.push_to_hub(repo_name)"
      ],
      "execution_count": 41,
      "outputs": [
        {
          "output_type": "error",
          "ename": "TypeError",
          "evalue": "HfApi.create_repo() got an unexpected keyword argument 'organization'",
          "traceback": [
            "\u001b[0;31m---------------------------------------------------------------------------\u001b[0m",
            "\u001b[0;31mTypeError\u001b[0m                                 Traceback (most recent call last)",
            "\u001b[0;32m<ipython-input-41-e531bb070692>\u001b[0m in \u001b[0;36m<cell line: 0>\u001b[0;34m()\u001b[0m\n\u001b[0;32m----> 1\u001b[0;31m \u001b[0mtokenizer\u001b[0m\u001b[0;34m.\u001b[0m\u001b[0mpush_to_hub\u001b[0m\u001b[0;34m(\u001b[0m\u001b[0mrepo_name\u001b[0m\u001b[0;34m)\u001b[0m\u001b[0;34m\u001b[0m\u001b[0;34m\u001b[0m\u001b[0m\n\u001b[0m",
            "\u001b[0;32m/usr/local/lib/python3.11/dist-packages/transformers/file_utils.py\u001b[0m in \u001b[0;36mpush_to_hub\u001b[0;34m(self, repo_path_or_name, repo_url, use_temp_dir, commit_message, organization, private, use_auth_token, **model_card_kwargs)\u001b[0m\n\u001b[1;32m   2899\u001b[0m \u001b[0;34m\u001b[0m\u001b[0m\n\u001b[1;32m   2900\u001b[0m         \u001b[0;31m# Create or clone the repo. If the repo is already cloned, this just retrieves the path to the repo.\u001b[0m\u001b[0;34m\u001b[0m\u001b[0;34m\u001b[0m\u001b[0m\n\u001b[0;32m-> 2901\u001b[0;31m         repo = self._create_or_get_repo(\n\u001b[0m\u001b[1;32m   2902\u001b[0m             \u001b[0mrepo_path_or_name\u001b[0m\u001b[0;34m=\u001b[0m\u001b[0mrepo_path_or_name\u001b[0m\u001b[0;34m,\u001b[0m\u001b[0;34m\u001b[0m\u001b[0;34m\u001b[0m\u001b[0m\n\u001b[1;32m   2903\u001b[0m             \u001b[0mrepo_url\u001b[0m\u001b[0;34m=\u001b[0m\u001b[0mrepo_url\u001b[0m\u001b[0;34m,\u001b[0m\u001b[0;34m\u001b[0m\u001b[0;34m\u001b[0m\u001b[0m\n",
            "\u001b[0;32m/usr/local/lib/python3.11/dist-packages/transformers/file_utils.py\u001b[0m in \u001b[0;36m_create_or_get_repo\u001b[0;34m(cls, repo_path_or_name, repo_url, organization, private, use_auth_token)\u001b[0m\n\u001b[1;32m   2975\u001b[0m         \u001b[0;32mif\u001b[0m \u001b[0mrepo_url\u001b[0m \u001b[0;32mis\u001b[0m \u001b[0;32mNone\u001b[0m \u001b[0;32mand\u001b[0m \u001b[0;32mnot\u001b[0m \u001b[0mos\u001b[0m\u001b[0;34m.\u001b[0m\u001b[0mpath\u001b[0m\u001b[0;34m.\u001b[0m\u001b[0mexists\u001b[0m\u001b[0;34m(\u001b[0m\u001b[0mrepo_path_or_name\u001b[0m\u001b[0;34m)\u001b[0m\u001b[0;34m:\u001b[0m\u001b[0;34m\u001b[0m\u001b[0;34m\u001b[0m\u001b[0m\n\u001b[1;32m   2976\u001b[0m             \u001b[0mrepo_name\u001b[0m \u001b[0;34m=\u001b[0m \u001b[0mPath\u001b[0m\u001b[0;34m(\u001b[0m\u001b[0mrepo_path_or_name\u001b[0m\u001b[0;34m)\u001b[0m\u001b[0;34m.\u001b[0m\u001b[0mname\u001b[0m\u001b[0;34m\u001b[0m\u001b[0;34m\u001b[0m\u001b[0m\n\u001b[0;32m-> 2977\u001b[0;31m             repo_url = cls._get_repo_url_from_name(\n\u001b[0m\u001b[1;32m   2978\u001b[0m                 \u001b[0mrepo_name\u001b[0m\u001b[0;34m,\u001b[0m \u001b[0morganization\u001b[0m\u001b[0;34m=\u001b[0m\u001b[0morganization\u001b[0m\u001b[0;34m,\u001b[0m \u001b[0mprivate\u001b[0m\u001b[0;34m=\u001b[0m\u001b[0mprivate\u001b[0m\u001b[0;34m,\u001b[0m \u001b[0muse_auth_token\u001b[0m\u001b[0;34m=\u001b[0m\u001b[0muse_auth_token\u001b[0m\u001b[0;34m\u001b[0m\u001b[0;34m\u001b[0m\u001b[0m\n\u001b[1;32m   2979\u001b[0m             )\n",
            "\u001b[0;32m/usr/local/lib/python3.11/dist-packages/transformers/file_utils.py\u001b[0m in \u001b[0;36m_get_repo_url_from_name\u001b[0;34m(repo_name, organization, private, use_auth_token)\u001b[0m\n\u001b[1;32m   2946\u001b[0m \u001b[0;34m\u001b[0m\u001b[0m\n\u001b[1;32m   2947\u001b[0m         \u001b[0;31m# Special provision for the test endpoint (CI)\u001b[0m\u001b[0;34m\u001b[0m\u001b[0;34m\u001b[0m\u001b[0m\n\u001b[0;32m-> 2948\u001b[0;31m         return create_repo(\n\u001b[0m\u001b[1;32m   2949\u001b[0m             \u001b[0mtoken\u001b[0m\u001b[0;34m,\u001b[0m\u001b[0;34m\u001b[0m\u001b[0;34m\u001b[0m\u001b[0m\n\u001b[1;32m   2950\u001b[0m             \u001b[0mrepo_name\u001b[0m\u001b[0;34m,\u001b[0m\u001b[0;34m\u001b[0m\u001b[0;34m\u001b[0m\u001b[0m\n",
            "\u001b[0;32m/usr/local/lib/python3.11/dist-packages/huggingface_hub/utils/_validators.py\u001b[0m in \u001b[0;36m_inner_fn\u001b[0;34m(*args, **kwargs)\u001b[0m\n\u001b[1;32m    112\u001b[0m             \u001b[0mkwargs\u001b[0m \u001b[0;34m=\u001b[0m \u001b[0msmoothly_deprecate_use_auth_token\u001b[0m\u001b[0;34m(\u001b[0m\u001b[0mfn_name\u001b[0m\u001b[0;34m=\u001b[0m\u001b[0mfn\u001b[0m\u001b[0;34m.\u001b[0m\u001b[0m__name__\u001b[0m\u001b[0;34m,\u001b[0m \u001b[0mhas_token\u001b[0m\u001b[0;34m=\u001b[0m\u001b[0mhas_token\u001b[0m\u001b[0;34m,\u001b[0m \u001b[0mkwargs\u001b[0m\u001b[0;34m=\u001b[0m\u001b[0mkwargs\u001b[0m\u001b[0;34m)\u001b[0m\u001b[0;34m\u001b[0m\u001b[0;34m\u001b[0m\u001b[0m\n\u001b[1;32m    113\u001b[0m \u001b[0;34m\u001b[0m\u001b[0m\n\u001b[0;32m--> 114\u001b[0;31m         \u001b[0;32mreturn\u001b[0m \u001b[0mfn\u001b[0m\u001b[0;34m(\u001b[0m\u001b[0;34m*\u001b[0m\u001b[0margs\u001b[0m\u001b[0;34m,\u001b[0m \u001b[0;34m**\u001b[0m\u001b[0mkwargs\u001b[0m\u001b[0;34m)\u001b[0m\u001b[0;34m\u001b[0m\u001b[0;34m\u001b[0m\u001b[0m\n\u001b[0m\u001b[1;32m    115\u001b[0m \u001b[0;34m\u001b[0m\u001b[0m\n\u001b[1;32m    116\u001b[0m     \u001b[0;32mreturn\u001b[0m \u001b[0m_inner_fn\u001b[0m  \u001b[0;31m# type: ignore\u001b[0m\u001b[0;34m\u001b[0m\u001b[0;34m\u001b[0m\u001b[0m\n",
            "\u001b[0;31mTypeError\u001b[0m: HfApi.create_repo() got an unexpected keyword argument 'organization'"
          ]
        }
      ]
    },
    {
      "cell_type": "markdown",
      "metadata": {
        "id": "KvL12DrNV4cx"
      },
      "source": [
        "Great, you can see the just created repository under `https://huggingface.co/<your-username>/wav2vec2-base-timit-demo-colab`"
      ]
    },
    {
      "cell_type": "markdown",
      "metadata": {
        "id": "mYcIiR2FQ96i"
      },
      "source": [
        "### Create Wav2Vec2 Feature Extractor"
      ]
    },
    {
      "cell_type": "markdown",
      "metadata": {
        "id": "Y6mDEyW719rx"
      },
      "source": [
        "Speech is a continuous signal and to be treated by computers, it first has to be discretized, which is usually called **sampling**. The sampling rate hereby plays an important role in that it defines how many data points of the speech signal are measured per second. Therefore, sampling with a higher sampling rate results in a better approximation of the *real* speech signal but also necessitates more values per second.\n",
        "\n",
        "A pretrained checkpoint expects its input data to have been sampled more or less from the same distribution as the data it was trained on. The same speech signals sampled at two different rates have a very different distribution, *e.g.*, doubling the sampling rate results in data points being twice as long. Thus,\n",
        "before fine-tuning a pretrained checkpoint of an ASR model, it is crucial to verify that the sampling rate of the data that was used to pretrain the model matches the sampling rate of the dataset used to fine-tune the model.\n",
        "\n",
        "Wav2Vec2 was pretrained on the audio data of [LibriSpeech](https://huggingface.co/datasets/librispeech_asr) and LibriVox which both were sampling with 16kHz. Our fine-tuning dataset, [Timit](hhtps://huggingface.co/datasets/timit_asr), was luckily also sampled with 16kHz. If the fine-tuning dataset would have been sampled with a rate lower or higher than 16kHz, we first would have had to up or downsample the speech signal to match the sampling rate of the data used for pretraining.\n",
        "\n"
      ]
    },
    {
      "cell_type": "markdown",
      "metadata": {
        "id": "KuUbPW7oV-B5"
      },
      "source": [
        "A Wav2Vec2 feature extractor object requires the following parameters to be instantiated:\n",
        "\n",
        "- `feature_size`: Speech models take a sequence of feature vectors as an input. While the length of this sequence obviously varies, the feature size should not. In the case of Wav2Vec2, the feature size is 1 because the model was trained on the raw speech signal ${}^2$.\n",
        "- `sampling_rate`: The sampling rate at which the model is trained on.\n",
        "- `padding_value`: For batched inference, shorter inputs need to be padded with a specific value\n",
        "- `do_normalize`: Whether the input should be *zero-mean-unit-variance* normalized or not. Usually, speech models perform better when normalizing the input\n",
        "- `return_attention_mask`: Whether the model should make use of an `attention_mask` for batched inference. In general, models should **always** make use of the `attention_mask` to mask padded tokens. However, due to a very specific design choice of `Wav2Vec2`'s \"base\" checkpoint, better results are achieved when using no `attention_mask`. This is **not** recommended for other speech models. For more information, one can take a look at [this](https://github.com/pytorch/fairseq/issues/3227) issue. **Important** If you want to use this notebook to fine-tune [large-lv60](https://huggingface.co/facebook/wav2vec2-large-lv60), this parameter should be set to `True`."
      ]
    },
    {
      "cell_type": "code",
      "metadata": {
        "id": "kAR0-2KLkopp"
      },
      "source": [
        "from transformers import Wav2Vec2FeatureExtractor\n",
        "\n",
        "feature_extractor = Wav2Vec2FeatureExtractor(feature_size=1, sampling_rate=16000, padding_value=0.0, do_normalize=True, return_attention_mask=False)"
      ],
      "execution_count": 42,
      "outputs": []
    },
    {
      "cell_type": "markdown",
      "metadata": {
        "id": "qUETetgqYC3W"
      },
      "source": [
        "Great, Wav2Vec2's feature extraction pipeline is thereby fully defined!\n",
        "\n",
        "To make the usage of Wav2Vec2 as user-friendly as possible, the feature extractor and tokenizer are *wrapped* into a single `Wav2Vec2Processor` class so that one only needs a `model` and `processor` object."
      ]
    },
    {
      "cell_type": "code",
      "metadata": {
        "id": "KYZtoW-tlZgl"
      },
      "source": [
        "from transformers import Wav2Vec2Processor\n",
        "\n",
        "processor = Wav2Vec2Processor(feature_extractor=feature_extractor, tokenizer=tokenizer)"
      ],
      "execution_count": 43,
      "outputs": []
    },
    {
      "cell_type": "markdown",
      "metadata": {
        "id": "DrKnYuvDIoOO"
      },
      "source": [
        "Next, we can prepare the dataset."
      ]
    },
    {
      "cell_type": "markdown",
      "metadata": {
        "id": "YFmShnl7RE35"
      },
      "source": [
        "### Preprocess Data\n",
        "\n",
        "So far, we have not looked at the actual values of the speech signal but just the transcription. In addition to `'text'`, our datasets include two more column names `'file'` and `'audio'`. `'file'` states the absolute path of the audio file. Let's take a look."
      ]
    },
    {
      "cell_type": "code",
      "metadata": {
        "colab": {
          "base_uri": "https://localhost:8080/",
          "height": 59
        },
        "id": "TTCS7W6XJ9BG",
        "outputId": "39a01a7f-1ab4-467d-a365-076b1643060a"
      },
      "source": [
        "timit[\"train\"][0][\"file\"]"
      ],
      "execution_count": 44,
      "outputs": [
        {
          "output_type": "execute_result",
          "data": {
            "text/plain": [
              "'/root/.cache/huggingface/datasets/downloads/extracted/404950a46da14eac65eb4e2a8317b1372fb3971d980d91d5d5b221275b1fd7e0/data/TRAIN/DR4/MMDM0/SI681.WAV'"
            ],
            "application/vnd.google.colaboratory.intrinsic+json": {
              "type": "string"
            }
          },
          "metadata": {},
          "execution_count": 44
        }
      ]
    },
    {
      "cell_type": "markdown",
      "metadata": {
        "id": "BwxprOw4Nzrl"
      },
      "source": [
        "`Wav2Vec2` expects the input in the format of a 1-dimensional array of 16 kHz. This means that the audio file has to be loaded and resampled.\n",
        "\n",
        " Thankfully, `datasets` does this automatically when calling the column `audio`. Let try it out."
      ]
    },
    {
      "cell_type": "code",
      "metadata": {
        "colab": {
          "base_uri": "https://localhost:8080/"
        },
        "id": "mk9QHuSsN7lf",
        "outputId": "aaedb69e-2660-4419-e163-b864691b7973"
      },
      "source": [
        "timit[\"train\"][0][\"audio\"]"
      ],
      "execution_count": 45,
      "outputs": [
        {
          "output_type": "execute_result",
          "data": {
            "text/plain": [
              "{'path': '/root/.cache/huggingface/datasets/downloads/extracted/404950a46da14eac65eb4e2a8317b1372fb3971d980d91d5d5b221275b1fd7e0/data/TRAIN/DR4/MMDM0/SI681.WAV',\n",
              " 'array': array([-2.1362305e-04,  6.1035156e-05,  3.0517578e-05, ...,\n",
              "        -3.0517578e-05, -9.1552734e-05, -6.1035156e-05], dtype=float32),\n",
              " 'sampling_rate': 16000}"
            ]
          },
          "metadata": {},
          "execution_count": 45
        }
      ]
    },
    {
      "cell_type": "markdown",
      "metadata": {
        "id": "wSBIGEiaKHMn"
      },
      "source": [
        "We can see that the audio file has automatically been loaded. This is thanks to the new [`\"Audio\"` feature](https://huggingface.co/docs/datasets/package_reference/main_classes.html?highlight=audio#datasets.Audio) introduced in `datasets == 4.13.3`, which loads and resamples audio files on-the-fly upon calling.\n",
        "\n",
        "The sampling rate is set to 16kHz which is what `Wav2Vec2` expects as an input."
      ]
    },
    {
      "cell_type": "markdown",
      "metadata": {
        "id": "SOckzFd4Mbzq"
      },
      "source": [
        "Great, let's listen to a couple of audio files to better understand the dataset and verify that the audio was correctly loaded.\n",
        "\n",
        "**Note**: *You can click the following cell a couple of times to listen to different speech samples.*"
      ]
    },
    {
      "cell_type": "code",
      "metadata": {
        "colab": {
          "base_uri": "https://localhost:8080/",
          "height": 92
        },
        "id": "dueM6U7Ev0OA",
        "outputId": "33e9bfed-5a33-4482-86ee-7da817d66f0e"
      },
      "source": [
        "import IPython.display as ipd\n",
        "import numpy as np\n",
        "import random\n",
        "\n",
        "rand_int = random.randint(0, len(timit[\"train\"]))\n",
        "\n",
        "print(timit[\"train\"][rand_int][\"text\"])\n",
        "ipd.Audio(data=np.asarray(timit[\"train\"][rand_int][\"audio\"][\"array\"]), autoplay=True, rate=16000)"
      ],
      "execution_count": 46,
      "outputs": [
        {
          "output_type": "stream",
          "name": "stdout",
          "text": [
            "don't ask me to carry an oily rag like that \n"
          ]
        },
        {
          "output_type": "execute_result",
          "data": {
            "text/plain": [
              "<IPython.lib.display.Audio object>"
            ],
            "text/html": [
              "\n",
              "                <audio  controls=\"controls\" autoplay=\"autoplay\">\n",
              "                    <source src=\"data:audio/wav;base64,UklGRr5BAQBXQVZFZm10IBAAAAABAAEAgD4AAAB9AAACABAAZGF0YZpBAQDu/8P/yv/0//r/AAAeAE8AYQCYAJ4AZwD0/7H/t//W/+j/+v/o/8r/vf/K/9z/1v/c/x4AegDDAM8AtwBtAOL/dP9Q/5P/3P89AGcASQAYAMP/bv8r/x//Sf/D/0MA4QAYARIB2wB6ABIAq/90/43/4v9DAIAAmABzADAA9P+3/3T/bv+G/8P/+v82ADYAPQASAOj/vf/D//r/TwCAAIYAbQBhAEkAPQAGAND/0P/o/+7/1v/W/+j/9P/c/9D/q/+T/7f/6P8MAD0AYQCMAJ4AhgA9AEkAVQA9ABIA3P/u//r/6P/W/8r/sf+G/6v/7v8YADYAQwBzAGcAYQBnAE8AHgDQ/8r/3P/u/x4ANgA2ADAAEgAAANb/yv/W/wYAMAAqACQA9P/u/9z/9P8SABgANgAwADAAHgAAAOj/0P/c/wAAGAD6//T/9P/6/xIANgBVAIYAgABhADYAGADu/8r/jf9u/5P/vf/c/9b/9P82AE8AegCSAJIAkgCMAHMAbQBDAB4A+v/o/9D/t//D/7H/sf/D/8r/+v8wAB4A6P/o/wYAGAAYAPr/1v+3/7f/yv/0/yQANgA2ADAADAAAAO7/w/+9/8r/HgBPAFUAVQA9ADYANgA2AD0AMAAGAO7/yv/W/8r/1v/Q/9b/3P/i//T/4v/W/9b/0P/0/xgAPQBVAG0AZwBbAE8ATwBJAD0ABgDQ/6X/vf/c/8P/sf+G/5P/ev96/5//6P8wAFUAgACwAKQAhgBVADYANgA2ADYAPQA2AAYAw/+Z/3r/bv+G/6X/3P8GACQAHgDi/8P/w//6/zYAgACkAMMAwwCYAGEAAAC3/2j/UP96/9z/QwCGAKQAkgBtAE8APQA2AAYAAADi/8r/w/+9/5n/XP8f/zf/k/8AAHoAvQAMATcBKgH6AKoAWwAeAMP/dP9J/1D/Q/9Q/0n/aP+A/8P/DAA9AEMAgACeALcAhgBVADYAEgDD/6X/mf+9/9b/1v/u/0kAmADJAMkAngBzAFsANgAAAL3/hv9c/z3/Sf+T/8r/1v/W/9b/BgA9AE8AYQCGAJgAngCYAIYAVQAwAAAAyv+r/7H/0P/W/73/n/+x/9b/+v8qAE8AZwBPAD0ANgAYAOj/0P/Q/9z/+v8kAD0ADADK/43/hv+3/9b/GABPAIYApACkAIYATwAkANz/yv+f/6X/q/+x/43/gP90/3T/n/8GAFsAwwD0ACQBHgEAAbcAegASAND/hv+G/6v/t/+9/6X/pf+f/7f/yv/i/xIATwCMAJgAmACGAFsAJADo/73/t//Q/9z/3P/u//T/4v/c/9z/BgAMADAANgA2ADYANgASAOj/AAAwAD0AWwBVAEMAKgDo/73/jf90/3T/mf/Q/wwAMAAwADYAHgA9ADYAVQB6AJgAjACGAGcASQAGANb/pf+T/73/0P/0/wwAKgAkACoAKgAqAD0AMABJAEkATwBDADYAPQAMAPr/7v/u//r/GAA9ADYAPQAqAAYABgDc/9b/0P/W/9b/1v/i/wAABgD6/wwABgAAAAwAGAAeADAAKgA9ADAAJAAqAAwA+v/c/+j/AAAGABIAKgAkACoAEgAeABIAGAAYABgAPQAwAD0AKgAMAAYA9P/0/yoAGAAqAD0AMAA2ADYANgA2ADYAEgASAAYABgD6/+L/0P/D/8P/yv/W/9b/9P8eAD0ANgBPAGcAWwBJADYAPQAkADAAAAD6/+7/7v/0//r/AAAAAAYABgAGAAwAMABDAB4AJAA2AAYADAD0/+7/6P/c/+7/9P8SACoANgA2AD0AKgAqADAAMAA9ADAAPQAkACQAGADu/+7/AAAAAAwAMAAYABIADAAeAAwADAAGAAwAAAAMACoAKgAkAAAA+v/6/+j/4v/c/+j/1v/u//T/+v8MAPT/9P8AAAYAEgAYABgAMAAwACoAHgAYAAYADAAMAAYABgAGAB4AMAAwADYAEgBDAB4ANgAwAB4ADAAGAO7/7v/o/9b/3P/Q/+7/4v/u/+j/+v/6/wwAKgAkACoAKgAeABIABgAMAB4AGAASAAwADAAMABIANgA9ACQANgAMACQAKgAMAAwADAD6//T/9P/6/wAA3P/0/9z/3P/i/+7/7v8AAAAAAAAGACoAHgASABgAEgASAAAAEgAGAAYAAAAGAPT/BgDu/+7/7v/0/+L/6P/0//T/4v/0/+j/7v/i/9z/1v/W/9b/1v/W/9b/3P/c/9b/3P/u/9b/6P/c/+j/0P/W/9z/3P/W/9b/0P/K/9b/3P/c/9b/1v/W/9z/9P/o/+7/+v8GAAwADAAAAAwA+v/o/9z/3P/c/+j/1v/W/9b/6P/c/9z/+v8YACQANgBJAFsAbQCAAIYAjACeAIYAegBhAD0AMAAYAAwA7v/6/+7/4v/i//T/+v/u//T/AAD0//r/AAAeACQAAAAYACoADAAeABIABgAkADAAMAAqADAAKgAwACQAKgAkADAAMAAMADYAHgASACQAKgAeACQAHgAqABgAGAAeAAwAGAAwACQAJAAMACQAJAAYABIAHgAYACQAMAAwACQAEgA2ABgAGAAGAAwABgAwABgABgAGABIAEgAMAAwAGAAAAAYAAAASAAAADAAAAPr/DAD6/wYADAAAAAYABgD6/wwABgAGAAAADAAAAAAAAAAMAAYA+v8GAAYADAAGAAwABgAGAAwA+v8GAAwAEgAAADAAEgAGAAwABgAMABIADAAMAAYABgAAAAAADAAGAAwABgAAAAwABgASAB4ABgAYAAwABgASAAAABgAMAAwAHgAMAAwABgAAAAwADAAMAAYABgAMABgADAAYAAwABgAYAB4ADAASAB4AEgAMACQADAAYAAYAAAAMAAwADAAeABgAHgAMAAwABgAMAB4AGAAGABgADAAqACoAEgAYACoABgAMAAYAEgASAAYAGAAeAAwAGAAMAAwADAASAAwABgASAAYADAAYAB4ADAAMAAYAGAASAAwAEgAMABIADAAMAAYAHgAYAB4AEgASAAwAEgAMAAwAEgAMAAYADAAMAB4AEgAMAAYAAAAGABIADAAeAB4ADAAGAAYADAAGABIADAAGAAwADAAGAAwABgAMAAYABgAMAPr/DAAGAAwABgASABgABgAGAAwADAAGAAYABgAAAAwAAAAMAAYABgAMAAYAAAASAAYAAAAGAAwAAAAGAAYAAAAGAAAA+v8MAAwAAAAAAAYAAAAGAAAADAAAAAwA+v8AAPT/DAAYAAwABgAAAAwA+v/0/wwA+v8AAAYABgAGAAwAAAAMAAYADAAGAAwABgAAAAAADAAGAAwADAAMAAYADAAGABIAAAAGAPr/BgAGAAAA+v/u/wAA+v8AAAAABgD0/wYAAAD6/wYAAAD6/wYA+v8AAAAAAAAAAAAA+v8MAAAABgAGAPr/AAAAAPT/9P8GAPr/BgD0/+7/9P/0//T/+v/6/wAA7v8AAAAABgD0/wAA+v8GAPT/9P/u//T/BgAGAAAA+v8AAAAA+v8GAPr/AAAMAAAABgAAAAYAAAAGAAAAAAAGAAAADAAGAPr/AADu//r/7v8AAPT/9P8GAAYABgDu//T/6P8GAPT/9P8AAO7/AAAAAPr/BgAAAPr/9P8AAAYA+v8GAPr/AAAMAPT/AAAMAPT/9P8AAPr/+v/0//T/AAAAAPr/+v/0//r/+v/u/wYA7v/0/wAA9P/6/wAA6P8AAPr/AAAMAPr/AAAAAAYA7v/6/wAA7v8GAAAA+v8GAPT/DAAAABIA9P/6/wwABgDu/wYA+v8AAPr/BgAAAPr/+v/o/wAA9P8AAPT/BgAAAPT/9P8SAPr/DAD0/wYA+v8GAAYABgAGAAYA+v8AAO7/BgD0//r/7v8GAO7/AAAAAPr/AADu//T/BgDo/+7/7v/0//r/9P8AAPr/7v/6//r/7v/0//r/9P/u/+7/6P/u/+j/9P/0/wAABgAMAAwAAAAYAAYADAAGAAYABgD0//T/9P/u/wAA+v8AAAwADAAMAAwABgAGAAAA9P8AAO7/AAD0/+7/AAD6//r/7v/u//T/9P8GAO7/9P/o//T/9P/o/+7/9P/u/9z/7v/o/9b/7v8GAAwAHgASAAAABgD0/+7/6P/u/+j/1v/u/+j/9P/0/wYADAAGAAwADAASAAYA7v/u/+7/7v/o//T/9P/0/wAABgAAACoAGAAqAAwAEgAYAAYABgAMAAwAGAAMAAYAEgAMAAwADAD6//r/4v/u/9z/3P/o//T/9P8GAAYADAAGAAwADAD6//T/7v/c/9z/3P/K/9b/0P/D/7f/jf+f/73/4v8GACQAPQAwAD0AMABPAGEAWwBDADYASQBDAE8AMAA2ABgAEgAGADYANgAwAAYABgAkADYANgA9ADYANgA2ABgADAAMAPr/6P/c/9z/1v/c/9z/3P/c/9b/6P/0/wYABgAYACoAKgA2ACQAMAAAAPT/0P/W/7H/t/+Z/5n/k/+l/5n/pf+l/9D/yv/c/9b/3P/0/yoANgBzAIAAgABVAEMAMAA2AD0AKgAYADYASQBVAHMAmACkALcAsACqALcAkgBhAEMAMAAMAPr/7v/c/9b/0P/c/+L/+v8GACoAGAAwADAADAAkABIAAAD6/9b/3P/K/8P/t//D/8P/sf+r/73/vf+r/73/sf+N/4b/jf90/3r/k//W//T/HgAeAAAABgAYACQAAAA2ADYAPQBVAIwAkgCwAKQAngCSAIYAZwBnAFsATwBPAEkAcwCYAJ4AmACeAJ4AkgCGAG0ATwA9AAwA6P/D/8P/pf+Z/5//q//D/9b/6P8AABIAKgAMAAAA3P/D/5P/n/+G/3r/k/+Z/3r/dP90/4b/q//D/9b/BgD0/wYAAAASABgA+v/u/wAAAAAMACQAJAAMAAYAAAA2ADYANgA9AEMAPQBhAJ4AyQDVANsAzwDPAL0A4QDJANUAsACSAIAAjABtAGEAbQBbAGcAYQBJAEMAMAAkAAAA4v/D/7H/pf+r/5P/hv+G/27/dP9i/3r/dP+N/3r/hv9u/3r/dP+G/6X/sf/Q/8P/0P+3/7H/0P8eAE8AbQBtAIYAmACSAIwAhgBzAEMAPQD6/8P/dP9Q/4D/vf8MAGcAsAAGAUkBhgF6AYABWwE9AQYBwwCMAGcATwAwAEMAYQCGAIwAngCkAJgAmAB6AG0ATwASAO7/vf+G/1z/aP90/2j/Yv9u/2j/Sf9D/3T/gP9u/2L/hv+f/4D/pf+9/6X/n/9u/2L/Sf9c/7H/6P8GAOj/HgA2AAAAHgBbAE8ANgBVAIwA1QC3AM8AsACGAAAAw//o/zAAQwBhAKoAzwC3AOEAJAE9AT0BGAEGAfoAwwCkAIAATwAwADYANgBDAG0AkgBbADAABgDo/9D/pf+G/5//n/90/4b/mf+9/4b/ev9u/3r/Mf8T/8/+4v63/tz++v4r/1b/jf/6/08AegBPABgAJAAYACoA9P8AAPr/BgAMABIASQCwANUA4QDJAMMAgABVAD0ANgB6AJgAyQD0ABgBTwFVAW4BjAGSAW4BHgHVAIYAKgDu/9b/3P/W/9b/9P/o/9z/1v/c/8r/n/96/1z/dP9W/1z/gP90/3r/bv9o/0P/Mf/0/rf+w/7W/uj+E/90/8P/GAA9AEMAWwA2AB4A6P+T/2j/aP+l/9D/+v/0/zAASQCYAKoA+gAGAT0BHgExAfQA2wC3AL0AqgDPAL0AmACYAKQAzwDtAAABHgEkAQYB1QDVAKQAngCAAFsAPQA2ADAA9P/c/9b/sf+T/3T/ev9D/xP/DP9u/wAAegDEBooSVgaW8uD3DQZ6/8j25/seAhL8EfnP/asBw/7P+7f/EgLDAI3/ngGxAvQAegElAmEAPQDDAjEC3P7J/e7/6P4k/BIB0QhNEQ4J3AJDAIb9tvr+9gz+4v+3/lX+UP8fA7ECQwF6AJP/pf9DAbEEpQMeAnQEnwMSAnT9K/1h+zD8JADP/E/9pf90AaX9wvp0/9v8EfrP/Pr8bv7u/Z4At//D/70Ct/29/fT/DP42/Iz8Sf/J/EP/zwG9AFwF6AHo/eIDPQQGABn/yQCHBQYD6P3c/9UAJACG/NX9+gFP/Oj91QFzAFUCYQHPAk8ByQCrBcMCw//6A0ULBwak/OEB7v5b+pL7yfvD/W79w/3o/1UAaP1a+T38w/88+73+twSrA+EAQwNoBAD/jP0M/5j9Yf3P/lsA+gHhAdUBwwJzAGL+bv3u/qr8hfpQ/2EAyf4M/1z/6P5D/AX7Z/xn/Hr8aP0Z//T/dP+A/+L/4v9i/8/+Ev43/Qz9N/6r/k/9Hv30/m7/bv4M/iv/Pf+N/yQAZwH0AgAEDQbpBxQJpglRCpQLUQtdCo4JmgjvBz4HygViBO4CzwEAAZn/mf4S/qX9+vxh/OH82/36/SX+jP43/5n/hv+x/xgAbQA2AD0AMAA9AFsA+v8Z/wb+bv2q/KT7efo8+c74yPjm+KP4bPhI+Ob3Effy9YT1kPWj9c31kfad96n3kfaW9X71nfWE9RD1YPXm9uz3+fgr/TgFoQ28F3wn+TS9NkEviCZEITcdkBLWA0P8sPue+lP1rvFG8X3w0Ojg3VnYi9xD49zmY+nS8Kr8+wY/DEwPkBNIFyMWXxN+E8IXkhyGHB4ZchUvE4kOjQa3/Tv2rvFY7j/sguwJ8K7zivWw+qUCRAdcBtwCgAG9ApkDyQH6/73/7v8A/2L+N/7u/fr85/p/+Fr5GPwT/5P/pf2w+2H6C/ls9WvwIOr05T3kpeO45lfqlOxL7XbtrvDA8eXy3/Hx8VPzVPksCZspc07GXvtVIUT6OEs/vDMlHej+zO7L6rbfhNvl2NzkquEP14bIMs0E2Wfi7uTV4YLrN/+WEj0bSyOoK8cv6yvjI7giMyjxKMkduhEgCjIHPgWM/Mbx0OfP4//fwtx53XngbuZR6XbswfSAA0cRERn0HFYfPyR8JyYkNxw0EsUJegA793fvUetR6lDoVua+5yHtePML97X3l/iY+3T/egHVAEn+PPsF+AT09++/7MXrGuua6nXqiOy08Bb0x/S18y7yA/HS73HxDP1OFXQ2C03DUgVOZkz4Sbk/giT6AybqL9uU0T7Mps9y2vrj7uTV4e7jLezM7xTrJeQZ5Sjwhv8zDUMbtCkeNhk64je2MgotgSLrEbH/X/Su8HfwOu+C7UXtA+8V8HDuresg6XvnbuZK6C3ueflWBVkQKx3xKkM1dDi2MwkrxB9xEb0AzPBW5Ozcu9jf2Frc+uIa6szvu/Mj+J77mf/JAXQC9AJQBNYFDQY3A8P+Yfo19g/x7+pK577m6OZW5oHmGulS7rTx/fDF7d7uf/kCC8UjXDkuRjVLJE5VT/JK1jmTHUMCp+yd3abQJcmlyGnOQNXa22Ljau9C95f4u/Mo8Uf0qvs9ADEFfQ7uHJwqqjIeNYA1hTIDKVUZrAht+mruveOX21PZtt4B5lfszPAv9pj7Jf9W/1X9XP5oAqAHUg1sE70aaSJRJWki+htsE28Ii/pR6+HfU9qc2S/bsN9p6Bz0UP8gB6cKFQzeC6YIdALV+4v25vRB9EfzifGP8eXyfvS79C7zTPA/7aDrfOv86r7oH+YU6Wz1LAZVG0Evjj7HSCpNsEw7R+I5byPXCrTysOCV0u7JbccfyunQ8trW5d/y5/zoAUMCngDo/uj/dP9hAEkDUQkoEm4crSR3K9ktOiv8I7AZFQ36/zTxdORa2zvZ8tuA4XvorvFV+58EywtYD98QKA/8C90ILAduBfsE9ANQBFYGvgf7B9YFkgG9/IX3x/K57sXry+rL6/DuZfSF+lsA6AT1BmMH7wYxBJIAYftZ9evv4+tE6QHo3OYH6IjrTPDT8v3xIvJs9bz7hgHKB2YUsiPgL2E1yTd1PJQ+JDaUI80QhgF49bfj3tKrye7JB86h0vHYk+bN9bcAgQazCpsPwRPZECEMbwhpCPAJ5ApeC+UP4BQeGXMa7Rj+FagQ9Qdo/hD2Fe+U6UnkT+Ix5fDra/Nh+owAgQjxDx0URxTNEXcORQv1BYwAyfsd+dr3C/eR9kL4wvqS/Mn8VfxP/M/8yfue+ZH3Hfep90j4Kfjz+LD6Sfzb+wv5cvaW9Lry3u+t7KzpUekg6Q7rre3N8lv7AQfCFtEkci9JNpM7FD8BPaoy4yFxEsMCr/S945XV186HzhrQM9RB3A7pr/ax/6UFSwzHEf4TiRCnC+8IiAg4B5MFaAXRCEYOLhKXFLsVThZ4FK4PUQiYAnn7u/O56+jmGefd6NfqOe7a9bH+gQc5DN8PuxJaFDQSfQ1EBwwCDP3/9yLzrvBx8FPy2fNg9rb59P2YAHQB+gD0AEkAw/5V++z3NfXl8ijw8O3F7LntfO6D7v3uZfGc9Cn2nfUF+Pr9ewh+ExIb1yHAKWYxaDf6NZYtCCQwGnANYv/S7dXfLtez0UrOjtD91fng3evT9aQAUgyjFAUZJBiFFmwV6xLYDKYGVQIMAkMDRASHBYgIGwyuDhsPsw0hDeMJdAO2+xb1QPIt76zq1ufp6l/xF/lV/egB9QiQEM0T/hKiD9IMywk3Azz72fT98CHvS+257HDvhPRa+cn83P96A6AGBwcNBFz/efvU9szxDux157fl7uV75izoDuxS8bX3N/8fBq4R+hzRJPEqnC3aL0gxci0+IZ0X5AtPAp33++js3Ufb69hy2WbbPN/16X70qvrcAi0KRxHmFOwTHBIWE2URgw0sCHUF3AXQBmkGgQU4B7IJCAtqC8UJPgcxBaoAT/xU94rzQPC57qHtj/C18y/4bfykAUQHUgwVDrQOdg25CywI4gJJ/Bf32fI08DnuiO2h7pzybPZb+lX+yQHuBOgFsQNnAJ78f/jr83bugelc5vvlJebQ5iDpKPDz+XUGkBJ6HEYoVDBhNis4DDXrLCAkvBbjCBL7v+tt4CLYFdPq0uvVl9ti5WrvC/rKBCENchSdF+cX4BdHFXcQOQs4BaQBhgAA/3r/kgENBD4IggwhD/EPCRCzDG8JaATV/Wz3KPLe7D/rFOsI7CjwWfXP+noBxAbRCmoO5A5SDfwKRAaGANv6L/X98Kfu6uwC7afvCvNU9zD8SQCGA6sFKwWGA88A8/tm9sDwb+oy59XjseL04nXoA/Af/oIKtRZ2JH4ugDe+O8Q5lzJxK9scAw8G/2rttuCQ1+PPv88a0X3W1eGn7c74kwbYDkIXEhwxHQYcWxlTEnAL+wRc/4b7JPrO+e37ZwAfBQgLfQ80EoQSohLADnAKUANJ/Gz1OvCg6wHpvugC63fvQfWq+oYAmQYnC3YNIQ7kC/UIRATP/m35WfRG8BXuOe387Vjw8vNz+M/7K/+kAJIBkgBV/p76i/ZZ8XDt3ekN51zmReqD8db+OAjUFdwgiizJNL45NzdgMjop5xvAD2j+s+0L4InV0c8a0DnQfdZn4UvtDPy4CLoQYRlcHiYhHyCSGzUTzAwBBT3/pPps+PL2YPno/coDXQnwDagPzRJlErQPjgp0BNX81PZl8BTsROlv6VHqJ+9f9Hn6QwClBQ4JvwyhDN0KMge9AsP9PPn4833wg+787YnuQPFT9Dv3yPn5+0/9bv4e/WH75vjs9Qnyle8C7I7rLe6Q9AD/BwipFEMdDynHLhg1PDOFMGomkhvMDhIBCfJJ5DTY/NJ20nDUNdnn4ePr4fosBmUQQhfbGz0dmR2MGh0VQA3iBM/++vwG/OH6w/ur/g0EFAotDo8P2RBeDkUMbwgfA6r7cvT27a3rP+ua6/bsm/D+9dv8gALpBr8JDgu/CcoHPQSl/575rvO67xvuXu1L7Y/uX/H49B34Yfth/VX+nv1P/Jj6F/gK9AnwDu387cbwf/meAa0MBRe4INIpOzALNC8xcSyHIJ0VmgiY+uPrtt+J1QLTodSc2H/gdelZ9M8B0gw1FpIaABywGkgZeBVGD/UG3P9C+zD7t/xi/lsBXATdCDQOxxFNEtIPYwrQBSoB8/ts9V7vY+vv6j/tKPFT9ZH51f1PAr4GggkICWIGMQIY/gX6wfWP8bnuau0b7mvwlvO19kL5Bfuw/ID9yf3P+1r5R/b+8i7wau2I6+Tsd/Bh+qUFzRErHcUlKC08Mvk01DDMKeEamw2YACj0h+dI3aHUodVl2arhoOsQ9Tf+oAj3D0gY7RidFfEQSwyaCOIEgP7n+m36AP0SA10J/Q4QE50UbBZOF8cUzAxWAwX7wfN27nXpmec+6Nfq0vBg+T0BvgZ8CRoLOQzRCgcGcwDO+XjzRu7F68Xrau2V7t/x1PYY+/T9gP/W/nT9c/oX+Lv1wPKD7kvsM+vj64/t6/Gw+ZoHtRKsIHAofi5aMMgwii5RJpEYEwd5+0DxiOkM4UHcQdu94SbpF/YS/lwErAbFC+QOEBKzCh8F4v7o/Xr+wwAkAb4EBwfYDnIWGB3DHOcY3xF2DTgHtwC893fvB+km6NHqg/Cv9f/5K/4lBAIJWAxXC7gGPQHh+x34qfXT8sbvfO4677Tyl/ZV+kP8DPzC+jz6Tvm895b0d/E671LucO8u8VnznPP486n02/k3AcwNNheNIeokxSZqJ6cooSfEHuUQ+gFU+DTyTO+C6uLmw+P75xXvc/t6AdYDtwB6AZkD4weTBR8DSf5u/skBxQinDooShBFBE9oUJBiLF+sQbwfi/rb4HfeL9rv1kPQi85D1efoMAEkDNwPJAPr+vf3u/Un92/vU+Cn3kfZa+Cr6QvsF+uz3ePVT9Uf1kPVy9NnyX/ED8gT08vZm+Lz3u/Zy9Z31bPVl9H7zQfUS/PYJKhhRJswoCSpLJtInsyTPHN4MgP3Y7z/ssurS7cXtcO2z7tn0Sf6+BdYF2wHJ/aT7mPzo/SQABgHJAu8FagzTEtoXYRhaFwoUwBB2C3sGMQHn/J345vZ49fL28/hz/Jn+Gf8l/mj9GPyY/M/7QvtU+S/4wvj/+kn9hv5b/B77qfg79ub0zfNf8gnyKPKu86n2QvnV+wb+Gf96/uH8Evuq+Xj3cvaW9IT01PZ6/jMKSBcfIAEh0B5zGosZWhTYD0oFevwE8/fxZfHC+Lb6Gf/o/TcB1QETBG4BegAG/GH77fhO+p77N/89Ah8GPwmUCw4LRQmHB4cG7wVoBAwDbgGqALcAmAE3AmICYQHo/+79YfzP+vn5Qvqw+wD9Ev5i/pn+1v7c/9UA9AC9/27+w/w9/Mn7PfwM/Az8jPu2+8n7mPyY/Pr87vzn/M/7c/uk+rb6PPoe+tT5HflO+HP4c/pi/mICtwN6BBkDOAUTBdYGPgUlBYYCEgPDAcQEvgQTBjcEkwTcBA0GUAQlAxgBsAC9/6v/bQDbAAYB5wCrAfoCEwRDAwYDdAL0AoACkgIxApgCmALKA24E6AVoBR8F9AONAzECEgEA/yX+Ev0Y/ar87vzV/G79dP3u/U/9yfwk+2f6f/k2+bz4yPh5+AX5kfmk+ir7jPuG+6T7hvt5+zz71fph+gv62/nI+Wf5C/nh+YD8BgHDAzgFsQNiBFYFpgbQBvUFPgWBBCUEkwSNBuMGuAYlBO4EOAVKBkoEQwNVAasBgAC9AZgB1QKGAbEBkgESA08CzwHDAB4BSQH0AeIC6AMlBFADVgMlBB8F+gPoAqsBjAE2AMP/7v76/u79sf1J/eL9+vx6/Pn7bfzn+0/7f/qS+iT6Z/qY+u36mPok+vn5pPrt+hj7KvuY+9X78/v5+z38PfwY/Of7bfuq+lT5tvgk+jH+HgIxBMoDhgO+BOgFSgcgBwcHmQWZBJkDMQV1BtEHbgQrA0MDSgR6BIcESQOrAioBTwEYAZgCPQJnAc8ASQE9AfQAJABPAJgAgAAAAdsBkwMfBEoEBwTKBLcEDQQeAgACHgG3AG7/w/+T/6X/K/7b/Un9Hv3z+7z71fvV+/n68/ph+/P72/u8+3/75/pt+jz6Tvqe+sj6nvoq+9X7mPwY/Yz9W/0r/Yb8Kvwe+2H6PPkL+bb6yf4eAgcESQMlBAEFXAbQBqAGEwYrBdwDsQPiBNwFqwXuA8MD7gNKBKUDbgNoAh4C7QCGAdsB6AJPAlsBjAD6AJgAkgBDAD0AKgASAL0A9AGZA3QE1gOxAzcEbgQlBMMCSQKAASoBcwC3AJgABgAY/k/91fyq/Pn7yfvP+xj8w/tb/Nv8Pf3P/B78sPtz+6r6W/r/+TD6mPoY+xj85/xJ/Yz9pf3V/ZL9AP1J/Hn7nvrt+Tb5F/l/+k/+6AE3BLcDRASfBHsF0AVQBm8GaAUNBFADkwTEBQcGMQRQA+ICbgMxA9YDAAN6AhIBgAH0AXoD4gJbAYD/pf/D/1sAPQA9ABgANgD6AAwC+gMTBWIEjQNJA9YDegPVAisCNwKeAYAB9ABJAQwAvf7n/M/8Bvzz+4b7pPzh/CT91fxo/ST9+vzt+7b7qvq2+eH5bfrn+pL7vPuk/En9gP3J/fT9t/0x/ar8Q/zn+1X7f/rn+WD5zvlV+0n/9AH6A1YDDQR6BNwEVgXiBYEGgQWHBIYDygQ4BZ8FaAMGA8MBYgLuAcMD1QL0AlsBYgIxAsMDkgLJAWL/Yv/6/h4AhgDnAO0AYQG3AXoC0AONBGgEkwNQA4ACdAJPAs8C4QGrAUMBqwHDAND/gP1D/Dz7kvv5+zH9K/10/cP9pf7i/bf8W/uY+rz5qvkY+s/6//pJ++H7Hv0A/vT9hv1J/UP9GP2q/P/4u/T38s30r/VH83HxKffcBPcRzRQhDTgIMwsuEswOgQXnAMoFdQlKB58ESgWAA7f8i/bm91X8Vfzb+nP8+gElA7cCgAKMAqX+Hvx0/lwELAaTBvUGOQo5C4gKywm4COIEJQJ6BBQK5Ap7CGMHmQbWA0/+yfxz/Ib7Vfq3/GcBwwEk/bz4Kfd49i/1fvbm+CP5L/id+J76hfmd9U3zbPSE9sj34fnV/HP8VPkd96/3I/jI9pf2bPgk+vn5kfhU93L02PDk7b/rue09//oaii2/JoUYHRUAHLEbzA7vBy4P4BX+EXAMJwtKBFLw7N1I3EXq8vf0/GH8T/x6/nr9qvrC9x35w//1CN8QyBe9GzAXAgn6/wwCoAhqCiwJuQpADY4KwwJJ+2z3cvR+9PP5AAKNBmgFVQDz+h35nvqe+xL8XP4lApMEVgOf/rz4X/TT8ln1+frD/m7+DPxa+UH2lvOD8lny3/Ip9W35Bvx5+sH1/fBM8APxwfMp9Z32KPT38mrvS+xv6lUAyyP7OYUwbhy1FecakhzHE1gOxxHsFRUOEwRi/vj2MeVf17TYsuok/egBhvyj+JH48/gF+tv9BwXSDdoUQhikGfkXNBATBCX/VgStDXgSwA9vCXoDJP2X9sfzO/Ye+jH9mAClA7cEZwBt+fj2z/sfA6YHUQi4BvoCdP5h+kL4Qvcv95H3zvnt+9X6cva68Ubvj/B+9Kr5JPy8+v72nPSc833yrvFH8yP2//da+Gz3HPTY7jPrmuoO61LtzwGhKUs/jDUkGEwNohJ0HG0a1BdbGZgbMw2r/bv02fF049nZQt2D8b0CMQPs9zrwM+/Z9NX7+wXMDsgW8xgRFtMSdxH8DHsFGQMaC1MUkRbMDOEBefp49uXzfvYk/ckBkgC3/Z77t/xn+/P45/riA4gMoQ7dCegCHvyd93/3PPsG/zH/Z/vg9371LvOi8JXvuvHU9s/7pf5u/eb4x/LY7sbvcvRs+Jj6c/pg+H70TPFS75vtZOwh7o/wZfAh7tb+LSZdPAY11Ro6EG0XjiJKInQbIxcWFDgG5/kv9Wz09eZg3B3ciOtt+5j92vU68UDxTvn6AQgLlhBIFp0V3xLZETUUQRKOCisE3QjfD00SPgcG/R34YPdB9v/3+vztAJ/+Kvu8+m7/AABo/kn+twOOCswMlAloAx79QvkR+bD8K/8r/rD5Zvad9dP1fvZa9nj2ePcq+W37Vfs8+Ef0ovIQ85b1WvYd9s31O/Vy9EHzIvMK833xCfFS8LrvUu316DPuqBJQO49EBC+7FZsPERkNIJMdHRjIF7QQtwBf9C7xden/3OXWkd9B9NsBaP4E9onvlvHz+r4GHBEkGtsbfxblETsSwRL9DYcGdQWbCyIR3gySAZ33IvOu8Sj0NvtuAnQD4v2R+fP6Yv6l/+0AEwRjCZsMDgwOCMkCZ/yd+LD5K/6GAHr9o/jy9GXzFvRN9XL3SPhs+O34Z/r/+U73tfQQ9JD1BfgF+OD2WfX485byCfKD8kHzQfPl8g/xZO9L6z7oueozCk81okbKOcMdgw+QEiQcGB1VGuEZQROxA4r00u85687e09fZ2hvuyf5hAdX6X/I08Gb3UAPSDyobDR8wGRAUfRDlEEwPAgq4BqAHDgzkC58DQvm08H3vlvIF+70B9AQYATb7wvmA/IYAPQS4BggKswtqDKwJxAQx/cL3BfiG/JgAjf+e+a7z8e+i8Kjz7fie/Df9qvtn+3P7Hvqv9yn2ePYv+Lz3SPfH9PLzHPLA8KfvlvH38lP0ZfJ975TpOOhE5+TsLAbIM7tK3kFkJs0Rxg/bGWgd6BwxHLAXRAXA8m/on+XC3BXWrtjL6e37sQHb/C/2qPBH9oYB/Q8SHVEkYh8RGKIRjw6VDTkLGgeNBkQIrAnVApf3Ie2y6cXs5vcAA0sJBwb6/e34EvsqASwHDgqbDKENDgymBw0Ebv/z+p34DPuG/7cAjPxU9g/xTPCD8jX3yftP/s/8Z/q8+Ej4r/ej9tr2MPnt+qT7Bfo19rrxIe/G78fyBPbU9orzj+7X6l3o++ga6RTqzvhdIWVGC0uGNtUb3w8iE88ZHx0yIGId2Asv9JPljOLI3y7YA9Ye4OXyDP9uAQb+I/cj9dX71whCGS0moSexH0cVRg0aC+oKjgifBcMD+gOrAVX6cfA46sro/OzI9w0GZA7wCu4BMPw9/Q0ERQuuDyIRZQ8zCpkE1QAk/WD5Kfb+9lX6Evw8+vL1WfE6767xo/jD/0kDvQK9/4z8kvrm+Dz4Hfkk+h76nvkR+Bz1XvBk7K3rj+938uvzePPx8KHsmumy6JrouOlH9CkXrkPoU81FiSn+FEAQ+BWLGM8amBqnDS/3MebC4ELdOtV20MzWsulP/LIFDQfPAVv7HvyTBUcVdiWcK+Qm2xxAEfYJLAclBDYA1fzn/En+KvuW82Prvubc5vbu1fxkC64RfRHeCxMGYgUmCF4Lmw8oEi4PYwgGAh780/W08dPx+PR/+KT5Tvgd9ln03/OX9gz8VQKNBe4EJQJc/6r7l/gd9xH4wvm8+gv6zvdT9NLvIe0V7dLvqPHf8k3ya/Cm63Xo9eYy6azqovBKBwsz6FHbUKs6ICFNE0ESThXNFOAWrhBD/hTqpN9O3bvYDtFj0KndOvJ6Ag4MvwxKByUCyQIODGcbTCjrKV0j1Bg0DnUHMQI3/Qv4CvWQ9dT3O/eQ8sXtRerv6k3yaP9LDHITTRQiEzoQrQ3LC44LIQw/DKAJhwR6/236EPT27ZTsD/FB9rD5sPqk+m35yPge+kP+mAI4BQEF4gOMAmEAHvxI+B32EPby9qP4Qvrb+bv2FfGI7KzqXu2P8InxIfAz7ZTq0OiH6AjqRerA7+gF/i9oUaBW/kecLckaUg+JDhUMJw52Ctv7Juue4FrdA9c4zg3NxtdX7AYAuhCqF0EUZA1jCFIMyBZdIq0mAiSGHP4RuAh0/2b3G/Ct60XsKPC79FT2I/Uu8kbv3/Iw/DIJrhJtF1QYThhmF6ISgw3RCD4FhgFo/3T+bfyd933w1+pw6xvw7PVh+gD+w/+r/5P/wwD0AjcDKwKeAdUB7gFnAMn81Pij9Xj0FvVC+ML64fkc9V7wJ+127K3txu7Y7ifuiOzF6yHtJ++D7vzsfOtn+kogQUpLWgZTkzo+ITQQ8AosCN0HJQMF+rTw4d+F3jDewNSHyybN1d9z+hARPR6THXMYIhJ9DboQDBuBIh8gcxrNEqcKyQH59yftt+M34izoZfIF+m37pPkQ9jX2nvsfBg8QqhfVGhIbthpnGuwWlQ4fBGf7i/Zy9vP45vhH9Cfu/Oog7PHwzvfP/s8C7gMHBQEHJgj7BnoDbv/o/db+EgCx/4b9f/ny9KLyBPTO9kL4wveQ9QrzrvD27pvuRu7e7tjure4P8Cjzx/KJ7xvtRewU6+b2Ex5TRtFXpVMOPpQlHBJ7COEAMf+G/ZD15Owm6Q7qW+Mh1dbL/NAG4fj0cA2sIMUlhx54E8YOOxLIFqkWNRVHFVMTfQ2lBLb7lfA95cjfgOPk7R341f23/rH9sf1PAOIFuQuoEaMVCxiYGrYa+RdMD+gEyPov9Kjzu/Uj+Bf3rvNS8XfxNPOj9hj71v49AgcFPgh1CT4H1QJJ/tX7Nvyx/Qb/mf6w/Lb5L/Yj9X71Cvad9XL0IvRH9Ef0/vLr717t8Os57VLvZfIQ9N/y6/Eb8Ajt9uvH9YAejkAMUHNN6TvkKP8WXg7KBM8AmPoo8NfqfO1e75/lENg/0LnTVeDx8I4IwxuBIOcbnRSEFMgWrxS6ENMQihG6D8wMsgfK/2vzXOVn4b7m5O8F9/T9YgKGAWEB2wEsB1cLGw9xEIoUHho3GzUWRg29AwX6IvMK8wX3MPqw+Sn3Tvc79zX3wfbC+O37hv8ZBG8HJgoaCHoCYf0k+8/62/rC+jz7GPtt+Wz3tfYR9x33u/ap9gv31Pf+9U3zRvEh8JvuTO4o8BzxwPGi8FLw3u727l7sLOtZ9bgfbzxaSbpGLDyELW4dFhSsCdwDW/2i8oLsKPKi8qXkLtY/0P3U897w7GgCZhRbGQUXChTaFwUatRT9DQ8Q7BPgEyIQWAyrBS/4FOvE5/zra/Fl88f1NvoY/jYAJQIaB4gLoQxwDTsUpBraF4kQGgj0Ar391Pmq+bz5mPp/+JH3SPph+0j5CvZz+Iz96AGNBDEFNwP0/ZH4Wvap+Lb6Qvok+rz7AP6l/TD8pPth+3P4TvZU99r4VPnB9bvzffH375XuLeyJ7gnuxu4b7oPwj/FA8CHtIOxB9SUdwjOnQO89KjVNLh8fzxqoEXAKYgPB9nHz7fln+fvoQdr80uXWQt/v6Rj8oAnFDJsNLQ6FFnkXuhAbDGoOEBT+FXgUQRJdCkP89/FA8Wz0VPaW89P01PkA/fr/hgJEBQcG0AQUCokQLxRrEKAJ7wXQAwYCVQAeAFUA6P2G/Iz9K/9J/Kn3lvVO+B78n/6MAHMAbv4L+gv4MPkk+vn4Tvd5+WH9sf4M/k/9kvzI+i/4Hfgw+lX6tvhs9i/2YPZ+9DTyOvGJ8JXure3F7X3wp+6V7SbrxetY7vQCByFrKgw3hCyjMeQoYyKGHPERrg4ZBRL9AAKNAyT6xOhU3jXczt7P4cXp2viG/9UCnwVqDM0Q+waCCaAIcRG7FKMXnRXIFmoLJQTi/UP/mPx/91P0AP03/x4BYQEwAKsBgP5VAEoEOAdvCIcHGgjkCjIIYgKN/0P9T/zD++f8jf+S/fP7GPuw+3r9w/yA/L39N/6G/oz9Ev0Y+8H2X/TB9DX3kfiR+Tz7w/zz+577Hvq2+qr5SPkk+vn6T/yF+dr3u/XT84nxZfBe8Fnx5O9l8InvTPDM77rvsPi0DosYyyOyIAIluSSrHoYceBT4El4OYgbXBxoKYgY8+qfvM+ym6m/q0eui8s73pPpV/KQA+wZWBEkAsQGHBtgLGw13DsAPug1dCXsHXQcICcQEYQH0BJMGIAofBj4FkgKGABgCtwDuAW0AW/1P/Qz9kv6S+9v55/kR+kP9q/8AAb0AGAA9ALH/jADK/9b+H/50/UP9c/xP+/n3TfUc9dr1Wvcp+LD5Hvs8+yT7W/qk+ov5Kfij+O35Yfv5+mf6Qvod+R34cvfC9533zvcF99r38/jU9x335vav9rv2fvbb+xoHcQ4vE68UKRUFGXIUnBI6ELoOug2tCi0KIQxXCIYDN/5V+yT65vdy90L6nvwG/p//SQHPAp4BBv9zAEkBMQMfBNwEygagBuIEUAQxA5kDTwJ6BFEJpwtkDBoKSwk+B40DVQDh/Of7GPpn+YX6MPsM+534C/gp+ML4sPnV+vr8dP5i/m7+Bv5P/U/7QvrI+QX6DPvz+zb8W/0f/tv9K/+A/Qz+UP8T/9z+egBc/tv9z/uk+jD7Bfmw+vn6w/xn+xL+XP43/bH+XP7P/mEAev8AAYb/jAEZA4wBaAIGAb39jf+Z/tv8vf9h/Pr/GP4SASUDGgdpBiAKVwk/CS0KdQlXCUsInwU+Bg0GGQUZBSsEdALnALcAPQASAG4Bq/9hAIYAAAF6AqQBmAAAAJ4A6P+3/lUA9P9hAHoASQLoA40D6AMrA8MCqwKrAm4BGf9W/+L96P56/hL9JPwF+x78PPt0/R78z/6G/zH/7v8M/9UApf7P+1z+Sf8r/fT+efqw+5782/xP+1X+Vv+r/kMAAAKf/6QAjAGMAMn+DAC9/tsApAHDAc/+N/90/gz/bv7PAE8ASfvPAR4CNgDb/YD/5wB6/4D90P8MApgBwwNVAMr/twEGAZICEgEM/yX/4gLu/ob+ngG9AW38QwLJAsMBHwQ9As/+VgToBID+MQK9/+f86P1hASr8vf7W/u0Aev8xAnoEN/2MADEBTwKS/kP/YQCZ/kn+Ev7i/k8CHv23AecATwH6/BIA9ABtAJP/twKl/fT/pQKx/j0Bmf4e/IYCDP/0/W7+sf/D/ckBhv/bAFD/QwLD/zH/MQUr/hj9hwRc/oD/SQGxA0P+9PyYAWIE4fqwAPQBf/uTBD39TwGx/UMBBgE9/4D/+gEM/bcBGP4+Bzz56AFWBuH6n/4gB+H6AP7oA3oBYv+T/6wGyfvi/ysE1QEGAdsADP8k/av+UP8M/1X7sf/u/0/8gP+S/qYGvPsfBOL/vQAMAbEBcwAlA738UP8fBDz69P6GAQwDNvniAnoAz/76Akn/8/v7B8kAvfyfA58EvPnDASUD5wBP/M/+MQOSAiP5AP8rA9z+GP0GA6v+WwJPAcj41QLb/JgCn/5V/lX+ygPVACv9dP8fA3r99P+qABL+GAIG/5MDt/2YAGj95wASAO0AMf4eAZL9ZwEABDz64v1JAkMB//if/4ABWwHh+2H8DALcAwD9q/6GAlb/vf+G/XUFQ/2HBAwCaAMY+mkGegE3/kn+aARV/isDmf4kAKsCmP3VAPr/RAUw/JIA1fs9ATECngBg94ADRAXD/U/8aAMMACT9UARJAU/7PQDXBzz6nvqNBasCW/0wAOL+vgUp98oDPQGAAYz7YgR6/h8Dkv0HBnn7jP2rBcP/ev6r/0/+BgIGADf9egKl/Yb/JAH6/kn/+v23BP/6dAEeAhgByfwlAk8CBv0AATEBegF0AX/7gQTtAGf7Vv/c/4b/bgHt+WH9JQZ6/Of56AOe+40HvPmAA5L+DP8MAJ769Qfs9KsE6P71BnL3AQduAZ78Tvg+CPT99P29ATH9MAB/+7H9WwK3A238dARJ/Un9sQKMAPr8KfcfBZIAyQDo/4D99AKx/lUAsf4A/5gCNvuf/5gBwwDu/kn9aP49AXr8GP0r/9b+wwD0/7EBcwDD/wcF1PmxAlsCqvziBDv3JQSwANv5T/3KA1X9GP1DAJoKr/YtClT42wBi/kQFtvnPAY4Ji/gsCCP5bgUc9PoCZ/z7BZ76bgSZ/m4Fvf2G/qsCE/+x/qUEvf3P/uID7QDuA3n4gQUK9gEHq/4fA8731gaw/MoEEvuAAiv+UP9pBp33sgVDAYgI7fm4CM/82vgl/rcESf5h/Pr+qvqNBT39KgDPATb7sPk4Bov6DAGr/b0Dz/2lAvT8Sf8GA7cCVv/uAe4BAAJ0/44JmPyAAM/6Q/+NAyv/Yf36/u37WwLPAh78BwbJ+5IBMPruBG7/DALg+GIEvQExAm37KwLQ/5P/BgFPAFwDN/83Ai0LL/gsCR4AAAE19LkK6P10A8j5vgWY/b0Dyv88+l4NC/n/+Z8FsABI9z0Bt/4TBlr3pgalBfoDdAL5+8/7pf3m+AD9LAaG/VUCGQPP/YYDEfp6/+z34v90ApIBDQTC+nsHPfxb/a/33P/c/kMB9AHi/nUJbv+G/h4ASf/n+8L5mQYY/qQAmAIrAlT5pgjV++f6EgKe+70CegAGAE8CEvsZA0/+i/pLDID+E//D++4ErAiY+vT9dP57B/T8YQHJAIb/t/9i//P40APhAGf8EgLI+oEEw/4q/BgA+fs9Am38TwAZ/9wDqwP6A43/kgDDAXL1dP3c/2L+Sf7VAmEBjQbb+z0BgP9V/RIAkgDiAkMDPf30AD0EKgDPAZ//efjn+0MDdP1VAL4FJQXuAkkCPghzAEL4W/x6AAz74v0ZBr4GmPzuAgD+8vV/+3T+1v/0A579DgslBPUHkwP0A4X5nvoMAWz4KwN0/9cJvgc2+zX3NwEYAKLzVf3oAV0KBgDvBXoCegLV/YnwKvyM/iUFgPwNB48MgQdP/Nv7PgUJ8lT3PQGAA27/PQLJ/EQEf/qS/ZL9sf/c/2z31weA/voDkwMqAKT5Q/8MALcBZ/lP/CAJbfpWBUL7MQH0Amf81v9zALf8MQMGARL7SQF0/1UBsQHV/KwGpAGZBQb8GAKx/+b2HwXc/gwAhgE3/vr8aP02+cj2MQFW//QApPlkDAYB5vUZBu4CTvZD/iAJo/fV/TgG8/lu/fQASgf6AtAEW/3I+iQAJP22+8P+jAINBWcBaAQ9A+L9Effg+Jzyw/9VAPAMRg05DNwEhfmR+Mzxnfb+8pICbwgPDUEU9w0ABDv2nfeE9BD0Yfo+B9cH7whXCyX+bv1y9sH0L/Xy84YBGQRxDm8GzwGx/8L6wfYW9MP+pQQNBcoFDw6xBIEFDP8o8rcC9PwG/u4B1gQNBvoDt/+Y+6r7+fdu/2L+jgklBYAByQFh/L3+nvmwAKsEvQENBg0FVftD/FT3N/62+4v6JQPjBnsFwwM2APT8vQDb+u78WwC3/54BjQOkAUkBKvz0/bD8l/ji/g0EJQI4BjEDHgH6AeL9aP/i/ioBYgIYAbcDbv/c/1UAK/49AUMAgP63A5gBK/43A5n+zwCG//QA3P8MAdsAyQBiAob/YQH6Adb/T/5VAEn+9P6r/s/+DADc/5gBAALPAbEBegFzAJP/cwBDAMkBmAGAAjcCwwGSAJP/JACf//T/4v+eAL0AvQHPALcBPQEeAPQATwEeAAYBQwDVAFsA9P8AAAwAKgDPAL0AkgDtAOcAYQCeAGEAmADPAAwAegAAAIAANgBhAJIAkgCSAB4ASQBPADYAcwA2AE8AbQASABIAHgA9AOj/VQDK//T/6P/W/+7/7v8SANb/PQAeAPr/6P/o/wYAJAAGAMP/DAA9APr/k/8GAB4Ayv/K/9z/6P/0/wYA6P/u/wYA+v/6/+j/AAD0/+L/4v8GAAwA0P/K//T/4v/i/9D/1v/u/wwA+v8AAOL/1v8MAMP/w/8MAPr/1v/u/yQA6P/Q/wYA1v/Q/wAA9P/D/wwA7v/6/9z/6P/c//T/4v/0//T/7v/Q//T/+v/W/+j/9P/c/wAA7v/c/+j/+v/u/8r/0P8AANz/1v8AAOj/1v/6//r/1v/c/wwA7v/i//T/9P/c/+7/4v/0/+7/6P/6//r/0P/6//r/+v/i/+7/+v/0//T/6P/o/wwA9P/o/+j/7v/u/wAAAAASAAAABgAGAO7/9P/c//T/+v/u//T/EgDo/wAADADo/+7/9P/0/wAA7v/6//T/9P/o//T/7v/0/+7/7v/6/wYAAADi/wAA7v/u/+7/6P8AAO7/+v/6/+7/9P8AAAYAAAD0/+j/9P/i/+L/9P/u//T/9P/0//r/6P/W/+7/7v/o/+7/AAAAAOL/AAD0/+j/7v/W/9z/1v/o/+7/3P/u//T/9P/0/9z/4v/u/+j/3P/0/wAA6P/0//T/7v/o/+7/7v/u/+7/7v/0//T/7v/0//r/DADo/+j/7v/u//T/AAD6//r/7v8GAAwAAAAAAAYA7v/0/+L/6P8AAPr/AAD6/wAA7v8GAPT/6P/0//T/9P/0//r/AAAGAPT/9P/u/wYA6P8AAPT/6P/u/+L/6P/0/+7/AAAMAAYAAAD6/wYA6P/0/wAAAADi/wAA+v8GAAYA9P/0/+7/7v/u//T/7v/0/wAA9P8GAAYABgDu/wYA7v/0//T/7v/6//T/9P8GAAAA+v8SAAAABgAGAAAA7v/6/wYAEgAMAAYADAAGAAYADAAYAAAAAAAGAAAABgAGABgABgAkAB4AAAAMAAAABgD0/wYADAAGADAAGAAwACQADAAAAPT/BgD6/wAABgAAAAYABgAGAAYADAAAAPr/AADi/wAA+v8AAAAAEgASAPr/BgD6/wAABgD6/wAA6P8AAPT/+v8AAAYA+v8AAAAA9P/6/wAA6P/u/+7/6P/6/wAA+v8AAAYABgDu//T/+v/0/wAA9P/6/+7/9P/0/+7/9P/u//T/7v/o//T/7v/6/wAA6P8AAPr/BgD6/+j/7v/o//T/6P/0//r/7v/6/wYA6P/0/+7/9P/u//T/4v/u//T/9P/6//T/7v/6/+7/7v/u/+7/9P/u/wAAEgAGAAYAAAD0/+7/7v/u/+j/4v/u/wAAAAAMAAwADAAGAPr/9P/6/+j/+v/u/+L/1v8GAD0ANgAAAND/t//W//T/DAAAAAAAJAAqADAAGADo/9z/4v8GAAwADAAMAAYABgAMAPr/6P/u//T/AAAMAAAADAD6//T/9P/0//T/6P8GAPT/BgAGAAwA7v/o/+j/7v/u/+j/BgD0/wAADAAGAAAA7v/0//T/7v/0/+7/+v8GAAYADAAAAAYA9P/6//T/7v8AAAAABgAGAAwADAAMAAYA+v8SAPT/+v8AAPr/BgAAAPr/DAAAAPT/AADu/wYA9P/0//r/AADu/wAA+v8AAPT/+v/6/wYA+v/6/wAA6P8GAPr/6P/u/9z/+v8AAO7/7v/o//T/9P8GAAAADAASAAwAJAA2AAwABgASAOL/1v/u/9D/yv/u/+7/+v8GABIA9P/o/wAANgASAAwABgAwABIABgAMAAwA9P8AABIAAAD0/wwADAAMABIADAD6/wAABgAGAAYA7v/0/wwABgAGAAAA+v/6/+7/9P/u/+7/9P8AAPr/AAD6/wwAAAD0//T/EgAAAPr/DAD0/xIA+v8AAPT/+v8AAPT/7v/o//T/9P/6//T/AAAMAPr/EgD0/zAADAAeAB4AJAAYABgAKgAGAEMAHgAkAB4ABgAGAPT/GAAGAPr/BgAAAAYAAAASAB4AKgAeADYANgA2ADYANgA2AEkAegCkANsA+gDnAL0AkgBzACoA+v+l/2j/Pf8G/+L+7v76/vT+H/9J/2L/jf/Q/9b/GAA2AEMAVQBtAFUAYQBbAEMAKgAMAPT/0P+9/8P/t/+9/9D/1v/W/+L/BgASAAwABgAGABgANgA2ADYANgAeADAAGAAeAAwABgD6/+7/+v8AAAAABgAqACoAHgAkADYAKgAqAAAADAAAAAYAAAASAPr/BgASAAYAEgAGAAwA9P8MAPr/BgAMAAwAAAAMAPr/9P/0/wAA9P/o//T/9P/0/+7/JAA9ABgAKgAkABIAEgAYABIA+v8GAAwABgAMABgADAAeABgAEgAGAAYADAAMABIAHgAwACQANgA2ADYAKgASABgABgD6//r/DAAMAAYAHgAYADAAHgAkACQABgASAAAADAD6/wYADAAMAAwADAAMAAYABgAMAPT/+v8MAPT/EgAGACoAJAAMACQAEgAMAAwADAAAAAwADAAYABIAGAAkADAAGAASAB4ADAAGAAwAEgAeAAYAEgAqACoAGAAYAB4ADAAAAAYABgAGAAwABgAGABIAMAAeABIADAD6/wwADAAMAAYAAAAGAAwABgAMABgA+v8AAAwAAAD6/wwAKgAGAAwABgAGAAYADAAGAAwADAAGAAwA+v8GAAwADAAMAAwAEgAMABIADAAGABIAEgAYABgAGAASABIABgAGAAYABgAGABIAAAAMAPr/HgAeACoAEgAMAB4ADAAGAAwADAAGAAwADAAGAAYAGAAGAAwADAASAAYABgAAAB4ADAASABIABgASABIADAD6/+j/AAAGAAYAEgAMAAwADAASABIAEgAMAAwADAAGAAAA7v8AABIA+v8GAAYAAAAMAPr/AAD6/wAAAAAAAAwAAAAMAAYABgAMAAAADAD0//T/7v8AAAYADAAMAPr/+v8wADYAJAAqAAYADAAYAAwAGAASAAwADAAAAAwABgAAAAwA9P/0/x4AGAAeAAwAEgAwADYAKgAwABgAMAA2ABIADAD6/xIAKgAkAAYANgAMACQAKgAGABgAEgAYACoAKgAMADYAEgASABgAMAAeABgADAAMAAwADAAMAAYABgAMAAYAEgASAAYAEgAMAAwAAAASABgAAAASAPr/9P8AAPr/BgD0//T/7v8AAPr/7v/0/wYA+v/0//r/BgD6/wAA+v/6/wAA9P/6/wAA9P/6/+7/9P/0//T/7v8MAAYAAAAAAPr/DAAMABIABgAYABIADAAGABgAMAAGAAwAJAA9ACoAGAAwAB4AEgAwAAAAKgBVAFsBGAFbARIAbQBPAJP/q//W/+j/k/9i/8P/BgDu/20AVQBnAKQAZwBVAGEANgDc/7f/BgASAMr/6P8wAOL/4v8eAB4AEgAqAEkABgAGAB4AHgASAAYAGAAAAO7/3P/Q/6v/mf+9/7f/t//Q/9b/0P/c/+7/3P/0/wwAAADi//T/7v/c/9z/3P/o/+L/3P/i//T/AAAMAAAAAAA2ABgAJAAwACoAPQD6/xIAAADc/9D/4v8AABgAJAAeAD0APQAwAB4AHgA2ADAAKgAkADAAMAAAABgAEgAYAAYAHgAYADAAKgA9ADAAQwBVAE8ANgBPAE8APQA9AE8AVQBbAE8ANgBDAD0AQwA9ADYATwBDADYASQBVAEMAMAA9ACQAHgAqACQAMAAqACQANgA2ADYAPQAqAAwADAAGAAYABgAYACoAKgAYAO7/+v/i/9z/vf/K/8P/k/+l/5n/mf/0/zcCTwI9AID/t/4A/r39Ev5c/gb/gP/W/9b/q/8x/wD/gP49/mj+dP69/iv/n//i/x4AbQCkAJIAcwAwAEMAMADi/9D/DAAeAEkAngDVAMkA5wAeASQBGAEeASoBJAE9AUkBZwFhAYABgAFuAYwBegFbAVsBWwFJAR4BHgEqASQBDAEGAdsAyQC3AJ4AkgCYAIAAcwA9ALcASQGYACoAKgAAAND/1v+Z/43/jf+N/2j/Sf8l/xn/z/5V/vr9yf0A/iv+K/76/dX9Mf56/m7+N/5P/oz+z/7W/m7++v3i/UP+Yv6x/r3+z/7i/s/+mf5c/u79DP5o/sn+6P76/uj+t/50/kP+Q/6l/ob/gAAqAZ4BvQFDAm4DbgRiBOIDaAN0A9wDtwOlA58DwwOTA/oCDAK3Ab0BzwH0AcMBYQG9AIAAgACAADAA1v96/27/Sf8T//r+Jf+Z/6X/q/9i/2L/t/89AIwAkgDJABIBbgFuAZ4BtwHuAWICDAJhAU8AHgA2AFUAJACf/wD/n/49/uj91f30/Vz+jP5o/u79hv2l/Tf+bv5P/gD+Ev5o/rH+9P4f/x//Mf8x/wD/+v4M/zH/Pf8M/5/+Pf4x/h/+N/7o/ej9pf2x/W79Yf03/TH9N/0S/eH8w/xP/cP+pAG3BBkG+wT6AdsA2wFiBNAGbwf1BoEFXANJATAA1QC3AoEEsQR6Aj0A+v5D/+cAtwGeAZgAhv/u/mL+Bv50/mj/YQAeAFz/4v50/+0AtwGxAdsAegASAckBWwKAAjEC9AHVAckB7gEeAvQCUAPcAlUB0P9J//r/+gDhAND/Yv5J/e78Bv1J/bH9K/4x/nT9hvw9/Pr8bv5o/1D/hv4M/mL+3P43/3T/XP9u/1b/7v6Z/m7+Bv9u/2L/t/5D/nT+yf6f/r39W/1b/aX9Sf3t+wz7bfrt+gz74fpb+uf5//kA/EkBuAZEB0MCEv10/qUFxQzeDcsJPgXPAnQCJQNKBaYHuAgTBnQBVf1V/SoBOAWrBfQBpf1z+8P8Sf9tAIb/hv4A/gb+q/2G/YD+YQBVAW0Aev/K/3QBKwISAkMBPQEeAm4DSQMYAioBSQFuAuICQwLJARICtwGwALf+w/4YAJIBAAGG/kP8EvzV/RP/n/43/W38evxV/Z797v2x/pP/bv8G/8/+E/82ALcA6P8G/xP/dP8YAI3/vf5c/vT+bv9J/27+Ev5D/nT+H/50/UP9Q/2x/QD9bfyS+7z7c/yw/Pn7TvqL+eH6+v9pBm8HPQJh+gz7GQRkDesOXQcf/0/+AAM+BnsH6AUNBAYCbgE9AJIAbgKlA2gC3P8Z/5P/HgGGAJ/+9PyM/vQAngEf/wD8hvuS/noCjAJhAYb/n/9PAFUB4QHoAlwDnwJhAW0AdAHJAtwDpQI9AXoADAHPAW4BdAFDATYA9P7P/TH/pABtAFz+T/we/Iz91v4A/579nvzJ/O79Q//0/gD/z/6T/8r/ev+l//r/3P+Z/zf/K/90/0n/DP8Y/gD+Yv5o/0P/K/4Y/ef8mP3o/av9DP0q/Of7jPs9/Lb7nvsM+zD7NvsS+7D8sQNpCAEGAP5I+bcC9gwiEkUJaP96/e4D3QmgCPQDzwA9AYwBpAG3/5gBWwErArf/AP+9/yoAjf+Y/ST9H/4GAc8Asf7V+jD8K/8lA1sC7v/u/tD/+gE9AlsCWwLoApgCqwKeAc8BDAI3A6UC4QE9AVUBNwH6AM8ASQGqAPr+Ev4x/r3/sf+Z/hj9kvwA/Rj+bv7i/bf87vzJ/bf+3P7D/pn/yv/6/4b/0P9bAJ4AZwAwANb/Yv9D/1z/w/50/uj+Bv9V/s/9vf3u/fr9nv0r/b38sPwq/PP71fs8+1v7//rP+1v7kvrI+eH5hv7EBwgJ3ANa+e35dQYcEfcRnwXu/k8AMgi5CTIGYgIlAxkEQwO9/wD+DAHDAYwCMf8l/yv/jf8S/fP7vfz6/8MBn/+M+7D5Yf3bABkDhgBD/5//gAHbAb0BmAFJA1AEnwN6AqsBTwLoAmgDkgKMAm4C4QGkAID/gP8GAj0DKgHu/HP6ev0SAWcBPf4S++f6Hv1c/uj95/xJ/dv9Sf7V/eL9gP+kAPoA3P96/4YAHgFzAHT/sf+kAPoA1v8x/ob9sf6x/9b/Yv5V/W79sf23/RL9nvzn/Hr8tvuw+s/6//qG+yr71foF+qT5NvpJ+9wCPwmmBzAAl/eT/6cLbBNkDYYCvf+3BPYJuAc9BDcDEwXuA9UBw/1W/24BPQIxAZL+Mf/6/tX9YfsA/Oj9WwGGACv9sPnb+s/+jAEGAob/ev9PAKQBtwGkAYwCVgQZBCUDkgK9AlADQwOrAqUCaAN6AwACPQDu/gYA1QElA8MBEv4e+3P73P7DAIYAjP0S+3P6yfvD/RP/+v7D/bD85/yA/vT/sABnACQA+v/PABgBcwDK/73/YQDJAD0ABv8f/h/+3P50/wD/Pf6S/ST99Py9/GH8sPxJ/Iz7tvoY+tX68/rP+pj67fn/+Yv5Kvo8+z0D/AoaCU8AL/cr/zMNOxU0D3QDev89BIEIhwf7Bb4GaQbbAU/+pPwlAhMEVQJJ/iT9vf+wACT95/nh+ob+yQESAEn8Efk2+yv+GAHJAe0AegA2AMr/gABPArcEygVuA/QB+gGrA3oEmQQ9A5IC6AIxA24CHgHo/+L/VQEAArcBBv8M/H/7Pf2l/5gASf5V+zD6SfuA/db+yf63/fr8Hv0G/oD/WwD0AHoA7v8eAL0ADAHnADAA7v9PAFsAt/+x/mj+hv70/rf+N/6e/cn8kvyG/Db8T/yY+2H7Hvow+p75Qvqq+k767fkq+QX5Nvkw+oABvwshDDcEcvcM/PYJVBbsE90H1QEGA/sGXAYsB+MIIAqfAh79vPoSAY0F3ALb/Wf7+v5PAOL9Wvnn+UP89P8A/3r9MPsM+yT8kv1hAAACtwKMAYD/n/50AeIEYwdEBbcCBgIxA4cExAQlBHoEKwQMA0kBngDhAe4BMQHc/qX/EgGGAO784fmG+zH/zwAG/uH62/mw++H8z/03/tz+9P6r/R79Mf4YAZ8C1QHi/1b/sADoAUMBKgASAIwAegAl/5/+1v5c/9b+z/16/av9sf2G/Az7vPpz+yr8jPu8+Qv5QvlI+kL6SPmF+PP4WvmF+YX61gMIDEwNzwFy9nT96gvtGNMSsgeGAugFvga+BSYHRQxkDMMB//nO+T0ExAZJArz6YfrP/r3/MPxn+ST6HvyS/dv79Pz0/Hr9pPsS+2H9wwFWBB8D1v90/mcAUATdBsoFsQSxA6UDgAOZA4cEuAXKBAwDsQG9AfoBBgGx/xn/w/+x//r+Q/5V/pL9W/yw+uf7XP4f/wb+MPvC+kP8Pf5c/7H/pf+f/yv/Jf8AAJgBmAIYAh4BNgBnADcBwwAMAID/n/8AAFz/gP7o/Qb+1f1J/e78GP1o/ef8KvsY+hH6c/tb/CT8W/oX+dv5kfnz+XP5Nvr/+tv9egQgCVcJ6P+Y+iX/5AprEncOVwe+BSYHsQSxAQYDLQutDQ0GBvxC+2ICMQW9Ae78n/5PAmcAz/oX+Qb8bv89/RH6bftJ/20A7vzO+Sr7ev/uAb0BHgGkAZ4BBgE2AG4BbgToBVYFSQPJAQwCAANcAz0DmAJuAisCmAF6AEP/sf4M/8r/k/+3/kP+H/7o/Qb91fvb+wD9Pf5c/p79Mf1J/bH9Bv7J/j0AegGkAbcA6P9VAE8B9AG9AYwBbgFJAQwBJAA9/2L/BgAYAEn/Bv8f/3r+aP1V/Yz9vf2x/av9N/1n/Of7yfuY/Df97vyk/G38f/sF++36Qvv5+1X97QBiBN0GvQPP/u787QCgB/wJ+weZBfsFgQWxAqX/ngF7BukIKwUkABIA6AIABIAAz/0l/3QCqwLi/2j9t/7o//r9PPtV+4b/PQJDAcP9T/yl/Xr/pf+3/yQBvQKlApgAN//6/wACnwL0AXoB6AFbAu4B1QA2AHMAyQDhAMMAzwCMAHT/N/7b/Xr+N/8A/6v+sf6r/nr+2/3i/Vz+7v4G/zf/+v+YAIAAmf8M/8P/BgEeAckA+gBuATEBNgC9/zYAVQFhAZ4AJABhADYAt/8r/zf/w//Q/xn/w/7i/u7+t/4M/rH9AP5i/u79T/36/FX9jP2A/Tf9w/zh/OH81fxn/E/8NvyY/O7+9AHQBJkEEgEr/p/+vQKZBm8HUAZoBQ0FkwMSAXoAQwO4Br4GPQPJAFsB3AKSAioAH/+AAM8BdAHD/9z+N/+3/hL98/tD/e7/QwE2AAz+N/2l/Vz+Sf+kAL0BGAI3AQAA0P9tAIYBtwHuATcCHgLPATEBqgCSAHoAQwBbAPoAegHJAAb/gP1b/Yb+Yv+r/27/+v6Z/kn+Pf7o/nT/sf+N/5//kgAxATcBWwDc/yQAwwBVAb0BvQGeAaoAt/+A/0MAgAGGAZIA0P+G/0n/t/6S/gb/Pf+M/hj+7v1J/kn+z/1b/W79hv3u/XT+yf29/D38DPzz+zb84fzb/En87fse/H/7Tvq2+iT8hv30/40DGgdKB1UC1f0Y/WgD0QqtDI4J7wVQBHoDqwHtACsEYwg4CVwEsf83/rcAHgKSAO7+N/+SAJIAvf7b/Of8evwk/Mn7aP3D/88At/+A/UP8sPx6/tsA7gKlA/QCwwCN/9D/GAG9AuID9ANiAwwC+gCGAIwAMQFPAR4BwwB6ANb/z/4l/rH91f1D/k/+kv4T/8/+AP70/Mn8Sf5VAMkB9AHtAMr/Jf/c/0kBzwJuA/QC4QH0AIwA+gB6AeEBzwFJAbcAJAASABIAsf8l/9z+q/63/r3+DP5u/e78vfzn/J79Q/5i/qX94fy3/OH8Hv10/TH9pPw2/KT7MPsY+zb78/uG/Lb7Z/sF+1v7efvD+zb8H/9WBHwJ5ArWBJ/+pf2AA+QKiQ0OC/UIBwdWBPQApf+NAwgJSwrcBEn/K/0A/x4AUP9i/jH/Sf+M/gz98/sq/Ib7efvb+8/9Bv+9/yv/mf6S/fr8yf3JABME9ASxAxIBSQDnAMkB4gKrBHUFOAW3Am0A3P/VAPoBGAK3Ac8ANgAM/0n+z/2Y/Zj9Jf69/e7+7v7b/c/9sf3i/XT/BgG3AfQBAAGN/3T/1QBPAkMDAAMrAowBAAGkAAwBmAESAuEB7QBbAAAA7v/W/2L/z/6r/j3+N/4G/qv9Ev1n/FX8nvwM/TH9GP3J/FX82/tn+9X7T/w9/Mn7qvu2+0n8Bvx/+8j6JPvJ+6T7hvvz+pL7DP5oBBQKGw0HCOcAYv5bAoIKrg7GDlgNLQsTBsMAyf36At0JjwwBB0kA9Pzu/G799PxJ/tb/JABu/cL6//hI+lv6KvvP+8P8dP3o/cn+z/70/Z78DP4AAW4E4gRcBDcD1QLhAT0BegK+BQcIVwc3BHQBhgBtAIABKwK9AiUCngCM/nr9qvw9/Nv8yf4GAEn/K/1t+wb8+vwM/s/+vf/DAG0AK//W/sr/SQHDAdsBKwJ0Ak8CmAEkAR4BTwFbAVsBZwExATAAGf+A/iX+K/5D/rH+yf4l/tX88/sS/L38GP0M/Sv9Bv2M/KT7hvvV+xL8DPyY+9v7bfyS/Gf8kvuM+3/7kvu8+zb84fvz+5j8egLLCOQNywq3AiX/QwHXCPYMxg3GDV4NJgmSAhj9twAUCDkMRAjhAdb+7v2S/dv74fz6/nMA+v1/+xH5EfpC+uf6T/sk+/P74fy3/r3+ev0Y/FX9q//uAR4CaAN6BCsE9AHW/zcBaASsBlAG0AS9A7ECBgFnAD0BEgOTA08CkgA9/z3+jP2M/U/+Bv8r//T+Q/6e/b384fwM/o3/NgDW/9D/6P8SAJn/pf/DAMkB1QFDAZ4A9ADhAGEANgBhANUAtwAwAND/ev/W/oD+gP6M/oz+Vf43/vT9aP23/Lf8GP1P/RL95/z6/Pr8Yfy8+8P7T/x6/G38hvzJ/Ab9evz5+xL8mPzb/Mn8PfxD/G38aP6rBLIJjww+B6QAk/8ZAzIJOQtqDPANvwu4BYD+AP6fBCAKIAoZBRgCjACZ/nr8t/wwAEkCHgGM/fn6hfp5+4z7Hvye+8n7z/xo/eL9kvxz/Ab9ev3u/aX+1QDcAj0CDABV/ob/pAHiAgAEtwS3BPQCqgA9AKsBhgNiBBkEGQPbAXMAev9u/1sAkgHPAUkBw//D/m7+H/+G/7H/+v/W/1D/bv43/rf+E//0/sP+t/4l/zf/AP/W/s/+9P4T/zf/mf/Q/9b/gP/0/rf+6P56/+7/6P90/wb/t/6l/ob+w/4l/z3/z/49/jf+aP56/nT++v0l/gD+t/2G/Yb9sf2l/fT8Pf2M/SX+DP6S/Yz9Pf1D/dv8Vf1Q/40D4waBB2gDVv+9/x8DuAY+ByAIxQm4B6UCN/5bANwFoAi4Bu4DUAPPARP/jP29/3QDsQMeAe79JP10/YD9K/3o/Zn+pf6Y/Tb8VfzJ/Jj9JP30/Gj9pf7D/8P/1v56/tz+t/96APoA2wHJAbEBqgBPABIB1QG9AskChgLDASQBngDbAIwBSQIZAx8DwwEeAJ/+sf70/+0AegHJAND/Vf76/OH86P1o/+L/Vv9c/tv9W/1h/Qb+Pf/K/4b/Bv/D/tz+6P5u//T/VQBtAIYAjAAMAKX/ev8AAFUAYQCAAM8AkgCf/9b+H/+x/+L/vf/Q/8r/bv+G/hj+sf5o/3r/Gf/c/s/+gP69/uj+aP9c/9D/bv/D/mL+vf5Q/9z/ev+l/8P/pAASAqUCaAKSAAwA9ABbAhIDjAJiAwADsQG3/7H/SQKZAysDjAHbAMMA3P96/54ANwJoAs8A7v5u/uL+t/8MAG0APQBu/27+jP0A/hP/GAASAGL/3P6f/r3+4v6Z/08AkgBPAJn/Mf+T/yoAvQDJAIYAjAA9ABIAvf9hAPQA9ABhANz/EgBPADAA+v8eAHMANgCT/3T/AAAYAL3/gP/c/xIABgCA/7H/0P/c/9D/0P8AAOj/+v/K/8r/t/+x/9z/GAASABIA3P8GAB4AWwCqAKoAWwDo//r/KgBVAB4APQA9AB4A+v/Q/zAAMAAwAMr/HgAAACoADAAkAPT/9P+x/7f/1v/W//T/yv8AAL3/3P/i//r/yv/Q/+L/AAD6/9z/+v/i/+L/vf/D/73/yv/0/+j/4v/W/+L/4v8MADYANgAkAAAAMAAkACQAHgBbAHoAWwA2ACoAKgBhAIAAhgBtAEMAPQA2ADYATwB6AG0AVQAeACoABgA9ADYAbQBDADAA7v/i/9D/GABPAFsAMAAMAOL/3P/c/xgAPQAwAOL/0P/o//T/9P/o/wYA6P/Q/6v/vf/o/wAA9P/0/9z/yv/K/9b/4v/i/9b/1v/D/73/1v/6/wwA9P/o/+7/4v/c/wYAMAA2AAwA+v/i/9b/9P8GACoAGAD6/+j/3P/c//T/GAAeAAwABgAGAAAADAA2ADYAJAAGAAwABgAMACoAGAAGAPr/DAAGAPr/9P8wABgAEgD0//T/7v8AAAwAEgAGAAYA+v/u//r/DAD6//T/7v/o/+7/AAAGAO7/AAAMAPr/9P/u/+j/AAAGAO7/AAAAAAAAAAAAAPr/9P8AAAYADAAMAAYADAAMAAwAGAASABgAGAASAAwAEgAeAAwAHgASAAwAEgAMAAYAHgAYABIAEgAYABgADAAGABgADAAMABgAAAAMAAwADAAMAAAA9P8AAPr/AAASAAYAAAAGAAYAAAD0//r/+v8AAPT/7v/u/wAA+v8AAAYADAAGAPr/BgAGAAAABgD6//T/BgAAAAwADAAMAPr/AAAMAAYADAAGAAwADAAMAAAADAAMAAwABgAYAAYAHgAGAB4AJAAGABIABgASAB4AGAAMAAwADAAMAAwABgAGAAwABgD0/wYADAAAAAwA+v8GAAwADAAMAPT/+v/u/wAADAAGAAYABgAAAAYA+v8MAPr/AAD6/wAA9P/6/wYA+v8AAAYAAAAAAAAADAAAAAAABgD0/wwABgAAAAwADAAMAAwABgAGAAwABgAGAAwADAAMAAYABgAMAAYA+v8MAAYAAAAGAAwABgAMAAwABgASAAwAEgAGAAYA+v8MAAwABgAGAAYAAAAeAAAA+v8GAAYABgDu/wYABgAGAPT/DAAAAAYA7v8AAAYADAAAAAYAAAAMAAAAAAAAAPT/EgAGAAYABgAeAPT/AAAGAAYADAAAAAwADAAGAAwADAAGABIADAAGAAwABgAYAAwABgASAAYADAAMABIADAASAAwABgAMACQA+v8MABIAEgAGAAwADAAGAAwADAAGAAYAEgAGAAwA+v8AAPT/DAAAABIABgAGAAAADAAGAAYABgAGAAYADAD0//r/AADu/wwABgAGAAwA+v8MAAwAGAAGAAYADAAMAAAADAAAAAAAGAAAAAYABgAGAAwADAAMAAYABgAAAAYADAAYAAYAGAAGAAAABgAGAB4AEgASAAwADAAMAAYADAAMAAYAAAAGAAwAEgAYAAAAEgAqAAYADAAGAAYADAASAAYADAAGAAwAHgAYAAwADAAGAAwABgAMAAYAAAAGAAYADAAMAAwABgAGAAwAAAAMAAAADAAAABIA7v8AAAAAAAAYAAwADAASAPT/AAAGAAAAAAAGAAAABgAGAAYAAAD6/xIAAAAAAAYADAAGABIABgAeAAAAAAD6//r/BgD0/xIABgAYAPr/BgAGAPT/DAAGAB4ABgAMAAYABgAMAAYADAD0/wAADAAGAPr/AAD6/xIAAAAMAPT/+v8AAAAAAAD6/wYA+v8MAAYA+v8GAAAABgAGAAYABgAAAPr/AAAMAAYADAAMAAwA9P8AAAAAAAD6//T/BgD0/wwA9P8MAAwAAAAMAAAABgAAAAYAGAAAABIADAAGAAYABgAGAAYABgAMAPr/BgAAAAYABgAAAPT/+v8GAAwADAAMAAAADAAGAPr/BgAAABIABgASACoABgAMAAAAAAASAAwAAAAGABIAEgAAABIAAAAAAAAABgAGAAwABgAAAAYADAAAAAAA7v8AAPr/AADu/wAABgAMAAYADAD6//r/EgAMAAwADAAYAB4ADAAMABIABgAGAAAADAAAAAAA9P/6/wYAAAASABIA+v/6/wwADAAGABIADAAkAB4APQAAAEkAGABhACQAyQBJADcBhgDhAYYBIQyBBy/2+PZiAm8G9P0k/U76kvwG/uIDJAD0/O36TwHoAR4C7v7o/rf+HgHhAZ4A4v6x/5IAQwEeAcP/bv/6/9sAsADo//r+DP9PAIAATwDo/9D/k//tAPoAegDu/gwA4v9DAKX/K//K/7f/twCf/wwAN/+9AKoANgCT//r/qgCZ/x4AJAAwAJn/DAEAAKX/UP/tAE8A7v+AAB//AACZ/1sAYv/6AFb/SQD6//QAhv9JACX/bQCT/7cAt/6T/3r/ZwEAAID/3P8SABIBKgBQ/7H+DAFtAEn/DP+GAW4B9P4l/7AATwGr/s/++gD0AMP/DP/0/8MAEgEYAQb/Mf5DAE8CJABbAO797v+S/hgBAACGALf/6P8f/7EB0P9Q//oAH/8wAHT/zwGN/2j/aP/VARIAbv5bAPoAsACr/h//pf8SAbf/KgD0/u7/aALJALf9Hv3DArcAbgIrBSr7hvxJAdwEmf/n/KX9BgJ6As8B5wDb+9v8AQVECIb/pf3o/gcFjAK3AB79+vyG/r0AXP8x/m38Jf69/4ABSf9P/kn/Jf82AOIDvQDi/XT9Jf+YAjEDJf+e++EB8AlP/kn90AU+Bp/+hvzV/IwAkwMr/qT8EvyGABgBtwCA/Cv9pf+qAPr9+gAMAFX+pAAAAm0AYv8MAKv9MQMMAZP/aP1VAFADWwIw/Ib9NwFiBSoAAP23/nQBDAIwAB//E/+MAOcApf1u/1UCw/wf/yUDKgAA/HoBHgFu/43/EgH0/4b+KgGx/88A9AI3/nn7zwKGA8n+bv9bADH/4v+kAW4BKvto/ysEtwLb/U/9+gCYAgAChv2f/mL/7v1iAzcBmf/C+lz+BgP6As/9t/2A/ucAJAGS/lsBVQHb/Zj9XASrAnn7n/76A9sBjP16/+7+nwJ6Apj9QwAG/6v+PQJnAZ75Jf8BBe4Dyf289+IEkgFbAT3+3P4x/VYDhgNc/6T7gP4GAgwAVQClAjz74QAMAHQDq/+9/8n9H/9bALECMQJ/+4b81QLoBZ/+Mf5bAKcLMQXT9OH6hwRiA3/6Z/pu/5kEefuS+2gF4gQF94D9bgU3/qoAaAQY/f/6dAT0BFv9pf2AAZ/+3P/VAFsCDP4e/fQBnwOqAMn8qgCTBRL9Z/tXB4AB//fPAVwFZ/zP/b3/pf63/R8Gev+R9gcESQPo/iQAT/0kAVUAgAOM/CQB1gQ3/wz8GAAeAu7+hv9PABP/vfy3AmEBTwJ6/p78q/1oAzgJHvr5+zEBkgGBBBP/Ev1QAwD+MABjCNz+gP11B7cCK/0lAskCw/yl/sMA7vwlBAz8nfi9AVsBPPvb+9D/ngC3/8L6Ev7hAaoAaAKe/Fr4Vv9kCxkDMf8R+hoJdgzP/pL7jgjvB2b1Q/6AAwT1TwABBpD01fqA/bf+hgJVAD3/Vv8fA0kBXAPjCCv+gP2ZBp8Dyv9EB9YEcvZV/LEDev50/bf8jPy9Afn4QvuqAHr/Evsf/oACaP1U+Z8E7QDm+AD/bv+rAbH+PQEAAPr/aP9bABsNYgU68pf5HwRPAtv77QBD/EkALAY3/Zn+agtP+zb5UQhwC0L3TwB0Akj4TwBWBXT9Kvr6/PoDbQAGAoD8yPeGA74EvfxPAcP+pPwAAaUDWwJV+xj9KwOGAs/+aP0M+1z+EweSARgCqwJ/+Sv/cApDAe377v4qAYb9jP35+rED+gEG/vr+1f2GAO4EKgF/920AVgafAkL7w/2rBPQAVf2Y+zEBqwLh+2f5BgBWBUn/6P23/Kv+twGq/O0A0APP/Nz/jADz+ecABwWe/OH7egBc/pL89P2kAQABgAGw/Ab9GQPbAAD/JAFb/PT9bgHo/7AASQOw+4b/uAaMANX8GP49BE8CBgAF+0/8ngAwAHoEmf8A/T0Bvf69AOMIQ/9C+VsCVgOY/cMC6AGS/MP8yf5DAgEFpPwW9T3+jgqS/Uf2nwSsCMn7N/2ZBcQEGP7V/AYDtwI8+zH/bgKSApL6Ev0rAxj+YfxoBT39Z/xoA08CQ/2M/oYBpPxo/yAHw/9h/bz7ZwFuBG7+YfuHBz3/qvqGAh4Cqvx6/j0EvQNP/E72lAdQBk76w/5QBhL+KvyyBkQEaQfvB58FwwHVAhoJvQLJ/AYBSQCMAVz+CvPb/LgGf/gX+KUCnv30AXUHGQQHBRoH+wUgCMUKgQTPAbECMQTJAQAAEgB6/MkCQwAX+XP7zwFz+VX7QwEM/Lf9UP+Y+7f9cwAr/c75nvxV/fP7EgBP+0L6KwIG/ob7zwG3//r8k/8SA+4EaP1D/YAAyfzJ/SUEVQFJ/Pr/sf+eAb0A2/0qAXoEMPzD+5kDMQIY/GICpQJDAAABGQOf/1cHUARnAfT95/xhANUAVQBn/HoAmQbW/kMAEwQsCCUDvf+SAoEGGgfcAz0BngE+B/r/sPv0AaAJ6P5g9k8BoAb0ALD6ev76A2f5c/kSAgYCjPxz+Jj6XAQkAM/9BgCS/oz+VgSHBe375vclAtz+7v2YAiT8yf43Aj397v+TA/r8kv7DAtUAegFiAlX8NvxuA88BVf3z+gb9n//DAIb7AP3PALf9z/5DAG8I9ADU9pn/wwFV/uEAvf479+cAGQaq+jD7EwR0/x79+v3tAAYCXP/D/QACSQBu//r+1v8M/mj+NwSYAbb6GP0rAjcDt/w3/ZP/n/+Y/asBSQIe/Rj7yQFbAob/mf9bAFX+yQDK/4cESf4r/isCzwBJ/kn/hv+AAGj+Ev3J/pL+hv7K/5L+Kvx0/Yb+QwCxAdYDVgSrAuD3xATeDYb+tvhJAocGhwSGA7f9uAVeD8MDQvmsB0YNEgJ5+m4BGQMBBR8DBfrz+oEHaAI9/VsAjABPAaQBAAArA9X9ev8mCkMAMf0ABIAAqvoGAmkHmPvW/u0AYfznALEB0P/5+5L8TwASACT9HgAlBAEFTvrC+l0IBwX+9vP7XASkAeH61ftDAu4C2/ye+4D/ev89AE/82wD0ACX+PQBJAkn7Hv0NBQYBVQD2DOkGDP4G/1UAJAAA/fP7c/m3/bz7o/iS/c8AHfnn+4D/jPt0/uICXP5s+Ib+jACS+08Abv679NX8mAKN/6v+Sfsk/HoCXAPu/pL+pAG3AUoEVgUA/tz+hgLJAaUEdQdoA8n94QExBE8AHgIMA73/mf5c/08B1QKrAXr+Gf/0AgD+1v9uAz0AUP+A/sP97v+SANUAZwHD/RL99P6YAIAB+gEY/Yb+WwAMAbcCHgEx/xgBjQNDACQAkwMAAyT8pPzoA6UDSQBo/2L/MABVAsMDVQGxAWEAN//JAO7/Pf6xAWEAz/v0/o0Dw/0e+/T+XP9J/1AEMQI3ARj+5/w3AioBbv9D/TH9Jf/JAe4DDP7V/O0AtwGx/2gCtwO3AOH7H/+xAx//ev9bACQA7v9t/EP8+v/uAkMApf10/pn+AP1P/kn+jAGSAfT9q/96BPQAVf2TA5kEhgHDADAAYf1iAlwD2/3u/jf/gP09ArEDmAJi/6r8z/2xARkEGf+l/Z4BN/+l/r0C6P8M++j9KgEfAwb+7fk3/9UBsQE2ALAA9ALD/6v/DAAr/0n/EgBJAWL+N/6SAb3/5wDu/lz/VgQrAzf/4v90/wYBEgNoAoD/Vf3P/b0BpAGYABgCvf9V/gz+wwCqAOj/dP50AT0E2wBPAaX+dP3bAcMCbgN6/+L+ZwB0AZ4B1v5i/+4BH//V/Wj+9AF0/QD/hgAxAjcCbQAZ/3T+1f1Q//oBev8e+hj9zwC9/wz+9Pz0/fT+hv0M/m0ASQAA/70AGAJuAYABYv8SAL0AJAGA/kn93P/VAugCSf+M/UMAQwEYATf/DACf/yX/0P8Z//T+z/5hAIz9jP1hALcBDP+k+sP9mAJbAgD+yv9DAUkBWwKAAHoAhgEGAaQAsQKkASX/QwEMAbH/NwFWAwwC2wCkAe4CPQOkAD3+Q/2N/1sBvQAG/8n+bv6x/Un+AALP/ob97vzV/bECsACx/j0AJQLo/xL+vf9VAAYA1f0x/vQAAAG3/0MB7QAG/2L/WwGGAtz/cwCx/lv9pABJAWcABv63/Vz/DP+A/5L+z/0Y/vT+q/9JAAYAT/1V/Ab/ZwBtAPr+H/56/gz9GP2l/4YCjAAG/ZL9hgBDAXQCegFDAdD/dAGxAlsAgAGeAM8AYQA9AVsBvf8SAXMA9P5DAM8AQwCZ/73+QwASAcP/w/+A/3oAyQKSAp4AvQAkAVsAmAJuA4b/ZwBuAoYAyQArAgYCsADc/yQB2wDtAM8AGf/o/nT/KgDJAWcAT/49/z0Byv/6/5IC4QC9/k8AJAEeAdsBcwAYAJIBtwAr/8P+Sf8f/z3/9P/b/WL+VQCA/0/+NgAx/73+EgCx/9D/t/0M/c8AjADn/FX8aP1i/p/+3P50/pL6HvuS/hP/vf3n+2f84fzu/BL9nv09/vr9Vf2Y/Yz+4v+qAIYAz/49Ac8AGP2MAJIBVv9hAD0A5wD0AbEB0P8T/4wA2wCAAc8BHgCqAM8AjAGSAu0AZwHuAqsDPQISAwAEBgLJAY0E7wW+BhMFNwRKBOIExAYsBvQDSQJ6A+IFsgXVAioBbgG9AfoBHgJtAMP+Sf8G/zf/AP96/s/+jP5b/Un9Bv6x/Qb+Yv7o/Vv9bv0M/lz+Sf3D/En9XP5P/k/9JP3o/fT99P5JAHr/T/6G/uj/hv8G/6v+nv23/o3/Q/4e/ZL8BvyY/Xr+KvyS+jz77fuq/Cv9+fp/+sn7QvuA/XT/4v23/EP8+vxJ/Sr8w/wA/cP7z/v6/Lf9Vfw8+9X7vf30/b0AXQoDDiAHGAKTA5QIDw99EGoKewheC8ULiAnKB6sFygW+B3UGjAI9ARIBaP+x/UP9t/3i/h/+tvtg+bb5kvse/D388/tP/KX9mf6f/iX++v63ANADUQnFCDEFpgYaClEJVwhpCJoHMgjLCB8FwwExAZgA+v5u/hj+kvvI+pj7qvkd+IX4BfpP+8j6WvhI93P48/hO+TD6bfph+lv7Nvx6/OH8yf0f/iv/jABnAL0AYQFhADH/9P89AHr/UP8G/gb8jPtJ+875C/l5+Mj3Wvad9i/3yPZ+9bX0wfS19sH2R/Vz+QILuxPeDKsC3P+gBvkWnhwcE14Mxg2uEEcUFhFvCbgIFQwhDEUJsQP0AfoBkgBJ/R77Kvt0/ef6r/Xr8ij0l/ap+IT27PR49mz4MPqS+zz6JPtu/tsBXAQrBdwEewYUCMUIggozDOQMjw7NEa4ROQ2sB7EEPgWmCOkJKwU3/ov5Wve899T4i/hO91T2O/VB9Ar0wfW19xf5yPl/+mf7T/xV/Bj8kvz0/dD/gAE3AY3/dP6l/iX/t/+r/9b/mf+r/k/9vfw2/KT7efpm+CP3vPdC93j16/N38i7xifFr8mvyxvFZ8jv1bgIKE1oUswqxA1AFRhBuHo0eJBiEFewUnBPTE3cQgw3wCyAKMggHBs8C7QAx/aP3u/OQ9ML4f/pB9aHvp+7M7+vx+PNN9Kn1O/cX+JH57fs9/bH/7gH0BPUHFAr2CvwLJwz2C3YMXg6WENMQUg5qC8UJsgj7CI4Jygd0BMMAyfzz+Yv5f/jI9q/1FvVy9CL00/N49OD1cvcd+Xn7Sf4GAEMAVQDtAD0CgAMNBL0DXAMSApIAgP9i/9b+mf5V/rH92/t5+Rf3nfZU91T3HfZH9cfzwPJG8gPy9/G08lnyffFM8YPxLvJN8t/xCvbLCUofeyI7FukJYwe1FFEm3iZ6Hv8ZpBjaF2YVuQzQBZkEDQRPAhn/jPsF+gX4KPEg6fXm9u079ov2HPF87I7r2O949KP2bfnb/HT/9AErAwwDOAWBCJQLwA5ZEMYQTRJxEgkPfAtLCnYMxg40DtcKygarA/QBQ//J+6r6Kvow+bz3kPXr8hbynPLr8wT27Pd5+ef6Z/we/bf94v9iAxkGBwf7BlYGdQagBugFvgR0BFYEPQMqAZn+YfzC+nn5//eE9vj0x/NH8/fyEPL98HHwUvAD8TTxg/EQ8i7zTfOK80H0FvXg9aP2ePaE9sn8ihNGKagtKyADEQgKYBXLJDknEyErHLYX5hOnDdwDDP2S+8L6zvgj9XfyZfL38tLtAOU24AfnRvLU9072EPNl8Zz0yPgq+zf/gQSmCGQLdgynC2oMmw6QEIQRxxFrETsSzRIcECYKdASfAsMDbgQAAxIAVf3z+k73a/OW8kf0fvbI9x33WfUQ9ZH2yPiY+/T9ev9DAaUDbgXvBcQF9QUNBz4ILAhKB7gGOAZiBHQBsf5V/ST97vye++f5ZvhC9072r/U79U314PWR9kH2+PTN8nfx9/FZ9Jf2zvfs9gT15fPZ9Hj28vfU+J33bPVB9Lz7kBOuKzwyyyT+EmkItA+AHYIjRCAAHMgV8Q6BBpL9Hfc79oT2IvS07/btD/A79CLzoOrh4R/k0u55+HP8yfyM+738jP4T/xgBOAY/DKIQHBJfEI8O3g4VEDQQ6w7wDMULUgytC28HEgEr/fn75/vb+jz5Bfjz+Ej5SPfN9EH0lvWF+BL7Evyw/J/+ZwD0AO0AbgHiAo0F6QeICNcHRAcBB40GbgWfAwAC2wH6AbAAH/6Y+7z5vPja9532x/Up9ub2C/eE9jX2fva89xf5Vfp5+3r8t/xn/Lz78/qF+qT6yPrO+SP4yPZO9vj1x/UQ9P3xifHP+4kQgiS0KkQiKRSOCpsLLhLCFvMYbRoRGLoQdQWw+oT00/S19uD1zfI08aLyWvZm9uvwiOrp6fbuL/X5+Tf+6AGHBPoD2wBQ/4AC3QgVDxwSUxGuDvYMDgwaC+MJ7wj1B7IHvga9A9D/bv0w/PP6vPi19lr2efjz+pL7sPpt+v/6sPtJ/Df9AP+SAb0DbgSlA6sCNwKlArEDxARuBcoFnwXiBDEDVQHo/27/sf90/z3+2/zP+9v6efns9+z2Effm99T4MPmk+dT51Pnn+UL6GPtV/Kv9ev76/Z78DPs2+m36PPvJ+6r7JPuw+f/3kPWo8xzyffGK8z3/CRAZHyYjTx1sEwgMoArqDBUQoxRtGDwXaxCZBWH7bPW79Ar24PXT9F/0L/Xy9mb2d/I674Pvd/Lm9Uj5q/1DAhkGoAZ6BDcCkwMaB8ULIQxxDigSNA5SDIEHvgRoBbgGkwXoA70AYv7J/Qb8SPnU91T4WvlI+UL5JPqw/Gj/ngDD/6v+w/5hAPQBzwLiAzgFOAboBB4C1QCAASUDUAQNBMMCmAG3AHr/Bv7J/LD8K/03/TD8mPrb+RH6PPq8+Rf55vh5+ef68/se/Bj8c/zJ/L38NvxJ/Of8vf16/fn74fmd+C/4L/jO+P/4sPgd+HL3F/Yc9XL08/gHBs4WYyN2Je4eVBVkDYEI9QfdCt8QThWQE4ILcwBa9nHwTO/G8IryEPTT9VT3ePep9V/z6/Ki9NT2Hflb/IYBEwfLCSAKuAgsBywHIAimCTMM8A0tDrMMywkHBuICHgGYAHMAdP/b/ST8qvqw+an4yPf59zD5bfqw+/r8n/6kAFsCdAMlBG4EVgQ9BDEEaATiBOgEhwR0AwAC7QAMALH/4v/6/+j/XP+A/nr9yfxV/PP7z/uS+237BfvV+tv6Hvtz+6r72/se/Hr89PyS/Vz+z/7c/kP+z/0Y/WH8c/s8+nn4VPdm9kH2F/bI9mz2ZvZB9YT0U/Mo87X1yQEcE2kkhCwJKqUgPBeJDqAJSwlADZASwRNSDXQCr/aV7Y7pPunR6sztD/Hy88H1I/U081nzePX/91v6AP1JAWMHPwxYDoMOsw2zDLMLdgpXChsMxg0bDicMBwhcA73/yfwF+1v6yPmw+bb54Ph/9zX2zfVa93P5PPsr/Zn/MQJWBD4FhwW4BjIIxQgyCNAGpQUrBW4EaAM3AiQBZwBc/+j9gPzb+8n7Pfye/Gf8APzb+6T7f/tP+0L7w/u3/GH9jP09/RL9Sf1u/Yb9vf1V/vr+ev8l/5/+Ev5h/TD8W/o2+Gz2U/Xs9CP1U/WQ9Rb1ZfRf85by8fHx8ZD0t/8DEZokqTDOMX0pnx6iEoEIEwT1BS0NlhO1EmMK2/3378rl2+Ck4PrkV+zN82D57foF+M30kPNN9K/2PPtJAaAIGw8uEpAShBH3DlgMOQosCdEJVwuzC+oKAgliBTEB5/zz+LX2Hfb+9ZH2o/eL+Ob4zvgR+Oz34Piq+p79BgITBksJxQqtCukJ9QjKBzIHhwd1B8QGPgX0AvQA6P7P/Dz7f/pn+qr6JPtP+237tvu2+6r7c/tn++H77vz6/c/+N/89//T+mf4l/s/9vf1c/iv/q/9u/6X+z/0G/e37c/rC+P72o/WE9K7zwfMi9Nn0R/Vs9bv0+POE8xbzKPTb+44K+h1NL4Y2CzMnKe4b/AsYAZj7N/4sB5UO9w8/C7H/ffAA5EjcCtqw39fpePU9ABkEDAEY/AX3fvOi9H/5wwBqCl8SSBYpF3IU6w6OCg4ImQbWBj4HEwdpB9AG4gMeABL8NvgK9rv0nPMK9DX2//ik++f85/y9/Bj97v10/8MB0ARXCKELTA0hDSELywiyBvQEVgP6AYYBhgEAAZP/aP0w+235o/iX+Pn4JPpn++f8DP4Y/nr9JP0x/Yb9GP6G/kP/+v82AOL/ev/W/lX+T/56/oz+Yv7J/Sv9Kvy8+sL4u/YQ9Uf0FvSE9E31EPbU9v72WvbH9DTzIvIJ8h32GAGEEdEkNjIMNuwwfCYFF4cHK/3t+JL9aQZSDVgPGgt0/5XwN+Rg2y7ZsN4B6fL1PQF7BW4D1v5I+Tv1hPX/+PT/YwmuESkWKRdaFEYPVwugCGkGgQUxBR8FjQXEBCsCH/9P/J75i/ej9bXzivME9Vr3wvnz+6X9Vv+3ALcAqgBuARkDDQYmCXwLpwzwDN4L0QkaB7ED9ACN/wD/w/5P/nr9Z/xh+zb65vg8+GD4hflb++78+v1u/sn+9P4T/73+dP6r/jH/k/+3/43/dP9o/0n/Gf+r/gz+T/2q/NX7hfr5+Hj3i/b49aP1ePXs9Vr2zvY79rX1hPTy8y7zO/NT9Qz+CAzWHaIs/zP5Migshx86D08BF/jI9vT8qwRFCqELgQZ5+5vvVuQX3IraQuDp6v/3hgETBQ0FtwJJ/n/65viY+oYASwjxDkETBBWpExYROg4mChkGhgMxAugBwwHhADH/T/43/X/7bfna9vL0cvQK9Qr24Pd5+rf9EgEMA+gDGQSTBDgF9QXWBvsHUQmaCvwK0QlEB/QD2wBP/oz8Z/vC+ir7+fuM/D38efuq+pL62/o8+8/7vfzu/T3/4v/Q/43/Jf8T/+7+w/6S/uj+mf8kAFUAHgBJ/27+kv1J/Nv6Z/kv+K/3f/dm9x33F/cj97v2HfYc9d/zEPOW8nfyLvNI+dwDWRNvI2AunTJ+MK0oyRrYC5/+4PY194b8mAJ1B74IMQSM/K7y4+dC4G3eN+Lj6tn0EvzhAO4D+gOrATH/9PzP/SoBUAUyCcwMLg99EIoRzRA6Dl4LXQh7BbECyv/J/Iz7w/sw/Gf8+fsF+9v5i/jg9lP1EPWR9rz5sf0qAfoDXAb7B1cImgdWBiUF1gQ+BXsFVgW3BNwD1QK9ARgAGP6Y/Of7f/s8+wX77fqk+6T8Yf2M/Yb9aP1u/Wj9Ev30/HT9Sf5D/xgAcwB6AG0ASQDW/2L/4v6Z/p/+Yv6r/Yb8hvth+n/5YPhI95H2hPav9uD2o/YX9qn1TfWW9N/zTfTU+XoDTRFiHv0nfixZLHwmJBvSDYYB8/lU+KT6Mf7JAasDhgJQ/xf5QPHF6vXngejq6/fvhPP/95787v+GAVUCzwL0AyUFaAXiBBkFDQYOCNcKFQ0nDtgOfQ58DLgIvQMM//n7mPrt+Rj6sPq8+6T82/yk++f5wvh5+Bf5JPpz+279DADPAuIEUAYmB74H0QdEB40FqwMrAk8BBgEAAecA+gBDAUkBTwDP/vr81ft/+2H7Yfu8+4D8Vf36/e79sf2S/c/96P30/cn9sf0A/qX+Pf/K/08AvQDtALcAq/8f/ob8PPsY+lT5f/gX+OD3F/jU92b3wfZg9iP22vUp9Wz0ovTg+HMAcAvCFtYfZCU/Jw4k1RsQEWkGAP/D+7b7Q/3Q/+gBHgIAAXr9kfj+8+vwxu+070zw8fAc82b2nvlt/Hr/GAJ0BMoFbgUABOICWwI3AwcFgQe5CScMmw2DDacLdQj7BEMCJAA3/rf8Bvz5+1v8jPw2/O374fvh+5L77fok+s75kvoq/Df+2wCNA0QGBwiaCLIHBwYHBG4CSQFtAB4ATwD6AJgBjAEeAXMA0P/0/gb+4fwA/Jj7f/vJ+0n81fyx/YD+vf5o/s/9DP2k/Lf8DP3P/Z/+jf8wAHMAGABi/4z+t/29/Jj7f/qk+Qv5wviR+Iv4i/hO+Nr3Kfcj9hb1BPTm9Nv51QGVDFoW3B2BIdcheh3IFb8MRAWMADf/Yv+AAOgBjAJiAmcBq/5/+y/47PXH8/fxUvDx77rxEPWR+GH84v9JAoYD1QIxAWL/gP4r/xIBDQQHB6AJ5AvYDIgM8ArFCMQG9ATiAs8Az/7o/Zj94v1D/pn+3P6x/qX98/sR+tr4qfi2+TD7DP1D/z0BnwKAA70DwwOxA4YDKwOlAgACsQHVARICNwJPAkMC9AFDAcr/Mf7n/D38DPwq/ID84fxJ/YD9Yf0e/cn8sPzJ/Az9Q/1o/dX9bv4Z/6X/4v/W/3T/n/6A/T38PPuY+mH6bfpC+gX61PmL+Zf4ePf49bX0fvOo8ijzNvjVAD8MkRafHVYgbh/bGv4SjgpWBMkBjAK+BB8GOAemBkoFzwIT/8/6F/fB9N/yOvFM8Mzw+PPs93/7Bv50/1z/T/4A/Ej6hfln+xn/mQPEB5QKCAyIDNgLUQoUCG8GmQXoBCsEJQN6ArcCGQMSAzECpACZ/jb8wvmX95H2L/ft+Cr7t/x0/eL9GP6G/iv/hgBVAmIE4gVEBrgFGQWZBIEEMQSZA88C+gEMAeL/t/5J/mL+n/5V/ob9gPyk+0n7HvtV+7z7T/zJ/M/8gPwq/CT8qvxb/QD+T/6Z/rf+hv4Y/rf9Vf0x/b38Pfyq+yr7mPoR+qr5Nvl5+H/3O/a19BbzTfIc9OH7EweKE7EbmR4SHDYXrg+ICNADGQTRBwINNA/YDVcKewVJARL95vgK9i/1WfVH9an00/TB9v/57fuS+xH6zvds9tr1qfZz+QD+SQP1B+MJLAlEB58FGQU4BQcGOAdFCdEKvwpXCUoH0AWfBAwDEgHP/h79T/wk/D38bfyk/Kr8MPy8+tr4NvhO+ZL7Q/5DAMkBBgOTA1YDvQJiAskCgAPcA9wD3APWAxME9ANDAwYC4QCN/0P+JP1z/J78T/3D/Z79t/yk+9X6TvoY+kL6DPtD/E/9pf29/av9mP2Y/W79Q/0k/e785/y9/Gf8JPzz+5j77frC+bz4yPf49gT2I/UW9E3zZfPy9oYBzA5nGlYe1RoWE3AM7wYrBVAH/Q1aFVUZ/hQVDOEB4foX+Hn4F/nt+rD8GP3h+hH3wfOW8zX1F/a79fj0CvUX9x76yfw9/yQBbgLuAtsBegAxAXQECAl8DEANXgwnC2MJVweHBegE7wUsB9AG7gQYAgYAw/7J/W38Hvtn+p76qvoe+nn5VfoM/GH9dP3h/M/8K/7u/4ABnwKNA0QEegTKAx8D+gINBGIFmQViBJ8CQwFzANz/N//c/tb+n/6x/fP7W/rC+TD6qvrh+qr6qvrz+ir7GPvb+kn7+fu9/Of8Z/ww/D38nvxb/Jj72/rz+v/6z/p/+SP4cvfm9sf1NfQu8jryO/YYAhwSyR17H2wW6QnVAr0CywnyEzcd1yFJHf0OYv7x8t/y1ft7BlcLuAjVABf3au4a6jnrivLn+nr/Bv5U+N/y8fAK80L3HvvW/skBBwQrBMMCPQKrAx8GsgiCCQIKfAvMDMUMpwpjBxkFmQRWBfUFsgXEBBIDkgDP/DD58veX+YD8vf2S/Jj6PPn5+H/5f/qw/Gj/6AFuAj0Bn/9i/xgBmQNcBSwGPgYZBhkFMQOkAXoBYgKAA0kDwwEAAFz+K/0k/Gf7T/vP+1X8yftV+u34wvie+YX68/o8+5774fuG+7b6W/rn+tX7sPy9/BL8Hvtn+vP5YPnC+Lb4l/gX+H72bPTZ8lnzwfYAAqkT7h+3Ht8Pt/96/PUGFxYZIfsiQxzNEFsCyPdO99UAgw1NE44L+fuD71fs6/DC9+37sPxJ+2b3IvIP75XvovQS++j9evzI+mH73P6kAYYBpADJASsFdQkVDPYL9gqyCdEHmQasBtcIrQw0DtEKRARo/rD8DP8GAugC6AFD/5j7Qvhm9kL3i/qe/TH+VfxO+eb3f/kk/Gj+HgAGASsCpQL0AbEBJQL0A8oFRAaZBdwEBwQxA/oBwwA2AOcApAG3AGL+tvsk+m365/ph+6T7VfvV+tv5bPjm96P4Kvpt+3n7efpC+cj4SPkR+hL7SfuS+0n72/rt+Wf5kfhm+ML34PdC9+D2O/cAAGURvR4AHbMM8/u9/OQMeh3XI8MdcRGUB5IAq/3PAWMJGw8JDjYAkPMt7rXzc/zo/u36+PTl8jX0o/VZ9Xj0FvVa+Kr6efsS/Ab+JAHPAAz+H/6MAr8J3g3MDEQISgTQBQgJ0QvFDDkLOQq4CI0E1QExAeICEwV0A7f/Z/yk+h77T/u8+nP6MPsw/O37W/rU+Av5hvsM/m7/PQCSABgBTwHVAE8BSQPoBWkHXAb6AzcCBgIMA6sDXAOGAmcB4v+9/QD8c/sG/Mn8Vfy2+pH5BfkX+U75EfmF+Tz6qvqS+ov5sPjm+NT5GPuq+8/7yftC+zz6vPjm+Of5BfsR+tT33/Q79PLz2vWw+fsGWhjQIFoXYgOd93QDpBkCJ2kkvBZ2CtYEnwISA40HPwyPDVwGtvpG8SLy7fhJ/bD6I/VZ8s31o/fN9evxG/A79BL7N/49/tv8pPye/dX9z/4GA4gJmw0hDDIHUASfBWoKug3kDaELRQnXB4cG3AOrAskCmQPVAgAAVf1J/FX7Tvoj+Rf52/qG/PT85/pC+KP38/me/bcAWwGAAecAbQCeAL0BVgQyB9cHrAYfBDECYgJoAwAEkwNiAlUBt/+S/Qb8c/sG/HP8pPue+rD5Qvlz+W35pPnh+WH6//oe+5j6efpn+jz75/sS/Db8Z/xJ/Bj8HvsM+7z6c/r/+UL5VPgR+J32qfaL9nj15fLT84z8ohGgIYEgmwsp94v4QRKPJwkrDB12DI0DYgIZA5oHdg3ADiwHHvtS8ZvwsPhc/sn7TfUi8aLz+fij90fz2PAu8yT61v/u/73+T/1V/db+AAHEBFcKTA5wDAcH7gMHBvwK6w4tDZoJ6QaNBSUFDQRnAXMAmACSAKX/2/yY+uf5qvmL+X/6tvvP/HP81foj+e35GP1VAAACqwGYAM8AJQIrA58EpQVpBnsGmQU9BMMDegNQA4YCjAGSAKX/sf7n/EL7W/qq+lv7jPuw+hH6wvnh+Tb65/rD+6r8GP2k/EP8DPxt/AD9z/36/Yb9gPxJ+6T6bfv5+6T82/vC+fL24PUK9n/4//nI+Vr3ivU089/xUvHg9UMBQhfFJLgfmghg9u37ERhlK1gqgBp2CzcEaALVAFYFmwtFDEoE8/gP8IPvCvXh+Sn4QfTl8533Tvq79t/xnPKX+SoBUAbiBegDZwFbAB4CdQbFCrQOGw51CQcENwJcBCYHAQe3BNsBgADW/p78sPrb+aT6c/wM/bD8pPtz+5j7Qvsq/GL/yQITBQcETwFPANUAvQIxBRkGOAb7BOgCegFbAJgAKwIlAwwDMQHo/qv9JP0Y/b39aP6l/7f/Pf6Y/Iz7z/vD/Wj/YQBbAPT+gP2G/L38jP5VANsAXP/h/MP7Kvwk/ZL9vfyG+576Z/kR+ZH5//nn+Wb4zvZa96P4HflU+Gb3BfjI+mf8jPsq+jb6tvvP+0L5qffD/N0K4h/9Jz0dMQXg9isCmBzYJ8offQ2r/zz6Zvi190P9kgHhANr42PA/7t/y7fjJ/Lb7JPw9APsEAQa9AAb9SQCsB8YN0g5RCvUFpQL6AL0BAAREBu8GNwNb/Zf4//iG/Jn+1f0S/CT7Pfy3/Az8Hvyq/Fz+ngDVAZIB9ABi/zf/bv+rA5QJiAn0A9v8bfukAeIFnwPVAGL+vf36/fT9Sf4G/0n/bQAeADYA1QDhAYACHgE3/6QBUATKBDECyf6A/uj/zwBnAT0A7v69/hL+N/0S/O37Q/1u/rf9gPz5+5L8+fvz+iT7Z/xh/Qz9nvq2+NT4kflV+hL7JPtC+1X6L/jy9iP5NvzD/RL8C/ok+ir8pPyY/O37Qvs8+bX35vdt/NYEuxVRIocfXgtO+Db8NRWmJGIfGw7DASX+BvzI+DD8QwHuAbD7ovTy81r4z/vn/Iz7w/ylAoEI4wkNBG799P3oAwIKrQwOCkoGdAEM/ZL8jf+GAo0DMAD5++H5hfqk/Df9z/vn++j9vQCGAYD/pf2A/XT+yQCMAoYD9AIwAFv9gPzo/UMB9QUyCCwGZwDC+jb6H/8fAzcE6AJVADf+K/0Y/fT+AAFiAhIDUAOAArcB+gCSAL0ABgIHBG4EtwJW/8P8kvwl/m7/NgAr/8/9bfxn+wX77ftu/ZL+4v3h/G38N/3J/XP8MPrC+Wf6Yfwx/Rj8SPmF95f2sPiL+qr7Vfsq+hH5W/r5+xj9Bvz/+Qv6Sfx0/b38Qvup+Kn45/nJ+9b+kgHjB38Z7yFtG2kHf/slBowbpR0jFdcJVgQYAEj5X/TP/LEBtwCe+YT2o/eM/Pn7GPxC+9b/sgU/CrIHqwFc/sMAgQSgB/sI6QiyBowAqvth+7f+MQHVAMn9mPzt++37Z/uk+iT7K/4SAGcBTwEkAFD/n/4l/k8AqwKTA4YCqwHnALAAKgHVAGEBhgEeAHr/6P+3/nT+N/43/vT/BgE9ARICDAFtAGEBbgLiA6UEjQMMA+gBPQFhAXQBHgGqACQA+v90/8/+1f3h/Gf8Z/zh/E/9dP1V/ST9jPwe/En87vwk/eH8yfw3/Wf8PPv5+RH6wvqS+rb5qvnt+U767fmS+iT7z/rh+Xn58/pV/Qz+N/2q+6T6Hv29/2cBGAC3/M/6nvm2+Sr8GACTBWUSDBzPGl4Oq/+9Aa4PWhfaFC4Qjgr7BW38ivVt+Xr/3P9z/Fv6gPyr/279bfna+Mn8JQRpCHUIAQX0Ab3+6P2f/0oEoAemB9UC9P7h/Kr89Py3/ej9Vv/i/+L/yf43/Z778/v0/Oj/EgPiA3oCjf/6/D397v6SAHQCnwMrA7cBw//u/uL/EgF6AdsBtwExAVsAaP+G/gz/GADDAcMCDANJAqsBjACkAIwBqwJoAzcD6AHbAB4Amf96/27/UP96/x//Sf7i/Sv9W/wG/CT8T/2r/m7+pf2M/Lb7pPt5+237vfyY/dv92/wq+xH6bflz+U76jPu3/CT9qvsR+dr3i/ln/Fz+Bv5h/W79W/2M/KT7vPuA/Z//+v/J/vr88/sw+0L7sPt6/koE2A//GTYZTA49Aw0ECQ1TEQkQ/Q6tDXsIE//g99X6GP5J/cj6HvxbAL0Cyf28+TD5GPxPAHQDMgayB9wE6P8k/Tf+mAHcA24EtwOAAlUA4v3V+3/7+fux/XT/QwHbAaoAq/1/+zz7Bv6rAb0DEwS3AoAASf4G/XT9gP/oAVADpQPoAowBPQBP/lX9aP70AGgDBwSlAs8A+v76/Yb+ZwDDAjcEAAT6As8ByQBJADAAsAC3AWICtwL6AZ4A+v5h/bf8ev3W/uj/1v/D/jH9sPv5+qr7N/2S/rf+6P0G/Yb8JPyw+zz7Vfvb+7D8w/yM/NX7vPpt+eD4GPrt+8/8nvxP/Ab8sPvz+x79H/4f/k/+yf5hAHoAK/8G/jf9vfwr/e78aP1P/nr+Jf8x//QAOAhNEXIUkBD1B7gGdgrwC6AJAglLCrkKXASS/TH9Yv+M/uH6i/pc/9YDYgIT/zH9AP63/Xr96P6YAo0EtwP0AKX/Q/+Z/27/Mf8qAMkB4QHJALf+Hv1J/b39Mf6r/zEBtwFPAW7/1v49/zH/hv+3/1sAQwEkARIAYv+f/m7+t/7u/uL/qwExA+IDqwKGAKX/EgCqAEkB9AHDAhkD1QEkAEn/6P4r/2j/GABnAWgC6AHtAG7/1v7W/sn+Bv/K/1sAGAAA/8n9Bv1h/LD7sPuA/Jj9N/4Y/tX9Hv1J/J77kvuM/LH9DP7o/W79Bv2M/Of7yftV/CT9z/1V/u7+Q//u/oD+gP4A/3r/BgBnAEkBNwHJANz/Vv+A/6v/dP+N/6X/4v/W/wz/Gf/i/7cBsQTXBzIJVwnvB3UHsgZuBbEDqwMfBMQENwOSAfQA4QBnAFD/N/9nAJIBwwA2AHMAqwEeAZP/T/7P/ob/6P/W/20A5wCGALf/Vv+f//r/t//i/qX+7v7c/4YAwwCYAE8A7v+9/6v/0P8GAMr/XP8M/1D/0P8qAAAAt//K/9z/KgAwACoAEgCl/2L/ev8MAIAAngBtAD0AQwCMAL0A7QC3AG0AJAAqAD0AhgCeAJgAcwBVAIAAvQDPAJ4ATwAAAAwADABDAFsASQAYAAYA6P/0/9D/q/9c/wz/z/7P/u7+DP8G/9z+yf63/rf+q/6f/nT+Vf5D/iv+T/6A/pL+XP56/nr+sf63/uL+yf6l/oz+kv6l/r3+z/7J/oz+Yv43/kn+Sf6A/p/+yf7D/lb/EgCAAWgCYgPiAnoC2wEMAkkCzwLJAkMC1QGGAcMBKwLPAoACWwKxAc8BsQExAvQBngHVAHoAegDDACoBMQEAAVUAHgAGAHoAegBJALf/Yv8T/4b/6P9hAHMAKgDu/8r/3P/D/43/K//o/r3+3P4Z/1D/Sf9J/wz/Jf89/2j/Yv8T/8P+q/70/jf/k/+3/9b/sf+f/8P/HgCGAJ4AsADhAPoAAAEAAfoA9ADtAOEA7QAAARIBBgHtAOEA7QD0AO0A4QDPAKoAsACMAHMASQA9ABgAyv+T/3T/bv83/xP/DP/6/r3+q/56/mj+Vf5D/kn+Mf4l/gD+DP4A/j3+Vf5P/iX+9P0M/jH+Yv5i/mj+Q/4l/u79Pf5c/nr+T/5u/sP+k//hAOgByQKGAhgCvQGxAe4BYgK9AnQCwwFVAYwB+gF0AmICJQK9AbEBqwEAAgwC6AF0AfQAwwDbAFUBmAFJAZ4ATwBPAKoAzwDPAIYA1v9o/4b/DAB6AKoAVQD0/9D/1v/i/8P/gP8T/6X+aP6S/vT+N/8l/wD/9P76/h//K/8T/73+ev5o/rH+7v5W/3T/dP90/3r/6P8eAHMAgACMAIAAgACSAMkAAAEYASoBMQExAR4BEgH6ABgBAAHnAOEA4QDPAPQAzwCeAG0APQA2ACQAAADo/8P/k/9Q/1b/Vv89/yX/6P7J/oz+pf6Z/qX+gP5u/lX+N/4l/jf+N/4S/u79AP5P/mj+Yv5c/kP+K/5D/mL+yf4x/6v/SQDJAFsBqwGkAYYBZwFhAU8BhgGeAb0BhgFuAasBwwGxAb0BdAEqAQwBMQGGAasBpAFuAVsBEgEMAfoABgG9AHoAegDDAPQAGAEkAfoAqgBPADYANgA2ADYANgAwAEMAZwB6AEMA9P9i/wz/n/6G/p/+sf6r/p/+vf7J/lsAAAJJAQYAT/5D/ZL9n/5VADAAev69/h4AegBJAL3/t/7J/vr/egH0AbcBpAGeAbEBwwFnAW0Ayv96ADEBkgGAAVUB5wBJAAwAsf83/73+H/+T/0kA1QBzAJn/DP89/sP9jP2A/U/9ev3V/b39Hv1z/Mn7tvs2/Gf8sPsF+1v7Kvzh/FX9Pf1P/BL8Mf4eAhkGSwi4CPsH9QbcBdAE3AM3AzEC2wHPAQYChgFVAIb+DP0e/O37nvyG/XT/PQE3AhIC6AE9AMP/wwA9ABICdAKrA58EJQR0BKsDYQGZ/1z+7v29/m0A9AAGAUkBQwEkANz/4v7P/av9Ev7o/kkAsAD6ABIAE/8f/wD+bv0r/UP9nv36/bf9Sf7u/Rj+Pf+l/p/+Sf4l/kn+sf70/1UBGAFuAb0BvQG3AdsBWwFhAGEAmACqACQBkgGAAVUBZwGMAUMCPQPuApIBzwBbAPT/q/+AAGEA7QBo/73+hv6l/jH/H//o/qv+q/6N/+j/AACr/1b/pf5P/oD+6P7W/rf+4v4A//T+N/96/4D/6P6S/r3+z/76/j3/w/8MAO7/w/+N//r+mf63/kn/4v9tAM8A+gDDAGcAQwBPAIAAyQAGAU8BqwG3AbcBtwG9AaQBkgGAATcBJAE3AU8BVQGSAYYBBgG3AGcADAAMAO7/KgA2AEMAgADhADEBvQA2AAYCaP69AR4BngBbAWcBBgBVACQAE/8kAPT/vQAf/yX/mf4r/j3+GP4S/Z78gP29/Mn9Pf49/Yz9+v0M/ob8Mf1V/Ib+UP+A/nT/gP7i/1UA1v50/s/9kvxo/kP9DP4x/gz++v8A/1UCmQP7BqYJoAotCvsIxAYABFUCEgFo/+L+pf3b/T3+bv50/vr92/0S/Sr8SfxV/db+VQB0AQACHwM9BA0E7gP6Ar0B5wAeAL3/KgBtAOcAgABPAJn/K/+f/jf+T/09/Zj94v29/nT/VQD6AE8BzwCMACoAn/8M/5L+hv7D/sP+N/90/5//mf83/+j+pf6Z/oz+9P5J/+j/gAAYAasB9AEYAvoByQFbAe0AsACSAJ4AWwBnAJIAhgAqAGEAJAAeALf/bv+l/9b/KgCYAPQApAGeAb0BtwGYAU8BwwA9AL3/Sf8x/wb/+v7u/sP+vf6M/nT+Sf5P/m7+gP6Z/u7+Vv/u/1UAhgDhABIBGAHnALAAsAC9AGcAMAAAAEMAEgD0/5//yv+T/wb/3P7u/qv++v4T/0P/pf8YAG0A7QD6ACoBTwFPARgBBgHnAO0AAAH6ACQBZwG9AaQBbgExAeEAmAD6/2j/Gf8A/5n+kv6f/gD/K/9u/1b/t//u//r/1v+x/+L/AADu/+L/yv9DAGEAMAD6//T/7v/W/5//XP89/3r/dP9W/4D/q//0//T/+v/o/0MASQAwABgA+v8wAG0AYQBPAD0AjACeAFsAJAAYAFsAYQBPAE8AZwDJAMkAHgExAUMBMQESAb0AkgBnADAAyv90/1b/bv9o/z3/Jf9J/6X/t/+Z/43/t//6/wAA6P/0/wYAJAA9AE8AVQA2ADYABgDo/9b/yv+Z/3r/dP9u/3T/dP90/4D/vf/c/+L/4v8GADYANgA2AD0AWwBtAIAAhgCGAIYAmAC3ALAAmAC3AMMAqgCqAKQAgABVADYAJAD0/7f/hv90/3r/dP+G/4b/n//Q/+7/MAA2ADYAPQBnAFUANgA2ADYANgA9ACQA+v/c/+7/1v+9/7H/ev96/3T/ev96/27/gP+l/8r/6P/6/xIANgA2AD0AQwA2AD0ANgA9AEMANgA2AE8ATwBtAHoAZwCGAIAAgAB6AEkANgAYAAAA4v/Q/7H/w//D/8r/1v/W/+7/+v8qABgAEgAkACQAKgAYAAwAGAD6/xgAKgAqAB4AKgASAPr/7v/W/9b/yv+x/6v/pf+f/73/vf/W/9z/9P8GABgADAAkACoAJAAkADAAPQA2ADYANgA9ADYAPQBPAE8AVQA9AD0AJAAGAO7/1v/Q/73/1v/D/9b/yv/u//r/MAAeAD0AJABbAB4ANgAkACQABgAkAO7/NgD0/z0A+v8kAAYADAAAAO7/3P/W/8r/yv/c/9D/3P/Q/+7/7v/6/wwAHgAeADAAKgAYADAADAAMACQAHgAGAAwAEgASABIAEgAMAAYA+v8AAO7/6P/u/+j/9P/u/wwA9P8qABgAMAAwACoAKgAqACoAJAAMACQAEgAMAPT/EgAeAAwADAAwAAwABgAwABIAAAD0/+7/BgD0//T/6P/i/+j/DAD0//r/DAAGAAwABgD6//r/7v8MANz/3P/W//T/BgD6//T/9P8MAAYADAD6/wAADAAMAAAA3P8AAAAAAAD6/xIADAAMACoAAAAYADAAGAAAAAYAGAASAAAAAAAMAAwADAAYABgAKgAkAAYANgAGABIABgD6//r/9P/u//T/4v/i//T/7v8GAAYA+v8GAAAAEgD6/wAADAD6//T/AAD0//T/AAD6/+7/AAD6/wYAAADu//T/7v/0/+7/7v/u/+7/6P/u/+7/+v8AAAYABgAYABgAMAAeAAwAHgAMAAYA9P8SAOj/AADo/wwA+v/o/wwA3P8kAAAAAAAMAAAAEgDu/wwAAAD0/xgAAAAGAPr/DAAGAAwAHgAGAAwADAASAAYABgAGAAYAAAAGAPr/7v/c/wYA9P8AAAYAAAASAAYAHgAYAAwADAAMAAYADAAGAAAADAD0/wwADAAGAAYADAAGABgAGAAGAAwAAAASAAAA+v8GAAYA+v8SAAAABgASAAYAGAASAAwABgAGAAwAEgAGAAwA+v8AAAYABgAMAPT/BgAGAAYAAAAAAAAABgAMAAYADAAAAAwADAASAAwABgAMAAYABgAMAAwADAAMAAYAEgAYAAwADAAGABIAEgAAABIA+v8GAAYAHgAkABIAEgAMACQABgAMABgAKgAeABgAEgAMAAwADAASAAYAGAAMABgAKgAGABgA+v8qABgAHgAwAAAAGAAMABIAAAAGAAYADAAAAAYAEgAGABgAEgAGAAYAAAAeAAwAJAAAAAAADAAMAAwAEgAMAAYADAAMAAwADAAMAAwADAAMAAAABgAYAAYABgAMAPr/DAAGAAwADAAGAAwAEgAkABIADAAGAAYABgAMAAwABgAMAAYADAAMAAwA+v8AAAwABgAMAPr/AAAMAAAAAAAGAAYADAAMAAwAAAAGAAwADAAGAAwAEgAMABIAGAAGAPr/AAAGAAYADAAGAAYADAAGAAYADAAGAAwADAAGAAwADAAMAAwADAAGAAwAEgAMAAwAAAAGABIADAAGABIAEgAGAAwABgAGAAwABgAMAAYADAAGAAYAGAASAAwADAD6/wwAHgAYAAwADAAYAAYADAAGAAYADAAMAAwADAAMAAYABgAAAAwABgAMAAYAAAAMAAYABgAMAAwABgAAAAwADAAAAAwABgAYAAwABgAMAAYADAAAAPr/DAAGAAAADAAGAAwADAAGABIADAAAAAwAEgAeABIAEgAGAB4ABgAMAPr/DAD6/wYAEgASAAYADAAGAB4ADAAMAPr/EgAGACQAGAASABgAAAAYAAwADAAMAAYADAAMABIABgAMAAwABgAMABgADAAGABgADAAMAAYADAAYAPr/BgAGAPr/GAAYAAwADAAGAAwABgAMAAYADAAGAAYAGAD6/wYADAAMABIADAASAAwAEgAAAAYADAAAAAYADAAMAB4AAAAGAAYADAD6/wwAAAAkAB4ABgAYAAYADAAGAAwABgAMAAwAGAAGAAwADAAMAAYADAAGAAwADAAMAAYADAAGAAwABgAGAAwADAAGAAwAEgAMABIADAAMABgAEgAAAAwABgAMABgADAAGAAYADAAAAAAADAD0/wwADAAeAAwADAAAABgADAAGABIAEgAGAAwABgAAAAYADAAGAAYABgD6/wAABgAAAPr/+v8GAPr/BgAAABIADAAGAAwABgAAAAYAAAAGAAwADAAGABIAAAD6/wYAGAAMAAwADAASAAYA+v8SAAYADAAGAAAABgASABIAEgAAABIA+v8AABIAEgAAABIADAAeACQADAASAAwAGAAMAAYADAAMAAAABgAMAAYA+v8GAAwABgAGAAwAAAASAAwAAAAMAAAABgAGAAwABgAMAAAAAAAGAAwA+v/6/wAA+v8eAAYAEgAeABgADAAwABgADAASAAwAGAASAAAABgD6/wAA9P8GAAwABgAAAAYAEgAGAAwABgASAAwADAAMAAwADAAMAAYABgAGABIAAAAGAAwA+v8SAAwADAAMAAwADAAMAAYA+v8MAAwABgAGAAwA9P8MAPT/BgAAAAYADAAMAPT/DAAGACoAGAAYAAAADAAGAAYADAAMAPT/EgD6/wAABgD6/wAAAAD6//r/DAAAAAYABgAMAAYABgAGAAwADAAGAPr/DADu/wYAAAD6/wAABgAGAAYADAAGAAYAEgAAAAwABgAAAAwAAAAMAAAABgD6/wwABgAMAAYADAAMAAwADAAMAAwAAAAGABgABgAAAPr/DAAMAPr/7v/6/+7/AAAGAPT/AAAMAO7/9P8MABIADAAGAAwAAAAGAAwABgAMABIA+v8GAAYADAAAAAYABgAAAAAA+v8AAO7/+v8AAOj/9P8GAO7/BgD0/+j/AADu//r/+v8YAAYAEgAMABIABgAeAAAA+v8MAPT/BgAMAAAABgAGABgAAAAMAAYAEgD6/wAAAAAAAAAABgD6/wYA7v8GAAAABgAGAAwA7v8kACQADAAYACoAMAAwABgADAAYAPr/BgAGAAwA7v/u/+j/1v/u/9z/6P/i/+j/AAAGAAAAEgAYABIAHgAwADYANgAeACQADAASAAwABgDu//T/9P/u/+7/7v/6/xgAEgAMACoAQwAeACQAGAAYABIABgAMAAYAEgAAAO7/BgAGAOL/AAD0/x4AJAAAABIANgA2ACoAHgAYACoAPQAGABIAEgASACQANgA2ADYANgA2ADYATwBJADYANgA2ADAADAAGANb/vf+x/6X/sf/W/7H/n/+9/6v/1v/i/8P/w//W/6v/w//W/5//vf/0/zAATwBnAD0APQBtAGEAcwC3AGEAKgDu/6X/q//c/4b/dP+T/4b/sf/i/+7/GABJADAAZwCkAJgAVQBJAD0ABgD6/9b/sf/D/8r/t/8eAE8APQBbAHoAbQCwAMkAYQBDAFsAGADu/9D/Sf9D/0P/H/90/wAAAAAeAEkAKgB6ANsAgACwAMMAYQBbAE8ADABDADAAmf+T/2L/K/9W/zH/bv/o/+j/3P8YAPr/TwBbADAAPQAGAFD/Gf8G/7H+1v6x/kP+gP6r/rf+UP/i/yoAjAD0ACQBjAHbAdUBvQG9AXoByQCMAOL/Sf8T/4b+DP4G/u794v1P/p/+Gf+Z//T/KgCAAL0AGAFDATEBAAHbAL0AqgDbAPQA4QASAUMBSQGeAckBtwH0AQwCtwGxAW4B4QCSABgAXP/c/oD+H/76/Qb+Q/6M/hP/n/82AOcAjAHVAWICyQLDAtwChgISAtsBSQFtAOj/AP8f/qv9Bv2S/ID8Z/xh/O78Vf2l/WL+3P5Q//r/kgCeAPQADAHnAOEA1QBbADYAEgCG/3r/XP/6/gb/4v6G/r3+t/6Z/tz+3P6Z/sn+mf56/sn+w/6M/p/+pf5o/rH+vf69/sP+6P4G/1z/hv+Z/4D/aP+A/0n/pf/DAOEBpQOfBaYG4weCCWMKSwutC3YK6QgsB/QDHgFD/u36Qvjy9a7zffJ38qjyQfTO9nn5mPwGAJ8CqwW+CL8Kpws/DA4MCAusCcoHmQXcA3QCDAEwAHr/pf5P/lz+ev7W/qv+DP63/Un95/yG/Cr8yfvz+xL8Z/wx/R/+Jf9VAEMBsQEAAvoBwwGYARgB9P/c/rf9sPwY/LD7W/uG+/P7Yfwk/av9Vf7u/kn/dP96/1b/3P6f/nr+Sf5P/hL+Vf0r/dX8YfyY/Of8z/xP/ZL9K/2M/b39gP0A/nr/pAHiBQgKGwwhDkAQIhI1FIQU5RFrDyEMvgaxAe78ePeo8/HvRew/64Lry+uz7cDxKfYk+xn/1QF7BWMJiAt2DI8M3gunCu8ImQaBBG4DwwFzADAAKgAGAFsAcwAAAe4B1QHDANb/+v69/ar8EvvI+U75+fjm+ML5qvsG/p4AmAKlBLgGewhLCaAJrAmICNAGpQQxAoYAyf6M/Cr7nvrz+f/5nvrt+jb8jP0Y/tb+mf+f/6v/vf9J/yv/4v4f/uL9DP4S/mj+pf6r/jf/bv8l/wD/7v50/u79ev30/KT8VfzJ+1v7Yfsq+/P62/rn+iT7Z/vV+zf9mf9uAQADVQJJANUA5wC3AAYDkwQgB0sLCAunCkYO3w+iEFMR8A1XC5QJ+gO9/p77hfcv9PfwXu3w7AnuTO4h8Hj0tvjV/BIAVQKTBaYJIQvkCpQLSwugCSYIMgY3BA0EbgKSAOcANwGAAKoAWwCeALcByQAZ/5L+6P2e/OH7kvrh+R76zvn/+bD7yf2T/6sBNwSgBtcIaQnFCDIJRQmsB7IFEgOAABn/z/ye+kj6i/nC+JH5MPoY+xj9hv0A/sP/mACGAJ4AHgDc/zYAaP9i/kP+Pf4G/hj+H/4S/k/+T/70/U/+bv6M/RL9w/xP/DD8nvt/+kj6PPp5+Tz5Nvk8+R76pPrn+tX7W/yq/Hr9vf2x/cn+sACrBFIMkBQqGLYZ9BtiHb4fbyBVGZwR3gwfA8j4xvGy6KrhMOC13LvbW+Hu5EroX/Gw+kMCFApMDf0O2RNCFpwTkBHGDmoK4wfuBOEAegDJAIz+mf9JAmgCKwMfBIwCPQPKA4b/jPvh+c72hPSu89Px6/Ei9Mf1bPhP/XQBtwS+CPwLCQ+QEWsRjw93Do8M3QiHBQYC4v1P+2f5qfYX9rX28vWR9vP47fk8+wD9Vf2S/oYApABDAAwB+gD6AHoBJAHVAGEBtwD6/5gADAAM/+j+Bv43/bf9jPwq+6T7pPvh+gX7vPq2+f/5nvkj+CP4Tviv90L48/jm+Of5Yfqk+gz8bv1J/pP/qgAxBNEKNROAG+ge9R/jIQgjSyQgIyobhBEsB2H6ZO/o5jzeQNcP1OTT2dYj3JjiY+qQ9bcBJwvNERcWQhieGeEZZhcKFH0PbwncBBICQwB6/zH/n/8SAlYE1gRoBDcEYgP6AZP/mPu79sDyru+n7cztD+9M8ArzZveq/GICRAdkC2sPcRLZExAUQRJ3DwkNpgm+BbcCYv+M+575l/jC99r3yPcX9xf4kfnC+U76Hvtb+3P8t/0r/jf/cwDnABICgAOlA/oD7gP0ArECbgLPAD3/H/6k/OH7kvu2+n/6mPpb+iT6efpt+ir6Kvqk+Tz5Kvlg+PL3Tvhg+Nr4GPrI+gb8w/wM/Un91f29/r0BlAchD+0Ytx7EHyAiyyP1Ir4iVRwcES0Kt/+c8V3o8+B+2WvYu9jZ2HnfXOcI7CP1HgHRCNgPChR+EzsUnRXlEN4MfAuHBugCMQJ6/1z/zwJ0AoADUQhLCbIHaQeTBKQBcwC2+4T1x/ID8MXsG+127hXwCvU2+aT8EgM4CLMK/Q19EJwQHBE6DxoLuAiyBgADqgA9/4b9vfye/Bj8pPy9/WH91fwA/Zj8w/vh+tT5qvlt+s/6Kvue/ID+EgCxATEDVgRcBVAFKwRWA3QC1QAG/5L9Sfx/+wz7efqS+jz7c/s8+1X7Kvvn+nn6f/nO+Jf41Pcd9xH3QvcX+Iv5Z/rV+6X9Vf5c/1sAGACAAB8DxAc6D6oY+hwxHeIfaSElIEQf4Ri6DrgIYv+c8dDoJOJy27Xatduv3ADjIOqP7gX3hgJLCZsOihJrEusSlhPwDWkJSwn7BYACNwJzAEkA0AOZBFwFbwlwCu8HMgf0BPoAK/6F+RD0OvKb8F7tS+2J7xbyBfcG/HT/nwSOCXALag2PDwkPwA0bDPsIOAZuBIABN/8A//T+aP69/rf+q/5u/wz/vf1o/ar87fr/+Tz5l/g2+ST62/rJ/En/kgCkASsDNwS3BNwEqwN6ArEBQwBi/lv9gPzJ+6T7W/tV+8/7hvvh+tv6tvr5+ZH5vPja9873kfcX91T3Hfjg+Cr6hvuA/DH9Ev50/tz+DP/0/rAAvgbxDrwYmR6lHyAiRSRpI2MhHhoDD8oH7v1S8HXmed4K2OXXQdoF3R/kxeuP8Vv63AW5DEAREBSQEgQS0xGOC9YFjQSxAU8AHgFDANsA+wTdBqwIswxYDZQKXQjcBCoA2/xI9/Hw8O4z7nDsm+3Y79ny//jo/sMCrAe5C94MJw7YDo8N3gtRCe8F0AOSAm0Ayf76/rf/5wB0AZ4AMAAeACv/1f2G/Pn6f/l5+Mj3BfgL+Uj62/sx/tUAhgJiA8oDKwRQBPQDpQIGAZ//XP49/aT8bfw2/Hr8w/wk/VX9JP0e/DD7pPrb+fP42vfm9n72qfby9ov3i/iF+bz64fsk/QD+q/69/pL+Q/5i/lz/VgQ/DFoWaB7EIKYiDiWtJEQibhxrERoIw/6P8bfl892D14PVnNjI3PTjlOwo80L6PgW6Dd8RBBTHEiIQ9w6UCvQDwwG3AOL+GACeAckCewaaCQIL9w3rD0YN4whiBAb/TvqW9XDvGuwg7AjsWO3A8PL0f/oYAZkFoAk5DVgOrQ0bDcULUQm+Bm4DHgGAAAwAPf/u/1sBtwKxA6UDhgJnASoA7v3P+0L6f/jI9iP2qfY8+KT6qvzD/ioBaAOBBLcEjQTiAx8D7gE2AKv+w/2e/EP8mPwr/bH9Vf4M/u791f2S/Of6vPmL+Hj3wfaj9Tv17PXB9s73kfnz+j38gP3b/SX+Jf50/dv8nvxP/Lf/pgZGEOEbsiGCI/AldifLJdAh4BdwC7cBePbv6KPeX9h91CjWeNvb4XDrlvRh+voB3guQEa8ThBKzDUsKSwj0Ak/+2/2Z/u7/XANKBkUJ8A1rEK4QlhH3DzkKvQPP/Ar2g/EV7dDoMujj6gnuKPKR9/r8JQMCCV4M5A1MDoIMsglXBzgFKwMqAUP/vf5bACsCdANWBJkFsgYBB9wFQwOkACX+Qvu8+Cn3Kfad9SP2yPcq+jH9jf8MAYAC6ANKBL0DtwKkASQBmABu/5/+n/6r/vr+k/+9/6v/Pf89/hL9DPx/+nn4r/a79Wb1lvUK9n72kfcq+R76PPuk/L39aP6f/mL+jP0S/R78sPpC+m37hgFLC+AXeyKaJXYmZCfFJiAkDB1SD24CVPfj6hjgctkJ1rTWo9yY4z/sVPbn/FsBpginDn0QfQ8tCj0EKwKwADf+vf5uAXoE3QhADdIPxxKjFNkSLhChDFYFyfw19czureu/6ojp1+nq7XHzNvkZ/40D7wY/Co4LggoCCXUGAANPAckA2wCkAVsC7gI4BXsIUQqnCtcJrAfWBAwCBv7C+UL3WfU19M307PV492f6T/0kAMkCPQTDAx8DhgLDAfoAq/8l/u79vf5J/wYA7QBnAbcB1QFuASQAhv5P/B76tviR93L2lvVB9cf1ePf/+PP5sPrn+jz7f/th+0/7DPtb+oX6+fqM+4b8jPxn/L39XAOhDRIbTCd3Kuon/CXXI74gPBotDCv9IvJK56PeeNrs2Vrc1eLp6Rzxi/mf/oYABwXLCSYKuAf6Ae78Bv5VAegCRAaOCgkOxxHgFLsV1BXNE4kNhwaSAPn4rvEC7ZTqLex378bw/vLm9279DAINBYcFqwT0A3oC1QCSAEkA+v9PAe4D9QbXCbkK1wrqC1gMOQrQBRgBaP1t+xj6PPiR91r41Pn5+yX+4v9zADYAmf83/7f+Sf1t+zD7nvyS/jAAPQErAvoDUAVQBVYEyQLbAKX+sPwe+x76Z/nt+HP5i/pJ+zb7bfrn+ar5KvkF+MH25vWv9Vr2o/c2+RL7W/yG/VX+aP7J/cn84fsw+236z/qGAMYNbh5TLMcugyonKHAnxSSYGukIYPcC69vghNqW2ODaYeCy5zrvwfZJ/e7/WwGfBMoGGQSr/YX3PPi9/2kG6go0DlkSYBekGgYb8xi1E5QLsQKq+hb02O6a6/Drru/Z8zX22vdz+20AXAO9Aqv/w/x/+4b7evw3/iQBJQQsBwgLdw7fD30PUg0hC8QHvQIe/Sr5F/hn+xj6+fpn/JL+VQEfA6sC5wCr/+f8MPqX+G36f/kq+k/+gP90AhkF0AS4BuMGbgTDAT3+GP1V/QX7T/sM/Az8Pf7P/mj+9P70/LD61PdT9X70HPM78xD2o/dC+ZL6z/vV/UMAqgBh/bb6l/l5+Dz4Tvfy9tT3efmS+8n++wfzGJspPDPaL/YlbyKaI/QecQ96/N7tDehW5CThMOLc53btwPCo8gT1YPgk+m37GP15+0H27PQw+/UF0g5AEEAQ8hQSGmEazhbNEQINAQcM//L3ePXa9Z328vcd+UL5Wvlh+r38Ev5C+zX2hPRO9mD5sPue/YwBvgYtCnAL2AwDDvcNPwvjBu4CmACG/73/sACeAFz/Q/9PAXoDKwPQ/3P8jPvn+2H7bfqw+iT8T/3u/bf+ngDuAdUBJAH0/1z/Pf8AAEMBvQH6AGcAJAFbAnQCsABi/rD8GPsF+ez22vWp9Wz1O/Vs9sj4qvq2+vn52/mq+gz7pPr/+Z75kfm2+j38Sf1u/cP8Evwq/GH72/lz+U/7bgIoETIhuiuiK3wlxSU0KeMjwRJW/030Xu8O6e3hW+J86q7w8e8z78fzbfqS/BH5EPav9NPzQfZ6/BkElAleDCIQHRYeGW0XzRQWEiENnwRD/X/7aP1o/fP6c/qM/Hr+Bv5n/Iz7yPmQ9eXx/fGv9Nr3Z/qG/cMBewUUCb8LzAyIC2MI7wWrBI0DaAIeAiUDgQSZBFAEkwToBAAESQH0/ZL7MPoR+jD6bfoe+wD84fw9/lz/q/9o/6v+H/6r/cn9Bv96AIwBzwFoAjcD9AOGAxICNgBV/qT82/pU+Uj4wvcX95f2ZvfU+Db6c/q2+f/45vhz+ar5MPkL+Zf4kfhz+f/64fxP/RL8vPvD/PT9jP3P+m35HvuG/2oK+Rh2JHYn0CBuH8skSyQFGaAGevwY+nHzs+vL6sDx2vdl86fuzfMq+4z8YPXk76jyO/QQ83jzQvlDAoEGEwfRCaEOChLZEfEOvwtLCDgFxASZBMMD6AIAA/sEKwUfA/QATwAM/8j6ivWQ8wr1r/ZC9872tvnJ/e7/TwF6ApMDbgMMAu0AMQHVAgAE6AO3BDgGbwfLCOMIFAhKB6UFYgPhAPT+bv5V/pL9Vfw8+7b7kvxn/KT7GPu2+kj6JPrV+kn8t/1c/sn+BgCGAVUCdALoAWEBqgCf/7f+Bv4x/Un8jPv5+gX7Z/se/B784fp5+an4zvj5+Gb4+feF95f3F/iL+GH6Kvuq+jD6c/lI+oX6efk8+c75Nvur/ugFuxKTHj4i0B6YHGIgbyGqGeQNrAb6A+79tfU19Qz8pADJ+5z0HfZ5+9v7VPa68KjwrvA/7kbvWfR5+/T+n/6GAJ8EGghvCSYIjQb0BJMDDQQBBtEHuAiOCaAK0QomCl0JYwjiBR4Bt/x/+6r7Nvvn+Qv6+fvV/Fv8Hvwk/aX9Evwq+gX6Nvtz/E/9Jf/JAcoD7gS4BQcHJggmCA0H1gWfBB8E4gMZAzcCbgHnAE8A+v7o/ST9qvye+3n6PPrI+n/7DPzD/Ib9Sf7D/iv/pf+3/43/Yv89/1D/E/8r/1b/E/+x/j3+DP6l/Qb9evyA/Pr8YfzJ+0n7T/tC++36DPue+hj6C/lt+VX6hfqF+qT5qvlO+ov6kvpC+p765/sYACYIZRAKFZEVzRRaF8gXHBNqDVcJ9QglBqX/nvxc/4ADKwSMALH9q/1t/DD5WvZy9c31L/RT8uXyqfbt+5L+mf43/mj+w/+AAAwAw/8eAFsBSQI9A9YE9QdXCogKaQmyB9AGJQYxBHoCqwFPASQBjAAkALcAbgHnAEn/JP2S+xj71fpz+k76BfvD/DH++v6A/+EAwwGkAe0AjABbAVUCwwKGA5kE4gV1BkoGgQWrBGID4QFPANb+1f2x/dv9AP4Y/mj+sf6G/tX9N/0Y/eH8evxJ/MP8dP3V/UP+6P5i/+7+Bv6M/XT9Ev29/Az81fsY/MP8hv2r/Tf9w/xV/Hn7nvr/+bD5wvmq+bb5efqk+4D8bfx6/Az8yfsk+1X6EfrU+X/7WwH2CaIQlhI6EcERqRWXFbQP+wgBBjgHYgaGAsMBMQW+B9AF2wDu/cP9c/zm9zX0KPOE9BD2wfbO93P6W/23/nT9+foq+gD8Yf1J/VX9K//PApMFgQYaB28I9QhvB8oEGQONA24EAATuAsMC7gMfBZ8EyQLtALH/T/5t/NX6yPoA/O78+vwY/T3+ev/0/x//sf3D/SX/sACxATEC9AJ0BLEE3AOAA1wDDAMlArAAMAAGAaQBqwF6AfQAgAAYADf/Sf6e/Wj9bv0r/b38Ev0G/m7+6P0Y/bD8ev2l/VX9Sf1o/Un+Bv8l/0n/Yv9o/wb/XP63/ZL9N/16/Kr7QvtJ+1X7GPu8+jz7Sfsw+kL5Kvk8+tX6C/qF+Z75sPp/+8L6qvmF+ZH5+foMAAIJihGdFCgSNBCQEikULhDFCSAH3Qi/CfUG+wSHBw4KjQbc/hH52veF+LX2ovQQ9WD3Z/nz+c75MPqk+rz5//fg9vL3qvvK/+gB6AITBLIFbwa+BYEEygSTBZ8FmQUBBj4HaQg4CKYGPQQMAp4A9P+N/73+aP5V/lX+7v0A/dX87vzh+236SPrV+3r+bQDPANUA+gCAAegCGQSfBI0EBwQ9BJkEEwVuBR8F3AP0AYYAPQCSAL0A3P+Z/tX9W/2S/QD+9P2A/e78Q/yG/En9Sf76/tb+T/4G/k/+N//W/43/Bv+S/nT+z/5o/8r/n//6/mL+t/0A/Wf8nvue+qT5VPl/+Sr5kfhC+LD4MPmL+WD5sPlb+k762/nt+eH6T/vt+nP5Hfnz+oz+1gU6ENQX7RhTE4kNZAwhDq0NaguaCicMuQzFCZkFbgMYAuL9C/f+8gT0C/mA/bH9QvsL+GD1hPS19NP1wvjh+wb+sf+3APoBpQNWA6sBSQDtAD0EJggzCgIKFAmmB7IF1gNDAkkCpQMrBJMDgALPAU8BEgBb/Rj7c/o2+/r8T/6f/qX+Jf4r/Yb8W/xD/Vz/bgFVAoACtwKZA5kEgQT0Az0EMQU+Bm8GnwVoBAYDsQGkAOj/gP+l/8P/+v69/Wf8Evw2/Lb7f/sM/AD9vf30/cP9dP03/ST9gP0l/iv/AABDAAAAMf+Z/m7+ev70/Tf92/z6/NX8DPzb+rD57fgj+ML3Qvha+Cr5MPoY+pH58vcj+NT5+fln+Z341Pg8+UL6twE6ELEdHx54E7gGjQXFDK8TCxYEFMcUFhLwCz0C+fsx/WL+DP4L+mz4i/qG+x34ffF27C3tzfLa9v/4I/m8+Vv7T/vt+ef5vfxbAZkFuAdpCF0JggkOCIEF6ASaB0sMZA6hDLII9ASlAmcBBgEYAeEB1QE9AGH9Yfr/+LD4+fha+R76BfsM/FX8pPuk+/P7Sf36/r0AgAI3BEoF3AXcBaUFhwXvBdAG0AYlBgcF4gPPAvQAQ/8x/uj9w/1h/W38f/th+kj5Hflg+ST6JPvV+2H8BvzV+yr89PwA/pn+Sf/o/xIAvf/J/uL9nv3D/W7+pf4G/gD9HvuL+bD4KvmS+lv7JPv/+c74Nvja9yn3zvYp92z4f/kw+Z76TwGoD/MaQhleDVsCVgaWEVUZWhg1E+URzRCIDCUEVf7P/jcC7gRoA5P/pPty9+XyzO+P8B32DPzP/Hn4kPJx8JzzefgG/Mn8nv1i/4ABegK9AXQBnwJcBV0IYwp2C5QLCAp7B40FkwWBB3UJAgliBh8DbgHPAAYAn/4e/cn8JP1b/YD8kvpU+dT4KvlC+tX7jP2G/iv+DP3P/EP+QwGrA8QEkwRWBNYERAX0BOgDYgMNBNAEvgRQA3QB3P+Z/vr9DP5i/j3+mP1n/Gf7pPqe+iT7nvvD+/P7Z/zJ/Ib85/uS+wb8JP0r/tb+aP5P/YD8jPxb/Rj+Bv7D/ar8vPv5+jD7+fsq/OH7f/p/+Rf5i/lC+nP5//ja+JH5Hvr/+k8A8ApTFC8UjgoMAgcE3gwpFFkTlQ9YDkwP5A3KB08Bbv/6AWIGvgc+BW0AZ/uv9hb0lvTm+J79Pf+k+xz1HPHf8Wz2pPoe/D38c/y3/YD+sf3b/AD+kgHEBWkIiAhQB74F6ATEBCwGewhXCiAK0QcTBVYDAANWAwYD2wHJADAA6P8Z/yv9Sfth+vP67fuw/LD8MPyM+0L7kvt6/PT91v9VAaQBDAHhAJgB+gKrA4YDKwNoA+IDDQQxA9sBtwBtAOcATwHPAKv/kv7u/Yb9Sf0k/Tf9N/3n/G38PfwM/D38JPzh+7z7+ft6/J78GPyk+9X7vfyY/ej9T/0S/E/7vPu3/E/99Pxh/EP8bfyA/O37MPvh+lX7JPxV/Az7+fnh+1YE2A5HE1IOEwWSAUoFywshDjkNLQ0bDyEPGgqxAkn+9P56A+MGOAfuBIYBSf0F+cf1ePZV+lD/zwCl/Uj4HPV49aP3PPlC+rb7Sf4kACX/kvzz+h78dP/iAj4F+wW+BcoEmQPoAnoDJQUaB+kHLAefBYEEGQSZA4YCgAE3AZ4BAAJnAeL/AP4M/dv8K/0k/Rj9Sf23/av9DP2G/BL9Mf5D/9D/HgCMACoBngG3AVsBMQGMAfQBSQIMArcBqwF6ATEBbQAAANb/+v8AAND/bv/0/oz+Pf7o/Zj9kv29/ej9w/1V/RL97vzJ/L38mPy3/MP8AP09/W79pf1u/fr8hvxt/Jj87vwr/U/9mP2x/XT9DP2q/HP8Q/xb/HP8c/xn/Db8Z/xJ/gwDUQkCDfwL3Qf0BNYEgQaNB6YIlAozDY8NpwpiBQYBev+MAHoCtwMHBG4DHgKf/x78efnz+IX6YfxV/dv8Q/zJ+yr7//ng+AX5z/oA/W7+kv6Z/lz/WwDDAEMA6P+qAEkC7gO3BMoE6AT7BJMEgAOxApICbgNEBGIEsQOxAtsBNwFJAD3/z/4A/5P/t/83/27+6P2l/WH9AP0G/YD9Pf7u/lb/k//c/2cAwwCeAG0AkgAGAWcBngG9AbEBsQFuAeEATwDo//r/QwBtACoAyv+T/27/Gf+x/nr+Vf56/oD+Vf4G/r39q/2l/ZL9bv1b/XT9nv29/ZL9hv10/YD9pf2r/ZL9kv23/aX9kv2G/Z79q/2S/YD9hv1b/T39Hv3u/Mn8qvxb/Db8sPyf/s8CPgfRCd0J7wjvB/sGnwUxBAAEygVjCNEJPwmUB/sFdATcAgABev8M/27/DABtAPT/Pf/i/pL+Sf1z++f5c/nO+bb6vPuk/Jj9dP6Z/gD++vyG/Az9Jf4x/zAAYQFuAm4DwwOTAwYDnwKxAr0CjAKGAvQCjQPiA8MDYgOfAu4BMQE9AHT/Bv8T/2j/mf90/z3/Bv/J/mL+9P2M/Xr9vf0l/ob+AP/W/7cASQFnAR4BwwCSAFUANgA2AEkAtwAeAVsBMQH6AL0AkgBPAMP/Sf8M/xn/AP8A/xP/H/9J/yv/sf4M/nr9Hv0S/ST9Yf29/Un+sf7D/sP+pf6G/mj+T/4Y/gz+DP4x/k/+Yv6M/rf+AP8T/8/+dP4M/tv9yf2x/Yz9nv3V/eL9z/2Y/Yz9Q/4qALEC1gRWBnsHPgiBCO8HjQaBBRkFAQW3BFwEEwQrBG4EdAQfBGIDgAKSAXMA7v6S/bf8hvzn/Df9JP1h/ZL9kv1V/fT8kvxJ/E/8Z/x6/M/8dP2Z/qv/jAAqAb0B9AESAtUBtwG3AckBJQJ0Ap8C4gIGAzEDEgOrAjcCvQFbAbAADAB0/xP/4v76/hP/Pf9u/3T/bv8Z/8n+hv5V/jH+Q/50/sn+Vv8AAJIAGAFnAXoBZwEYAb0AYQASAOL/w//D/8r/HgBbAIwAgABPACQAyv9i/8/+ev49/kn+hv7D/vT+AP8T/xn/Bv/D/oz+vf4M/xn/K/9c/4D/hv+T/2j/aP+G/6v/k/+l/43/Vv9o/0P/9P7J/oz+Vf4A/gD+Pf5D/iX+Sf5c/m7+T/5P/h/+AP7b/Qz+Bv+YACsCqwP7BCwGGgd1B0oHmQb1BUQFkwS9A9wCHgLJAb0BwwHVAcMBwwGeARgBKgAT/x/+Yf3b/Fv8GPwA/En8vfxD/bH9Mf6M/uL+4v7D/oD+XP6A/tz+bv8kAAABngHuAUkCgAKSAoACaAIeAs8BngE9Ae0ApACkALcAqgCqAIAATwD0/5P/Jf/o/sn+kv5V/lX+XP6l/hn/bv+r/wwAVQCMAJ4AjAB6AKoA9AAAAecAtwC3AKoAvQDPAJIATwAeAPT/3P/W/3T/Gf8M/yX/Sf8M//T+Sf+G/4D/Q/9o/2L/Mf/i/s/+pf7c/h//Pf+Z/7f/yv+l/+L/7v+3/1z/gP8x/wb/H/8M/z3/Pf8x/yX/K/8Z/1D/Q/+x/kn+Ev70/e79AP4A/vT9Pf5P/k/+dP56/oD++v7W/xgBNwKNA9wEEwa+BvUGvgYyBnsF0AT6AzcDjAIAArEBtwGYAYYBngGSAVsB4QA9AGL/gP6r/Qz9nvxP/FX8jPzu/DH9nv3i/UP+pf7o/jH/bv96/3T/mf/o/x4AbQD0AFUBvQEGAj0CYgJVAkkC+gHDAYABEgGwAE8ABgDQ/73/t/+T/3T/Sf8f//r+q/6S/pn+vf70/gD/z/4G/1b/mf/i/0MApADnAAABKgEMAfoA4QDnAMMAwwCwAIAAVQBbAHoAegAeAMP/dP8T/+L+q/5i/kP+Yv6f/sn+Gf89/wD/DP8G//T+Bv9Q/xP/gP6f/ob+q/7o/iX/AP8f/+j+N/9D/zf/Q/+T/8r/3P/K/2j/9P5u/gb+w/2M/Vv9JP1D/Yb91f0Y/kn+ev50/kP+DP7u/UP+Yv8qATcDnwW+B6YJAguIC/wKuQlECLIGJQWZAxICEgFPAOj/vf/c/wAAHgBDAEkA1v/W/oz9Kvzz+vn5c/lg+eH5sPq8++H8Ev4A/9b/jAAMAWcBhgGYAZ4BhgGkAbcB1QFPAtUCdAP0A1AERAT0A3oDvQLoAQABAAAr/4b+H/7V/Zj9pf23/QD+H/4x/j3+N/4S/gb+9P0A/kP+q/5D/wYAzwCMASUCqwIMAyUD4gJuAugBZwG3ABgAmf9D/xP/DP8r/27/dP89/yX/7v6G/gb+pf1o/UP9Q/1u/cP99P1o/qX+3P4f/xP/H/9W/2L/+v7o/tz+N/90/5n/yv/W/xIA+v/c/6v/Mf+3/hj+dP2q/Pn7sPuk+7D75/tV/Mn8Bv0x/Qb9t/wq/Lz7Evyr/W0A1gOgB0sLiQ7rEMcR/RDSDg4MJglpBr0DsQE9AEP/7v4G/2j/yv8MAD0AHgBo/+L92/u2+cL3O/Z+9ZD1ZvYX+Db6jPyr/mEAjAFVAugC+gLDAm4CPQI3Am4CwwKTA3oEewWHBmMHpgdKB40GMQWGA8kBAABP/gb9Hvy2+577sPvh+0n8nvzu/O78z/ye/Gf8SfxP/HP8+vwA/m7/+gBPAr0DxARiBZMFSgWBBJMDbgKYAeEAQwDK/5//q/+9/7f/hv83/7H+GP5o/ar85/th+xL7DPtP+9v7gPxb/UP+AP+f/wAAMAA9ACQA9P/K/4b/jf/K/wwAYQBbAPr/Yv+G/oz9nvye++H6Yfok+gX6NvqF+s/6PPuM+577Vfv5+nP6Tvpz+4b+AAPRCGoOWRP5FucYFxgjFZwQlAv7BkMDcwBu/nr9GP09/fT9pf7J/uj+mf7J/U/88/n+9kf0cfKo8TTy8vO19jD66P0xAasDMQWlBZ8FYgXiBEQE0APKA1AEEwXvBQEHAQjXCFEJOAk+CHsGKwSSAfT+jPxz+v/4c/iw+Dz57fmk+kL7tvvn+wb88/vP+9v7Q/z0/Nv9Gf+kAGICKwTvBUQHOAimCFEIpgdQBtYEGQOSAWEAUP+S/u79nv1h/Sv9t/w2/Lb7KvuS+hH62/kY+nP6Kvsk/Cv9Sf43/wwAngDhAPQAzwDDAMkAyQDbAAwBNwFPARgBmAC3/4D+Ev2k+zb67fjm9yP3C/dC9/n38/jt+eH6jPvJ+0/7efp5+eD4i/ox/5MFlQ07FYAb9R9dIaUe+RicEawJEgNo/v/6Wvlg+c754fpn/Cv9nvwS/DD74fn/9zX1A/LM7+ruM+9G8cf0MPl6/oYD0QeaCnALywp1CQcIewZKBdAEPgV7BgcIYwlLCpQKCAoICVAHnwSSASv+2/pI+E723/SK9Gb14Pad+Fv6efs2/ID8evxP/En8c/wx/bf+mACSArcErAZdCLkJcAqICvwJAgmsBzgGsQQZA4YBMAAT/zf+T/1D/Dz7Vfpn+Zf4zvdU9073wvfU+Gf64fuA/T3/1QAAArECBgMMA88CaALuAasBTwEYARgBPQFVAQwBVQBc/zH+yfxC+7D5Tvgv97v2bPZB9mD2u/Yv96P3I/h5+KP4wviL+Db4PPhh+tz/DgjHEskcPyR3KeUq8CbuHlMU0Qgl/0j5qfWE9Cn2zvcj+UL7z/sR+sL3ZvXN8lnxp+8/7RrsJ+1G7xzzl/hV/h8EFAp9DtMQ8RDSDo4LDgk4BwEGHwYmBw4JRQuhDLMMPwtjCMoEHgE9/VT5r/Xx8rrx6/GQ8q7zwfU8+HP6evx6/Z79bv0r/R79+v1u/0MB3AMmBwgKLQw5DQkNIQyzCqAISgYrBG4CSQG9AD0Ak/+x/r39gPxJ+7z52vda9or1WfWp9Yv2Hfgq+qr8UP9nAQADKwTiBDEFAQV6BJkD9AKSAmgCPQLoAb0BYQHPAPT/gP6k/Kr6nfjg9mz1ZfTB8wr05vTy9fL25vfO+Lz5JPo8+gX6nvk2+RH52vh5+QD83ALqDO0ZiCVyLSkxeDBxKZ8dNA8MAbv1A/BS7onvKPOv9n/45/mR+UH2xvFM7sXr6epw69frZO2i8ez2GP0ABGoKdw+iE7sVOxVlEicObwl7BrgFMgagB78J3gvYDBsMJgkxBDH+YPii81LwWO7F7cDucfEK9VT45/oY/av+Yv+T/yX/ev5V/jH/KgE3BMoHGgvkDeUPZRC6Dr8L6QcTBB4B6P50/R79bv0M/qv+9P5V/s/84foR+R33kPW19N/0O/bO+Pn7Q/9DArEEJQa4BjgG3ARJAysCvQESAqUCSQOrA6sD4gKkAcP/dP1V+0j5qfd49nj1tfRy9Ob0x/Xa9jb4Qvkk+tv65/rh+rD6qvpV+2H8pf2G/qX+XP6S/U/8DPwMAKYIlxWCI6It1DGRMK0o+hrLCjD7m+7d6JTpiO0c8+D3Nvl/+Nr28fIJ7iDrS+r869jvx/M79+37EgFpBogMtBFyFKMVFxVHEiEOPwnWBMMCgAPKBT4I6QljCfsG6AJo/Uj3xvH27QLtcO408Xj02vf/+sP93P/hAEkBQwESAVUBDALVAjEEUAbXCI4LXg2nDWoMMwoHB5MDQwCY/bb7Vfvh++78kv16/eH8BvwM+9v57fij+EL5yPr6/Fz/vQGTA+IEsgWZBasEaAMSAkkB4QC9AM8AJAGYAW4BHgEwAG7+mPz/+n/55vjC+Ob4qvme+u361fpV+kj5c/gj+FT4I/kk+lX7yfxJ/lz/n/8l/3T+vf16/Of6TvnO97X27PWQ9SP2wvqHBewUaiZnMyU4ZzSDKlsaoAcR9z/rUOdR7HL0BvyeAEn/Z/kK8+PrgOV04k/kpunA8RH6vf90BGMJDw2QEDsT2RKJENgNcAqNB9YFBwViBvAJ6gxGDWoKMQSS/HL1zO/e7L/sA+9B8zz4T/wl/mj+4v2e/T3+Jf9DAOEBXANiBekHywnXCmoLcAuaCssInwXPAQD/T/0G/eL9H/+9/9b/Bv9J/R77//jU9zz4GPpz/Pr+MQGxAiUEAQX7BG4EJQPJAQwBcwDu/9b/PQDPAGEBMQE2AKX+AP3V+3n7jPvn+3P8AP1u/Yz9bv0Y/Z78Q/yG+576kfm8+JH4KvkL+hj78/vD/Fv9W/2q/O37VfuG+xL8c/wM/Lz7Vfra+JH3KfbH9AT1JPpdB20aNS8aPLI9tjTjJH0QW/3w7uPnpuqQ9AD+jAI2APj2gutD46/dC91V4QLqlvSl/yYHoAqCDEYOqA/xEWsS6w/2DNcKrAl2CpQLSwzqDNgLhwcAAM72Fe4g6aDp3u3T8/P42/sx/bD8DPuL+bb5bfw3AWIGSwo/DHAMlAsUC6AKaQnRB+8FqwPDAcP/t/2w/LD8JP1o/aT8yPqj+Kn3I/hO+pL9yQC9AxkG3QZ7BhkFegOSAnQCnwJ6AtsBzwCl/5/+pf3V/Cr8yfue+9v7T/z6/Nv94v6T/8P/H//u/eH8c/zh/LH9T/6A/rH98/sY+jz4ePdI+ML5T/uk/OH8W/zP++f6//nC+Wf5tvk2+tX6wvq8+tv5o/i190H2cvUv9m795A4tJso860c6Q/8xKxz7BMDyrOl76Lrw4fwGAx4AR/Xc5C7YQNRG1inevuk79gwCswtSEIMQ5RDNEfgSxxSpEwMQAw6PDaEO2RBAELMLXAWk/HfyJuoN5QblIOt+8+35bv09/GD48vXT9an4kv6TBUUMrhG7EygSIQ8/DAIK+wi4BzEFSQLc/+L9AP2G/J77tvow+Rf3kPUW9Wb2Yfqf/3QExAcHCO8FMQMGAZ4AvQG9A/sF+wb1BT0D4v+w/O36qvpb+2f8K/36/LD8gPyM/B79w/0r/jf+jP3n/BL97v0G/yQAyQBnAGL/t/0S/Nv6//lz+Vr5Nvkd+an4//da9xf3Nfe89wX4tvhC+R76f/tb/O37vPpm+Fr2FvUQ9XP6LQ1eKDREBlNISx4zThe9/hXvs+un7s732wHDAov5XemV1pPLe85Z14bjXvB5+qUEjw6KE5cUuxXNFHgTQRNlEQkQihIvFtsYbRgPEJIBFvSs6D3iEuOs53zucvZn+kL5/vWu8Rvw+PSA/JkEiAwQEvgUOxaQFFkRmw5LC+kHYgWAAkMAH//6/ZL8mPpm9v3xA/BG8Pfy8vcr/RgCDQZ1BwcH7wYfBo0GSwg4CYgJGgnjBvQDHgEY/Tb6Efk8+Ej4C/lI+Tb6jPs9/Of8Q/3D/Ab9q/56APoBPQNDA2ICTwEf/579hv3b/av+DP/o/Zj7Hflg9s30tfQp9a/2l/hO+c74Qvdg9Sn1lvU793n5Qvvh/BL+JP1J+7D4u/QE9Bf4ywmnKGxIIFm9UW42CxYS/g/vJ+1x83n7YQFo/sbwZ98/0BjIss2c2TflCfH5+4cH5hMwG4YbyBlIFqgSLhJlExcWGBslHpIaUhCSAJXv0OTb4Jjh3OZ27TrxwfPr8wnyg/Lf9AX5ngBRCC0OBBRnGBIa5xkjFkYQIQtpBmICtwCN/z3+w/xO+cHzle5R6ybr9u7B82D4ev29AegEpghqC3ANQA/rD64PcQ/eDScLewjKBBgAbfu79k3zZfKD8mvzKfUj9gX3f/hI+oD8aP8lAo0EpgZQB3UHJgcyBiUEwwEl/5L8KvsY+wD8vfwA/H/5EPb38q7xHPMX9s744fmL+bD4Nviv9zv3u/bs9qn3vPmS+4z8jPx5+x76c/js9V/zlvREBHYl/kk6YJpY1jdBFOH78e+W8eb47v1uAfn5rOhN2B/Mqseyz+za9ONY8FX9lAvJGywjsR82GkcTug5TEu0X0B0mJKAhqRRJA/fvQ+IF4AziDeVX6XzsOe7l8Inx8fFH9ob7wwC4B7oNKRQ3HLgggR9bGi4R6QjWBKUCqwFVASX+VPnT86Ht++i4547pZO5y9Cr5JP1VASUFlAjwClgMlQ0DEN8SYBVUFS4SjwzjBlUCVf5J+4X4cvW68pXw8O4b7zrw3/Ej9ZH4HvxVAB8EAQcCCTIJgQh7CAEIXQemBlYEQwHi/RH6ePdB9lP15vQo9DryxvDk7wnwa/Fl8zv1Zvek+VX7Nvwq/EP8JP2x/zEBt/+G/CP4L/Tf8n3x0u/Z8zMLwjOtWrxnz07LJAcFNfYE9dv7vQArAo3/WO7N2izODMjKy6jV1Nt05TX3MwpuHeQndSJIGN8RoQ3HEXobCCN9KAglLxPi/cvrbeB54M/jSeRu5uPofOzr8BbzhPPy9kL7YQFpCX4SdBvpIggkkx5mFQgMDQYBBegEwwPhAJj6x/Iz7FbnJeZ76NHrrvBs9oD8ygNXCWQMgw1YDdgO5RHmE7UUohM6D0UKHwNh+zX28fLf8bTy9/Ko8jv0bPWX9qn4PPpo/QYC6AUCCS0L1wogCYcGhgKr/6v+Mf4A/1b/w/0e/B76c/hC+BH5l/k8+jz6i/lC+dT4L/jy9uz0cfOc80727fnn+237GPoF+ef5SftD/GH8vfzI+XL3O/W08uvwa/CW8uQKSTWmWPllBk/8I8oHJPyj9yX+7QC3/ML66epG1oLPPsyyzLTVItr643r9wRPjIgMqmR+pE1kSkBAXFo0h3iVXJZIcdQXZ8kTo7eDh4Krhwt+A5bPr8e8Q9YT28vUq+vr+pgblEnQdvyNqJkogoxaDDqYHsQNWAzYAYfy8+DTyauys6Xvm6Oaa6urtovRo/b0D4wk5DTMMxQwJDkwPChOdFeYV4BQoEPUHNgAL+fjzfvNs9E72kfeE9sHzWfKc8V/zBfgM/cMBOAZ1CNcJDgrdB1wFYgPJAQACVQISAoABN/+G+2D4FvU19Ir1zvbI+G35Qvff9HHycO+D8an1u/US+6T7sf0M/6v/Yv89/8/8hfqe++f8T/3P++D3qPKu76HsS+yW9EcVsz8bX1lhuUCkGRkDbfuk+sr/Yv6w+Wz0N+QP1tLSJtE50IPVr9ot7JQKUCDSKbQo7Rp3Ef0QZRD/FlYhjiJiHcYOBfmU7BPlc9+R3kjeKuDF6cDxKfhD/Qz9APxi/+ID/Q1VGkQi6iSgIZEX5A4mCCUCdP4q+xH3cvU08yHvFe1F68XpAuwh7031Gf8HB0sMjw/ADnAN/Q3qDWUPxhD9Dq0NzA0IC40HpAE8+EDx6u0V7Q/xEPYX+Mj4i/e79XL3HvskAGgFCAnwCt4LXgszCsQHAATJAMP98/s2/L38mPzV+zz4wfQK80Hz4PV5+UL7T/vU+U72CvVa9sj4jPs2/GH6i/lt+uH7Q/8MAGL+Nvvs9wT2Kffn+XP55vZS8VfsjutA70/8mR94SFNiIl/dPO0X+wVQ/wz8KvwF98bwjuvz3WrU6tNF0azP0tN53X70ihPeJ1ku9ynVHNQU7BPNEzwZDR89HH4TJQQc8iDpMePO3FPbENtb3+rrzfU3/VsCqwGeAdAGMwyXFcQfYyOBIu4cNBIICj0D4fvy9pDzlfBG8Njv3u2/7aftZO198JD19PygBkAOBBJBE00SQBGWEZYRXxCJDgILYgaYAW38//fT83Hwoe7G7pzxHfYw+kn9K/8AACoBSQOfBUQIRQomCpQIBwa9AlUApf3h+kj5Wvhg+Of58/pt+wz8z/t/+z38JP3b/Yb9qvu2+Cn3Kfba9ez2Efjt+IX5Efla+KP4Nvow+9X8yf0A/nr+hv5t+3P4hPVA8VLuoexj6yfvqwHrKUlPZmWOWJcx2RLEBBj+dP03/V/zau105ZvVJ9Ih1RTSLdQE2UPjaP1bG48qCzFZLBkeIxaWE7oRhRj6G4QVSwpC+o7qjOTb3zXbKdqv2yXj8fCq+9wDvgfdBtcHjgvTEOcZKyCNIZkeIxe5DHQEhvyQ9YPxwO5F7WTuOu9975vwnPFl8lT2pPw9BAkNzRIKFPISzA85DHAKiAiBBiUFNwNVAZIAhv75+5f5wfap9Wz3kvof/8kCsQM3Ao3/t/wk/Kv9DAAYAkkDwwLoAfQAAABW/3r+z/0r/gb/twDJAbcAEv7n+nj3ePaR96n4hfqY++352vdg9vj05vTT9a/2nfd/+WH7hv/oA+IF1QLJ/dT5wvda+Sr6o/f49H3y8e/k7nDuS+xk7S/27BZAQq9jpGrIS74iCApn/K/1tffT8yDssunO3JrQfNMC09fQ39fn3zTxtBG0Kf8ykjYJKtsZihQhD5UPHRhIFmQMdP9F7fPhmN9N24TZkdzb4eTt4fofA9EJOQ0VDToOqA8EFAAbMR/cHYsYZA49BMP7EPTA7kXtCOze7F7vZfH+89T2l/da+Zj9GQOOCkcR0xOiE/0Qvwz1CJMFpQIAAWL/+v3J/Db8PfwS/iX/jP5i/kP+H/+SAQwDGAJVARP/+fth+yT89Pyr/tD/DP9J/s/+z/4M/4YAAAG3AVADQwN6AT0Aev5u/fr8pPvh+Qv4l/aQ9Sj03/Jx8nHyhPNU9ov5kv3DACQBEgHbABgAXP9P/gv61PeF9+z1TvdO9zTyIe4V7d3pWO0d+UIXm0GKYotol0vdJJQJmPrN89/yg+/26hnoyN0b0vDSLdOJ04TbjOTm9VMU9yqwNE83gytnGxAU6gsmCuUR5RE/Cqv+iOw24BfdItoK2anddOSi8M/+ewc5Dd8QkBD9DxUQeBIkGKscWxwFF9IMngGp+IPwGuyt67nr8O3x8H3y7PV/+bD6t/yf/+IC1wmWEP4TixWWEyEOXQmNBO0ABgGAAUMAE/9/+533qfby9f71I/iR+Rj8mAAZAx8FmQarBE8CYQE9AMkANwM9A1UCAAHJ/UL7kvrn+cj6Sf2A/gwAAAFJAMP/4v7o/WH9Hv30/Of8Q/we+zz5R/bf85bxg/B98rX24fsSAAYA9Px5+dr3Kvlh/aQAQwFc/qT5nPQo8UDv0u4h72Xx9P4gI0FH02GPXtA5bBVQ/6jxXvB49t/z9+/j60HbgtGh1djTx9i35ILsN/+YGvcoSDHCMnUjyBUbDx8GrAlZEn0QGgpo/RTqbd/a3P7ZPN2T5A7rYPelAlAHPwxYDqcN8Q7SD0cRhRYwGnkZuxRLCsn+x/XY7ifsXu1e7wPy2fQd9kL4SPoY++78HgAfBFEKNA/rEFkQIQ1LCFwEGAHJ/hn/dP9D/2L/vf1t/En9GP63/4ABzwGSArcE0AXKBeIDK/+e+jz4L/fI+JL7DP0l/nT+H/5o/tz/YQGxAiUESgRiBCUEjAIeAT3+nvt5+ir5i/hy93L2x/XN9X72L/YQ9v71r/ZC+ef8K//6/gb+BvzV+k/7jPv5+tv58vaE8zry3/Ab717tJ+xk7g4IkTNXWCtvZF2jMLoN8vdX7H3yz/rB9qjzpujR0I3LOM+yzbXZ1uaD7+MH+yCPKgszzjCTHv4T0gyBBRsPYRkvFsANtvtJ5FPafdiu157fxOgh79T5ngASAocG6QkCC5UOChFfE2cZgB2SG/4VAguG/q/1cfBq7/fxwfQ79Qr0HPI68c3yI/aY+uL/nwWtDFkRrxNBEwMP6grvB/QE3AOZAwYCt/+A/HL3HPTZ84r0o/eS+579mADcApkDHwQTBFsCtwHPAYAB7gFPAmEAbv4q/G35PPnC+rf81v+GApICvQFbAGL+GP49/27/XP8l/739jPxh+xH5I/aK80zxZfD38jX3kvvi/sP9nvpa+J33HvoS/sr/SQBi/mH7yPcj9VPz9/BA8mz03AQJKUdGaVgLTAgn9QdC+FnxNfcrAoACgP3l8+bbINAI09jTed7Y7d/0dAP4FJgZGB30HkEUpw7wDaYJUhCAG9UZIhLoA3DugONb4+7ie+k08tn02vhV+mz2ePdV/KQAxAdGDsAQ4BTOF+wVohK/DJMEYQD0/VX8Yf2S/ar61PYQ8l7up+9x87b4z/6AAywG3QcmCLgHywiaCdcJrAnEBxMG9ATPAkkAMf15+ez3vPhn+tv8+v4x/zf/4v4Y/j3+N/8eAFsBDAKkAQYB4v8A/kP92/wY/SX+4v5i/yQA7v/c/wwAJADJABIB1v9V/hj9+fsS+075F/Zf82Xx8fCE84T2C/n/+eD4hPbm9x77Gf9PAu4Bev4k/Hn4Wvbf9IrzIvIQ9Fz+7husOxJQnUlMKpQJf/mX9sn+GwyEEYIKT/yS4W/OAc7w0zzfOu+79u79RAd7CCYIXgyCC4gLRhC0EPgUyh43H04XfAvn+Q/v0u8c8Uf1Vftn+ov2TfLj6pTpuvBm+PQA+wgOC78LUgzjCSAJGgsIC0sL/AvpCaAIAQfDAR78yPep9K/1nfiS+iT8yfzV+4b7EvyM/ckBewU+B90HgQbcBI0E+gOAA1wDMQISAbAAjf/i/qX+T/0w/PP77fsM/aX+4v7i/qX+ev3b/Ab9hv0M/7cABgGwACoAQ/89/6X/UP83/9z+T/5J/nT+kv4M/k/8MPlm9hD1zfVa+CT6Tvov+FP1+POE9bz4z/wG/9D/vf1n+qP3ePfz+CT7DPuq+bb4//qgCDgj1jdRPhwteBIxAnoAewbrDykWEBQTB3fyyNzS1pfd9eYP8MH00/XI93/3+PUj+bf/hwVwCt4LMw1HEuAWlxXMD90HYgKMAisEPgWrBVYDBv4R96LwA+938qn3W/se/Z78hvu8+kL6nvyxAUoGRQkICcQHAQg+CDIHgQWxA7ED+wRQBfoDmAL6ACv/Vf2e+6T79Py3/b39dP0G/Sv92/yw/LH90P/uARIDBgNDAhgCEgLVAasBsQEeAmICtwFDAHr+t/2A/WH9jP3J/b39t/0e/ef8Pf3D/e79t/16/ZL9DP7o/R79GPxn+xj7tvrh+p77DPzD+576vPi19074YfoM/b39JP0k+4v4qfda+NT55/vV/Hn6C/i19Qr1YPgeAKgSxSYjL8wnTRRKBU8CXQhAEbAahh0XFisE8e+Z5XvpLvFs+Jj7qvq892Xxxerp6qjxpPqYADcCMQH0AVwDAAToBOgFIAdjCVcKrQpkC90KMgjWBIYBmAAlAp8DMQPJATH/bfzb+X/3YPdh+qX9N/9P/gz8sPoe+0P8sf7hAZ8EvgVcBeID+gIlA1YD+gM4Be8FnwXiA4wBGACf/4b/4v/0/9D/k/+Z/ob99PzP/Pr8mP0S/pL+w/5c/vr9Bv5P/tb+K/9Q/5P/7v8YAG0AegCSAJ4AgAA2ABgA9P+T/yv/jP7J/eH82/vb+ov6f/q8+tv68/qS+sj5PPkX+TD6NvzJ/XT+W/3z+wz7YftP/L393P4x/r38QvsY+vn5QvrV+/oALQ1CFqoYChJjCPoChgMaB/AM/hOXFroQaAR/+UH2KvnJ/dUBXAXiBPr+ePYD8Yrynfdn/FD/EgE2AEn8hfc79uH5bv+GAhkDzwI9Ap4Aq/6f/pIBDQVKBqsFAQVcBD0DbgHVAM8BegOlA2ICTwG3AAwADP83/oz+Pf8Z/2L+6P0S/vT+K//o/r3+4v4r/2j/n/8AAG0AjAD0/6v/q//6/2cAyQAAAQYBmAAMAKX/mf+3/8r/vf/W/6X/H/+x/rf+z/4M/xn/AP8Z/yv/Gf8f/+j+jf/W//T/YQBVAEkAHgAAAPr/bv9VAJP/HgDK/2j/AAAAAIb/sf9D/x//aP/i/iv/w/+A/1z/aP89/3r/bv+r/yX/hv96/43/Q//u/uL+1v6r/pn+9P6S/p/+Bv4A/jf/7gHKA3QEQwPPASQByQA3AYwC4gTEBnsF3ALDAEkAngAYAeEBjQNWBNUCAAAG/vr9K//i/zAA5wD0AJ//Mf3J+4b8K/5Q/43/w/+3/8/+bv0A/T3+sf96AKoAngCwAD0AaP9o/20ANwFVAeEAkgCeAFsAmf/K/4AA9ADbABIAt//W/9b/q/+9/08AsACSAOj/ev+r/9z/DAA2AGcAjABDAMP/sf/6/z0ANgA9AD0AMADW/3r/q/8YAEMAMABDABgA7v/K/73/4v8qADYAPQDQ/xIAPQDK/9z/9P89ACQA3P/D/yQA9P/Q/9z/+v/o/+L/yv/D//r/9P/c/9D/mf+3/7H/n/+9/9z/0P/W/6v/sf+9/5//t//W/9b/w/+x/5n/vf/D/5//hv+Z/5//hv+T/3r/q/+x/5n/gP+N/4D/jf+A/3T/hv+r/7H/MACwAAYBBgHDAHMAhgCYAJ4AGAGeAbcBVQGwAEMAZwCSAIwAzwAMAdsAjADo/5n/+v82ADYANgA9ACQA3P+G/27/1v/u/+L/1v/c/73/n/9o/4D/w//c/8r/yv/K/9b/w/+l/73/7v/0/+L/3P/Q/+j/3P/o//T/KgDu/+j/7v/c/wAABgD0/wAADAASAAYAEgAwAB4AQwAqACoAJAAqADYAKgAkAB4AQwAkAAwABgA9ACoAMAAYAAwAGAASAAwAKgAqADAAGAD0/+j/AAAAABIAPQASAPr/4v/W/7H/w//Q/9D/4v/o/+7/7v/W/7H/0P/Q/8P/1v/0/+7/EgDK/9b/0P/K/9b/yv/i//T/3P/c/+L/t//o/6v/k//o/9z/1v/K/9b/sf/Q/5n/q//6/7f/t//W/7H/1v/Q/+L/JAAGANb/0P/W/9b/KgAkACoADADW/6X/pf8YAAYAjACYAB4AEgAeAJP/3P89AD0AhgDbAJgAPQBPAB4ABgBbAEkAYQCMAJIAQwAeADAA6P8eAD0AQwBJADYAPQD6/9z/t/+Z//T/GAAwAFUAHgC3/6v/gP+T/xgAEgAYAD0APQCr//T/mf+A/+L/EgA2AFsAgAD6/0MABgC9//T/QwASAGcAyQBDAO7/QwDc/7H/pf8qAND/4v+kAD0Aq/8kAMP/XP+x/5n/vf9hABgAdP/c/5//N/8r/8P/7v9zAGcAMAAeAOj/sf9W/3T/EgASAAYAqgBPAD0A4v8f/3T/bv/c/+cASQBzAJIApf+9/r3/BgAM/4wAVQEr/wAAqgDo/W7/sAAG/wYA+gDW/20AKgAx/7f/sf/i/6X/DACkAAwA3P8kAKX/0P+r/+L/3P+GAO0AGAB6ABIAaP/6/x//UP8wANb/EgA2AD0AGAAYAJ4AWwCx/8MAsAASAD0A7QBbAO7/yQBbANz/vQBnAI3/cwDhADYASQAqAWcAGADhADYAvf4SAJgAyv8eAe4DPQESAR8DGAGA/eL+w/9J/b394QCG/0n++gBhAD3+mf9PALH+DP8AAO7/yQCAALAAAAGZ/8P/EgDD/1D/w//hAOj/9P76AUkD3P96AgADsf69/r3/t/zu/Cv/sf9b/XoAYQGr/fr8ZwDb/QD96P5J/43/gP9D/3oBmf8l/kkChgDn/DcBNwJP/Az+MQLK/2H8mf+SAJP/Q/8T//QBmABu/SoAPf90/tb/VQB6ALf/KwIGABj9AAEM/4D9BgJzAB4AAALuAcP/Mf4GAav/w/1zAJ/+vf+SAjf/zwAMA1UAYQGqADYA9AC3/sMAzwAG/0kAegESAO79bQAkASX+Sf+3ARgBjf9uAYwCq/89AJgBNwGr/tb/+gKx/7f+HgKxARn/Jf/6ANz/Sf6f/88ATwA3/1sAKwM9/wz9NwSGAUP8sABVAvT/Pf0GALEByf0M/wABAACT/43/pAAkAe7+egASArf/BgFbADAAwwHP/r3/BgAl/1sAbv4r/zcChgCf/r0AvQFW/4b92wBzAAz+YQBJAdsANgDW/7EBYQCx/u0AsQExAfr+E/8AAqv/+v03/20ABgAY/lUAegG9/mEAhgGeAB4AbQBPAQAA+v8eAHT/WwC9/wb/YQCAALH/mf/tAAABXP8MAKoAaP9W/xgAMQEAAKv/ngEGATAApABhAPQA6P83/4b/1v+l/vr9+v9hACv/QwAxAfQAsf+9/2EAHgDc/8P/cwDc/2L/7v8qAJgAwwCkAO0AtwCGAPr/ZwCYADH/4v/nABgAGADi/70AcwCf/4wAWwC3/1z/w/9PAHr/HgDW/5//jACl/+EAGAF6APQAkgDPAO7/hgD0AJn/9P/tACoBw/+T//oAVQCf/sr/WwA3/6v+UP9zAFb/k/8AASoBSQCA/6QAvQAM/+L+Sf/i/x//7v5JAMkAHgFJAXoBpAGkAIYAhgAAAKX/Bv9i/0n/sf4G/5n/SQAeAL3/KgBJAEMAt/+x/20ATwAAACQAWwDo/9D/ZwBDAG7/XP+r/8r/UP83/6QAegBDAHoAHgEGARgAWwAkAKX/Pf8Z/0n/dP69/iv/gP/0/20ABgHbAIAAmACMAAAAXP+N/43/gP9DAZgCpf9nAb0CMQGG/88AqgAx/wz/9P7D/r3+9P5P/tz/vQAwAND/MQH0AOL+3P9nAD3/3P5J/1UA1v8MAEkBwwG9AQwB2wHDAZgAMAASAFsAt/7u/gwASf9J/5n/vQA2AKX/ngD0AL0APQDVAJ4BngBVAIAA4QAYAOj/SQAYAFb/aP8SANz/PQBPAL0ATwBVAIwAbQA9AE8AKgAeAAYApf/c/9b/7v+r/+j/yv/Q/wAAEgBPAIYAegBbAHMABgDD/z0AHgDK/0P/dP89AID/bv/i/88AHgBo/zAAEgAl/z3/jf9o/9b+9P70/0MAMf/c/5gAZwAZ/wz/TwAf/3r+H/+eAMP/9P10/0kA1v6A/sr/pAA9/zf/sADnAE8Avf/tAD0A6P4r/4b/9P4A/ob+UP/o/kn/GABDANUA7QAAAWEBPQEMAVsASQDu/6v/Yv9J/7f/0P/D/1sA1QB6AYYBkgHbAVUBzwCqAPQAHgDK/08AWwBJAPr/JAG3AVUBdAH0AYwBZwBbAO0ApABo/8r/bQBhAKoAbgHDAkkC4QFuAkkCbgGGADEBBgB0/iX+7v4x/4z+hv+eAM8AjAAYAdUBgAESAeEAtwDu/wD/UP8SANb/bv+3/1UATwD6/yoAYQDu/zf/6P7P/qv9t/0f/sP9Q/10/Zn+Bv8G//T+Yv/W/9z/Jf+3/sn+gP6Z/ob+kv5u/kP+6P16/VX9GP1V/Xr9Yf1o/eL96P49/zH/UP+Z//T/q/+l/6X/UP89/wD/7v4r/h/+dP5i/k/+Sf63/u7+K//0/sP+t/7o/r3+pf63/qX+Gf/o/+0ApQKNBSwJRQx9Dt4OlQ4nDiENmgomB9YDmAAx/fn5Zvg8+LD4Qvnb+ZL6T/sG/b3+ev8A/zH+Jf6M/s/+Bv9PAKsB1QLcAw0FaQYaB9cHmgdKBnoEbgOYAnoBpAA9ACQA2wASAuICDAM9A1ADsQJVAbf/Sf4S/fP7Bfu8+mf7pPz0/XT/4QCYAU8CMQMfAxgCdAGkAJP/XP6l/Wj9Mf1V/YD9mP16/Xr9ev3n/G38w/tV+576Qvr/+TD6Qvue+8n7evwr/Tf99Pw3/cP8KvyS++H6Hvrt+Uj6C/r/+R77efnh+rD7mPu2+5L8PfyM+8P7MPzV+237//rC+jD7t/5jB9kSDB0sI0UlcCYnKHwnoCHnGBUOWwGc9CDraOYx5OHiSeKZ5KDpcO9+9ZL7jABuAuEBTwFuAWcBbgFbAqsDjQUOCIIKRg39EAQUxxPGEIIM0QdoAyX/yPrU9kfzm/AD8DrykPWF+Hn6qvwZ/88AngHJAdsB6AHbAXQBTwF0AlAEDQYUCAIKlAu5DKEMIQsUCYcG6AIA/6T7Qvl/92D2F/YL98L4Z/rz++j90P/nAPoADAFnAcMBpAFbAU8BkgG9AeEB2wG9AWEBKgDu/hL+JP3n++H6GPrz+W36z/pn+yT8yfwr/Qb9nvxV/O37tvpn+bD4Nvjm94X3cvdC91r3l/d5+BH6jPtJ/Nv8hv29/Qz9evzh+3n6kfgL94v2bfnVAZUO+htkJWQpris7L+YwCixpIRYTYgKc8pPm1N6v2kDY8daK2m7jG+2j9Z/+sgbeC8wMjgq4CCAJFAl7BzgGMQVEBe8H9gteD5YQIQ7dCVwGYgIY/aP3KPOu74Lt6uwJ7/7zTvnb/QwCqwX7Bz8J/Ak/CnwJhwbJAjEBSQFbAWEBbgG3AfoBKwKGAm4D+gOGA3oCDAHW/gD94fyl/QD+qvzD+3P81f1D/2cAwwDbAKQA1QCYAU8CkgLuAYwBBgF6AMP/Bv83/hj91fvb+ov6z/ok+7b7pPyr/R/+Bv/6/54AtwD6/zf+Ev2M/Ab8mPsk+576GPpt+bz4bPjm97X2U/Uv9NPzcvXm93/51fr6/Cv/NgAqACv/W/1/+/n4qfbt+AACRhD1ILUtvDGjMWEzKjMbKqQY4gKn7S/cRc89yCvJss7G1H/eOe5o/9gNKhiMHVwe+hpsFdkQ9gzXB9UCkgH6AbcCygP1BYcHdQUx/zz4FvPM7kXr1+lR6oLs0/GF+pME9gwcEjsV/xbyFSISdg1RCCUCEvwv+BH3I/fI93n5pPsA/dv94v69/27/Mf5u/dv9mf6l/54BOAWOCNEKoQz2DOQKVwf0A9z/NvsR96n0CvQc9U73kvoA/0MCaAQyBsoGdQUrAyoBE/+G/Jj6qvn/+dv65/uA/Yb/hgAGAXoBVQE9AAz/sf29/Kr8Yfxz/J79Yv4M/vT9DP1V+gX4Qfai88zxffGQ8kH0F/cj+WH7N/70AKQB5wBD/6r8z/o8+CP1KPLx8kn7dgxiIMgxsjriOgE6vjmEL2EZbv/c51LUJMZZvbq8W8fl1vTk7PRpB2YWJiIbKQgnhx4LFlgOpghoBDH/Vfx6/gYB1QCrAWgCtwCM+xb0y+zL6YjpdeqV7qn0nvvuBHcPKRf6GjAbixjTExUNvgTi/cj4ePS68eXxbPQX+Nv7n/5JAO0AngDo/4D/Bv+f/gb/gAASAj0EygYUCcsJAgmyB6AGegR0ArAAmf7h/M/7kvph+p77bfxt/Kr8ev0G/s/+4v8wAAwApAA9AbEBwwG9AasBYQEqAHr+jP0r/dv8z/wk/Yz9DP5D/kn+gP6A/hj+Sf2M/MP7Qvs2+zD7MPt5+v/5HvqR+cL3yPZC95f4Tvqk+3P8dP7nAO0Amf5V/JH55vW68n3woe527gnykvuJDV0jwziuRdlFlD/iOccsbBRU+Iven8qEvti4p7nPxh3c6+90Ac0RpRymJHEqzCexHnIUuQlDAvoAQ/9o/dD/PQHi/kn9VfuF9wr0P+7v5zjnJutx8Fr5YgNXC/gSeRlJHFsb5hZeDzgIKgH5+MfyZfF98s30bPc8+jf93P8AAU8BBgGf/2L+pf7K/4wBtwO+BTIHVwdcBpMFygSrAmcAq/5c/vr+EgBDAWICmQOAA0MCvQC9/m38nvpn+an4NvmF+qT8XP+9ARkDUAR6BI0DMQJ0AQwAdP56/e785/xJ/Zj9dP3b/Sv+Ev4f/hL+mPx/+7z7qvvP+7f8Hv3b/Of8jPxP+0j65/lC+Zf47Pe194v44fnh+gb81f2S/pL9SfxJ+xH5Efc79P3wJ+998aP33QeNH4Y300fsSTlCyjlfLMcSEPaj3CrI8boCtmq5vciY4PL2uAcXFT0eOCOtJggl6By7ElcKaAQZAxIDpQLPAisCc/zf9LrvV+yy6VDnE+Y46ffxyfurBUAQnhiYHPochRnrEo4LDQXP/uD4NfQu8gT0I/gY+xL8dP2f/oD+hv0k/Xr9t/49APoBXARjB4gJOQpFCVAGJQKZ/jb8TvqL+fn6Pf70AVAFaQddCYgKJgmyBcMB+vwF+Z32NfU79cH2kfm3/O7/GAI3A0QEOAWHBO4CyQFnAe0AgACl/zH/7v4Y/ob8PPt/+qT5Hfkd+X/5i/rn/LH/4QGSAvoB9ACA//T8c/od+Cn2wfRl80fztfXU+Lb7Yv4f/zH/9P6q/Nr4u/VB9GXy/fDk7xvw5fOe/EAO8CatP5NSt1PSRNU0jSGTBazpv9EXwV66s7kEwLPSM+yAADMNoxSjF38ZvRukG3kZWhbBEn0QKBD3DaYJaAR0/a7xseQ13Mfabd7u5MvszvZJArkLuxLnGDccSRrmFF4O1we9AkMABv+r/p79c/sk+sL5SPiE9sH1HfY798L48/vtAFYGAgrFC7ML/An7BvQDdAGT/2j9GPwG/Cv9w/6SAAYCVgOxA0kDkwNKBGIEGQTWA3oDyQGZ/0n9MPsw+Z33o/YL97b4pPsZ/x4CvgSBBiAHOAcfBqsDSQE3/wD9c/tI+h76Yfpt+tv5zvlh+jD7bfxP/oD/6P+AADcBWwFDAEn+APzg+Jb1IvMQ8s3zTvbU97z4l/lz+yT8Evxb/Nv7tvvC+n/5Nvg2+Cn4MPlo/2sQLShFP0hM90bDN/wkJw4j9X/gFNINzHTKGcyD1CvmyPglBGkISwkmCZQLOg/mEzYaSh/uH70c/hX2DDcEbft38MnkKd0L3BLhgemD8nP7SQOyB7gICAnkCo8NIQ+0D4MPjw52DaELaQj0Awb+Kfgi86fvzO7A8EH1Vfqe/QYAtwLuBPUF6AXWBQEGhwWxBB8EMQQrBBIDWwFQ/z39DPxJ/JL9Bv/bAOIC9ARiBvsGIAeyBpkEPQEM/kL7l/nm+KP4+fjz+fP6Z/xV/p4AegJuBEoFGQViBBkD4QGqANb+Bv1P+yr6c/nm+Db5wvlh+k/7c/zb/W7/+v+3/zH/1f1J/M/6l/hC96/2VPb+9kj48/jn+Xn6DPsG/Vz+dP1V+sj2BPPl8YrzR/Vm9rD7IAe3HBg3VEqSTsxCHC0WFID86elt37XcYNwj2xHdJOJL6TPvd/GQ8jX21fsBBWUSrCEQLfgvWCnbHMAPjQQe+8Hzdu6a647rXuyP7ZXvrvHx8vfy6/Ij9lX+0Qh+EjwZnhv/GZcVwA6yCBkEegCM/e368/gv+P/3Zvdy9jX1WfTN9B335/qkAD4GdQlwCmMJlAdQBuIEqwMZA/oCjAIAApIB9ADPADAAyf70/eL9Gf+rAb0D0ASlBL0C+v/6/J76Z/nz+cj6qvtP/Yz+aP+kAHQB4QGrAugC1QK9AhICAAG9/7H9f/se+vP4I/gp+Gb4YPk2+yr8AP2x/ZL9t/2w/HP6Qvna+Bf4SPiX+Ej5Yfoq+m35I/mF+J34Efk8+pj8nv2G/WH9MPsj9wv34QHCGW42o0hGRUIx8xoOCAX6nPF87i7wUvB87NbnjedE6Q3nBuSr5SzqZfT0AikVOSVfKqYhtRWnDNcHkwaHB9EH+weBBBj94PUt77LqGurj6A3ocOw19aX/YwiOC0ULcArXBz4G6Qg5DRYRWRM6ERUM+wXP/hH5wfV48y7zfvRB9jz5vPsq/Dz7//kR+s/8pACxBEUJiAyzDKcKRAdoBB8DVQLVAXoCpQNuBRkG4gS3AWH9//m19xf3nvnP/KX+jP4G/ef6NvrI+hj8Bv90AYACBwSxBNAESgQeAtb/Mf4r/e79Yv8wAOj/sf1U+ez1NfWR9kj5tvq8+m37bfsY+0n7mPqX+Tb5Efrn+8/9XP6l/T382/kp+Jf4KvuM/UP+mP1t+9T4nffa9pf2YPlDA7AYcjA+O6oyUB8PD/sGbgMrA5kFYwgxBIv5guy35PPgGOCk4mLnWO1O9oABrQteDm8J7gLVAu8HcA3BE/kYHhrgFKAJq/5O+R34I/mX+ZH5TvhU96n1HPQ788fzU/Vz+R//JQUICQIL8ApRCW8GJQToBLgIagvFCnsHtwOZ/9v7SPnz+Lb6hvxb/YD9Bv3h/Az9sf3W/s8A4gIZBMoE7gSHBBkDgAFJAdUBJQJPAuEBTwHo/xj+bv36/Rj+bv6Z/qv+yf03/fr8z/xn/J78vf16/0kATwC3/9b+N/6r/lD/Sf/W/lz+yf4T/7f+z/2e/Dz77fok+zD7kvpn+Xn4NvhI9073yPhn+lX6vPlz+WH7mP1W/7f+aP3V+5j7Vfyx/Wj+Vf7b/aX9nv30AhwS0SLTKpoiWA/iA6sFVwvTEagSag0sBpL6g+7F6qbrm+/m9N/0ffHA8dP0kfn0/Of7nvvu//oDIAmJDmsPQA1dCdYEnwS+BvUHJgp1CY0EaP9O+k73C/lz+/r8t/3z+zb6W/r/+Wf6z/xu/nMA6AJQA8kCygMGAlwDVgSxA3oE9QXEBCsEaAKqACoAJAB6AGcBngBD/3r/ev83AaUCbgPVArcAgP4x/r3+4v8SAaoAH/90/T38hvzP/Sv/QwAMAGL/hv8wAHMAMQEGAWcAHgDD/yQANgA9/z3+z/we+yr77fuA/L38sPuw+uH58/hU+YX6VfuM/M/81fy8+7D5l/iY+kP9JAC3/5j8tvmR+Dz6w/z6/XT9GPxn+hj6Yfqw++782/wA/G79UAScEJ4cBh4XFe8IdAT7CC4R/xa2GfIT+we2+gT0VPdc/vQAMf+Y+pD12fGt7g/wKfbz+0/9DPs8+OH5Vf1c/2EAHgGxAlYF+wY4B6wHygYNBkQFGQVKBgEIPgggB1AEHgE3/73+pf9VAdUBkgB6/Wf6yPge+pL8jP5D/8n+N/6x/SX+GACYAtYDsQOYAgACVQIfAw0EhwTuA5gC6AGrAcMBzwHDATEBNgBc/zH/H/8G/4z+9P10/RL9+vwr/W79gP1b/Sv9kv0f/uj+Sf9J/xn/XP/D/0kAZwA9AMr/Pf+G/gz+yf2r/Wj9AP1z/D38qvvt+qr5qfi2+M75Z/tt/KT7WvkX92b37frW/skA+v9P/tX8bfwr/c/+YQDPAEP/yf3u/Fv9W/36/fQA0QiWEZwTug3QBUkDLAcnDNIOIhHrEDMMKwLn+kL7jAF1BWIFngES/n/5cvXl86n4sf5hAej9wvi19pH4Tvqe+5L9yQAlAm0AT/0M/e7/GQNEBAcEBwSlBNYEEwSfA/oDPgWfBfQEtwOGAzcDYgIGAZgAQwHbAUMBYQBtAHQBmAD0/WH8mP3W/9sA1v+l/jH+2/0x/ej9HgASAlsC+gBD/wz/JAB0AUMCJQMSA88B0P9i/gD/DAHVAQwBbv83/ob9JP1D/Qz+AP8G/6v9SfzD+xL8qvzJ/MP8JP2G/bH9dP0k/bf8Nvzz+4z87v1D//r+9Pxh+576SfsS/ZL+Yv8A/zH91fvb+0P9pf5J/0n/ev50/dX8MPz6/FX9gP2l/QD+9P36/u4B7we5C5QKvgVJA58EYwgtCnwLLQxFC2kGngG3AFADGQayBhMF6AKGAJL8PPsx/foA4QESAIb88/o2+ov6DPsx/cn+Gf8x/VX7sPpJ/CX+sf+MAOcABgGAABIAPQC3AVYDSgSTAxkDtwIAA+ICyQLoAugDVgTQA5IC4QF6AXoBjAGrAaQBJAEMAAz/hv50/s/+Gf89/8/+mf4l/vT9Q/4G/5P/9P+x/27/bv96/4D/yv89AEMAJADi/6X/ev+N/3T/hv+N/2L/Jf/o/ob+T/5J/jf+DP4l/h/+AP4S/gz+sf1u/Qz9z/wA/XT9AP5o/hj+aP0G/YD99P2f/tz+3P6l/u7+E/+x/1UAHgCN/3r/XP+Z/wAA7v8SAOj/Sf9i/nr+AP+Z/8P/0P/D/kn+kv7PAPoDAQZuBNUBNgDbAOgC6AS+BT4GqwW9Ak8APQArAnoEbgUTBJ8CGAF0/8n+bQB0AlYD9AGl/zH+9P0A/pL+4v+3ACQAT/7V/Mn8q/2f/iX/gP+T/xP/K/4x/uj+HgAMAecAVQA2AEMAcwDDABgBkgHDAYwBDAEGAUkBZwGYAW4BVQFJAeEAYQBhAJIAhgA2ANz/gP+r/43/Q/8f/yv/E/8A//T++v43/z3/9P7D/uL+H/8x/0n/gP9i/3T/Mf8l/3T/yv/i/wAA4v+l/5n/vf/W//T/EgDo/5//mf+N/8r/yv/W/6v/q/90/1z/E/90/8r/yv96/43/XP9c/2j/dP+r/73/gP+A/5n/jf+l/+7/9P+9/8P/3P/6/+7/AAAeAD0AGAAYAPr/4v/i//r/+v/i/+L/3P8GAMP/yv/D//T/4v/u/8r/KgAMAasBvQEeAYYAegAxAckB2wEAAj0CkgGwAD0AwwCSAQwCwwGAARgBegCf/wAAtwCeAW4BmACf/4D/H/9D/5n/bQBnAND/yf6f/rf+E/83/8r/4v/i/yv/9P76/p//6P9bAFUAZwAMAOL/w/8qALAAHgEGAckAkgCYAEkAWwBzAPoAAAG3AEMANgASACQA7v89AG0AVQDQ/7H/k/+9/7H/1v+3/9z/pf+N/0P/hv+A/9z/vf/i/5//1v96/5//gP/Q/+L/4v/0/73/4v+r/+j/1v8wACoADAD6/+L/0P/o/+j/4v8kAHMAyv+G/5n/sf+G/9b/4v/D/5//jf9o/6v/1v/c/+L/HgAMANb/+v+3/9z/AAAkAOL/7v+G/5n/vf/0//r/DADW/8r/+v/o/xgAQwAGACQA9P89AAAAMAAAABgAAADc/8r/7v8kACQAEgAkACoAGAAAABgANgBDADYAVQCqAAYB1QDJAKQA1QC3AL0AsABJAU8BBgGMALcAmACwAIYAyQDVAO0ANgAAAOL/VQAGADAAGABnAOj/sf9o/8P/4v/i/7f/1v+3/8P/gP96/6X/AADo/x4AcwCwAHoATwD0/xIAcwDnAPQAzwAqANz/3P8AAEMAvQBbADYA1v+9/9b/gABtAEMA3P/c/1b/bv8MAKX/q/82AD3/Mf8l/6v/jf+r/5P/QwBQ//T+t/+9/9z/1v9bAEkAmf/i/9D/0P9bAPr/PQCl/4D/hgBVAOj/DADc/5//9P8f/zAAVQASAJP/DAAGAPT/MAAGAID/pf8G/43/DP8wAMP/7v8SADH/GABQ/3r/3P9PAGcAn/+9/3r/t/+9/8P/TwCN/xIAjf9i/zAAGAAwAAYAt/+A/27/XP/6/+j/GADi/1D/q/+r/43/cwBhAGcAjAAqAOL/GACeAJ4A+gASAcMADAHtAPQAGAFbAdsASQGeATcBngCkAL0A7QA3ARIBqgAeAdsAWwBbAKoANgCYAIwATwDPALcAMABDAAwAyv/W/zYAPQBtAHoAgADc/43/6P9DAGEAgACYADYA+v8qAHMAngDJAJgApAAqAG7/hv+G/x//mf+GAO7/Q/+3/9D/H//W/iX/vf9u/1D/Q/9i/yv/w/4MAKX/Pf+r/9b/dP9D/73/dP/6/jH/6P/W/+L/Jf+N/xgAyv+r/r3/gP96/6v/k/96/lz+K/9D/4D+vf+3/7f+T/6l/iv/mf69/zf/bv4GAEP/w/5o/9z/n//D/sP+dP8GAIb/9P/c/wz/Sf8x/+j+mf56/5n/vf49/wz/H/5V/mL/dP8YAO7/yv/P/jf/6P9PABgCnwN6A/QC4QG3AVUCNwONA24EtwT6A6UCpAFnATcCJQMZA8kCvQKrAaQA7v89ABIBegG9AEMAjf/J/k/+Sf63/nT/k/89/8P+DP+Z/zYAqgASARIBHgEYAbcBYgLPAtUCegJoAj0CEgI9AqsCdAIAAh4BjABJAIYAjABVAIb/z/5V/p79bv3V/fT9AP6Y/U/9t/xb/Cr8vfwk/Yb9DP2e/NX8Hv16/SX+aP7J/iv/Gf8M/2L/H/8r/0P/3P7u/ob/N/9J/yX/dP7b/cn9yf1i/uL+AP/D/gD+q/2A/Qz+mf4Z//T+kv4l/tX9Bv5u/gb/UP9u/4b/N/+9/tz+AP8T/wb/yv+9/wb/Yv/o/gz/XP83/5//TwCqAB4C0AOxBOIEgQSrA8MDhgP0A5kEXAUZBdwEegNVAskBvQG9AbcB6AH0AdsBbgGYACoA0P/Q/7f/Yv9i/8P/mf9W/xn/9P70/tz+w/4M/6v/3P8GAO7/KgBDAHMAyQAqAYABGAJbAp8CqwI9AvoBegEAAQAB2wDDAKoANgA2ANb/gP6A/qT8pf2wAHr9kv2G/sP+Ev7b/Nb+Mf+9/Wj+1v4M/mL/qgDtABj+pAA9AIYA4QDuAZIA4QAMAR4B4QGMAYwBqwFVAUMBVQFDAFUAngDK/3T/Yv9Q/yv/k/+l/7f/mf/W/9z/9P/K//T/1v+f/5//w/8AAPT/QwAwAEMAQwAeACoAEgAMADAAPQBDADYANgA2ADYANgAwAD0AEgD6/wAAGAAAAAYA9P8SAAwA3P8AAAYAKgAYADAAMAAwABgABgAAACQAmACeAOEA+gDtAMkAwwCkAJgAjACkAKoAngCSAJgApACkAHoAbQBVAE8APQA9AG0AjABtAFsAQwA2AOL/1v/c/73/6P+x/+7/6P/K/+L/DAD0/+j/9P/u/xgA+v8qAEMADAA2ADYA7v8eAEMAJAAkAAwA3P9PADAAJABbAIYABgAAAD0APQAwAD0AEgAeAFsA6P/o/yoAMADW/9b/AADK/8P/7v8AAJP/3P/6/+7/3P+T/+j/7v+3/9D/AACx/1D/KgCG/z3/yv8wAI3/yv/K/wwAt/8YACQA9P+x//r/9P/0/0kAn/8eAFUAq//c/6v/KgDW/+7/AACf/zAABgDo/6v/NgDc/1z/mACT/7H/bQDu/0kA0P8AAIYA6P+r/8r/gACr/08Asf+eAKX/YQDQ/xgAq/9JALf/3P8eAAwABgCl/z0Aq//o/+j/k/9nAOj/k/9tAHT/pACN/yQABgAeAND/w/89AB4ADADK/+j/ZwAMAOj/HgC9/5IAyv+GAEn/bQAeAAYAev8wAB4Avf+x//r/3P8SAAAA6P/i/x4A+v8GAOL/1v82AAwA+v/0/yoA+v82AAAABgDi/wYAGAAGAPT/DAAGAPr/6P8AAOj/4v/u/9b/3P/i/+L/6P/c/9b/4v/u/9z/9P/K//T/6P/o/8P/6P/W/9z/1v/W/9b/6P/Q/+L/9P8GAO7/+v/6/wAA1v8MAPT/9P/c/wAA4v/6//T/9P8AAOj/GAAYAAwANgDo/z0A7v/0/+L/4v/6/9z/3P/6/wAA+v/o/wAAGAASAB4AKgBJAEMAQwA2AD0ANgA2ACQAAAAAAPr/7v8MABIAMAA2ADYANgAYAAAABgAAADAAEgAYAD0AJAA2AD0AJAAqABgA9P8kAAwA4v/W/9z/sf+x/8r/4v/o/8r/AADD//r/1v/o//r/0P8GAO7/7v/6//T/KgD0/+L/0P/Q/9b/6P/u/+L/4v+9/73/mf+r/6v/1v/Q/8r/DADu/zYATwBtAE8AcwAkADYAQwBVAE8AWwBbAE8AQwAqACoAGAASACQAJABDAEMAbQCAAFsAYQBDACoA4v8GAL3/t/+f/3T/Pf9J/2L/Vv9W/3T/jf/D/8P/0P/c/7H/t/+x/5P/hv9u/6X/bv9o/4b/jf90/3T/gP+r/3r/gP+A/3T/hv9o/5P/dP+r/5n/0P/Q/8P/0P+T/6v/jf9u/6v/jf+Z/73/AAASADYAQwBbAFUAZwBbAIYAmACkAM8A1QDnALAAcwCMAG0AegCSALAAwwDJAOEA9AAkAc8A1QDnALcAvQCYAJIAkgCqAGEAYQBDAG0AhgBtAIYAgABbAIwAjADPAMMAvQCYAHMAhgBJAAwAAAAqAIb/sf/K/9D/sf/Q/+L/4v/c/7H/UP96/+j+sf50/kP+Ev4G/iX+4v0f/nr+vf7J/gb/+v4x/27/DP8f/wz/Sf8Z/yv/Jf8T/zH/9P5D/yv/hv+T/0P/q/+x/9D/AABbAIAAngCwAMMA7QAGAVUBEgE9AU8BgAExAfQAAAHnALAAmACwANUAvQBzAGEAgABDAFsAngCMAM8AAAEGAU8BDAEMAQYB7QDVAAAB4QAqATEBWwFDAZgBsQESAjECQwJbApgCgAKYAmgCkgJoAjECNwL6AeEBmAFuARIBzwBtADYAGAD6/6v/Sf9J/wz/t/6A/mj+mf56/lX+Mf7o/dv9Yf0x/Sv97vz0/EP9Mf2A/Xr9nv2x/c/9vf3P/cP9q/2S/aX9hv2S/bH9jP3u/RL+AP5c/mL+gP6G/qX+q/4M/wz/XP9u/43/sf8SAHoAZwA9AG0AngDtAAwBVQGGAdUBAAJ6AqUCDANJA2IDUAMfA8MCtwKAAjcCJQIMAs8B6AHoAQwCTwJiAisCsQEeAtUB4QHJAcMB6AHbAZgBWwEeASQBwwCwAO0ANgCGAOEAmACSALAA5wDbAJIAEgDQ/zAApf+N/27/jf/c/43/jf90/8r/PQAYADAA+v9DAIwAjABJAJgA9AAkAPT/w/8SAHr/UP8G/1D/9P4A/+L+N/9i/0n/q/8AADYAgACqAJIAjAAxAbcCYQHtAEMAsf96/1b/dP6A/tb+yf4GAMkAMAAAAdsBaALuAvQCgAPuAsMCkgI9Ar0B4gLPAsMCSQOTA5kDkwNDA0kDQwIGAvoBsQH0AasBbgGqAPr/E/90/gD+jP1J/R79hv3u/Rj+GP6l/hP/+v76/tb+Jf9o/0n/Q/9o/3r/Vv+x/5//AACx/4b/q/8G/x//DP+S/kP+Ev7o/Zj9gP0k/QD9Hv3V/J78W/w2/M/7f/tC+/n65/q2+1X8APxt/Nv7GPtC+wX7nvuw/DH9dP0r/oz+jP5u/6X/AACMAVsCUANcA2gDpQPVAnQCJQL0ARgCegJoAkkC9AKYApgCPQJVAnQCKwKAAs8C4gLPAugCnwJbAoACSQLVAZIBYQExAZ4AkgBVANz/jf8T/4b+Mf49/iX+GP70/ej9mP16/fr9Mf49/tb+9P69/jH/UP/W/8r/4v/u//r/6P/JAc8A4v8YALH/AP8T/6X+Pf7P/TH9Mf2M/jf92/2Z/pn+9P8AARgBtwE9AZ8CqwGxAYABzwIeAUQFAQZcBiAIMgagBnQCZwHVAVz/hvyY/FX8c/sk+jD7Tvrn+pj6Hv2A/Z79pf8xAZIBBgLKAyUD4QHoAx4CKgE9AoADpQKxAfQBQwGwAEkBmAC3/iX/DAAT/wb/Mf+G/z3+6P1P/nr9Ev4Z/1b/yf6x/rf/Vv8A/7AASQFnAJgADAGSAE8BdAGkAPr/sAAeAb3/3P/6AOcA+v9zAOL/q/9VAKQAw//u/tD/JAB0/7f/EgAAAO7/1v/W/wb/yv+f/0n/7v7i/9z/gP9PAAYAN/96/5//pf/i/p//dP83/kn+DP8l/r39Jf50/jf+3P50/4D/hv/u/1b/3P43//T/3P5W/5P/7v7o/s/+Vf6Y/Un9sf2S/fT9Mf+3/5//KgAwALf/mf+x/yX/Jf/0/oD/w/7D/gb/kv5c/lX+Vf5u/pn+H/89/1D/EgBVAMr/WwCYAGEAWwCYAOEAZwGrAdsBhgG3AR4CAALDAasBvQGSAdsB9AE3AgwCaAL0Ab0BkgG9AUMBEgFnAXoBPQFnAWEBSQGGAZ4BpAFhAasBtwF0AW4BngFPASQBGAHtACQBhgESAh4C1QElAr0BjAFbAQYBngCSAG0A+v8YAB4Asf8M/1X+XP4A/gz+Sf5J/nr+dP5D/qX9Q/36/L38jPwA/Zj92/0l/jH+1f3J/bf9mP1P/R79Pf0e/Qz9GP3P/Kr7f/rO+Xn5JPpV+vP6jPtz/Of8gP30/Sv+1f0k/U/8+fsY/Lz7gPw2/B78JPyk+hj7nvpJ/T0EIhKTHZokOCN0HTAYKBPrDj8L6QiaB4EEE/+8+xH6HfcV8SbqOOYy6MXta/O2+G796P/0/u78N/03AfQESgfvCAgLIQ66D64PxQy/CkQHMQNDABIAvQHiAm4CNgCe/ar7Nvmd99r2L/jz+VX7K/1JAIwChgP6A9wFMgjqDJsNWAw/CkoHRAW9As8AGAAl/oz78/lm+J34i/lC+Mj2r/YF+J76mP02ABICTwJVAZgAbQAkAYABPQBJ/mj9w/xh/Jj72/q8+Zf4nfdI9074Nvng+Lz3r/b+9vn3WvgR+Iv3o/ad9bv0wfVU9wX5Hfkd+cL4//kw+jb5ePa19Vr3CAl2JKU5QEWsPF8tGR/aFH0N3Qm+BAYD5/qJ8Tntm+2s6FXg99QszxXWH+WQ9KUCjgs5DXwKygYUCXERyBfnGIUXyBURFsgWFhMIDMoD7fnM8DPtzO7486P20/Ob7yfuLe+Q8hH3pPri/m4CEwVjCRsPrhKKEv0OvwrRCQIL3guCC1EIXAMf/pf5Kfej9x342vY19ZD0R/Y2+qX+0AP1BuMHXQcHB7gHoAmUCuMI4gToAT0An/7D/YD8tvo8+Iv2u/ZO+WH8n/7o/s/9Pf0G/lb/jAAYAaQAQ//D/bD8JPzI+oX4cvYv9eb1i/ew+R76Yfrz+bb5SPqk++f8K/35+jb4l/aQ9f71/vbN9ZD03/Lf8IPwA/KD8pD0SPiPDN8sWERnT99EBTPdIRcX/AvRBxgBN/2Q87jodOKx4m3e/dX7zWnNTdm/7Xr/mw7CFosXOxS6ESgT5xqBII0egBpBFZARFQ7vBmf8A/IB6QDjEuNQ6C3vivO68kzwovHI9qX9jQSCCZUNLhFfExcV+RZIFl8SMwzEBaUCWwLVATf/kvpH9WXxg+/x71/yr/U2+Hn5nvvP/j0DYwebC8wP5RE7ExAS3w9kDKYIKwSG/237efng96n15fPf8v3xa/Lr8/j2Kvtu/4YC9ATKBRMG0AWHBKUCdAHo/7H+Pf2k+3/5+PaQ9MDyWfKW8qn0Kfdz+Yb7DPyG+2H7Tvpt+dr4cvfT9Uf2nffs9y/32fQV8ffvs+737xbycvX6AjknG0MBV1ZS6T2bJxgZXgxWBb3/efg786zoEdzg2rTYldOyznvMZNW564ADwRTjIFAhyRxOGQUWvBhiIBkhTxy1FS0NRAaAAMf0Gun64WDcTt6G5A7rd/KX9rX1o/Z/+3oCjguKEk4VcxjbGRgZCxhyFHcOjggAAp782/o8+i/4zfTx7/zrFOyD7nHyI/iw/CoAaAOfBWkIfAvSDPwMMw1kDQoREBTlEmUPVwgAALb5o/ZN9ZD1hPWW9JDzkPJT89r1Kfda+Sr8mf/6Az4IggqnCksIRARDAT3/aP4f/2j+bfy8+Zf2bPTx8oPylvO785zy8vRy9xf3kfck+nn4YfoG/HP7Evvt+8L5cvev9Rz06/LZ8d7vie868Gvy6AFeJ81G3VlDUj47USROFdgM6AWl/yn4lfDE5WzaqNhx10XTE84ZzH3YA/FdCpgcWCagJFweqhlsFv8Z1iDcINsa9xHRB08A+fhL7SvjEd0p2sLd4uWD7rX2Z/oR+k/7AABdB/0QvBeAGqobzxmRFgQUgw+yCXQDN/15+Ej3hPYQ9dny8O5L7AjtXvBH9uH8+gHiBTIJZAwDEDsSLhIiEFgNpwoUCVcHPQTbAIb8bPiR95332vg8+Xn4zvc2+FX6vfxi/2cANgDc/7f/yQA3AnoC1QFDAIz+yf0r/uj+E/96/qT8BvyM+/P6MPs8+R33EPW78xzzEPQW9fj0rvNN8n3ylvUF+fn7w/uL+uD4i/lt+n/65vi19dnxj+8D8csJHTEeTrlb/kmdLyoYXgsrA0MAYPnr8abqW+Jm28jdHdtx1vbRudLh4tv8ZhTXJEwpRSMGG04XERVCGZ8dpBlZE44Jjf/h+XHy0Oiq4Lvc/9wl5Gruo/aY/G7+N/7VAOIFTA0RFdQYBRpzGIQV2REbDrIIkgIG/SP4tfWK9Uf1fvS68vHv/e5Z8Qr25/uYAXUF0QcaCUUKFQybDvEQohBeDogLRAjiBYADKwK3APr8qvoX+CP2ePXB9Xj24PZg93/5kvy9/1sB9AIrA8kCSQO9A1AEygNJAoYAT/5J/Nv61PkF+aP4c/kw+e34YPfN9UH09/KK8hzzu/Ps9Rf3yPdz+EL5Efo8++36T/sY+7z5nfd+9DrycO+t7rPuPQLlKqlJCV7cUhg3hx4tDO4CgP8Y+1n13u0r5S/aotkD2PzT2NJk0s7fo/g0EUskfixYKOIe8xi1FHIW6BwqGq8UMwwYAO34g/Is6fngqdyK2qrfP+rT87f8KgG9APQCEwfFDOYUyBm9GioaIxdxEigPdQkSAp78ePbl8gTzO/NH8zvzWfE68HHzBfmMABoIWAw6Dn0N/AtFDPwM6gvwCekGAAPPAJP/w/1b/Hn5tfZO9k73KvrD/fr/kgASAID/Gf/o/+EAmAEYAb3/t/4f/uj9q/36/Jj7z/pb+wb8GP4f/6v+W/2w+pH44PaW9YT0NfTl8wTzcfJA8dLwxvHN8pb1yPek+h78vfxt/PP6i/gv9UzxwPAT/5olWUatWodW6TuaIVgMVQDI+rv2LvHX6uLjbNuQ2JDZcdYt1TrVwt+d9nEQGiXyLs0ssiOkG6kW/hSRGB0YIhJjCtz/kfYz71znqt4v2qPaf98U6n71Ev70A40FewbXCRUPVBVbGlscMBs2F9kRcAzEBQb+zvdH88zw6/CD8nHzrvMc82vy3/PC9z39jQPpCN4M2A9HESISeBKKEesPQA4hC2MH7gKA/eD3rvOP8IPvifDr8bv0yPcF+s/84v8eAocEaQayB2MI4weBBkQEDAGG/Z76Zvjg9nj2o/ad9sH2QfZm9cf0ePQ19Wz2I/hn+VT41PYc9HfyuvI082b1I/j/+Vv7vPvz+q/2ovIJ7kzuPgh5M0lRqWTvV883+hqrAtn0WfFY77nqGef/4KLY09kp2q7WKNj+2u/oVQIMG9MtvTZ/McUkjBooEaENihIiEnAMOAXb+bnuUOge4cHaHdu23R7jUu9z+7EEGwzkDacMgw5rETUVvBmSG/kZ1BU0DsoFaP8d+MDyj+857eTtD/GE84r1hfeF+O36hgDiBTkMxxFyFPIUzRG5DN0HnwOMAFz+sPyS+7D6kfkL+KP3ePdm+JL6Mf1DAG4DdQXoBbcEWwLi/zf9MPzD+6r7vPse/AD8f/tJ+zD7W/sq/Az97v0r/p79Z/vO+Mf1g/L98PHwg/D978zvD++P767x8vQj+Ej5Qvrm+GD27PR49ML3kRYVQdhbemsCWTw0KRS2+UvrV+my557iyN9T2cvQm9Qo1rrVx9vn4PHvjgu5JD03J0B0OBsotxzZEYgM3xBMDgEGN/7G8FblBuGp27TWBNmd3aXkCvOwAC0L7BPmFKkTNRUjFqQYMRxDG2YXqBLLCRIA1PkJ8r/rS+om6RrrLvDZ83/32/pP+6T89ACyBUsL6xE1FucXvBfNFJYRpwxEBTf/2vjZ89/yivOo8+vzO/Tl87v0bPfb+5IB0AW+COkJMgmgByUFaALo/6r8QvrU+GD4Tvjg9xf3u/V+9bX2VPge+lX7KvuF+Wb3HPUo86jx3u+070zvOu8u8hb1WvY79gT0IvH97tjwHwbhM6xXE25Va9NIyyRECNn0Ce6t64DkVNzS1ZnMXMzw0i3SxtTB23Tlw/2GG2AyXkACQX8yFCQMGi4R9xH4E44Ksf9B9J/lNt47233WutUc2rzfaet/+o0GnBEjFy8WQhckGXka+h0rHucZEBQIC5IAnvnf8/ztguq+6Nfo0exf8sL4UP+lApMFywiaCtINLhFxENINLQpWBFUAK/4w/Kr7Qvuk+bb5Bfvb+8P9AACwAGcBzwGrATECMQJPAGL+8/tU+ZH42vjU+LD5i/qL+mH7t/wf/u7+dP9J/27+w/zV+rb4+PVG8j/uV+uO6hTqaevM7djwovL38gPyG/Cn7cbuhfimIVtQ+mvlexFlMTkXF2D5B+n75r3iO9lk1T7P58ZQzhrR+84u2QzitPIKFNovP0FyShpAwCrKHnIUywshDyEMaP+p9tfpTt212SLWv9IP1+zdsueF+NcHuxLDG/obpBg8Gp4a5xoxHWEaHBPFCxICePdr8fzrDecN5/vos+1T9bz6ev7DABgB9AJjCqITwxwUIoYbOhD0BJf40/KQ8wT0BPVm9a/08vX5+KT6W/30/8MAUAQ/CRUMgw6CDL4EAPzs9Gvw5fAi9C/2Tvj/+H/3bPeX+Nv5JPxV/j3/GABD/jz5r/RM7wHpB+al5dbldedR6fXp1+lj6sXsEgDCM1hc6nf/f3ZcJDMXF5f59+9M7/PhfdbS0n/GyMKfzNbJGcvs2XTipPoaIo052UfgSh42MiJPGncQFQ5rEnYKkv3l8ujiU9mc17nSOdJ42c/gd++YAsYOlxexHG0YKRZhGZ4aKx16HpEY3xAHB4z7x/MV7+Ppjec+6Lnq6/Er/aUEdQhqCqYHKwUyBnUI0QunDAIJjQQ2AHn7ZviL+FT51Pn5+mj9vQAxBMoFUAWTAyoB+v6r/gb/+v5u/X/6/vaE9KLzBPUd9zz5T/zW/oAAyQGeAdD/Pfzy99n0KPSD8kzwxu7j6z7oROaA5LHj7uRo5OLl0eriBco7qWT+fAp+41byLhAUsPjx8Pfw89/31QjSi8TCwg3Lesf6yVnZB+aYAH0psz7rRxBIqjIfIP8ZnBG0D0cRLAfC+YPvz+Ei2TTXp9FL0BbaYuRT810HKBP5GZMdZxlUF4Aa2xvoHAAc+BQbDL0DVPku8bPsvucx5VboLe1H9Mn7DP9uARMGoAkcEYwaaB5PHMET6AWF+gr0/e9e8GXyffK788f18vdD/JP/WwHuAywHcApSDswOGgtiBCr7nPIh7mTt3u8785D1u/YL+JH4QvkY+5j8Vf0x/mH9Tvo799nxm+wm6NzleuQZ5ErlQ+Rc53j19B3nTBJqrXblYQ08xB9KB5H2R/V265baidXpzBHFJs11zunMOtZh4sH1Whe2M1FALkR6OOMkDBs7FK4Ogw51CLD7d/Fu5kjdI9vf1+TUkNm34tjwNwIVEBcYTxzPGgUYQhnnGjwa8xiiE3YL1gNJ+zvzxu4O7fztLvEp9sj62/0MAHoAzwAeAsMDkwQmB/sI0QfWBYYCVf68+5j6tvoA/TAAqwElAgwCAAGA/8P+Vf5D/vT+Sf49/fn7JPoF+Gz2U/UQ9tT3yPmA/Mn+pf76/W79pPpm9wT2ZfKJ7yfuauzd6FDoH+Y940nkeuSh7+gctkt4Zct1cV/JNvQe3Qa08RD1fOsQ2UHZUtM9yL/SidNjzbTYK+ba908cwzeUP2RC7TSTHikWkBB7CIgI4gN49rPun+eX3vjcO9tx107eDusd+NcI5hWkGnocpBq1FWwWYRivFtkS6gylBFX+4Phf89jvTO6b7q7y4PcM/uIDkwaBBsoEyQIMAWEBwwOHBR8FEgIr/jD7vPm8+XP6bv09APoB7gMlBQcFHwMGABj9Sfuw+tv67fok+h34nfb+9an2tfda+XP6GPwA/dz+4v6G/P/4ePWP8CjzZfEt7F/xue4m6qzoxenY7YwCCi14Sq1bJ1o4PhQlwA/C+lPzRu+N5YXezdsP1+XYZt3s2/PdAebN878LvyR5MwA4MDLEImAUIQxKBh8DkgD/96LxlOwN5wDlaOVV4x/lxe1a+Y0F3xARF0kanhnHFIoRcRHxDiEMDghoAm79c/rU9jv2I/eX9k73nvuxAcQGvgi4BoABJPy2+fP6vf16AMMBWwD0/cn8w/zV/WL/9AASApMDegR7BYcF2wHb/Jf4EPZ+9Yv2o/g8+Uj5C/lm+FT5VftD/Ib8T/vO+Rf5L/cE9E3yLvBk7Qjtjuz26yzrCOr38QgKEC3USr9Yk1R7O1YhPwpa+WXw0erb4iPcKNkv2nndkuL045/lOe3b+ncO3SR5M081uy3WHrQPhwaqAB787fg19I/u9uvF6+rrlOyz6wjtIvN6/HsHTRJzGJIZERa0ECENIQwUChMHBwV6Ap/+c/vI92z0tPL48yr5KwO/C8YQxg/RBx//f/iK9K/1EflJ/Oj91f2A/dv9K/1t/KT8K/6rAQ0GGgqhC5oIBgIF+tPznPHf8hD1C/hI+pj6i/pa+WD4Qvj+9h332vYF99r23/NS8PbtMur16GPqGuw192oN8CTrQ8lR7U+zQa0lSwt5+ojsgebt4QvdqNlm2qncYeLj5wjtr/WeAI8PByFZLEgxxyyHH/cQHwQS++z2ovQc8hXw6u3k7Dnuau+W8WD1Z/nQ/90HNA/mFPkWihTZEKEMMgelA2cBdAFDAEkB1QA9/iX+bv3J/Sv/gP2A/1z/jP30/mL/w/0r/WH8w/tV/Mn9Vv8MAWEBZwGkARIBSQE9AXMA4v9D/u78vfzC+vn58/nt+Ej5hfpn+vP6vPo8+rz4EfjU9gr1kPNr8hXxrvAu8Jvvre2U7ALtc/p2C3sgV0BaSc1GSz7pI4kNKvyD7jjneeFO3sfbbd764W7mm+wD8Yv3SQHwDZIciCZfLAMoJBzMD7cC//m19mX0QPJZ8VLwOu9M8Uf04PaY+rf94QGaBxsMLhBHEsAQXgxEB8oDQwEx/8P+w/5tAL3/9P76/6v/7gO/CvAJZAssCJj9bfng9f3xWfSj9f72l/mw+yv/hgINBKsFegQlAyUEqwSTBVwF+gAG/GD3HPJG8Wz0HfYd+T38sPs2/E/9pPz/+hH5YPbT88Dxie+P76ftY+rv6lHp6+89ArQQ9icOQGpCuUFJNysfgw1P+9jsmeTI3v7bF9y83yvky+l98KP3BgCOCIoUTx37IkUlGR/aFd4LmACk+SP2ePPM8V/yA/L38YT0Efft+Un+BgExBGkIFAutDF4OCQ3jCe8GKwPtAAACSQI9ArcDSQGr/YD+NgASAYwCqwKf/0P8DPuS+5j82/0Y/tv8w/vn+9v9kgDhAb0BbgFbAJ//9ADoAfQAPf9n/B35efik+eH6DPy3/Kr7Vfr/+aT5Kvkp+OD2FvUc8xzyRvDq7rPts+v861jvw/zLCu0ZFzL7Oxk5KzhkJToRbgOi8mnq++YA4r3hhuQ45rLnDu068an20P8IC84W4h8aJXwkVR3mFNEJgP/C+an05fCJ8P3vWPCu8ub04PcA/DH/KwOUCFgMQA6JD9gNuQncBT0Cmf9u/lb/+v89AE8CHgG3ABkDRAVpBkQGxAR6ACT74Phm+Bf4zvcX+WD51PnJ/EkAqwLuA8kCYgJuAdsAtwL0AqQAgP55+gX3O/YF96P4Nvrt+Tb5i/j+9sL3l/hy9in2/vJ38MDuxexL7ffv5/qTBrUSCCYpMWAx/zDLJTUUIAhn+vHw9u046AHmgedi52nnP+yo8UL34v9dCZwS8xlWHjEfWxp4E5QKgAES/Ej4U/SK9N/za/FZ8yP1wfaY/FUBegTdCPwKywrqCrIJrAZ6A7EB+gESAmICmQOeASX+Mf0e/Jj9YQFcBm8I7wd1BgwBsPw2+i/3zvb+9gv4z/oY/b3/ngFDAU8AVv/D/p//VQEeAqsC4QAA/eH6efiR9074tvgR+XP4KfhI+P72wfbT9Ovxa/Et70zvkPLy9VUCJwz5Fv0nNCtMKXwmIxb7B/T8/vOz7kvscOwC7MXtTPAo8nj2zvml/o0EMwsEEs4WMBm8FxwRGgofA0P85vgd+J322vZs90L3F/k8+1X9cwArAqUDJQa4BwIJggnvBzEF3ANPApIB9AISAjEBzwE3/0n/pf/i/cr/UP9i/iQBHgD0/+EAmf6S/Qz8JPt6/Cr8q/09/8n9K/03/Qz8Bvzh/O78Vf2M/Bj9Q/43/U/+6P56/EP8f/ue+sL68/ip9zX0KPAh77ntLe4V8eD2BwURFV0hxyzBLfUiNhmhDkoEQwDP+8H2A/Jd6oHnGeiI6T/u6/JU9+f8NwSDDWAVixmFGNMTvwzWBVwDNwLnAD3/wvpa9+b0IvTy97D6c/xJ/6oATwKfBW8IMwp8CogJjQYBBZ8EGQNQA8kBJf5J/LD5F/lO+tv6+vzc/kn/dAFoAuICSQPDAT0AN/6S/GH8VfsM+3/62vg8+Ej4//gY+2H97v/PAIABzwExAfr/XP8Y/Wf6Tvff9K7yWfE68iLyifEK9eH6yQEiEOEZEh2+IOcY0g9XC7cCNgAl/hf54PdN9C7zNfXT9Hj3f/i8+B79KgEgB9IN3xDTEH0NiAlEBc8CdAJVAYAAYv4A/GH7Qvpt+sP7JPsA/Az+9P4SAisFuAXoBRMF4gLoAeEBzwGMArcCNwLVArEE9AIfBFAEPf8Z/zf+8/qG/BL8sPvI+mD5bfpz+Vv6z/ye/Gj+sf9VACoBEgE2AFz+t/yY+p75kvqL+vn6HvzP+mf6JPr5+Gz4qfjI91r4vPcF+bD7ygZkDi8U9Bw2GIQShBGUCPsGqwUSAZP/4flO9sj2nfUK9nj1kPRf9K/14fseArgI/AzGDRsMewisB6wH0AV1BsMDpACG//T8Vf30/eH7Z/v/+dT41fri/dsABgPKA70CPQLoAUkCEwSTBCUEpQNJAj0DegSfBO8FVQK3/hj9wvlV+ir81fu3/Cr7qvn5+TD6f/vh/J78kvyk/Df96P5DAJ4AAACe/UP8f/sY+4b85/y2+wz7vPkp+AX5sPhO+Bf4hfgr/yUE0QrHElMS0xE6EL8KFAm4B/sF3ASrAcP/Bv5J/Lb7//mp+HL2qfTg9nn5yf29Ap8EewW+BL0D+gNKBJMF3AUfBVwE7gLVAvQCPQJ6AZ//ev1V/Kr8AP6x//oA7QCSAGj/Pf8kAMkAqwEeAj0CkgIMAnoCBgIYAFb/6P1V/AD9Vf3i/Sv+Mf2w/O37f/tV/MP8Yf1J/nr+1v4l/xn/6P5o/pL9Ev0M/RL9pf0r/p/+Mf49/jH+7v0r/oD+hv50/sP+Mf8l/+j/7QASAr0D6AQ+BnUGnwWlBVAE9AI3Au0AbQD6/x//Jf/D/k/+T/7V/dX9DP6S/o3/bQAAAVUBWwGAAU8BJAEMAe0A+gC9AIYAvQAMAZIBegGYAfoBSQIxAvQBvQHbAdUBqwG9ASoB4QDnANUAbQBVAHMAEgBhABgAMAD6//r/t/+f/2j/jf+G/7H/0P/i//r/AAD0/yQA3P8GAMr/4v/c/9D/w//W/6X/yv+l/6X/w//K/8r/1v+r/73/jf+f/5P/jf+G/27/bv90/2j/jf+A/5n/k/+f/5//w//W/wYABgAwAB4APQA2AFUATwCGAG0AegB6AIYAmACYAJIAhgCAAHoAjACSAJgAngCkAJIAngCSAKoAwwCqALAAkgCSAJgAkgCYAJIAcwBtAGcAbQCAAG0AbQBtAFUAPQA9ADYANgAeAAwA6P/W/7f/t/+f/43/ev9o/1D/Pf8l/x//Gf8A//r+9P4G/wz/DP8G/wD/DP/6/gD/E/8Z/xP/AP8G/xP/Gf8x/0P/Sf9J/0n/Vv9o/6X/1v8SAD0ATwBtAEMAYQBnAKQAvQDtAAYBDAH6APQA+gDbAPQA7QD0APoA+gAAAfoAAAEAAecAzwDJAKoAngCeAJIAegBtAG0AZwBtAGEAQwAqAAAAHgAGABIAGAD6/+7/0P/D/7f/pf+r/5//jf+A/4b/dP90/2L/UP83/zH/N/89/zf/N/89/0P/UP9Q/1z/XP90/2j/ev+N/5//q/+3/9D/yv/c/+j/EgAkAE8ATwBtAG0AgACAAJIAgACGAHoAZwBhAEMANgA2AAwAGAD0//T/4v/c/9z/3P/Q/9z/1v/i/+L/0P/W/9z/vf/D/9D/yv/Q/8P/vf+9/8r/vf/W/9b/6P/0/wYADAAMAAwADAAAAAAA1v/W/8r/pf+r/6X/q/+Z/5//jf+l/5//sf+3/9D/6P/u/wAAKgAeAD0AMABhAIAAmACYAJ4AwwDJAOEAAAEAAQYBDAH6APoA5wDPALAAngCGAG0ATwAwAD0ABgDu/9b/sf+N/3r/dP9i/1b/Q/8x/yX/DP8T/wD/AP8A//T+Bv8G/xP/Gf8l/x//E/8f/xP/Gf8f/0P/Jf8r/xn/Jf8r/z3/bv+x/9b/4v/o//r/BgAYADAAVQCMAJgAngCYAJgAmACkAKoAsADJAOEA5wDnAOcA7QD6AOcA5wDnAMkAvQC9AJ4AvQCqAJ4AmACGAIwAegBnAHMAWwBVAFUAVQBPADYADADu/9z/1v+x/6X/pf+G/27/XP9Q/0n/Pf8x/yX/E/8Z/xn/E/8T/zH/Jf8l/xn/Mf9J/0P/UP90/3T/ev+T/8r/0P/c/9z/4v/u/wYAHgA2ADAAKgA9ADAAPQA9AEkATwBnAGEAbQBnAIwAhgCMAJIAbQCGAHMAhgCGAHoAWwBhAD0ATwA9ADYAMAAqAB4AHgAMACQA+v/0/9b/0P/D/8r/vf/Q/8P/vf+3/73/t/+9/6X/q/+T/7H/k/+x/7H/q/+f/6X/mf+Z/5P/mf+f/6v/yv+3/8r/1v/W/+j/3P/0//r/DAAGAAwABgAYABIAMAA9ADYANgAwAEMASQBJAFUATwBtAEkAbQBVAIAAVQBtAEMATwA9AE8APQA9ADAAPQAqABIAAAAeAB4AJAAMABIAHgAGAAwABgD0/9b/1v/D/9z/1v/W/8P/0P+r/7H/sf+Z/5//pf+Z/6X/pf+x/6v/yv+9/73/sf+3/9b/6P/o//T/AAAAAAwAGAAkAAwABgAAAAAABgAMAB4AKgDu/xIAAAASAAAAEgAAACoAAAAeABIAJAAYAAYABgAMAPr/EgAkAB4AJAAqADYAQwBbAHoAngCSAKQAsACwALcAvQCeAKoAhgCSAGEAbQBDAEMAMAAMAOj/3P/K/9b/1v/W/73/vf+f/6X/hv+N/3r/ev90/3T/Yv9i/1z/Yv9i/27/aP9u/4D/hv+l/7f/pf+Z/5//sf+x/73/q/+9/6X/hv+T/5P/q/+l/8P/1v/W/+j/BgAGAB4APQA9AFsAegCGAIYAmACYAJIAngCwAJ4AmACqAL0AtwDDAMMAsACYAJgAmACeAMMApACMAIAAmAB6AFsATwBzAFUAGAAYADAADAAAAEMAKgDo/9z/BgC3/8r/7v+r/4D/0P/Q/4D/k//Q/43/aP9i/2L/dP96/27/k/+r/5n/hv+N/3r/ev+l/5n/q//c/73/pf/Q/9b/1v/0/wYAGAAqACQAQwA2AEkAPQBbADYANgA2ADYAMABDAEMANgBPAE8AWwBVAG0AWwBhAIAAZwBnAG0AbQCGAGEAPQAwADAAJAAeAEMAKgBDAAwANgAkAB4AKgAYABIA+v8GAAAAEgD6//T/0P/K/7H/t/+x/7H/sf/Q/5P/vf/K/9D/vf/i//T/w/+3/9z/7v+x/9D/6P8MAJn/0P8AAAYAyv89ACoAAAAkAGcABgAMAGcATwAAACQANgBDADYANgA9AD0ABgAeAEkANgA2ADYANgAeADYAPQAwABgAJAAkAAwA6P9DADAAPQAwAD0AMAA9ADAAPQA2AEMAPQA2ADYASQBDACoAJAA9ACoAGAA9AEMAQwAwAD0AGAAGAPr/+v8AAND/4v/W/9z/vf/K/9z/yv+3/9b/0P+3/8r/4v/i/wAA+v/6/9b/1v/Q/8r/sf/K/9b/1v+9/9b/yv/W/8P/4v/Q/+j/1v/u/9D/9P8SAB4AKgAwAD0ANgA2ADYANgA2AB4ANgA2ADYAMAA9AB4ABgD0/xgAPQBbAIYAgACAAHoAhgCSAJgAjACAAG0AWwBhAGEAYQBhAGcAVQBVAFsAVQBVAEkATwBJAEMANgBDAD0APQAqAAwAEgD0//T/7v/u/9z/vf+3/7f/sf/D/7f/vf+3/6v/pf+9/9D/1v/W/9z/3P/o/9z/9P/i/9b/0P/Q/8P/0P/W/9b/1v/Q/9b/3P/o//T/+v8eAB4AMAA9ADYATwA2AD0APQA2AD0ANgA9ADYANgA9ADYATwBVAGcAQwBbADAAVQBhAIwAjACGAFsAPQAqABgAQwAeAEMADAD6//T/BgBDADYAWwBJAEMABgAAAOj/+v8MAOL/6P+3/8P/0P/i/+j/1v/K/9D/3P/o/x4AJAAeABgA1v/u/+7/AADi/+L/1v/W/9z/DAAeAD0ANgA9ADYAKgD0/zAAAAAYABIAGAAeABIADAA2ABIAJAAqACoANgA2ADYAPQA2AE8ATwBPAEkAQwAqAAwA9P/0/wAAHgAkACoAQwA9AEkAMABDACQAKgAkABgABgAGAOj/4v/c/+L/BgAGAAAABgDi/+7/GAA9AD0ATwBPAE8AQwBDAEkAPQAwAB4AHgAAADAAMABJAEkAYQA9AE8ANgA9AEkATwA2ABgA9P8GAPr/EgAMAAwA3P/W/9b/3P/o/wAADADu//r/DAAYACoADAAAANz/yv/K/9z/1v/o/+L/6P/D/8P/yv/c/9b/0P+3/8r/0P/i/xgAMAAGABgA6P/0//T/EgASAOj/4v/c//r/JAA9ADAAPQA2ADYAMAA9ADYATwBDAD0ANgA9AD0AYQBnAFUAJAAMAAYAMABJAIAAngCMAGcAPQA2AFUAcwBnAFsANgA2ADYAYQCGAJIAVQA9AAwAJAA2AEMAKgAGAOL/1v8AABgAPQAeANz/vf/K/+j/EgA9ACQA3P/K/9D/6P8MADAABgDW/6v/vf/Q//T/9P/W/9b/yv/i/wYAQwAeAAwA7v/i/+7/AAA2ACoAAADc/9D/+v8YACoAPQAwABIA9P8GADYANgA9AD0APQA2ADYAMAAkAD0AKgAGAAYAEgAwADYAPQBDADYAEgAkAD0AMAA9ADAAMAAeACQAKgAkADAAGAAYACQAAAAMAAYAEgDu//T/7v8YAAwAKgAkACoA7v/6/9z/7v/o/wwANgASAAAA7v/u//r/KgA9ACQAAADi/+L/7v8SAEMAMAA9ADAAQwA2AD0AHgAMAPr/BgAAACoAKgAYABIADAAqABgAPQAwADYABgASACoAQwBbAGEATwA2ACoAAAAGAOj/9P/i/+7/4v8MAAAAKgASAB4AEgAMAAwABgD6//T/BgAYADAAMAA2AAYA7v+x/8r/t//c/8P/3P/W/x4AGAAeAAAA+v/W/9b/4v/u//r/+v/c/+j/AAA2ADYAPQASAO7/1v+9//T/BgAwABIABgAAAAAAEgAYADAADAASAAwAMAA9AEkAMAAqACoA9P8AAPT/4v/W/9b/3P8MAEMAPQBhAE8ANgA9ADAANgAAAO7/4v/c/9b/EgASAB4ADAD6//T/6P8SAAwAKgAwAB4AJAAeABIAAAAAAOL/0P/W/9b/7v/0/xIAHgAkABIAKgAkACQAAAD0/wAAEgA2AEMAWwA9ACQA4v/i/9b/3P/Q/9z/1v8YADAAMAA2ADYADAAqAPT/1v/Q/9b/1v/i/yQATwBnADYADADc/8P/q/+x/9D/6P/0/yQAPQBJAE8ATwA9AAYA6P/c/9z/4v8YAD0AMAA9ADAAGAD0/+j/0P/K/9b/9P8MAB4AQwBbAIAATwBJADYABgDc/7f/yv/Q/8r/3P8AABgAPQA2AE8ANgAMAPT/7v/u/xgAMAAwACQAAAAqAD0A+v/u/9D/w/+T/73/7v8YAAwABgAGABgANgA9ADYAEgD0/+L/1v/c/wwABgD6/+j/1v/0/zAAPQAqAAYA4v/D/9z/7v8wADAAPQAkACoAPQAwABIA7v/W/8r/3P/o/zAAPQAeAPT/9P/0/xIA+v8MAPT/6P/W//r/PQA2ADYADAAGAAwAKgA9AAYA9P/W/9b/1v/i//T/6P/W/8P/yv/W/wAADAD6/wAABgAMACoAPQA2ACoA4v/K/9D/3P/c/+7/EgAMAAwAHgA9ACQADAAGAO7/0P/Q/wwAPQAqACoAPQBDADYAKgAMAPr/w/+r/73/1v/Q/9b/9P8MADAANgA9ADAA6P/W/9z/EgA9ADAANgASACQAPQA2ADAA7v+l/3r/q//c/xIANgA9AEMAMABVAIYAbQA2AOL/sf+Z/43/t//c/9b/0P/c/xgAQwBVAEkANgAGANb/7v8GAAYAAAD6/wAA+v8GAAwAGADc/9b/1v/6/+j/3P/6/xgAKgAqAEMASQAqAAYAAAD6/wYA9P/c/9b/4v8MADAAPQAqABIA9P/u/wwAGAAeAPr/1v/o/wYAHgASAAYA7v/W/9b/6P8GAAwAAADc/9b/4v8kADYAJAAwABgAMAA2AD0ANgAeAOj/0P/W/+j/EgAAAND/4v/o/+7/+v8MAAAA7v/o/wYAMAAkAAwAHgAGAAYADAAqAAwAyv/D/+7/HgAGAPT/4v/D/9D/4v8GAB4AEgAGAAYAHgAqACoAHgD6/+7/9P8wAPr/4v/W/8r/0P8eACoADAD0/+7/4v/i/zYAPQAeAOj/GAAkAB4AMAAwAD0ABgD0/wYANgAGAPT/BgDo/8r/6P/i/+j/9P8wADYAMAAqAD0AMAAYAAAAHgAGAOL/9P8AAAYA9P/c/wAAMAAMAAAA7v/i/9b/4v/6/wwADAAMAPr/AAAYADYAQwA9ADAAEgD6/9z/9P/o/8P/sf/c//r/MAAqADYAJAAAABIANgA2ACoAMAAMAAYA+v8AAAwA9P/K/9D/3P/W//T/NgA9ADYANgA2ADYANgA2AB4ABgDi/9b/4v8AAPT/9P/u/wAA0P8GACoAEgAAAAYA9P8AAAYAJAA9ABIA3P/6/yQA\" type=\"audio/wav\" />\n",
              "                    Your browser does not support the audio element.\n",
              "                </audio>\n",
              "              "
            ]
          },
          "metadata": {},
          "execution_count": 46
        }
      ]
    },
    {
      "cell_type": "markdown",
      "metadata": {
        "id": "1MaL9J2dNVtG"
      },
      "source": [
        "It can be heard, that the speakers change along with their speaking rate, accent, etc. Overall, the recordings sound relatively clear though, which is to be expected from a read speech corpus.\n",
        "\n",
        "Let's do a final check that the data is correctly prepared, by printing the shape of the speech input, its transcription, and the corresponding sampling rate.\n",
        "\n",
        "**Note**: *You can click the following cell a couple of times to verify multiple samples.*"
      ]
    },
    {
      "cell_type": "code",
      "metadata": {
        "colab": {
          "base_uri": "https://localhost:8080/"
        },
        "id": "1Po2g7YPuRTx",
        "outputId": "cf192c52-9e18-4261-c665-8e6dca1f92ac"
      },
      "source": [
        "rand_int = random.randint(0, len(timit[\"train\"]))\n",
        "\n",
        "print(\"Target text:\", timit[\"train\"][rand_int][\"text\"])\n",
        "print(\"Input array shape:\", np.asarray(timit[\"train\"][rand_int][\"audio\"][\"array\"]).shape)\n",
        "print(\"Sampling rate:\", timit[\"train\"][rand_int][\"audio\"][\"sampling_rate\"])"
      ],
      "execution_count": 47,
      "outputs": [
        {
          "output_type": "stream",
          "name": "stdout",
          "text": [
            "Target text: how oily do you like your salad dressing \n",
            "Input array shape: (31335,)\n",
            "Sampling rate: 16000\n"
          ]
        }
      ]
    },
    {
      "cell_type": "markdown",
      "metadata": {
        "id": "M9teZcSwOBJ4"
      },
      "source": [
        "Good! Everything looks fine - the data is a 1-dimensional array, the sampling rate always corresponds to 16kHz, and the target text is normalized."
      ]
    },
    {
      "cell_type": "markdown",
      "metadata": {
        "id": "k3Pbn5WvOYZF"
      },
      "source": [
        "Finally, we can process the dataset to the format expected by the model for training. We will make use of the `map(...)` function.\n",
        "\n",
        "First, we load and resample the audio data, simply by calling `batch[\"audio\"]`.\n",
        "Second, we extract the `input_values` from the loaded audio file. In our case, the `Wav2Vec2Processor` only normalizes the data. For other speech models, however, this step can include more complex feature extraction, such as [Log-Mel feature extraction](https://en.wikipedia.org/wiki/Mel-frequency_cepstrum).\n",
        "Third, we encode the transcriptions to label ids.\n",
        "\n",
        "**Note**: This mapping function is a good example of how the `Wav2Vec2Processor` class should be used. In \"normal\" context, calling `processor(...)` is redirected to `Wav2Vec2FeatureExtractor`'s call method. When wrapping the processor into the `as_target_processor` context, however, the same method is redirected to `Wav2Vec2CTCTokenizer`'s call method.\n",
        "For more information please check the [docs](https://huggingface.co/transformers/master/model_doc/wav2vec2.html#transformers.Wav2Vec2Processor.__call__)."
      ]
    },
    {
      "cell_type": "code",
      "metadata": {
        "id": "eJY7I0XAwe9p"
      },
      "source": [
        "def prepare_dataset(batch):\n",
        "    audio = batch[\"audio\"]\n",
        "\n",
        "    # batched output is \"un-batched\" to ensure mapping is correct\n",
        "    batch[\"input_values\"] = processor(audio[\"array\"], sampling_rate=audio[\"sampling_rate\"]).input_values[0]\n",
        "    batch[\"input_length\"] = len(batch[\"input_values\"])\n",
        "\n",
        "    with processor.as_target_processor():\n",
        "        batch[\"labels\"] = processor(batch[\"text\"]).input_ids\n",
        "    return batch"
      ],
      "execution_count": 48,
      "outputs": []
    },
    {
      "cell_type": "markdown",
      "metadata": {
        "id": "hVMZhH4-nP8-"
      },
      "source": [
        "Let's apply the data preparation function to all examples."
      ]
    },
    {
      "cell_type": "code",
      "metadata": {
        "id": "-np9xYK-wl8q",
        "colab": {
          "base_uri": "https://localhost:8080/",
          "height": 1000
        },
        "outputId": "f4ed81b9-658d-451f-c649-d4650df89ec6"
      },
      "source": [
        "timit = timit.map(prepare_dataset, remove_columns=timit.column_names[\"train\"], num_proc=4)"
      ],
      "execution_count": 51,
      "outputs": [
        {
          "output_type": "stream",
          "name": "stderr",
          "text": [
            "/usr/local/lib/python3.11/dist-packages/datasets/features/features.py:1131: FutureWarning: In the future `np.object` will be defined as the corresponding NumPy scalar.\n",
            "  [0] + [len(arr) for arr in l_arr], dtype=np.object\n"
          ]
        },
        {
          "output_type": "error",
          "ename": "AttributeError",
          "evalue": "module 'numpy' has no attribute 'object'.\n`np.object` was a deprecated alias for the builtin `object`. To avoid this error in existing code, use `object` by itself. Doing this will not modify any behavior and is safe. \nThe aliases was originally deprecated in NumPy 1.20; for more details and guidance see the original release note at:\n    https://numpy.org/devdocs/release/1.20.0-notes.html#deprecations",
          "traceback": [
            "\u001b[0;31m---------------------------------------------------------------------------\u001b[0m",
            "\u001b[0;31mRemoteTraceback\u001b[0m                           Traceback (most recent call last)",
            "\u001b[0;31mRemoteTraceback\u001b[0m: \n\"\"\"\nTraceback (most recent call last):\n  File \"/usr/local/lib/python3.11/dist-packages/datasets/arrow_dataset.py\", line 2468, in _map_single\n    old_format_kwargs = self._format_kwargs\n                            ^^^^^^^^^^^^^^^^\n  File \"/usr/local/lib/python3.11/dist-packages/datasets/arrow_writer.py\", line 444, in write\n    self._features = inferred_features\n    ^^^^^^^^^^^^^^^^^^^^^^^^^^^^^\n  File \"/usr/local/lib/python3.11/dist-packages/datasets/arrow_writer.py\", line 402, in write_examples_on_file\n    self.with_metadata = with_metadata\n  File \"/usr/local/lib/python3.11/dist-packages/datasets/arrow_writer.py\", line 495, in write_batch\n    # Moreover, examples could be Arrow arrays of 1 element.\n                  ^^^^^^^^^^^^^^^^^^^^^^^^\n  File \"pyarrow/array.pxi\", line 250, in pyarrow.lib.array\n    return _handle_arrow_array_protocol(obj, type, mask, size)\n  File \"pyarrow/array.pxi\", line 114, in pyarrow.lib._handle_arrow_array_protocol\n    res = obj.__arrow_array__(type=type)\n  File \"/usr/local/lib/python3.11/dist-packages/datasets/arrow_writer.py\", line 185, in __arrow_array__\n    - the (possibly encoded) array, if the inferred feature type requires encoding\n          ^^^^^^^^^^^^^^^^^^^^^^^^^^^^^^^^^^^^^^^^^^^\n  File \"/usr/local/lib/python3.11/dist-packages/datasets/features/features.py\", line 1142, in list_of_np_array_to_pyarrow_listarray\n    )\n      \n  File \"/usr/local/lib/python3.11/dist-packages/datasets/features/features.py\", line 1131, in list_of_pa_arrays_to_pyarrow_listarray\n    `pa.Int64Array`: Array in the `ClassLabel` arrow storage type.\n                                         ^^^^^^^^^\n  File \"/usr/local/lib/python3.11/dist-packages/numpy/__init__.py\", line 394, in __getattr__\n    raise AttributeError(__former_attrs__[attr])\nAttributeError: module 'numpy' has no attribute 'object'.\n`np.object` was a deprecated alias for the builtin `object`. To avoid this error in existing code, use `object` by itself. Doing this will not modify any behavior and is safe. \nThe aliases was originally deprecated in NumPy 1.20; for more details and guidance see the original release note at:\n    https://numpy.org/devdocs/release/1.20.0-notes.html#deprecations\n\nDuring handling of the above exception, another exception occurred:\n\nTraceback (most recent call last):\n  File \"/usr/local/lib/python3.11/dist-packages/multiprocess/pool.py\", line 125, in worker\n    result = (True, func(*args, **kwds))\n                    ^^^^^^^^^^^^^^^^^^^\n  File \"/usr/local/lib/python3.11/dist-packages/datasets/arrow_dataset.py\", line 518, in wrapper\n    if cols_to_retain is not None:\n                                   \n  File \"/usr/local/lib/python3.11/dist-packages/datasets/arrow_dataset.py\", line 485, in wrapper\n    if batch_size is None:\n                           \n  File \"/usr/local/lib/python3.11/dist-packages/datasets/fingerprint.py\", line 413, in wrapper\n    func,\n      ^^^^\n  File \"/usr/local/lib/python3.11/dist-packages/datasets/arrow_dataset.py\", line 2504, in _map_single\n    ```\n        \n  File \"/usr/local/lib/python3.11/dist-packages/datasets/arrow_writer.py\", line 525, in finalize\n    writer_batch_size: Optional[int] = None,\n    ^^^^^^^^^^^^^^^^^^^^^^^^^^^^^\n  File \"/usr/local/lib/python3.11/dist-packages/datasets/arrow_writer.py\", line 402, in write_examples_on_file\n    self.with_metadata = with_metadata\n  File \"/usr/local/lib/python3.11/dist-packages/datasets/arrow_writer.py\", line 495, in write_batch\n    # Moreover, examples could be Arrow arrays of 1 element.\n                  ^^^^^^^^^^^^^^^^^^^^^^^^\n  File \"pyarrow/array.pxi\", line 250, in pyarrow.lib.array\n    return _handle_arrow_array_protocol(obj, type, mask, size)\n  File \"pyarrow/array.pxi\", line 114, in pyarrow.lib._handle_arrow_array_protocol\n    res = obj.__arrow_array__(type=type)\n  File \"/usr/local/lib/python3.11/dist-packages/datasets/arrow_writer.py\", line 185, in __arrow_array__\n    - the (possibly encoded) array, if the inferred feature type requires encoding\n          ^^^^^^^^^^^^^^^^^^^^^^^^^^^^^^^^^^^^^^^^^^^\n  File \"/usr/local/lib/python3.11/dist-packages/datasets/features/features.py\", line 1142, in list_of_np_array_to_pyarrow_listarray\n    )\n      \n  File \"/usr/local/lib/python3.11/dist-packages/datasets/features/features.py\", line 1131, in list_of_pa_arrays_to_pyarrow_listarray\n    `pa.Int64Array`: Array in the `ClassLabel` arrow storage type.\n                                         ^^^^^^^^^\n  File \"/usr/local/lib/python3.11/dist-packages/numpy/__init__.py\", line 394, in __getattr__\n    raise AttributeError(__former_attrs__[attr])\nAttributeError: module 'numpy' has no attribute 'object'.\n`np.object` was a deprecated alias for the builtin `object`. To avoid this error in existing code, use `object` by itself. Doing this will not modify any behavior and is safe. \nThe aliases was originally deprecated in NumPy 1.20; for more details and guidance see the original release note at:\n    https://numpy.org/devdocs/release/1.20.0-notes.html#deprecations\n\"\"\"",
            "\nThe above exception was the direct cause of the following exception:\n",
            "\u001b[0;31mAttributeError\u001b[0m                            Traceback (most recent call last)",
            "\u001b[0;32m<ipython-input-51-582ebb1e2161>\u001b[0m in \u001b[0;36m<cell line: 0>\u001b[0;34m()\u001b[0m\n\u001b[0;32m----> 1\u001b[0;31m \u001b[0mtimit\u001b[0m \u001b[0;34m=\u001b[0m \u001b[0mtimit\u001b[0m\u001b[0;34m.\u001b[0m\u001b[0mmap\u001b[0m\u001b[0;34m(\u001b[0m\u001b[0mprepare_dataset\u001b[0m\u001b[0;34m,\u001b[0m \u001b[0mremove_columns\u001b[0m\u001b[0;34m=\u001b[0m\u001b[0mtimit\u001b[0m\u001b[0;34m.\u001b[0m\u001b[0mcolumn_names\u001b[0m\u001b[0;34m[\u001b[0m\u001b[0;34m\"train\"\u001b[0m\u001b[0;34m]\u001b[0m\u001b[0;34m,\u001b[0m \u001b[0mnum_proc\u001b[0m\u001b[0;34m=\u001b[0m\u001b[0;36m4\u001b[0m\u001b[0;34m)\u001b[0m\u001b[0;34m\u001b[0m\u001b[0;34m\u001b[0m\u001b[0m\n\u001b[0m",
            "\u001b[0;32m/usr/local/lib/python3.11/dist-packages/datasets/dataset_dict.py\u001b[0m in \u001b[0;36mmap\u001b[0;34m(self, function, with_indices, input_columns, batched, batch_size, remove_columns, keep_in_memory, load_from_cache_file, cache_file_names, writer_batch_size, features, disable_nullable, fn_kwargs, num_proc, desc)\u001b[0m\n\u001b[1;32m    492\u001b[0m         \u001b[0;31m`\u001b[0m\u001b[0;31m`\u001b[0m\u001b[0;31m`\u001b[0m\u001b[0;34m\u001b[0m\u001b[0;34m\u001b[0m\u001b[0m\n\u001b[1;32m    493\u001b[0m         \"\"\"\n\u001b[0;32m--> 494\u001b[0;31m         \u001b[0mself\u001b[0m\u001b[0;34m.\u001b[0m\u001b[0m_check_values_type\u001b[0m\u001b[0;34m(\u001b[0m\u001b[0;34m)\u001b[0m\u001b[0;34m\u001b[0m\u001b[0;34m\u001b[0m\u001b[0m\n\u001b[0m\u001b[1;32m    495\u001b[0m         \u001b[0;32mreturn\u001b[0m \u001b[0mDatasetDict\u001b[0m\u001b[0;34m(\u001b[0m\u001b[0;34m{\u001b[0m\u001b[0mk\u001b[0m\u001b[0;34m:\u001b[0m \u001b[0mdataset\u001b[0m\u001b[0;34m.\u001b[0m\u001b[0mselect_columns\u001b[0m\u001b[0;34m(\u001b[0m\u001b[0mcolumn_names\u001b[0m\u001b[0;34m=\u001b[0m\u001b[0mcolumn_names\u001b[0m\u001b[0;34m)\u001b[0m \u001b[0;32mfor\u001b[0m \u001b[0mk\u001b[0m\u001b[0;34m,\u001b[0m \u001b[0mdataset\u001b[0m \u001b[0;32min\u001b[0m \u001b[0mself\u001b[0m\u001b[0;34m.\u001b[0m\u001b[0mitems\u001b[0m\u001b[0;34m(\u001b[0m\u001b[0;34m)\u001b[0m\u001b[0;34m}\u001b[0m\u001b[0;34m)\u001b[0m\u001b[0;34m\u001b[0m\u001b[0;34m\u001b[0m\u001b[0m\n\u001b[1;32m    496\u001b[0m \u001b[0;34m\u001b[0m\u001b[0m\n",
            "\u001b[0;32m/usr/local/lib/python3.11/dist-packages/datasets/dataset_dict.py\u001b[0m in \u001b[0;36m<dictcomp>\u001b[0;34m(.0)\u001b[0m\n\u001b[1;32m    493\u001b[0m         \"\"\"\n\u001b[1;32m    494\u001b[0m         \u001b[0mself\u001b[0m\u001b[0;34m.\u001b[0m\u001b[0m_check_values_type\u001b[0m\u001b[0;34m(\u001b[0m\u001b[0;34m)\u001b[0m\u001b[0;34m\u001b[0m\u001b[0;34m\u001b[0m\u001b[0m\n\u001b[0;32m--> 495\u001b[0;31m         \u001b[0;32mreturn\u001b[0m \u001b[0mDatasetDict\u001b[0m\u001b[0;34m(\u001b[0m\u001b[0;34m{\u001b[0m\u001b[0mk\u001b[0m\u001b[0;34m:\u001b[0m \u001b[0mdataset\u001b[0m\u001b[0;34m.\u001b[0m\u001b[0mselect_columns\u001b[0m\u001b[0;34m(\u001b[0m\u001b[0mcolumn_names\u001b[0m\u001b[0;34m=\u001b[0m\u001b[0mcolumn_names\u001b[0m\u001b[0;34m)\u001b[0m \u001b[0;32mfor\u001b[0m \u001b[0mk\u001b[0m\u001b[0;34m,\u001b[0m \u001b[0mdataset\u001b[0m \u001b[0;32min\u001b[0m \u001b[0mself\u001b[0m\u001b[0;34m.\u001b[0m\u001b[0mitems\u001b[0m\u001b[0;34m(\u001b[0m\u001b[0;34m)\u001b[0m\u001b[0;34m}\u001b[0m\u001b[0;34m)\u001b[0m\u001b[0;34m\u001b[0m\u001b[0;34m\u001b[0m\u001b[0m\n\u001b[0m\u001b[1;32m    496\u001b[0m \u001b[0;34m\u001b[0m\u001b[0m\n\u001b[1;32m    497\u001b[0m     \u001b[0;32mdef\u001b[0m \u001b[0mclass_encode_column\u001b[0m\u001b[0;34m(\u001b[0m\u001b[0mself\u001b[0m\u001b[0;34m,\u001b[0m \u001b[0mcolumn\u001b[0m\u001b[0;34m:\u001b[0m \u001b[0mstr\u001b[0m\u001b[0;34m,\u001b[0m \u001b[0minclude_nulls\u001b[0m\u001b[0;34m:\u001b[0m \u001b[0mbool\u001b[0m \u001b[0;34m=\u001b[0m \u001b[0;32mFalse\u001b[0m\u001b[0;34m)\u001b[0m \u001b[0;34m->\u001b[0m \u001b[0;34m\"DatasetDict\"\u001b[0m\u001b[0;34m:\u001b[0m\u001b[0;34m\u001b[0m\u001b[0;34m\u001b[0m\u001b[0m\n",
            "\u001b[0;32m/usr/local/lib/python3.11/dist-packages/datasets/arrow_dataset.py\u001b[0m in \u001b[0;36mmap\u001b[0;34m(self, function, with_indices, with_rank, input_columns, batched, batch_size, drop_last_batch, remove_columns, keep_in_memory, load_from_cache_file, cache_file_name, writer_batch_size, features, disable_nullable, fn_kwargs, num_proc, suffix_template, new_fingerprint, desc)\u001b[0m\n\u001b[1;32m   2213\u001b[0m             raise ValueError(\n\u001b[1;32m   2214\u001b[0m                 \u001b[0;34mf\"New column name {new_column_name} already in the dataset. \"\u001b[0m\u001b[0;34m\u001b[0m\u001b[0;34m\u001b[0m\u001b[0m\n\u001b[0;32m-> 2215\u001b[0;31m                 \u001b[0;34mf\"Please choose a column name which is not already in the dataset. \"\u001b[0m\u001b[0;34m\u001b[0m\u001b[0;34m\u001b[0m\u001b[0m\n\u001b[0m\u001b[1;32m   2216\u001b[0m                 \u001b[0;34mf\"Current columns in the dataset: {dataset._data.column_names}\"\u001b[0m\u001b[0;34m\u001b[0m\u001b[0;34m\u001b[0m\u001b[0m\n\u001b[1;32m   2217\u001b[0m             )\n",
            "\u001b[0;32m/usr/local/lib/python3.11/dist-packages/multiprocess/pool.py\u001b[0m in \u001b[0;36mget\u001b[0;34m(self, timeout)\u001b[0m\n\u001b[1;32m    772\u001b[0m             \u001b[0;32mreturn\u001b[0m \u001b[0mself\u001b[0m\u001b[0;34m.\u001b[0m\u001b[0m_value\u001b[0m\u001b[0;34m\u001b[0m\u001b[0;34m\u001b[0m\u001b[0m\n\u001b[1;32m    773\u001b[0m         \u001b[0;32melse\u001b[0m\u001b[0;34m:\u001b[0m\u001b[0;34m\u001b[0m\u001b[0;34m\u001b[0m\u001b[0m\n\u001b[0;32m--> 774\u001b[0;31m             \u001b[0;32mraise\u001b[0m \u001b[0mself\u001b[0m\u001b[0;34m.\u001b[0m\u001b[0m_value\u001b[0m\u001b[0;34m\u001b[0m\u001b[0;34m\u001b[0m\u001b[0m\n\u001b[0m\u001b[1;32m    775\u001b[0m \u001b[0;34m\u001b[0m\u001b[0m\n\u001b[1;32m    776\u001b[0m     \u001b[0;32mdef\u001b[0m \u001b[0m_set\u001b[0m\u001b[0;34m(\u001b[0m\u001b[0mself\u001b[0m\u001b[0;34m,\u001b[0m \u001b[0mi\u001b[0m\u001b[0;34m,\u001b[0m \u001b[0mobj\u001b[0m\u001b[0;34m)\u001b[0m\u001b[0;34m:\u001b[0m\u001b[0;34m\u001b[0m\u001b[0;34m\u001b[0m\u001b[0m\n",
            "\u001b[0;32m/usr/local/lib/python3.11/dist-packages/multiprocess/pool.py\u001b[0m in \u001b[0;36mworker\u001b[0;34m()\u001b[0m\n\u001b[1;32m    123\u001b[0m         \u001b[0mjob\u001b[0m\u001b[0;34m,\u001b[0m \u001b[0mi\u001b[0m\u001b[0;34m,\u001b[0m \u001b[0mfunc\u001b[0m\u001b[0;34m,\u001b[0m \u001b[0margs\u001b[0m\u001b[0;34m,\u001b[0m \u001b[0mkwds\u001b[0m \u001b[0;34m=\u001b[0m \u001b[0mtask\u001b[0m\u001b[0;34m\u001b[0m\u001b[0;34m\u001b[0m\u001b[0m\n\u001b[1;32m    124\u001b[0m         \u001b[0;32mtry\u001b[0m\u001b[0;34m:\u001b[0m\u001b[0;34m\u001b[0m\u001b[0;34m\u001b[0m\u001b[0m\n\u001b[0;32m--> 125\u001b[0;31m             \u001b[0mresult\u001b[0m \u001b[0;34m=\u001b[0m \u001b[0;34m(\u001b[0m\u001b[0;32mTrue\u001b[0m\u001b[0;34m,\u001b[0m \u001b[0mfunc\u001b[0m\u001b[0;34m(\u001b[0m\u001b[0;34m*\u001b[0m\u001b[0margs\u001b[0m\u001b[0;34m,\u001b[0m \u001b[0;34m**\u001b[0m\u001b[0mkwds\u001b[0m\u001b[0;34m)\u001b[0m\u001b[0;34m)\u001b[0m\u001b[0;34m\u001b[0m\u001b[0;34m\u001b[0m\u001b[0m\n\u001b[0m\u001b[1;32m    126\u001b[0m         \u001b[0;32mexcept\u001b[0m \u001b[0mException\u001b[0m \u001b[0;32mas\u001b[0m \u001b[0me\u001b[0m\u001b[0;34m:\u001b[0m\u001b[0;34m\u001b[0m\u001b[0;34m\u001b[0m\u001b[0m\n\u001b[1;32m    127\u001b[0m             \u001b[0;32mif\u001b[0m \u001b[0mwrap_exception\u001b[0m \u001b[0;32mand\u001b[0m \u001b[0mfunc\u001b[0m \u001b[0;32mis\u001b[0m \u001b[0;32mnot\u001b[0m \u001b[0m_helper_reraises_exception\u001b[0m\u001b[0;34m:\u001b[0m\u001b[0;34m\u001b[0m\u001b[0;34m\u001b[0m\u001b[0m\n",
            "\u001b[0;32m/usr/local/lib/python3.11/dist-packages/datasets/arrow_dataset.py\u001b[0m in \u001b[0;36mwrapper\u001b[0;34m()\u001b[0m\n\u001b[1;32m    516\u001b[0m                 \u001b[0;32mreturn\u001b[0m \u001b[0mfeatures\u001b[0m\u001b[0;34m,\u001b[0m \u001b[0mlabels\u001b[0m\u001b[0;34m\u001b[0m\u001b[0;34m\u001b[0m\u001b[0m\n\u001b[1;32m    517\u001b[0m \u001b[0;34m\u001b[0m\u001b[0m\n\u001b[0;32m--> 518\u001b[0;31m         \u001b[0;32mif\u001b[0m \u001b[0mcols_to_retain\u001b[0m \u001b[0;32mis\u001b[0m \u001b[0;32mnot\u001b[0m \u001b[0;32mNone\u001b[0m\u001b[0;34m:\u001b[0m\u001b[0;34m\u001b[0m\u001b[0;34m\u001b[0m\u001b[0m\n\u001b[0m\u001b[1;32m    519\u001b[0m             \u001b[0mtf_dataset\u001b[0m \u001b[0;34m=\u001b[0m \u001b[0mtf_dataset\u001b[0m\u001b[0;34m.\u001b[0m\u001b[0mmap\u001b[0m\u001b[0;34m(\u001b[0m\u001b[0msplit_features_and_labels\u001b[0m\u001b[0;34m)\u001b[0m\u001b[0;34m\u001b[0m\u001b[0;34m\u001b[0m\u001b[0m\n\u001b[1;32m    520\u001b[0m \u001b[0;34m\u001b[0m\u001b[0m\n",
            "\u001b[0;32m/usr/local/lib/python3.11/dist-packages/datasets/arrow_dataset.py\u001b[0m in \u001b[0;36mwrapper\u001b[0;34m()\u001b[0m\n\u001b[1;32m    483\u001b[0m             )\n\u001b[1;32m    484\u001b[0m         \u001b[0;32melif\u001b[0m \u001b[0mnum_workers\u001b[0m \u001b[0;34m>\u001b[0m \u001b[0;36m0\u001b[0m\u001b[0;34m:\u001b[0m\u001b[0;34m\u001b[0m\u001b[0;34m\u001b[0m\u001b[0m\n\u001b[0;32m--> 485\u001b[0;31m             \u001b[0;32mif\u001b[0m \u001b[0mbatch_size\u001b[0m \u001b[0;32mis\u001b[0m \u001b[0;32mNone\u001b[0m\u001b[0;34m:\u001b[0m\u001b[0;34m\u001b[0m\u001b[0;34m\u001b[0m\u001b[0m\n\u001b[0m\u001b[1;32m    486\u001b[0m                 raise NotImplementedError(\n\u001b[1;32m    487\u001b[0m                     \u001b[0;34m\"`batch_size` must be specified when using multiple workers, as unbatched multiprocessing \"\u001b[0m\u001b[0;34m\u001b[0m\u001b[0;34m\u001b[0m\u001b[0m\n",
            "\u001b[0;32m/usr/local/lib/python3.11/dist-packages/datasets/fingerprint.py\u001b[0m in \u001b[0;36mwrapper\u001b[0;34m()\u001b[0m\n\u001b[1;32m    411\u001b[0m         \u001b[0;32mdef\u001b[0m \u001b[0mwrapper\u001b[0m\u001b[0;34m(\u001b[0m\u001b[0;34m*\u001b[0m\u001b[0margs\u001b[0m\u001b[0;34m,\u001b[0m \u001b[0;34m**\u001b[0m\u001b[0mkwargs\u001b[0m\u001b[0;34m)\u001b[0m\u001b[0;34m:\u001b[0m\u001b[0;34m\u001b[0m\u001b[0;34m\u001b[0m\u001b[0m\n\u001b[1;32m    412\u001b[0m             kwargs_for_fingerprint = format_kwargs_for_fingerprint(\n\u001b[0;32m--> 413\u001b[0;31m                 \u001b[0mfunc\u001b[0m\u001b[0;34m,\u001b[0m\u001b[0;34m\u001b[0m\u001b[0;34m\u001b[0m\u001b[0m\n\u001b[0m\u001b[1;32m    414\u001b[0m                 \u001b[0margs\u001b[0m\u001b[0;34m,\u001b[0m\u001b[0;34m\u001b[0m\u001b[0;34m\u001b[0m\u001b[0m\n\u001b[1;32m    415\u001b[0m                 \u001b[0mkwargs\u001b[0m\u001b[0;34m,\u001b[0m\u001b[0;34m\u001b[0m\u001b[0;34m\u001b[0m\u001b[0m\n",
            "\u001b[0;32m/usr/local/lib/python3.11/dist-packages/datasets/arrow_dataset.py\u001b[0m in \u001b[0;36m_map_single\u001b[0;34m()\u001b[0m\n\u001b[1;32m   2502\u001b[0m         \u001b[0mgets\u001b[0m \u001b[0mupdated\u001b[0m\u001b[0;34m.\u001b[0m \u001b[0mIn\u001b[0m \u001b[0mthis\u001b[0m \u001b[0mcase\u001b[0m\u001b[0;34m,\u001b[0m \u001b[0;32mif\u001b[0m \u001b[0myou\u001b[0m \u001b[0mapply\u001b[0m\u001b[0;31m \u001b[0m\u001b[0;31m`\u001b[0m\u001b[0mmap\u001b[0m\u001b[0;31m`\u001b[0m \u001b[0mon\u001b[0m \u001b[0ma\u001b[0m \u001b[0mdataset\u001b[0m \u001b[0mto\u001b[0m \u001b[0madd\u001b[0m \u001b[0ma\u001b[0m \u001b[0mnew\u001b[0m \u001b[0mcolumn\u001b[0m\u001b[0;34m,\u001b[0m \u001b[0mthen\u001b[0m \u001b[0mthis\u001b[0m \u001b[0mcolumn\u001b[0m \u001b[0mwill\u001b[0m \u001b[0mbe\u001b[0m \u001b[0mformatted\u001b[0m \u001b[0;32mas\u001b[0m\u001b[0;34m:\u001b[0m\u001b[0;34m\u001b[0m\u001b[0;34m\u001b[0m\u001b[0m\n\u001b[1;32m   2503\u001b[0m \u001b[0;34m\u001b[0m\u001b[0m\n\u001b[0;32m-> 2504\u001b[0;31m             \u001b[0;31m`\u001b[0m\u001b[0;31m`\u001b[0m\u001b[0;31m`\u001b[0m\u001b[0;34m\u001b[0m\u001b[0;34m\u001b[0m\u001b[0m\n\u001b[0m\u001b[1;32m   2505\u001b[0m             \u001b[0mnew\u001b[0m \u001b[0mformatted\u001b[0m \u001b[0mcolumns\u001b[0m \u001b[0;34m=\u001b[0m \u001b[0;34m(\u001b[0m\u001b[0mall\u001b[0m \u001b[0mcolumns\u001b[0m \u001b[0;34m-\u001b[0m \u001b[0mpreviously\u001b[0m \u001b[0munformatted\u001b[0m \u001b[0mcolumns\u001b[0m\u001b[0;34m)\u001b[0m\u001b[0;34m\u001b[0m\u001b[0;34m\u001b[0m\u001b[0m\n\u001b[1;32m   2506\u001b[0m             \u001b[0;31m`\u001b[0m\u001b[0;31m`\u001b[0m\u001b[0;31m`\u001b[0m\u001b[0;34m\u001b[0m\u001b[0;34m\u001b[0m\u001b[0m\n",
            "\u001b[0;32m/usr/local/lib/python3.11/dist-packages/datasets/arrow_writer.py\u001b[0m in \u001b[0;36mfinalize\u001b[0;34m()\u001b[0m\n\u001b[1;32m    523\u001b[0m         \u001b[0mexample\u001b[0m\u001b[0;34m:\u001b[0m \u001b[0mdict\u001b[0m\u001b[0;34m[\u001b[0m\u001b[0mstr\u001b[0m\u001b[0;34m,\u001b[0m \u001b[0mAny\u001b[0m\u001b[0;34m]\u001b[0m\u001b[0;34m,\u001b[0m\u001b[0;34m\u001b[0m\u001b[0;34m\u001b[0m\u001b[0m\n\u001b[1;32m    524\u001b[0m         \u001b[0mkey\u001b[0m\u001b[0;34m:\u001b[0m \u001b[0mOptional\u001b[0m\u001b[0;34m[\u001b[0m\u001b[0mUnion\u001b[0m\u001b[0;34m[\u001b[0m\u001b[0mstr\u001b[0m\u001b[0;34m,\u001b[0m \u001b[0mint\u001b[0m\u001b[0;34m,\u001b[0m \u001b[0mbytes\u001b[0m\u001b[0;34m]\u001b[0m\u001b[0;34m]\u001b[0m \u001b[0;34m=\u001b[0m \u001b[0;32mNone\u001b[0m\u001b[0;34m,\u001b[0m\u001b[0;34m\u001b[0m\u001b[0;34m\u001b[0m\u001b[0m\n\u001b[0;32m--> 525\u001b[0;31m         \u001b[0mwriter_batch_size\u001b[0m\u001b[0;34m:\u001b[0m \u001b[0mOptional\u001b[0m\u001b[0;34m[\u001b[0m\u001b[0mint\u001b[0m\u001b[0;34m]\u001b[0m \u001b[0;34m=\u001b[0m \u001b[0;32mNone\u001b[0m\u001b[0;34m,\u001b[0m\u001b[0;34m\u001b[0m\u001b[0;34m\u001b[0m\u001b[0m\n\u001b[0m\u001b[1;32m    526\u001b[0m     ):\n\u001b[1;32m    527\u001b[0m         \"\"\"Add a given (Example,Key) pair to the write-pool of examples which is written to file.\n",
            "\u001b[0;32m/usr/local/lib/python3.11/dist-packages/datasets/arrow_writer.py\u001b[0m in \u001b[0;36mwrite_examples_on_file\u001b[0;34m()\u001b[0m\n\u001b[1;32m    400\u001b[0m         )\n\u001b[1;32m    401\u001b[0m         \u001b[0mself\u001b[0m\u001b[0;34m.\u001b[0m\u001b[0mupdate_features\u001b[0m \u001b[0;34m=\u001b[0m \u001b[0mupdate_features\u001b[0m\u001b[0;34m\u001b[0m\u001b[0;34m\u001b[0m\u001b[0m\n\u001b[0;32m--> 402\u001b[0;31m         \u001b[0mself\u001b[0m\u001b[0;34m.\u001b[0m\u001b[0mwith_metadata\u001b[0m \u001b[0;34m=\u001b[0m \u001b[0mwith_metadata\u001b[0m\u001b[0;34m\u001b[0m\u001b[0;34m\u001b[0m\u001b[0m\n\u001b[0m\u001b[1;32m    403\u001b[0m         \u001b[0mself\u001b[0m\u001b[0;34m.\u001b[0m\u001b[0munit\u001b[0m \u001b[0;34m=\u001b[0m \u001b[0munit\u001b[0m\u001b[0;34m\u001b[0m\u001b[0;34m\u001b[0m\u001b[0m\n\u001b[1;32m    404\u001b[0m         \u001b[0mself\u001b[0m\u001b[0;34m.\u001b[0m\u001b[0membed_local_files\u001b[0m \u001b[0;34m=\u001b[0m \u001b[0membed_local_files\u001b[0m\u001b[0;34m\u001b[0m\u001b[0;34m\u001b[0m\u001b[0m\n",
            "\u001b[0;32m/usr/local/lib/python3.11/dist-packages/datasets/arrow_writer.py\u001b[0m in \u001b[0;36mwrite_batch\u001b[0;34m()\u001b[0m\n\u001b[1;32m    493\u001b[0m         \u001b[0;32mfor\u001b[0m \u001b[0mcol\u001b[0m \u001b[0;32min\u001b[0m \u001b[0mcols\u001b[0m\u001b[0;34m:\u001b[0m\u001b[0;34m\u001b[0m\u001b[0;34m\u001b[0m\u001b[0m\n\u001b[1;32m    494\u001b[0m             \u001b[0;31m# We use row[0][col] since current_examples contains (example, key) tuples.\u001b[0m\u001b[0;34m\u001b[0m\u001b[0;34m\u001b[0m\u001b[0m\n\u001b[0;32m--> 495\u001b[0;31m             \u001b[0;31m# Moreover, examples could be Arrow arrays of 1 element.\u001b[0m\u001b[0;34m\u001b[0m\u001b[0;34m\u001b[0m\u001b[0m\n\u001b[0m\u001b[1;32m    496\u001b[0m             \u001b[0;31m# This can happen in `.map()` when we want to re-write the same Arrow data\u001b[0m\u001b[0;34m\u001b[0m\u001b[0;34m\u001b[0m\u001b[0m\n\u001b[1;32m    497\u001b[0m             \u001b[0;32mif\u001b[0m \u001b[0mall\u001b[0m\u001b[0;34m(\u001b[0m\u001b[0misinstance\u001b[0m\u001b[0;34m(\u001b[0m\u001b[0mrow\u001b[0m\u001b[0;34m[\u001b[0m\u001b[0;36m0\u001b[0m\u001b[0;34m]\u001b[0m\u001b[0;34m[\u001b[0m\u001b[0mcol\u001b[0m\u001b[0;34m]\u001b[0m\u001b[0;34m,\u001b[0m \u001b[0;34m(\u001b[0m\u001b[0mpa\u001b[0m\u001b[0;34m.\u001b[0m\u001b[0mArray\u001b[0m\u001b[0;34m,\u001b[0m \u001b[0mpa\u001b[0m\u001b[0;34m.\u001b[0m\u001b[0mChunkedArray\u001b[0m\u001b[0;34m)\u001b[0m\u001b[0;34m)\u001b[0m \u001b[0;32mfor\u001b[0m \u001b[0mrow\u001b[0m \u001b[0;32min\u001b[0m \u001b[0mself\u001b[0m\u001b[0;34m.\u001b[0m\u001b[0mcurrent_examples\u001b[0m\u001b[0;34m)\u001b[0m\u001b[0;34m:\u001b[0m\u001b[0;34m\u001b[0m\u001b[0;34m\u001b[0m\u001b[0m\n",
            "\u001b[0;32m/usr/local/lib/python3.11/dist-packages/pyarrow/array.pxi\u001b[0m in \u001b[0;36mpyarrow.lib.array\u001b[0;34m()\u001b[0m\n\u001b[1;32m    248\u001b[0m \u001b[0;34m\u001b[0m\u001b[0m\n\u001b[1;32m    249\u001b[0m     \u001b[0;32mif\u001b[0m \u001b[0mhasattr\u001b[0m\u001b[0;34m(\u001b[0m\u001b[0mobj\u001b[0m\u001b[0;34m,\u001b[0m \u001b[0;34m'__arrow_array__'\u001b[0m\u001b[0;34m)\u001b[0m\u001b[0;34m:\u001b[0m\u001b[0;34m\u001b[0m\u001b[0;34m\u001b[0m\u001b[0m\n\u001b[0;32m--> 250\u001b[0;31m         \u001b[0;32mreturn\u001b[0m \u001b[0m_handle_arrow_array_protocol\u001b[0m\u001b[0;34m(\u001b[0m\u001b[0mobj\u001b[0m\u001b[0;34m,\u001b[0m \u001b[0mtype\u001b[0m\u001b[0;34m,\u001b[0m \u001b[0mmask\u001b[0m\u001b[0;34m,\u001b[0m \u001b[0msize\u001b[0m\u001b[0;34m)\u001b[0m\u001b[0;34m\u001b[0m\u001b[0;34m\u001b[0m\u001b[0m\n\u001b[0m\u001b[1;32m    251\u001b[0m     \u001b[0;32melif\u001b[0m \u001b[0mhasattr\u001b[0m\u001b[0;34m(\u001b[0m\u001b[0mobj\u001b[0m\u001b[0;34m,\u001b[0m \u001b[0;34m'__arrow_c_device_array__'\u001b[0m\u001b[0;34m)\u001b[0m\u001b[0;34m:\u001b[0m\u001b[0;34m\u001b[0m\u001b[0;34m\u001b[0m\u001b[0m\n\u001b[1;32m    252\u001b[0m         \u001b[0;32mif\u001b[0m \u001b[0mtype\u001b[0m \u001b[0;32mis\u001b[0m \u001b[0;32mnot\u001b[0m \u001b[0;32mNone\u001b[0m\u001b[0;34m:\u001b[0m\u001b[0;34m\u001b[0m\u001b[0;34m\u001b[0m\u001b[0m\n",
            "\u001b[0;32m/usr/local/lib/python3.11/dist-packages/pyarrow/array.pxi\u001b[0m in \u001b[0;36mpyarrow.lib._handle_arrow_array_protocol\u001b[0;34m()\u001b[0m\n\u001b[1;32m    112\u001b[0m             \u001b[0;34m\"Cannot specify a mask or a size when passing an object that is \"\u001b[0m\u001b[0;34m\u001b[0m\u001b[0;34m\u001b[0m\u001b[0m\n\u001b[1;32m    113\u001b[0m             \"converted with the __arrow_array__ protocol.\")\n\u001b[0;32m--> 114\u001b[0;31m     \u001b[0mres\u001b[0m \u001b[0;34m=\u001b[0m \u001b[0mobj\u001b[0m\u001b[0;34m.\u001b[0m\u001b[0m__arrow_array__\u001b[0m\u001b[0;34m(\u001b[0m\u001b[0mtype\u001b[0m\u001b[0;34m=\u001b[0m\u001b[0mtype\u001b[0m\u001b[0;34m)\u001b[0m\u001b[0;34m\u001b[0m\u001b[0;34m\u001b[0m\u001b[0m\n\u001b[0m\u001b[1;32m    115\u001b[0m     \u001b[0;32mif\u001b[0m \u001b[0;32mnot\u001b[0m \u001b[0misinstance\u001b[0m\u001b[0;34m(\u001b[0m\u001b[0mres\u001b[0m\u001b[0;34m,\u001b[0m \u001b[0;34m(\u001b[0m\u001b[0mArray\u001b[0m\u001b[0;34m,\u001b[0m \u001b[0mChunkedArray\u001b[0m\u001b[0;34m)\u001b[0m\u001b[0;34m)\u001b[0m\u001b[0;34m:\u001b[0m\u001b[0;34m\u001b[0m\u001b[0;34m\u001b[0m\u001b[0m\n\u001b[1;32m    116\u001b[0m         raise TypeError(\"The object's __arrow_array__ method does not \"\n",
            "\u001b[0;32m/usr/local/lib/python3.11/dist-packages/datasets/arrow_writer.py\u001b[0m in \u001b[0;36m__arrow_array__\u001b[0;34m()\u001b[0m\n\u001b[1;32m    183\u001b[0m         \u001b[0mReturns\u001b[0m\u001b[0;34m:\u001b[0m\u001b[0;34m\u001b[0m\u001b[0;34m\u001b[0m\u001b[0m\n\u001b[1;32m    184\u001b[0m             \u001b[0mTuple\u001b[0m\u001b[0;34m[\u001b[0m\u001b[0mIterable\u001b[0m\u001b[0;34m,\u001b[0m \u001b[0mOptional\u001b[0m\u001b[0;34m[\u001b[0m\u001b[0mFeatureType\u001b[0m\u001b[0;34m]\u001b[0m\u001b[0;34m]\u001b[0m\u001b[0;34m:\u001b[0m \u001b[0ma\u001b[0m \u001b[0mtuple\u001b[0m \u001b[0;32mwith\u001b[0m\u001b[0;34m:\u001b[0m\u001b[0;34m\u001b[0m\u001b[0;34m\u001b[0m\u001b[0m\n\u001b[0;32m--> 185\u001b[0;31m                 \u001b[0;34m-\u001b[0m \u001b[0mthe\u001b[0m \u001b[0;34m(\u001b[0m\u001b[0mpossibly\u001b[0m \u001b[0mencoded\u001b[0m\u001b[0;34m)\u001b[0m \u001b[0marray\u001b[0m\u001b[0;34m,\u001b[0m \u001b[0;32mif\u001b[0m \u001b[0mthe\u001b[0m \u001b[0minferred\u001b[0m \u001b[0mfeature\u001b[0m \u001b[0mtype\u001b[0m \u001b[0mrequires\u001b[0m \u001b[0mencoding\u001b[0m\u001b[0;34m\u001b[0m\u001b[0;34m\u001b[0m\u001b[0m\n\u001b[0m\u001b[1;32m    186\u001b[0m                 \u001b[0;34m-\u001b[0m \u001b[0mthe\u001b[0m \u001b[0minferred\u001b[0m \u001b[0mfeature\u001b[0m \u001b[0mtype\u001b[0m \u001b[0;32mif\u001b[0m \u001b[0mthe\u001b[0m \u001b[0marray\u001b[0m \u001b[0;32mis\u001b[0m \u001b[0mmade\u001b[0m \u001b[0mof\u001b[0m \u001b[0msupported\u001b[0m \u001b[0mcustom\u001b[0m \u001b[0mobjects\u001b[0m \u001b[0mlike\u001b[0m\u001b[0;34m\u001b[0m\u001b[0;34m\u001b[0m\u001b[0m\n\u001b[1;32m    187\u001b[0m                     \u001b[0mPIL\u001b[0m \u001b[0mimages\u001b[0m\u001b[0;34m,\u001b[0m \u001b[0;32melse\u001b[0m \u001b[0;32mNone\u001b[0m\u001b[0;34m.\u001b[0m\u001b[0;34m\u001b[0m\u001b[0;34m\u001b[0m\u001b[0m\n",
            "\u001b[0;32m/usr/local/lib/python3.11/dist-packages/datasets/features/features.py\u001b[0m in \u001b[0;36mlist_of_np_array_to_pyarrow_listarray\u001b[0;34m()\u001b[0m\n\u001b[1;32m   1140\u001b[0m             storage = pa.array(\n\u001b[1;32m   1141\u001b[0m                 \u001b[0;34m[\u001b[0m\u001b[0mself\u001b[0m\u001b[0;34m.\u001b[0m\u001b[0m_strval2int\u001b[0m\u001b[0;34m(\u001b[0m\u001b[0mlabel\u001b[0m\u001b[0;34m)\u001b[0m \u001b[0;32mif\u001b[0m \u001b[0mlabel\u001b[0m \u001b[0;32mis\u001b[0m \u001b[0;32mnot\u001b[0m \u001b[0;32mNone\u001b[0m \u001b[0;32melse\u001b[0m \u001b[0;32mNone\u001b[0m \u001b[0;32mfor\u001b[0m \u001b[0mlabel\u001b[0m \u001b[0;32min\u001b[0m \u001b[0mstorage\u001b[0m\u001b[0;34m.\u001b[0m\u001b[0mto_pylist\u001b[0m\u001b[0;34m(\u001b[0m\u001b[0;34m)\u001b[0m\u001b[0;34m]\u001b[0m\u001b[0;34m\u001b[0m\u001b[0;34m\u001b[0m\u001b[0m\n\u001b[0;32m-> 1142\u001b[0;31m             )\n\u001b[0m\u001b[1;32m   1143\u001b[0m         \u001b[0;32mreturn\u001b[0m \u001b[0marray_cast\u001b[0m\u001b[0;34m(\u001b[0m\u001b[0mstorage\u001b[0m\u001b[0;34m,\u001b[0m \u001b[0mself\u001b[0m\u001b[0;34m.\u001b[0m\u001b[0mpa_type\u001b[0m\u001b[0;34m)\u001b[0m\u001b[0;34m\u001b[0m\u001b[0;34m\u001b[0m\u001b[0m\n\u001b[1;32m   1144\u001b[0m \u001b[0;34m\u001b[0m\u001b[0m\n",
            "\u001b[0;32m/usr/local/lib/python3.11/dist-packages/datasets/features/features.py\u001b[0m in \u001b[0;36mlist_of_pa_arrays_to_pyarrow_listarray\u001b[0;34m()\u001b[0m\n\u001b[1;32m   1129\u001b[0m \u001b[0;34m\u001b[0m\u001b[0m\n\u001b[1;32m   1130\u001b[0m         \u001b[0mReturns\u001b[0m\u001b[0;34m:\u001b[0m\u001b[0;34m\u001b[0m\u001b[0;34m\u001b[0m\u001b[0m\n\u001b[0;32m-> 1131\u001b[0;31m             \u001b[0;31m`\u001b[0m\u001b[0mpa\u001b[0m\u001b[0;34m.\u001b[0m\u001b[0mInt64Array\u001b[0m\u001b[0;31m`\u001b[0m\u001b[0;34m:\u001b[0m \u001b[0mArray\u001b[0m \u001b[0;32min\u001b[0m \u001b[0mthe\u001b[0m\u001b[0;31m \u001b[0m\u001b[0;31m`\u001b[0m\u001b[0mClassLabel\u001b[0m\u001b[0;31m`\u001b[0m \u001b[0marrow\u001b[0m \u001b[0mstorage\u001b[0m \u001b[0mtype\u001b[0m\u001b[0;34m.\u001b[0m\u001b[0;34m\u001b[0m\u001b[0;34m\u001b[0m\u001b[0m\n\u001b[0m\u001b[1;32m   1132\u001b[0m         \"\"\"\n\u001b[1;32m   1133\u001b[0m         \u001b[0;32mif\u001b[0m \u001b[0misinstance\u001b[0m\u001b[0;34m(\u001b[0m\u001b[0mstorage\u001b[0m\u001b[0;34m,\u001b[0m \u001b[0mpa\u001b[0m\u001b[0;34m.\u001b[0m\u001b[0mIntegerArray\u001b[0m\u001b[0;34m)\u001b[0m \u001b[0;32mand\u001b[0m \u001b[0mlen\u001b[0m\u001b[0;34m(\u001b[0m\u001b[0mstorage\u001b[0m\u001b[0;34m)\u001b[0m \u001b[0;34m>\u001b[0m \u001b[0;36m0\u001b[0m\u001b[0;34m:\u001b[0m\u001b[0;34m\u001b[0m\u001b[0;34m\u001b[0m\u001b[0m\n",
            "\u001b[0;32m/usr/local/lib/python3.11/dist-packages/numpy/__init__.py\u001b[0m in \u001b[0;36m__getattr__\u001b[0;34m()\u001b[0m\n\u001b[1;32m    392\u001b[0m \u001b[0;34m\u001b[0m\u001b[0m\n\u001b[1;32m    393\u001b[0m         \u001b[0;32mif\u001b[0m \u001b[0mattr\u001b[0m \u001b[0;32min\u001b[0m \u001b[0m__former_attrs__\u001b[0m\u001b[0;34m:\u001b[0m\u001b[0;34m\u001b[0m\u001b[0;34m\u001b[0m\u001b[0m\n\u001b[0;32m--> 394\u001b[0;31m             \u001b[0;32mraise\u001b[0m \u001b[0mAttributeError\u001b[0m\u001b[0;34m(\u001b[0m\u001b[0m__former_attrs__\u001b[0m\u001b[0;34m[\u001b[0m\u001b[0mattr\u001b[0m\u001b[0;34m]\u001b[0m\u001b[0;34m)\u001b[0m\u001b[0;34m\u001b[0m\u001b[0;34m\u001b[0m\u001b[0m\n\u001b[0m\u001b[1;32m    395\u001b[0m \u001b[0;34m\u001b[0m\u001b[0m\n\u001b[1;32m    396\u001b[0m         \u001b[0;32mif\u001b[0m \u001b[0mattr\u001b[0m \u001b[0;32min\u001b[0m \u001b[0m__expired_attributes__\u001b[0m\u001b[0;34m:\u001b[0m\u001b[0;34m\u001b[0m\u001b[0;34m\u001b[0m\u001b[0m\n",
            "\u001b[0;31mAttributeError\u001b[0m: module 'numpy' has no attribute 'object'.\n`np.object` was a deprecated alias for the builtin `object`. To avoid this error in existing code, use `object` by itself. Doing this will not modify any behavior and is safe. \nThe aliases was originally deprecated in NumPy 1.20; for more details and guidance see the original release note at:\n    https://numpy.org/devdocs/release/1.20.0-notes.html#deprecations"
          ]
        }
      ]
    },
    {
      "source": [
        "%%capture\n",
        "!pip install datasets --upgrade"
      ],
      "cell_type": "code",
      "metadata": {
        "id": "sS7F7iAgtgji"
      },
      "execution_count": 50,
      "outputs": []
    },
    {
      "cell_type": "markdown",
      "metadata": {
        "id": "p_MuJSH8nTuQ"
      },
      "source": [
        "**Note**: Currently `datasets` make use of [`torchaudio`](https://pytorch.org/audio/stable/index.html) and [`librosa`](https://librosa.org/doc/latest/index.html) for audio loading and resampling. If you wish to implement your own costumized data loading/sampling, feel free to just make use of the `\"path\"` column instead and disregard the `\"audio\"` column."
      ]
    },
    {
      "cell_type": "markdown",
      "metadata": {
        "id": "M4J0bU1WsvAg"
      },
      "source": [
        "Long input sequences require a lot of memory. Since `Wav2Vec2` is based on `self-attention` the memory requirement scales quadratically with the input length for long input sequences (*cf.* with [this](https://www.reddit.com/r/MachineLearning/comments/genjvb/d_why_is_the_maximum_input_sequence_length_of/) reddit post). For this demo, let's filter all sequences that are longer than 4 seconds out of the training dataset."
      ]
    },
    {
      "cell_type": "code",
      "metadata": {
        "colab": {
          "base_uri": "https://localhost:8080/"
        },
        "id": "nqGobEPUvG3v",
        "outputId": "0cae58f9-2cd9-405a-ad60-7bb31e649911"
      },
      "source": [
        "max_input_length_in_sec = 4.0\n",
        "timit[\"train\"] = timit[\"train\"].filter(lambda x: x < max_input_length_in_sec * processor.feature_extractor.sampling_rate, input_columns=[\"input_length\"])"
      ],
      "execution_count": null,
      "outputs": [
        {
          "output_type": "stream",
          "name": "stderr",
          "text": [
            "Loading cached processed dataset at /root/.cache/huggingface/datasets/timit_asr/clean/2.0.1/b11b576ddcccbcefa7c9f0c4e6c2a43756f3033adffe0fb686aa61043d0450ad/cache-27a077ffa2911470.arrow\n"
          ]
        }
      ]
    },
    {
      "cell_type": "markdown",
      "metadata": {
        "id": "25Genil2v_Br"
      },
      "source": [
        "Awesome, now we are ready to start training!"
      ]
    },
    {
      "cell_type": "markdown",
      "metadata": {
        "id": "gYlQkKVoRUos"
      },
      "source": [
        "## Training & Evaluation\n",
        "\n",
        "The data is processed so that we are ready to start setting up the training pipeline. We will make use of 🤗's [Trainer](https://huggingface.co/transformers/master/main_classes/trainer.html?highlight=trainer) for which we essentially need to do the following:\n",
        "\n",
        "- Define a data collator. In contrast to most NLP models, Wav2Vec2 has a much larger input length than output length. *E.g.*, a sample of input length 50000 has an output length of no more than 100. Given the large input sizes, it is much more efficient to pad the training batches dynamically meaning that all training samples should only be padded to the longest sample in their batch and not the overall longest sample. Therefore, fine-tuning Wav2Vec2 requires a special padding data collator, which we will define below\n",
        "\n",
        "- Evaluation metric. During training, the model should be evaluated on the word error rate. We should define a `compute_metrics` function accordingly\n",
        "\n",
        "- Load a pretrained checkpoint. We need to load a pretrained checkpoint and configure it correctly for training.\n",
        "\n",
        "- Define the training configuration.\n",
        "\n",
        "After having fine-tuned the model, we will correctly evaluate it on the test data and verify that it has indeed learned to correctly transcribe speech."
      ]
    },
    {
      "cell_type": "markdown",
      "metadata": {
        "id": "Slk403unUS91"
      },
      "source": [
        "### Set-up Trainer\n",
        "\n",
        "Let's start by defining the data collator. The code for the data collator was copied from [this example](https://github.com/huggingface/transformers/blob/9a06b6b11bdfc42eea08fa91d0c737d1863c99e3/examples/research_projects/wav2vec2/run_asr.py#L81).\n",
        "\n",
        "Without going into too many details, in contrast to the common data collators, this data collator treats the `input_values` and `labels` differently and thus applies to separate padding functions on them (again making use of Wav2Vec2's context manager). This is necessary because in speech input and output are of different modalities meaning that they should not be treated by the same padding function.\n",
        "Analogous to the common data collators, the padding tokens in the labels with `-100` so that those tokens are **not** taken into account when computing the loss."
      ]
    },
    {
      "cell_type": "code",
      "metadata": {
        "id": "tborvC9hx88e"
      },
      "source": [
        "import torch\n",
        "\n",
        "from dataclasses import dataclass, field\n",
        "from typing import Any, Dict, List, Optional, Union\n",
        "\n",
        "@dataclass\n",
        "class DataCollatorCTCWithPadding:\n",
        "    \"\"\"\n",
        "    Data collator that will dynamically pad the inputs received.\n",
        "    Args:\n",
        "        processor (:class:`~transformers.Wav2Vec2Processor`)\n",
        "            The processor used for proccessing the data.\n",
        "        padding (:obj:`bool`, :obj:`str` or :class:`~transformers.tokenization_utils_base.PaddingStrategy`, `optional`, defaults to :obj:`True`):\n",
        "            Select a strategy to pad the returned sequences (according to the model's padding side and padding index)\n",
        "            among:\n",
        "            * :obj:`True` or :obj:`'longest'`: Pad to the longest sequence in the batch (or no padding if only a single\n",
        "              sequence if provided).\n",
        "            * :obj:`'max_length'`: Pad to a maximum length specified with the argument :obj:`max_length` or to the\n",
        "              maximum acceptable input length for the model if that argument is not provided.\n",
        "            * :obj:`False` or :obj:`'do_not_pad'` (default): No padding (i.e., can output a batch with sequences of\n",
        "              different lengths).\n",
        "    \"\"\"\n",
        "\n",
        "    processor: Wav2Vec2Processor\n",
        "    padding: Union[bool, str] = True\n",
        "\n",
        "    def __call__(self, features: List[Dict[str, Union[List[int], torch.Tensor]]]) -> Dict[str, torch.Tensor]:\n",
        "        # split inputs and labels since they have to be of different lenghts and need\n",
        "        # different padding methods\n",
        "        input_features = [{\"input_values\": feature[\"input_values\"]} for feature in features]\n",
        "        label_features = [{\"input_ids\": feature[\"labels\"]} for feature in features]\n",
        "\n",
        "        batch = self.processor.pad(\n",
        "            input_features,\n",
        "            padding=self.padding,\n",
        "            return_tensors=\"pt\",\n",
        "        )\n",
        "        with self.processor.as_target_processor():\n",
        "            labels_batch = self.processor.pad(\n",
        "                label_features,\n",
        "                padding=self.padding,\n",
        "                return_tensors=\"pt\",\n",
        "            )\n",
        "\n",
        "        # replace padding with -100 to ignore loss correctly\n",
        "        labels = labels_batch[\"input_ids\"].masked_fill(labels_batch.attention_mask.ne(1), -100)\n",
        "\n",
        "        batch[\"labels\"] = labels\n",
        "\n",
        "        return batch"
      ],
      "execution_count": null,
      "outputs": []
    },
    {
      "cell_type": "code",
      "metadata": {
        "id": "lbQf5GuZyQ4_"
      },
      "source": [
        "data_collator = DataCollatorCTCWithPadding(processor=processor, padding=True)"
      ],
      "execution_count": null,
      "outputs": []
    },
    {
      "cell_type": "markdown",
      "metadata": {
        "id": "xO-Zdj-5cxXp"
      },
      "source": [
        "Next, the evaluation metric is defined. As mentioned earlier, the\n",
        "predominant metric in ASR is the word error rate (WER), hence we will use it in this notebook as well."
      ]
    },
    {
      "cell_type": "code",
      "metadata": {
        "id": "9Xsux2gmyXso"
      },
      "source": [
        "wer_metric = load_metric(\"wer\")"
      ],
      "execution_count": null,
      "outputs": []
    },
    {
      "cell_type": "markdown",
      "metadata": {
        "id": "E1qZU5p-deqB"
      },
      "source": [
        "The model will return a sequence of logit vectors:\n",
        "$\\mathbf{y}_1, \\ldots, \\mathbf{y}_m$ with $\\mathbf{y}_1 = f_{\\theta}(x_1, \\ldots, x_n)[0]$ and $n >> m$.\n",
        "\n",
        "A logit vector $\\mathbf{y}_1$ contains the log-odds for each word in the vocabulary we defined earlier, thus $\\text{len}(\\mathbf{y}_i) =$ `config.vocab_size`. We are interested in the most likely prediction of the model and thus take the `argmax(...)` of the logits. Also, we transform the encoded labels back to the original string by replacing `-100` with the `pad_token_id` and decoding the ids while making sure that consecutive tokens are **not** grouped to the same token in CTC style ${}^1$."
      ]
    },
    {
      "cell_type": "code",
      "metadata": {
        "id": "1XZ-kjweyTy_"
      },
      "source": [
        "def compute_metrics(pred):\n",
        "    pred_logits = pred.predictions\n",
        "    pred_ids = np.argmax(pred_logits, axis=-1)\n",
        "\n",
        "    pred.label_ids[pred.label_ids == -100] = processor.tokenizer.pad_token_id\n",
        "\n",
        "    pred_str = processor.batch_decode(pred_ids)\n",
        "    # we do not want to group tokens when computing the metrics\n",
        "    label_str = processor.batch_decode(pred.label_ids, group_tokens=False)\n",
        "\n",
        "    wer = wer_metric.compute(predictions=pred_str, references=label_str)\n",
        "\n",
        "    return {\"wer\": wer}"
      ],
      "execution_count": null,
      "outputs": []
    },
    {
      "cell_type": "markdown",
      "metadata": {
        "id": "Xmgrx4bRwLIH"
      },
      "source": [
        "Now, we can load the pretrained `Wav2Vec2` checkpoint. The tokenizer's `pad_token_id` must be to define the model's `pad_token_id` or in the case of `Wav2Vec2ForCTC` also CTC's *blank token* ${}^2$. To save GPU memory, we enable PyTorch's [gradient checkpointing](https://pytorch.org/docs/stable/checkpoint.html) and also set the loss reduction to \"*mean*\"."
      ]
    },
    {
      "cell_type": "code",
      "metadata": {
        "colab": {
          "base_uri": "https://localhost:8080/"
        },
        "id": "e7cqAWIayn6w",
        "outputId": "0b87744a-98a0-4198-c9f6-2a0f46365058"
      },
      "source": [
        "from transformers import Wav2Vec2ForCTC\n",
        "\n",
        "model = Wav2Vec2ForCTC.from_pretrained(\n",
        "    \"facebook/wav2vec2-base\",\n",
        "    ctc_loss_reduction=\"mean\",\n",
        "    pad_token_id=processor.tokenizer.pad_token_id,\n",
        ")"
      ],
      "execution_count": null,
      "outputs": [
        {
          "output_type": "stream",
          "name": "stderr",
          "text": [
            "loading configuration file https://huggingface.co/facebook/wav2vec2-base/resolve/main/config.json from cache at /root/.cache/huggingface/transformers/c7746642f045322fd01afa31271dd490e677ea11999e68660a92619ec7c892b4.ce1f96bfaf3d7475cb8187b9668c7f19437ade45fb9ceb78d2b06a2cec198015\n",
            "/usr/local/lib/python3.7/dist-packages/transformers/configuration_utils.py:357: UserWarning: Passing `gradient_checkpointing` to a config initialization is deprecated and will be removed in v5 Transformers. Using `model.gradient_checkpointing_enable()` instead, or if you are using the `Trainer` API, pass `gradient_checkpointing=True` in your `TrainingArguments`.\n",
            "  \"Passing `gradient_checkpointing` to a config initialization is deprecated and will be removed in v5 \"\n",
            "Model config Wav2Vec2Config {\n",
            "  \"activation_dropout\": 0.0,\n",
            "  \"adapter_kernel_size\": 3,\n",
            "  \"adapter_stride\": 2,\n",
            "  \"add_adapter\": false,\n",
            "  \"apply_spec_augment\": true,\n",
            "  \"architectures\": [\n",
            "    \"Wav2Vec2ForPreTraining\"\n",
            "  ],\n",
            "  \"attention_dropout\": 0.1,\n",
            "  \"bos_token_id\": 1,\n",
            "  \"classifier_proj_size\": 256,\n",
            "  \"codevector_dim\": 256,\n",
            "  \"contrastive_logits_temperature\": 0.1,\n",
            "  \"conv_bias\": false,\n",
            "  \"conv_dim\": [\n",
            "    512,\n",
            "    512,\n",
            "    512,\n",
            "    512,\n",
            "    512,\n",
            "    512,\n",
            "    512\n",
            "  ],\n",
            "  \"conv_kernel\": [\n",
            "    10,\n",
            "    3,\n",
            "    3,\n",
            "    3,\n",
            "    3,\n",
            "    2,\n",
            "    2\n",
            "  ],\n",
            "  \"conv_stride\": [\n",
            "    5,\n",
            "    2,\n",
            "    2,\n",
            "    2,\n",
            "    2,\n",
            "    2,\n",
            "    2\n",
            "  ],\n",
            "  \"ctc_loss_reduction\": \"mean\",\n",
            "  \"ctc_zero_infinity\": false,\n",
            "  \"diversity_loss_weight\": 0.1,\n",
            "  \"do_stable_layer_norm\": false,\n",
            "  \"eos_token_id\": 2,\n",
            "  \"feat_extract_activation\": \"gelu\",\n",
            "  \"feat_extract_norm\": \"group\",\n",
            "  \"feat_proj_dropout\": 0.1,\n",
            "  \"feat_quantizer_dropout\": 0.0,\n",
            "  \"final_dropout\": 0.0,\n",
            "  \"freeze_feat_extract_train\": true,\n",
            "  \"gradient_checkpointing\": true,\n",
            "  \"hidden_act\": \"gelu\",\n",
            "  \"hidden_dropout\": 0.1,\n",
            "  \"hidden_size\": 768,\n",
            "  \"initializer_range\": 0.02,\n",
            "  \"intermediate_size\": 3072,\n",
            "  \"layer_norm_eps\": 1e-05,\n",
            "  \"layerdrop\": 0.0,\n",
            "  \"mask_channel_length\": 10,\n",
            "  \"mask_channel_min_space\": 1,\n",
            "  \"mask_channel_other\": 0.0,\n",
            "  \"mask_channel_prob\": 0.0,\n",
            "  \"mask_channel_selection\": \"static\",\n",
            "  \"mask_feature_length\": 10,\n",
            "  \"mask_feature_min_masks\": 0,\n",
            "  \"mask_feature_prob\": 0.0,\n",
            "  \"mask_time_length\": 10,\n",
            "  \"mask_time_min_masks\": 2,\n",
            "  \"mask_time_min_space\": 1,\n",
            "  \"mask_time_other\": 0.0,\n",
            "  \"mask_time_prob\": 0.05,\n",
            "  \"mask_time_selection\": \"static\",\n",
            "  \"model_type\": \"wav2vec2\",\n",
            "  \"no_mask_channel_overlap\": false,\n",
            "  \"no_mask_time_overlap\": false,\n",
            "  \"num_adapter_layers\": 3,\n",
            "  \"num_attention_heads\": 12,\n",
            "  \"num_codevector_groups\": 2,\n",
            "  \"num_codevectors_per_group\": 320,\n",
            "  \"num_conv_pos_embedding_groups\": 16,\n",
            "  \"num_conv_pos_embeddings\": 128,\n",
            "  \"num_feat_extract_layers\": 7,\n",
            "  \"num_hidden_layers\": 12,\n",
            "  \"num_negatives\": 100,\n",
            "  \"output_hidden_size\": 768,\n",
            "  \"pad_token_id\": 29,\n",
            "  \"proj_codevector_dim\": 256,\n",
            "  \"tdnn_dilation\": [\n",
            "    1,\n",
            "    2,\n",
            "    3,\n",
            "    1,\n",
            "    1\n",
            "  ],\n",
            "  \"tdnn_dim\": [\n",
            "    512,\n",
            "    512,\n",
            "    512,\n",
            "    512,\n",
            "    1500\n",
            "  ],\n",
            "  \"tdnn_kernel\": [\n",
            "    5,\n",
            "    3,\n",
            "    3,\n",
            "    1,\n",
            "    1\n",
            "  ],\n",
            "  \"transformers_version\": \"4.17.0\",\n",
            "  \"use_weighted_layer_sum\": false,\n",
            "  \"vocab_size\": 32,\n",
            "  \"xvector_output_dim\": 512\n",
            "}\n",
            "\n",
            "loading weights file https://huggingface.co/facebook/wav2vec2-base/resolve/main/pytorch_model.bin from cache at /root/.cache/huggingface/transformers/ef45231897ce572a660ebc5a63d3702f1a6041c4c5fb78cbec330708531939b3.fcae05302a685f7904c551c8ea571e8bc2a2c4a1777ea81ad66e47f7883a650a\n",
            "Some weights of the model checkpoint at facebook/wav2vec2-base were not used when initializing Wav2Vec2ForCTC: ['project_q.weight', 'quantizer.weight_proj.bias', 'project_hid.bias', 'project_q.bias', 'quantizer.weight_proj.weight', 'project_hid.weight', 'quantizer.codevectors']\n",
            "- This IS expected if you are initializing Wav2Vec2ForCTC from the checkpoint of a model trained on another task or with another architecture (e.g. initializing a BertForSequenceClassification model from a BertForPreTraining model).\n",
            "- This IS NOT expected if you are initializing Wav2Vec2ForCTC from the checkpoint of a model that you expect to be exactly identical (initializing a BertForSequenceClassification model from a BertForSequenceClassification model).\n",
            "Some weights of Wav2Vec2ForCTC were not initialized from the model checkpoint at facebook/wav2vec2-base and are newly initialized: ['lm_head.weight', 'lm_head.bias']\n",
            "You should probably TRAIN this model on a down-stream task to be able to use it for predictions and inference.\n"
          ]
        }
      ]
    },
    {
      "cell_type": "markdown",
      "metadata": {
        "id": "1DwR3XLSzGDD"
      },
      "source": [
        "The first component of Wav2Vec2 consists of a stack of CNN layers that are used to extract acoustically meaningful - but contextually independent - features from the raw speech signal. This part of the model has already been sufficiently trained during pretrainind and as stated in the [paper](https://arxiv.org/abs/2006.11477) does not need to be fine-tuned anymore.\n",
        "Thus, we can set the `requires_grad` to `False` for all parameters of the *feature extraction* part."
      ]
    },
    {
      "cell_type": "code",
      "source": [
        "model.freeze_feature_encoder()"
      ],
      "metadata": {
        "id": "Et_NUAZjWppc"
      },
      "execution_count": null,
      "outputs": []
    },
    {
      "cell_type": "markdown",
      "metadata": {
        "id": "lD4aGhQM0K-D"
      },
      "source": [
        "In a final step, we define all parameters related to training.\n",
        "To give more explanation on some of the parameters:\n",
        "- `group_by_length` makes training more efficient by grouping training samples of similar input length into one batch. This can significantly speed up training time by heavily reducing the overall number of useless padding tokens that are passed through the model\n",
        "- `learning_rate` and `weight_decay` were heuristically tuned until fine-tuning has become stable. Note that those parameters strongly depend on the Timit dataset and might be suboptimal for other speech datasets.\n",
        "\n",
        "For more explanations on other parameters, one can take a look at the [docs](https://huggingface.co/transformers/master/main_classes/trainer.html?highlight=trainer#trainingarguments).\n",
        "\n",
        "During training, a checkpoint will be uploaded asynchronously to the hub every 400 training steps. It allows you to also play around with the demo widget even while your model is still training.\n",
        "\n",
        "**Note**: If one does not want to upload the model checkpoints to the hub, simply set `push_to_hub=False`."
      ]
    },
    {
      "cell_type": "code",
      "metadata": {
        "id": "KbeKSV7uzGPP",
        "colab": {
          "base_uri": "https://localhost:8080/"
        },
        "outputId": "502e0963-4b94-40c9-915a-531b35ef7e8a"
      },
      "source": [
        "from transformers import TrainingArguments\n",
        "\n",
        "training_args = TrainingArguments(\n",
        "  output_dir=repo_name,\n",
        "  group_by_length=True,\n",
        "  per_device_train_batch_size=8,\n",
        "  evaluation_strategy=\"steps\",\n",
        "  num_train_epochs=30,\n",
        "  fp16=True,\n",
        "  gradient_checkpointing=True,\n",
        "  save_steps=500,\n",
        "  eval_steps=500,\n",
        "  logging_steps=500,\n",
        "  learning_rate=1e-4,\n",
        "  weight_decay=0.005,\n",
        "  warmup_steps=1000,\n",
        "  save_total_limit=2,\n",
        ")"
      ],
      "execution_count": null,
      "outputs": [
        {
          "output_type": "stream",
          "name": "stderr",
          "text": [
            "PyTorch: setting up devices\n",
            "The default value for the training argument `--report_to` will change in v5 (from all installed integrations to none). In v5, you will need to use `--report_to all` to get the same behavior as now. You should start updating your code and make this info disappear :-).\n"
          ]
        }
      ]
    },
    {
      "cell_type": "markdown",
      "metadata": {
        "id": "OsW-WZcL1ZtN"
      },
      "source": [
        "Now, all instances can be passed to Trainer and we are ready to start training!"
      ]
    },
    {
      "cell_type": "code",
      "metadata": {
        "id": "rY7vBmFCPFgC",
        "colab": {
          "base_uri": "https://localhost:8080/"
        },
        "outputId": "7d004e64-8aa4-49d1-8635-f6dd920470b1"
      },
      "source": [
        "from transformers import Trainer\n",
        "\n",
        "trainer = Trainer(\n",
        "    model=model,\n",
        "    data_collator=data_collator,\n",
        "    args=training_args,\n",
        "    compute_metrics=compute_metrics,\n",
        "    train_dataset=timit[\"train\"],\n",
        "    eval_dataset=timit[\"test\"],\n",
        "    tokenizer=processor.feature_extractor,\n",
        ")"
      ],
      "execution_count": null,
      "outputs": [
        {
          "output_type": "stream",
          "name": "stderr",
          "text": [
            "Using amp half precision backend\n"
          ]
        }
      ]
    },
    {
      "cell_type": "markdown",
      "metadata": {
        "id": "UoXBx1JAA0DX"
      },
      "source": [
        "\n",
        "\n",
        "---\n",
        "\n",
        "${}^1$ To allow models to become independent of the speaker rate, in CTC, consecutive tokens that are identical are simply grouped as a single token. However, the encoded labels should not be grouped when decoding since they don't correspond to the predicted tokens of the model, which is why the `group_tokens=False` parameter has to be passed. If we wouldn't pass this parameter a word like `\"hello\"` would incorrectly be encoded, and decoded as `\"helo\"`.\n",
        "\n",
        "${}^2$ The blank token allows the model to predict a word, such as `\"hello\"` by forcing it to insert the blank token between the two l's. A CTC-conform prediction of `\"hello\"` of our model would be `[PAD] [PAD] \"h\" \"e\" \"e\" \"l\" \"l\" [PAD] \"l\" \"o\" \"o\" [PAD]`."
      ]
    },
    {
      "cell_type": "markdown",
      "metadata": {
        "id": "rpvZHM1xReIW"
      },
      "source": [
        "### Training"
      ]
    },
    {
      "cell_type": "markdown",
      "metadata": {
        "id": "j-3oKSzZ1hGq"
      },
      "source": [
        "Training will take between 90 and 270 minutes depending on the GPU allocated to this notebook. While the trained model yields satisfying results on *Timit*'s test data, it is by no means an optimally fine-tuned model. The purpose of this notebook is to demonstrate how Wav2Vec2's [base](https://huggingface.co/facebook/wav2vec2-base), [large](https://huggingface.co/facebook/wav2vec2-large), and [large-lv60](https://huggingface.co/facebook/wav2vec2-large-lv60) checkpoints can be fine-tuned on any English dataset.\n",
        "\n",
        "In case you want to use this google colab to fine-tune your model, you should make sure that your training doesn't stop due to inactivity. A simple hack to prevent this is to paste the following code into the console of this tab (*right mouse click -> inspect -> Console tab and insert code*)."
      ]
    },
    {
      "cell_type": "markdown",
      "metadata": {
        "id": "VYYAvgkW4P0m"
      },
      "source": [
        "```javascript\n",
        "function ConnectButton(){\n",
        "    console.log(\"Connect pushed\");\n",
        "    document.querySelector(\"#top-toolbar > colab-connect-button\").shadowRoot.querySelector(\"#connect\").click()\n",
        "}\n",
        "setInterval(ConnectButton,60000);\n",
        "```"
      ]
    },
    {
      "cell_type": "markdown",
      "metadata": {
        "id": "PmY6yqd1zvzU"
      },
      "source": [
        "Depending on what GPU was allocated to your google colab it might be possible that you are seeing an `\"out-of-memory\"` error here. In this case, it's probably best to reduce `per_device_train_batch_size` to 16 or even less and eventually make use of [`gradient_accumulation`](https://huggingface.co/transformers/master/main_classes/trainer.html#trainingarguments)."
      ]
    },
    {
      "cell_type": "code",
      "metadata": {
        "colab": {
          "base_uri": "https://localhost:8080/",
          "height": 1000
        },
        "id": "_UEjJqGsQw24",
        "outputId": "ef86cb55-632e-44fd-b9b2-6b804e7808df"
      },
      "source": [
        "trainer.train()"
      ],
      "execution_count": null,
      "outputs": [
        {
          "output_type": "stream",
          "name": "stderr",
          "text": [
            "The following columns in the training set  don't have a corresponding argument in `Wav2Vec2ForCTC.forward` and have been ignored: input_length. If input_length are not expected by `Wav2Vec2ForCTC.forward`,  you can safely ignore this message.\n",
            "/usr/local/lib/python3.7/dist-packages/transformers/optimization.py:309: FutureWarning: This implementation of AdamW is deprecated and will be removed in a future version. Use the PyTorch implementation torch.optim.AdamW instead, or set `no_deprecation_warning=True` to disable this warning\n",
            "  FutureWarning,\n",
            "***** Running training *****\n",
            "  Num examples = 3978\n",
            "  Num Epochs = 30\n",
            "  Instantaneous batch size per device = 8\n",
            "  Total train batch size (w. parallel, distributed & accumulation) = 8\n",
            "  Gradient Accumulation steps = 1\n",
            "  Total optimization steps = 14940\n"
          ]
        },
        {
          "output_type": "display_data",
          "data": {
            "text/plain": [
              "<IPython.core.display.HTML object>"
            ],
            "text/html": [
              "\n",
              "    <div>\n",
              "      \n",
              "      <progress value='14940' max='14940' style='width:300px; height:20px; vertical-align: middle;'></progress>\n",
              "      [14940/14940 1:24:12, Epoch 30/30]\n",
              "    </div>\n",
              "    <table border=\"1\" class=\"dataframe\">\n",
              "  <thead>\n",
              " <tr style=\"text-align: left;\">\n",
              "      <th>Step</th>\n",
              "      <th>Training Loss</th>\n",
              "      <th>Validation Loss</th>\n",
              "      <th>Wer</th>\n",
              "    </tr>\n",
              "  </thead>\n",
              "  <tbody>\n",
              "    <tr>\n",
              "      <td>500</td>\n",
              "      <td>3.513700</td>\n",
              "      <td>1.671889</td>\n",
              "      <td>0.958032</td>\n",
              "    </tr>\n",
              "    <tr>\n",
              "      <td>1000</td>\n",
              "      <td>0.832400</td>\n",
              "      <td>0.554610</td>\n",
              "      <td>0.534147</td>\n",
              "    </tr>\n",
              "    <tr>\n",
              "      <td>1500</td>\n",
              "      <td>0.436500</td>\n",
              "      <td>0.456734</td>\n",
              "      <td>0.463510</td>\n",
              "    </tr>\n",
              "    <tr>\n",
              "      <td>2000</td>\n",
              "      <td>0.305800</td>\n",
              "      <td>0.442902</td>\n",
              "      <td>0.445386</td>\n",
              "    </tr>\n",
              "    <tr>\n",
              "      <td>2500</td>\n",
              "      <td>0.228400</td>\n",
              "      <td>0.473383</td>\n",
              "      <td>0.418648</td>\n",
              "    </tr>\n",
              "    <tr>\n",
              "      <td>3000</td>\n",
              "      <td>0.189200</td>\n",
              "      <td>0.419089</td>\n",
              "      <td>0.403005</td>\n",
              "    </tr>\n",
              "    <tr>\n",
              "      <td>3500</td>\n",
              "      <td>0.154200</td>\n",
              "      <td>0.452161</td>\n",
              "      <td>0.398456</td>\n",
              "    </tr>\n",
              "    <tr>\n",
              "      <td>4000</td>\n",
              "      <td>0.136400</td>\n",
              "      <td>0.474920</td>\n",
              "      <td>0.392185</td>\n",
              "    </tr>\n",
              "    <tr>\n",
              "      <td>4500</td>\n",
              "      <td>0.123900</td>\n",
              "      <td>0.495003</td>\n",
              "      <td>0.397698</td>\n",
              "    </tr>\n",
              "    <tr>\n",
              "      <td>5000</td>\n",
              "      <td>0.109200</td>\n",
              "      <td>0.446769</td>\n",
              "      <td>0.377851</td>\n",
              "    </tr>\n",
              "    <tr>\n",
              "      <td>5500</td>\n",
              "      <td>0.095600</td>\n",
              "      <td>0.489680</td>\n",
              "      <td>0.378885</td>\n",
              "    </tr>\n",
              "    <tr>\n",
              "      <td>6000</td>\n",
              "      <td>0.089700</td>\n",
              "      <td>0.492681</td>\n",
              "      <td>0.371787</td>\n",
              "    </tr>\n",
              "    <tr>\n",
              "      <td>6500</td>\n",
              "      <td>0.079200</td>\n",
              "      <td>0.524202</td>\n",
              "      <td>0.369926</td>\n",
              "    </tr>\n",
              "    <tr>\n",
              "      <td>7000</td>\n",
              "      <td>0.073100</td>\n",
              "      <td>0.520223</td>\n",
              "      <td>0.377162</td>\n",
              "    </tr>\n",
              "    <tr>\n",
              "      <td>7500</td>\n",
              "      <td>0.068100</td>\n",
              "      <td>0.504624</td>\n",
              "      <td>0.363724</td>\n",
              "    </tr>\n",
              "    <tr>\n",
              "      <td>8000</td>\n",
              "      <td>0.062000</td>\n",
              "      <td>0.533646</td>\n",
              "      <td>0.366412</td>\n",
              "    </tr>\n",
              "    <tr>\n",
              "      <td>8500</td>\n",
              "      <td>0.055600</td>\n",
              "      <td>0.501713</td>\n",
              "      <td>0.363311</td>\n",
              "    </tr>\n",
              "    <tr>\n",
              "      <td>9000</td>\n",
              "      <td>0.055600</td>\n",
              "      <td>0.546627</td>\n",
              "      <td>0.373648</td>\n",
              "    </tr>\n",
              "    <tr>\n",
              "      <td>9500</td>\n",
              "      <td>0.046100</td>\n",
              "      <td>0.548935</td>\n",
              "      <td>0.356626</td>\n",
              "    </tr>\n",
              "    <tr>\n",
              "      <td>10000</td>\n",
              "      <td>0.043900</td>\n",
              "      <td>0.539872</td>\n",
              "      <td>0.355937</td>\n",
              "    </tr>\n",
              "    <tr>\n",
              "      <td>10500</td>\n",
              "      <td>0.039700</td>\n",
              "      <td>0.515413</td>\n",
              "      <td>0.353938</td>\n",
              "    </tr>\n",
              "    <tr>\n",
              "      <td>11000</td>\n",
              "      <td>0.034600</td>\n",
              "      <td>0.517013</td>\n",
              "      <td>0.351251</td>\n",
              "    </tr>\n",
              "    <tr>\n",
              "      <td>11500</td>\n",
              "      <td>0.033800</td>\n",
              "      <td>0.523557</td>\n",
              "      <td>0.349183</td>\n",
              "    </tr>\n",
              "    <tr>\n",
              "      <td>12000</td>\n",
              "      <td>0.034200</td>\n",
              "      <td>0.528785</td>\n",
              "      <td>0.349252</td>\n",
              "    </tr>\n",
              "    <tr>\n",
              "      <td>12500</td>\n",
              "      <td>0.028200</td>\n",
              "      <td>0.514678</td>\n",
              "      <td>0.344911</td>\n",
              "    </tr>\n",
              "    <tr>\n",
              "      <td>13000</td>\n",
              "      <td>0.025100</td>\n",
              "      <td>0.509152</td>\n",
              "      <td>0.344222</td>\n",
              "    </tr>\n",
              "    <tr>\n",
              "      <td>13500</td>\n",
              "      <td>0.026800</td>\n",
              "      <td>0.509325</td>\n",
              "      <td>0.341327</td>\n",
              "    </tr>\n",
              "    <tr>\n",
              "      <td>14000</td>\n",
              "      <td>0.021000</td>\n",
              "      <td>0.530961</td>\n",
              "      <td>0.339880</td>\n",
              "    </tr>\n",
              "    <tr>\n",
              "      <td>14500</td>\n",
              "      <td>0.022000</td>\n",
              "      <td>0.518533</td>\n",
              "      <td>0.336986</td>\n",
              "    </tr>\n",
              "  </tbody>\n",
              "</table><p>"
            ]
          },
          "metadata": {}
        },
        {
          "output_type": "stream",
          "name": "stderr",
          "text": [
            "The following columns in the evaluation set  don't have a corresponding argument in `Wav2Vec2ForCTC.forward` and have been ignored: input_length. If input_length are not expected by `Wav2Vec2ForCTC.forward`,  you can safely ignore this message.\n",
            "***** Running Evaluation *****\n",
            "  Num examples = 1680\n",
            "  Batch size = 8\n",
            "Saving model checkpoint to wav2vec2-base-timit-demo-google-colab/checkpoint-500\n",
            "Configuration saved in wav2vec2-base-timit-demo-google-colab/checkpoint-500/config.json\n",
            "Model weights saved in wav2vec2-base-timit-demo-google-colab/checkpoint-500/pytorch_model.bin\n",
            "Feature extractor saved in wav2vec2-base-timit-demo-google-colab/checkpoint-500/preprocessor_config.json\n",
            "The following columns in the evaluation set  don't have a corresponding argument in `Wav2Vec2ForCTC.forward` and have been ignored: input_length. If input_length are not expected by `Wav2Vec2ForCTC.forward`,  you can safely ignore this message.\n",
            "***** Running Evaluation *****\n",
            "  Num examples = 1680\n",
            "  Batch size = 8\n",
            "Saving model checkpoint to wav2vec2-base-timit-demo-google-colab/checkpoint-1000\n",
            "Configuration saved in wav2vec2-base-timit-demo-google-colab/checkpoint-1000/config.json\n",
            "Model weights saved in wav2vec2-base-timit-demo-google-colab/checkpoint-1000/pytorch_model.bin\n",
            "Feature extractor saved in wav2vec2-base-timit-demo-google-colab/checkpoint-1000/preprocessor_config.json\n",
            "The following columns in the evaluation set  don't have a corresponding argument in `Wav2Vec2ForCTC.forward` and have been ignored: input_length. If input_length are not expected by `Wav2Vec2ForCTC.forward`,  you can safely ignore this message.\n",
            "***** Running Evaluation *****\n",
            "  Num examples = 1680\n",
            "  Batch size = 8\n",
            "Saving model checkpoint to wav2vec2-base-timit-demo-google-colab/checkpoint-1500\n",
            "Configuration saved in wav2vec2-base-timit-demo-google-colab/checkpoint-1500/config.json\n",
            "Model weights saved in wav2vec2-base-timit-demo-google-colab/checkpoint-1500/pytorch_model.bin\n",
            "Feature extractor saved in wav2vec2-base-timit-demo-google-colab/checkpoint-1500/preprocessor_config.json\n",
            "Deleting older checkpoint [wav2vec2-base-timit-demo-google-colab/checkpoint-500] due to args.save_total_limit\n",
            "The following columns in the evaluation set  don't have a corresponding argument in `Wav2Vec2ForCTC.forward` and have been ignored: input_length. If input_length are not expected by `Wav2Vec2ForCTC.forward`,  you can safely ignore this message.\n",
            "***** Running Evaluation *****\n",
            "  Num examples = 1680\n",
            "  Batch size = 8\n",
            "Saving model checkpoint to wav2vec2-base-timit-demo-google-colab/checkpoint-2000\n",
            "Configuration saved in wav2vec2-base-timit-demo-google-colab/checkpoint-2000/config.json\n",
            "Model weights saved in wav2vec2-base-timit-demo-google-colab/checkpoint-2000/pytorch_model.bin\n",
            "Feature extractor saved in wav2vec2-base-timit-demo-google-colab/checkpoint-2000/preprocessor_config.json\n",
            "Deleting older checkpoint [wav2vec2-base-timit-demo-google-colab/checkpoint-1000] due to args.save_total_limit\n",
            "The following columns in the evaluation set  don't have a corresponding argument in `Wav2Vec2ForCTC.forward` and have been ignored: input_length. If input_length are not expected by `Wav2Vec2ForCTC.forward`,  you can safely ignore this message.\n",
            "***** Running Evaluation *****\n",
            "  Num examples = 1680\n",
            "  Batch size = 8\n",
            "Saving model checkpoint to wav2vec2-base-timit-demo-google-colab/checkpoint-2500\n",
            "Configuration saved in wav2vec2-base-timit-demo-google-colab/checkpoint-2500/config.json\n",
            "Model weights saved in wav2vec2-base-timit-demo-google-colab/checkpoint-2500/pytorch_model.bin\n",
            "Feature extractor saved in wav2vec2-base-timit-demo-google-colab/checkpoint-2500/preprocessor_config.json\n",
            "Deleting older checkpoint [wav2vec2-base-timit-demo-google-colab/checkpoint-1500] due to args.save_total_limit\n",
            "The following columns in the evaluation set  don't have a corresponding argument in `Wav2Vec2ForCTC.forward` and have been ignored: input_length. If input_length are not expected by `Wav2Vec2ForCTC.forward`,  you can safely ignore this message.\n",
            "***** Running Evaluation *****\n",
            "  Num examples = 1680\n",
            "  Batch size = 8\n",
            "Saving model checkpoint to wav2vec2-base-timit-demo-google-colab/checkpoint-3000\n",
            "Configuration saved in wav2vec2-base-timit-demo-google-colab/checkpoint-3000/config.json\n",
            "Model weights saved in wav2vec2-base-timit-demo-google-colab/checkpoint-3000/pytorch_model.bin\n",
            "Feature extractor saved in wav2vec2-base-timit-demo-google-colab/checkpoint-3000/preprocessor_config.json\n",
            "Deleting older checkpoint [wav2vec2-base-timit-demo-google-colab/checkpoint-2000] due to args.save_total_limit\n",
            "The following columns in the evaluation set  don't have a corresponding argument in `Wav2Vec2ForCTC.forward` and have been ignored: input_length. If input_length are not expected by `Wav2Vec2ForCTC.forward`,  you can safely ignore this message.\n",
            "***** Running Evaluation *****\n",
            "  Num examples = 1680\n",
            "  Batch size = 8\n",
            "Saving model checkpoint to wav2vec2-base-timit-demo-google-colab/checkpoint-3500\n",
            "Configuration saved in wav2vec2-base-timit-demo-google-colab/checkpoint-3500/config.json\n",
            "Model weights saved in wav2vec2-base-timit-demo-google-colab/checkpoint-3500/pytorch_model.bin\n",
            "Feature extractor saved in wav2vec2-base-timit-demo-google-colab/checkpoint-3500/preprocessor_config.json\n",
            "Deleting older checkpoint [wav2vec2-base-timit-demo-google-colab/checkpoint-2500] due to args.save_total_limit\n",
            "The following columns in the evaluation set  don't have a corresponding argument in `Wav2Vec2ForCTC.forward` and have been ignored: input_length. If input_length are not expected by `Wav2Vec2ForCTC.forward`,  you can safely ignore this message.\n",
            "***** Running Evaluation *****\n",
            "  Num examples = 1680\n",
            "  Batch size = 8\n",
            "Saving model checkpoint to wav2vec2-base-timit-demo-google-colab/checkpoint-4000\n",
            "Configuration saved in wav2vec2-base-timit-demo-google-colab/checkpoint-4000/config.json\n",
            "Model weights saved in wav2vec2-base-timit-demo-google-colab/checkpoint-4000/pytorch_model.bin\n",
            "Feature extractor saved in wav2vec2-base-timit-demo-google-colab/checkpoint-4000/preprocessor_config.json\n",
            "Deleting older checkpoint [wav2vec2-base-timit-demo-google-colab/checkpoint-3000] due to args.save_total_limit\n",
            "The following columns in the evaluation set  don't have a corresponding argument in `Wav2Vec2ForCTC.forward` and have been ignored: input_length. If input_length are not expected by `Wav2Vec2ForCTC.forward`,  you can safely ignore this message.\n",
            "***** Running Evaluation *****\n",
            "  Num examples = 1680\n",
            "  Batch size = 8\n",
            "Saving model checkpoint to wav2vec2-base-timit-demo-google-colab/checkpoint-4500\n",
            "Configuration saved in wav2vec2-base-timit-demo-google-colab/checkpoint-4500/config.json\n",
            "Model weights saved in wav2vec2-base-timit-demo-google-colab/checkpoint-4500/pytorch_model.bin\n",
            "Feature extractor saved in wav2vec2-base-timit-demo-google-colab/checkpoint-4500/preprocessor_config.json\n",
            "Deleting older checkpoint [wav2vec2-base-timit-demo-google-colab/checkpoint-3500] due to args.save_total_limit\n",
            "The following columns in the evaluation set  don't have a corresponding argument in `Wav2Vec2ForCTC.forward` and have been ignored: input_length. If input_length are not expected by `Wav2Vec2ForCTC.forward`,  you can safely ignore this message.\n",
            "***** Running Evaluation *****\n",
            "  Num examples = 1680\n",
            "  Batch size = 8\n",
            "Saving model checkpoint to wav2vec2-base-timit-demo-google-colab/checkpoint-5000\n",
            "Configuration saved in wav2vec2-base-timit-demo-google-colab/checkpoint-5000/config.json\n",
            "Model weights saved in wav2vec2-base-timit-demo-google-colab/checkpoint-5000/pytorch_model.bin\n",
            "Feature extractor saved in wav2vec2-base-timit-demo-google-colab/checkpoint-5000/preprocessor_config.json\n",
            "Deleting older checkpoint [wav2vec2-base-timit-demo-google-colab/checkpoint-4000] due to args.save_total_limit\n",
            "The following columns in the evaluation set  don't have a corresponding argument in `Wav2Vec2ForCTC.forward` and have been ignored: input_length. If input_length are not expected by `Wav2Vec2ForCTC.forward`,  you can safely ignore this message.\n",
            "***** Running Evaluation *****\n",
            "  Num examples = 1680\n",
            "  Batch size = 8\n",
            "Saving model checkpoint to wav2vec2-base-timit-demo-google-colab/checkpoint-5500\n",
            "Configuration saved in wav2vec2-base-timit-demo-google-colab/checkpoint-5500/config.json\n",
            "Model weights saved in wav2vec2-base-timit-demo-google-colab/checkpoint-5500/pytorch_model.bin\n",
            "Feature extractor saved in wav2vec2-base-timit-demo-google-colab/checkpoint-5500/preprocessor_config.json\n",
            "Deleting older checkpoint [wav2vec2-base-timit-demo-google-colab/checkpoint-4500] due to args.save_total_limit\n",
            "The following columns in the evaluation set  don't have a corresponding argument in `Wav2Vec2ForCTC.forward` and have been ignored: input_length. If input_length are not expected by `Wav2Vec2ForCTC.forward`,  you can safely ignore this message.\n",
            "***** Running Evaluation *****\n",
            "  Num examples = 1680\n",
            "  Batch size = 8\n",
            "Saving model checkpoint to wav2vec2-base-timit-demo-google-colab/checkpoint-6000\n",
            "Configuration saved in wav2vec2-base-timit-demo-google-colab/checkpoint-6000/config.json\n",
            "Model weights saved in wav2vec2-base-timit-demo-google-colab/checkpoint-6000/pytorch_model.bin\n",
            "Feature extractor saved in wav2vec2-base-timit-demo-google-colab/checkpoint-6000/preprocessor_config.json\n",
            "Deleting older checkpoint [wav2vec2-base-timit-demo-google-colab/checkpoint-5000] due to args.save_total_limit\n",
            "The following columns in the evaluation set  don't have a corresponding argument in `Wav2Vec2ForCTC.forward` and have been ignored: input_length. If input_length are not expected by `Wav2Vec2ForCTC.forward`,  you can safely ignore this message.\n",
            "***** Running Evaluation *****\n",
            "  Num examples = 1680\n",
            "  Batch size = 8\n",
            "Saving model checkpoint to wav2vec2-base-timit-demo-google-colab/checkpoint-6500\n",
            "Configuration saved in wav2vec2-base-timit-demo-google-colab/checkpoint-6500/config.json\n",
            "Model weights saved in wav2vec2-base-timit-demo-google-colab/checkpoint-6500/pytorch_model.bin\n",
            "Feature extractor saved in wav2vec2-base-timit-demo-google-colab/checkpoint-6500/preprocessor_config.json\n",
            "Deleting older checkpoint [wav2vec2-base-timit-demo-google-colab/checkpoint-5500] due to args.save_total_limit\n",
            "The following columns in the evaluation set  don't have a corresponding argument in `Wav2Vec2ForCTC.forward` and have been ignored: input_length. If input_length are not expected by `Wav2Vec2ForCTC.forward`,  you can safely ignore this message.\n",
            "***** Running Evaluation *****\n",
            "  Num examples = 1680\n",
            "  Batch size = 8\n",
            "Saving model checkpoint to wav2vec2-base-timit-demo-google-colab/checkpoint-7000\n",
            "Configuration saved in wav2vec2-base-timit-demo-google-colab/checkpoint-7000/config.json\n",
            "Model weights saved in wav2vec2-base-timit-demo-google-colab/checkpoint-7000/pytorch_model.bin\n",
            "Feature extractor saved in wav2vec2-base-timit-demo-google-colab/checkpoint-7000/preprocessor_config.json\n",
            "Deleting older checkpoint [wav2vec2-base-timit-demo-google-colab/checkpoint-6000] due to args.save_total_limit\n",
            "The following columns in the evaluation set  don't have a corresponding argument in `Wav2Vec2ForCTC.forward` and have been ignored: input_length. If input_length are not expected by `Wav2Vec2ForCTC.forward`,  you can safely ignore this message.\n",
            "***** Running Evaluation *****\n",
            "  Num examples = 1680\n",
            "  Batch size = 8\n",
            "Saving model checkpoint to wav2vec2-base-timit-demo-google-colab/checkpoint-7500\n",
            "Configuration saved in wav2vec2-base-timit-demo-google-colab/checkpoint-7500/config.json\n",
            "Model weights saved in wav2vec2-base-timit-demo-google-colab/checkpoint-7500/pytorch_model.bin\n",
            "Feature extractor saved in wav2vec2-base-timit-demo-google-colab/checkpoint-7500/preprocessor_config.json\n",
            "Deleting older checkpoint [wav2vec2-base-timit-demo-google-colab/checkpoint-6500] due to args.save_total_limit\n",
            "The following columns in the evaluation set  don't have a corresponding argument in `Wav2Vec2ForCTC.forward` and have been ignored: input_length. If input_length are not expected by `Wav2Vec2ForCTC.forward`,  you can safely ignore this message.\n",
            "***** Running Evaluation *****\n",
            "  Num examples = 1680\n",
            "  Batch size = 8\n",
            "Saving model checkpoint to wav2vec2-base-timit-demo-google-colab/checkpoint-8000\n",
            "Configuration saved in wav2vec2-base-timit-demo-google-colab/checkpoint-8000/config.json\n",
            "Model weights saved in wav2vec2-base-timit-demo-google-colab/checkpoint-8000/pytorch_model.bin\n",
            "Feature extractor saved in wav2vec2-base-timit-demo-google-colab/checkpoint-8000/preprocessor_config.json\n",
            "Deleting older checkpoint [wav2vec2-base-timit-demo-google-colab/checkpoint-7000] due to args.save_total_limit\n",
            "The following columns in the evaluation set  don't have a corresponding argument in `Wav2Vec2ForCTC.forward` and have been ignored: input_length. If input_length are not expected by `Wav2Vec2ForCTC.forward`,  you can safely ignore this message.\n",
            "***** Running Evaluation *****\n",
            "  Num examples = 1680\n",
            "  Batch size = 8\n",
            "Saving model checkpoint to wav2vec2-base-timit-demo-google-colab/checkpoint-8500\n",
            "Configuration saved in wav2vec2-base-timit-demo-google-colab/checkpoint-8500/config.json\n",
            "Model weights saved in wav2vec2-base-timit-demo-google-colab/checkpoint-8500/pytorch_model.bin\n",
            "Feature extractor saved in wav2vec2-base-timit-demo-google-colab/checkpoint-8500/preprocessor_config.json\n",
            "Deleting older checkpoint [wav2vec2-base-timit-demo-google-colab/checkpoint-7500] due to args.save_total_limit\n",
            "The following columns in the evaluation set  don't have a corresponding argument in `Wav2Vec2ForCTC.forward` and have been ignored: input_length. If input_length are not expected by `Wav2Vec2ForCTC.forward`,  you can safely ignore this message.\n",
            "***** Running Evaluation *****\n",
            "  Num examples = 1680\n",
            "  Batch size = 8\n",
            "Saving model checkpoint to wav2vec2-base-timit-demo-google-colab/checkpoint-9000\n",
            "Configuration saved in wav2vec2-base-timit-demo-google-colab/checkpoint-9000/config.json\n",
            "Model weights saved in wav2vec2-base-timit-demo-google-colab/checkpoint-9000/pytorch_model.bin\n",
            "Feature extractor saved in wav2vec2-base-timit-demo-google-colab/checkpoint-9000/preprocessor_config.json\n",
            "Deleting older checkpoint [wav2vec2-base-timit-demo-google-colab/checkpoint-8000] due to args.save_total_limit\n",
            "The following columns in the evaluation set  don't have a corresponding argument in `Wav2Vec2ForCTC.forward` and have been ignored: input_length. If input_length are not expected by `Wav2Vec2ForCTC.forward`,  you can safely ignore this message.\n",
            "***** Running Evaluation *****\n",
            "  Num examples = 1680\n",
            "  Batch size = 8\n",
            "Saving model checkpoint to wav2vec2-base-timit-demo-google-colab/checkpoint-9500\n",
            "Configuration saved in wav2vec2-base-timit-demo-google-colab/checkpoint-9500/config.json\n",
            "Model weights saved in wav2vec2-base-timit-demo-google-colab/checkpoint-9500/pytorch_model.bin\n",
            "Feature extractor saved in wav2vec2-base-timit-demo-google-colab/checkpoint-9500/preprocessor_config.json\n",
            "Deleting older checkpoint [wav2vec2-base-timit-demo-google-colab/checkpoint-8500] due to args.save_total_limit\n",
            "The following columns in the evaluation set  don't have a corresponding argument in `Wav2Vec2ForCTC.forward` and have been ignored: input_length. If input_length are not expected by `Wav2Vec2ForCTC.forward`,  you can safely ignore this message.\n",
            "***** Running Evaluation *****\n",
            "  Num examples = 1680\n",
            "  Batch size = 8\n",
            "Saving model checkpoint to wav2vec2-base-timit-demo-google-colab/checkpoint-10000\n",
            "Configuration saved in wav2vec2-base-timit-demo-google-colab/checkpoint-10000/config.json\n",
            "Model weights saved in wav2vec2-base-timit-demo-google-colab/checkpoint-10000/pytorch_model.bin\n",
            "Feature extractor saved in wav2vec2-base-timit-demo-google-colab/checkpoint-10000/preprocessor_config.json\n",
            "Deleting older checkpoint [wav2vec2-base-timit-demo-google-colab/checkpoint-9000] due to args.save_total_limit\n",
            "The following columns in the evaluation set  don't have a corresponding argument in `Wav2Vec2ForCTC.forward` and have been ignored: input_length. If input_length are not expected by `Wav2Vec2ForCTC.forward`,  you can safely ignore this message.\n",
            "***** Running Evaluation *****\n",
            "  Num examples = 1680\n",
            "  Batch size = 8\n",
            "Saving model checkpoint to wav2vec2-base-timit-demo-google-colab/checkpoint-10500\n",
            "Configuration saved in wav2vec2-base-timit-demo-google-colab/checkpoint-10500/config.json\n",
            "Model weights saved in wav2vec2-base-timit-demo-google-colab/checkpoint-10500/pytorch_model.bin\n",
            "Feature extractor saved in wav2vec2-base-timit-demo-google-colab/checkpoint-10500/preprocessor_config.json\n",
            "Deleting older checkpoint [wav2vec2-base-timit-demo-google-colab/checkpoint-9500] due to args.save_total_limit\n",
            "The following columns in the evaluation set  don't have a corresponding argument in `Wav2Vec2ForCTC.forward` and have been ignored: input_length. If input_length are not expected by `Wav2Vec2ForCTC.forward`,  you can safely ignore this message.\n",
            "***** Running Evaluation *****\n",
            "  Num examples = 1680\n",
            "  Batch size = 8\n",
            "Saving model checkpoint to wav2vec2-base-timit-demo-google-colab/checkpoint-11000\n",
            "Configuration saved in wav2vec2-base-timit-demo-google-colab/checkpoint-11000/config.json\n",
            "Model weights saved in wav2vec2-base-timit-demo-google-colab/checkpoint-11000/pytorch_model.bin\n",
            "Feature extractor saved in wav2vec2-base-timit-demo-google-colab/checkpoint-11000/preprocessor_config.json\n",
            "Deleting older checkpoint [wav2vec2-base-timit-demo-google-colab/checkpoint-10000] due to args.save_total_limit\n",
            "The following columns in the evaluation set  don't have a corresponding argument in `Wav2Vec2ForCTC.forward` and have been ignored: input_length. If input_length are not expected by `Wav2Vec2ForCTC.forward`,  you can safely ignore this message.\n",
            "***** Running Evaluation *****\n",
            "  Num examples = 1680\n",
            "  Batch size = 8\n",
            "Saving model checkpoint to wav2vec2-base-timit-demo-google-colab/checkpoint-11500\n",
            "Configuration saved in wav2vec2-base-timit-demo-google-colab/checkpoint-11500/config.json\n",
            "Model weights saved in wav2vec2-base-timit-demo-google-colab/checkpoint-11500/pytorch_model.bin\n",
            "Feature extractor saved in wav2vec2-base-timit-demo-google-colab/checkpoint-11500/preprocessor_config.json\n",
            "Deleting older checkpoint [wav2vec2-base-timit-demo-google-colab/checkpoint-10500] due to args.save_total_limit\n",
            "The following columns in the evaluation set  don't have a corresponding argument in `Wav2Vec2ForCTC.forward` and have been ignored: input_length. If input_length are not expected by `Wav2Vec2ForCTC.forward`,  you can safely ignore this message.\n",
            "***** Running Evaluation *****\n",
            "  Num examples = 1680\n",
            "  Batch size = 8\n",
            "Saving model checkpoint to wav2vec2-base-timit-demo-google-colab/checkpoint-12000\n",
            "Configuration saved in wav2vec2-base-timit-demo-google-colab/checkpoint-12000/config.json\n",
            "Model weights saved in wav2vec2-base-timit-demo-google-colab/checkpoint-12000/pytorch_model.bin\n",
            "Feature extractor saved in wav2vec2-base-timit-demo-google-colab/checkpoint-12000/preprocessor_config.json\n",
            "Deleting older checkpoint [wav2vec2-base-timit-demo-google-colab/checkpoint-11000] due to args.save_total_limit\n",
            "The following columns in the evaluation set  don't have a corresponding argument in `Wav2Vec2ForCTC.forward` and have been ignored: input_length. If input_length are not expected by `Wav2Vec2ForCTC.forward`,  you can safely ignore this message.\n",
            "***** Running Evaluation *****\n",
            "  Num examples = 1680\n",
            "  Batch size = 8\n",
            "Saving model checkpoint to wav2vec2-base-timit-demo-google-colab/checkpoint-12500\n",
            "Configuration saved in wav2vec2-base-timit-demo-google-colab/checkpoint-12500/config.json\n",
            "Model weights saved in wav2vec2-base-timit-demo-google-colab/checkpoint-12500/pytorch_model.bin\n",
            "Feature extractor saved in wav2vec2-base-timit-demo-google-colab/checkpoint-12500/preprocessor_config.json\n",
            "Deleting older checkpoint [wav2vec2-base-timit-demo-google-colab/checkpoint-11500] due to args.save_total_limit\n",
            "The following columns in the evaluation set  don't have a corresponding argument in `Wav2Vec2ForCTC.forward` and have been ignored: input_length. If input_length are not expected by `Wav2Vec2ForCTC.forward`,  you can safely ignore this message.\n",
            "***** Running Evaluation *****\n",
            "  Num examples = 1680\n",
            "  Batch size = 8\n",
            "Saving model checkpoint to wav2vec2-base-timit-demo-google-colab/checkpoint-13000\n",
            "Configuration saved in wav2vec2-base-timit-demo-google-colab/checkpoint-13000/config.json\n",
            "Model weights saved in wav2vec2-base-timit-demo-google-colab/checkpoint-13000/pytorch_model.bin\n",
            "Feature extractor saved in wav2vec2-base-timit-demo-google-colab/checkpoint-13000/preprocessor_config.json\n",
            "Deleting older checkpoint [wav2vec2-base-timit-demo-google-colab/checkpoint-12000] due to args.save_total_limit\n",
            "The following columns in the evaluation set  don't have a corresponding argument in `Wav2Vec2ForCTC.forward` and have been ignored: input_length. If input_length are not expected by `Wav2Vec2ForCTC.forward`,  you can safely ignore this message.\n",
            "***** Running Evaluation *****\n",
            "  Num examples = 1680\n",
            "  Batch size = 8\n",
            "Saving model checkpoint to wav2vec2-base-timit-demo-google-colab/checkpoint-13500\n",
            "Configuration saved in wav2vec2-base-timit-demo-google-colab/checkpoint-13500/config.json\n",
            "Model weights saved in wav2vec2-base-timit-demo-google-colab/checkpoint-13500/pytorch_model.bin\n",
            "Feature extractor saved in wav2vec2-base-timit-demo-google-colab/checkpoint-13500/preprocessor_config.json\n",
            "Deleting older checkpoint [wav2vec2-base-timit-demo-google-colab/checkpoint-12500] due to args.save_total_limit\n",
            "The following columns in the evaluation set  don't have a corresponding argument in `Wav2Vec2ForCTC.forward` and have been ignored: input_length. If input_length are not expected by `Wav2Vec2ForCTC.forward`,  you can safely ignore this message.\n",
            "***** Running Evaluation *****\n",
            "  Num examples = 1680\n",
            "  Batch size = 8\n",
            "Saving model checkpoint to wav2vec2-base-timit-demo-google-colab/checkpoint-14000\n",
            "Configuration saved in wav2vec2-base-timit-demo-google-colab/checkpoint-14000/config.json\n",
            "Model weights saved in wav2vec2-base-timit-demo-google-colab/checkpoint-14000/pytorch_model.bin\n",
            "Feature extractor saved in wav2vec2-base-timit-demo-google-colab/checkpoint-14000/preprocessor_config.json\n",
            "Deleting older checkpoint [wav2vec2-base-timit-demo-google-colab/checkpoint-13000] due to args.save_total_limit\n",
            "The following columns in the evaluation set  don't have a corresponding argument in `Wav2Vec2ForCTC.forward` and have been ignored: input_length. If input_length are not expected by `Wav2Vec2ForCTC.forward`,  you can safely ignore this message.\n",
            "***** Running Evaluation *****\n",
            "  Num examples = 1680\n",
            "  Batch size = 8\n",
            "Saving model checkpoint to wav2vec2-base-timit-demo-google-colab/checkpoint-14500\n",
            "Configuration saved in wav2vec2-base-timit-demo-google-colab/checkpoint-14500/config.json\n",
            "Model weights saved in wav2vec2-base-timit-demo-google-colab/checkpoint-14500/pytorch_model.bin\n",
            "Feature extractor saved in wav2vec2-base-timit-demo-google-colab/checkpoint-14500/preprocessor_config.json\n",
            "Deleting older checkpoint [wav2vec2-base-timit-demo-google-colab/checkpoint-13500] due to args.save_total_limit\n",
            "\n",
            "\n",
            "Training completed. Do not forget to share your model on huggingface.co/models =)\n",
            "\n",
            "\n"
          ]
        },
        {
          "output_type": "execute_result",
          "data": {
            "text/plain": [
              "TrainOutput(global_step=14940, training_loss=0.23359869193520091, metrics={'train_runtime': 5052.3634, 'train_samples_per_second': 23.621, 'train_steps_per_second': 2.957, 'total_flos': 3.0766610595969556e+18, 'train_loss': 0.23359869193520091, 'epoch': 30.0})"
            ]
          },
          "metadata": {},
          "execution_count": 85
        }
      ]
    },
    {
      "cell_type": "markdown",
      "metadata": {
        "id": "UCyp-v3n4Zlt"
      },
      "source": [
        "The final WER should be around 0.3 which is reasonable given that state-of-the-art phoneme error rates (PER) are just below 0.1 (see [leaderboard](https://paperswithcode.com/sota/speech-recognition-on-timit)) and that WER is usually worse than PER.\n",
        "\n",
        "You can now upload the result of the training to the Hub, just execute this instruction:"
      ]
    },
    {
      "cell_type": "code",
      "metadata": {
        "colab": {
          "base_uri": "https://localhost:8080/",
          "height": 497,
          "referenced_widgets": [
            "a7725ad7a1774178bba1b39b48bee36b",
            "acc6c975316f4fc9af3f449ccaf71646",
            "2b48e3c58b284b32ae51a3c3afb13d85",
            "7748d6bd4e224b3f836a06b321e72de0",
            "b29aab47d701449181b8d8c715b09657",
            "5cb2c62e3d6f426f8c17eec2fe6e23ae",
            "f44a8453ba314ddbb153e1278eb59eec",
            "6ba56300bd3240629256a72060f36fde",
            "d8f4c2ce266a4a9284572af28ad9ad1c",
            "4cdbe067372b4c32bc782f966aea7f42",
            "afe17562ac7948edab0233eb3804d9cb",
            "00a02ff8b284413f853da9d7c41afedd",
            "73b586087e9447e688c97318bf6eba11",
            "6ba8f8fde3fc4050a304df11cc1d2c7c",
            "0ceb294ca03a4bf2ae5586ffbbb6f0fc",
            "ffa2bd3495f54f1c81f15ebf50fd4fee",
            "e53ec4e8ee3d44bb8b3bdcf323335c8a",
            "ceef78fab0024c578976ad6c589c0d7f",
            "35a9027e670146f3a25db0d06035fd1b",
            "0cd65792216b4decaf24961bb33802d0",
            "968f456d45ab4f25aeaf57b0c0ddc190",
            "92ae2ab85efc40fa89da650ccbe85e21",
            "e1a34af59be04546808279b6e673c498",
            "91a9bd637428473192d5ec47ba137268",
            "f11e33bc060746758ad638204b71955c",
            "ef69985b8f7c4662912a11a377e99b59",
            "9721f00cdfc942e8ab8a4faf8080ef2d",
            "196c66080f944a61a537a0ddd9905248",
            "e7d54319900548208c3852623ebc3dcf",
            "adbd04cd03624b66a8c725f9a89647b6",
            "200b5fada23d45ff947953003d052605",
            "8c89f99cd7b9408eafbfbf8e0c56d39c",
            "a40561b6f013481ba77fa137ab43b1c2",
            "63ee5e2413434249bd47a8d662ec0da6",
            "d10215d60b9f471ab681a948ad143159",
            "bcb33e49c5ab412eb5b8cd823cf06706",
            "f23b78d30ff040f481b5584a83083b39",
            "fe39df4b5e9d41f6a0233bafb4522dd4",
            "6cac8e9fcefd4353a76244f89ff459e1",
            "4f70c2c356074adf9aa7c1fb6b20f8e3",
            "4cc884973b734098a135619736b5f599",
            "fd72ea27c82843ceb5fdb74886fc5b44",
            "28b1ff0d507e40fb84e4083537207de4",
            "bf2896c4b25147f0a303c748fa2b0cd9"
          ]
        },
        "id": "JYGQYBhHNsvj",
        "outputId": "c60381d7-a4ec-4cfe-ec0b-0b16af963c3d"
      },
      "source": [
        "trainer.push_to_hub()"
      ],
      "execution_count": null,
      "outputs": [
        {
          "output_type": "stream",
          "name": "stderr",
          "text": [
            "/content/wav2vec2-base-timit-demo-google-colab is already a clone of https://huggingface.co/patrickvonplaten/wav2vec2-base-timit-demo-google-colab. Make sure you pull the latest changes with `repo.git_pull()`.\n",
            "Saving model checkpoint to wav2vec2-base-timit-demo-google-colab\n",
            "Configuration saved in wav2vec2-base-timit-demo-google-colab/config.json\n",
            "Model weights saved in wav2vec2-base-timit-demo-google-colab/pytorch_model.bin\n",
            "Feature extractor saved in wav2vec2-base-timit-demo-google-colab/preprocessor_config.json\n"
          ]
        },
        {
          "output_type": "display_data",
          "data": {
            "text/plain": [
              "Upload file pytorch_model.bin:   0%|          | 3.34k/360M [00:00<?, ?B/s]"
            ],
            "application/vnd.jupyter.widget-view+json": {
              "version_major": 2,
              "version_minor": 0,
              "model_id": "a7725ad7a1774178bba1b39b48bee36b"
            }
          },
          "metadata": {}
        },
        {
          "output_type": "display_data",
          "data": {
            "text/plain": [
              "Upload file runs/May10_11-02-51_d58de38fbf77/1652180636.6085317/events.out.tfevents.1652180636.d58de38fbf77.96…"
            ],
            "application/vnd.jupyter.widget-view+json": {
              "version_major": 2,
              "version_minor": 0,
              "model_id": "00a02ff8b284413f853da9d7c41afedd"
            }
          },
          "metadata": {}
        },
        {
          "output_type": "display_data",
          "data": {
            "text/plain": [
              "Upload file training_args.bin: 100%|##########| 2.98k/2.98k [00:00<?, ?B/s]"
            ],
            "application/vnd.jupyter.widget-view+json": {
              "version_major": 2,
              "version_minor": 0,
              "model_id": "e1a34af59be04546808279b6e673c498"
            }
          },
          "metadata": {}
        },
        {
          "output_type": "display_data",
          "data": {
            "text/plain": [
              "Upload file runs/May10_11-02-51_d58de38fbf77/events.out.tfevents.1652180636.d58de38fbf77.96.2:  18%|#7        …"
            ],
            "application/vnd.jupyter.widget-view+json": {
              "version_major": 2,
              "version_minor": 0,
              "model_id": "63ee5e2413434249bd47a8d662ec0da6"
            }
          },
          "metadata": {}
        },
        {
          "output_type": "stream",
          "name": "stderr",
          "text": [
            "remote: Enforcing permissions...        \n",
            "remote: Allowed refs: all        \n",
            "To https://huggingface.co/patrickvonplaten/wav2vec2-base-timit-demo-google-colab\n",
            "   293755a..629f0ba  main -> main\n",
            "\n",
            "Dropping the following result as it does not have all the necessary fields:\n",
            "{}\n",
            "remote: Enforcing permissions...        \n",
            "remote: Allowed refs: all        \n",
            "To https://huggingface.co/patrickvonplaten/wav2vec2-base-timit-demo-google-colab\n",
            "   629f0ba..38b281e  main -> main\n",
            "\n"
          ]
        },
        {
          "output_type": "execute_result",
          "data": {
            "text/plain": [
              "'https://huggingface.co/patrickvonplaten/wav2vec2-base-timit-demo-google-colab/commit/629f0ba808bdecd2134e2d91110e86e4d7d7647c'"
            ],
            "application/vnd.google.colaboratory.intrinsic+json": {
              "type": "string"
            }
          },
          "metadata": {},
          "execution_count": 86
        }
      ]
    },
    {
      "cell_type": "markdown",
      "metadata": {
        "id": "djzwS5WeNu16"
      },
      "source": [
        "You can now share this model with all your friends, family, favorite pets: they can all load it with the identifier \"your-username/the-name-you-picked\" so for instance:"
      ]
    },
    {
      "cell_type": "markdown",
      "metadata": {
        "id": "Adm0LngNNxq7"
      },
      "source": [
        "```python\n",
        "from transformers import AutoModelForCTC, Wav2Vec2Processor\n",
        "\n",
        "model = AutoModelForCTC.from_pretrained(\"patrickvonplaten/wav2vec2-base-timit-demo-google-colab\")\n",
        "processor = Wav2Vec2Processor.from_pretrained(\"patrickvonplaten/wav2vec2-base-timit-demo-google-colab\")\n",
        "```"
      ]
    },
    {
      "cell_type": "markdown",
      "metadata": {
        "id": "nD4XP5IHncsY"
      },
      "source": [
        "### Evaluate\n",
        "\n",
        "In the final part, we run our model on some of the validation data to get a feeling for how well it works.\n",
        "\n",
        "Let's load the `processor` and `model`."
      ]
    },
    {
      "cell_type": "code",
      "metadata": {
        "id": "-rg0USDCnbo6",
        "colab": {
          "base_uri": "https://localhost:8080/",
          "height": 718,
          "referenced_widgets": [
            "524b5795780746f5966c06b878cc0fbc",
            "8eb41fee8e1c452a9d69a07a266d871a",
            "f22febfc3bbe48058be84b2a20e906f5",
            "ab51fefefa1b464a9a780b80c6f0c020",
            "88fd1cb973f8485b97caa19b7801c3d3",
            "3234edc4a75e4658acd19feef174e88f",
            "6bfe6219ad934146a4d680e38ed19879",
            "63e9fc689ea54fbfa7226cc9918977cb",
            "dc034b4bf9e34963ab79f391c55d44ac",
            "6b3288ffeef34c2a925d2554c7c4f521",
            "116e45bbe2d640d18d6a47309692dc20",
            "66d5a397b26e4d66a97bc3b3159e96bd",
            "041870fd5bac43b394956252364a16c4",
            "26f6574d99724fb29159071dda6039b5",
            "55d0bfd5c746402f89e6b86a7ca37b3a",
            "b69bad861f014c20b4cb470c73b1fe37",
            "940e030ce7ae40d68136ddf1a1a67736",
            "c80bdd3bae794c08b81c950a33ff9ba0",
            "7b0c8bc5bb66433384aeb47bf99001ae",
            "6b03d462bd0f4fbeab0df76bbb881621",
            "be78bdab8638431e80c087a0fe9a7a8f",
            "d44a1f0b3216469fb1ac597951f9471a",
            "a0e897961bb049438847879cf082adf3",
            "820ac3ce474346728b80a609d47848ee",
            "045273b88fa04afba97bf7ba6027f164",
            "4847949da7b64782895b4fca8b432ec8",
            "427b99cf8b964a59bbbf0b4d04504906",
            "f652ea3e007c42669e445a7247bb0430",
            "527bf8b3612b4da89479424c5b66681e",
            "708ff309676040119bccd6f21d1684f6",
            "6a8694b9181f4828ba3ef4ff828fd1c3",
            "90dbfe5bab604315b329a6a8fcf131b1",
            "b1a51bfb07774b7bac783d1c4d5a680c",
            "6ca0c9b3d250425b9597de9baa6bd77b",
            "b7d46c7f5da646eba0ed9e38fed6b4ee",
            "7291673613bb43848bec1abee7447078",
            "5c49d625a7f742f1a64820bc6f749f3a",
            "a6a5bcb980df41d1b3e7b581701eae16",
            "6412d390b2ce416fae910d689c3f6e70",
            "255c276a050446ed9df81f8eeb7c1178",
            "ddd975596c234b0eacc40ef18ef40778",
            "a5fd824b8eb64bb7b8d83354961927e6",
            "17e3d063396848548af91c55c8f8e282",
            "a3b48bc669674ff2a0bcce75a50e81eb"
          ]
        },
        "outputId": "ddfac637-7c6d-4df1-a07a-4f1278fff182"
      },
      "source": [
        "processor = Wav2Vec2Processor.from_pretrained(\"patrickvonplaten/wav2vec2-base-timit-demo-google-colab\")"
      ],
      "execution_count": null,
      "outputs": [
        {
          "output_type": "stream",
          "name": "stderr",
          "text": [
            "https://huggingface.co/patrickvonplaten/wav2vec2-base-timit-demo-google-colab/resolve/main/preprocessor_config.json not found in cache or force_download set to True, downloading to /root/.cache/huggingface/transformers/tmpjyd34ogd\n"
          ]
        },
        {
          "output_type": "display_data",
          "data": {
            "text/plain": [
              "Downloading:   0%|          | 0.00/215 [00:00<?, ?B/s]"
            ],
            "application/vnd.jupyter.widget-view+json": {
              "version_major": 2,
              "version_minor": 0,
              "model_id": "524b5795780746f5966c06b878cc0fbc"
            }
          },
          "metadata": {}
        },
        {
          "output_type": "stream",
          "name": "stderr",
          "text": [
            "storing https://huggingface.co/patrickvonplaten/wav2vec2-base-timit-demo-google-colab/resolve/main/preprocessor_config.json in cache at /root/.cache/huggingface/transformers/17fa07f6e2f88edf24c71037bed1b7cf0cf9acfef7d3353afb589689627542c1.0e3e6656f99a6f7b9eddd943463eb7f34363640fce9e87b047ebd50d4b112b50\n",
            "creating metadata file for /root/.cache/huggingface/transformers/17fa07f6e2f88edf24c71037bed1b7cf0cf9acfef7d3353afb589689627542c1.0e3e6656f99a6f7b9eddd943463eb7f34363640fce9e87b047ebd50d4b112b50\n",
            "loading feature extractor configuration file https://huggingface.co/patrickvonplaten/wav2vec2-base-timit-demo-google-colab/resolve/main/preprocessor_config.json from cache at /root/.cache/huggingface/transformers/17fa07f6e2f88edf24c71037bed1b7cf0cf9acfef7d3353afb589689627542c1.0e3e6656f99a6f7b9eddd943463eb7f34363640fce9e87b047ebd50d4b112b50\n",
            "Feature extractor Wav2Vec2FeatureExtractor {\n",
            "  \"do_normalize\": true,\n",
            "  \"feature_extractor_type\": \"Wav2Vec2FeatureExtractor\",\n",
            "  \"feature_size\": 1,\n",
            "  \"padding_side\": \"right\",\n",
            "  \"padding_value\": 0.0,\n",
            "  \"return_attention_mask\": false,\n",
            "  \"sampling_rate\": 16000\n",
            "}\n",
            "\n",
            "https://huggingface.co/patrickvonplaten/wav2vec2-base-timit-demo-google-colab/resolve/main/tokenizer_config.json not found in cache or force_download set to True, downloading to /root/.cache/huggingface/transformers/tmpcsym765z\n"
          ]
        },
        {
          "output_type": "display_data",
          "data": {
            "text/plain": [
              "Downloading:   0%|          | 0.00/217 [00:00<?, ?B/s]"
            ],
            "application/vnd.jupyter.widget-view+json": {
              "version_major": 2,
              "version_minor": 0,
              "model_id": "66d5a397b26e4d66a97bc3b3159e96bd"
            }
          },
          "metadata": {}
        },
        {
          "output_type": "stream",
          "name": "stderr",
          "text": [
            "storing https://huggingface.co/patrickvonplaten/wav2vec2-base-timit-demo-google-colab/resolve/main/tokenizer_config.json in cache at /root/.cache/huggingface/transformers/7bf2e07c1c7ed7e3d055d87aa6bd33c75e6883d98029ae3744fed6bea9e35095.59710b1a6a5501d31e746b6e464f5c44de3e55a58f80634196025936683a68a9\n",
            "creating metadata file for /root/.cache/huggingface/transformers/7bf2e07c1c7ed7e3d055d87aa6bd33c75e6883d98029ae3744fed6bea9e35095.59710b1a6a5501d31e746b6e464f5c44de3e55a58f80634196025936683a68a9\n",
            "https://huggingface.co/patrickvonplaten/wav2vec2-base-timit-demo-google-colab/resolve/main/vocab.json not found in cache or force_download set to True, downloading to /root/.cache/huggingface/transformers/tmpptj3is25\n"
          ]
        },
        {
          "output_type": "display_data",
          "data": {
            "text/plain": [
              "Downloading:   0%|          | 0.00/268 [00:00<?, ?B/s]"
            ],
            "application/vnd.jupyter.widget-view+json": {
              "version_major": 2,
              "version_minor": 0,
              "model_id": "a0e897961bb049438847879cf082adf3"
            }
          },
          "metadata": {}
        },
        {
          "output_type": "stream",
          "name": "stderr",
          "text": [
            "storing https://huggingface.co/patrickvonplaten/wav2vec2-base-timit-demo-google-colab/resolve/main/vocab.json in cache at /root/.cache/huggingface/transformers/f739813380b0880ba302557f0f990f0f64e8efe81fcc91a4fce08206a91ee215.c44a036121683e19f1a033a1765d4344364cb4633a6cbf5cf51b153f2388abb1\n",
            "creating metadata file for /root/.cache/huggingface/transformers/f739813380b0880ba302557f0f990f0f64e8efe81fcc91a4fce08206a91ee215.c44a036121683e19f1a033a1765d4344364cb4633a6cbf5cf51b153f2388abb1\n",
            "https://huggingface.co/patrickvonplaten/wav2vec2-base-timit-demo-google-colab/resolve/main/special_tokens_map.json not found in cache or force_download set to True, downloading to /root/.cache/huggingface/transformers/tmpckp9vkh1\n"
          ]
        },
        {
          "output_type": "display_data",
          "data": {
            "text/plain": [
              "Downloading:   0%|          | 0.00/85.0 [00:00<?, ?B/s]"
            ],
            "application/vnd.jupyter.widget-view+json": {
              "version_major": 2,
              "version_minor": 0,
              "model_id": "6ca0c9b3d250425b9597de9baa6bd77b"
            }
          },
          "metadata": {}
        },
        {
          "output_type": "stream",
          "name": "stderr",
          "text": [
            "storing https://huggingface.co/patrickvonplaten/wav2vec2-base-timit-demo-google-colab/resolve/main/special_tokens_map.json in cache at /root/.cache/huggingface/transformers/c239f3738252f8d8e83d9813ea82866aeec476c467a008db86229f4edc6490b0.a21d51735cf8667bcd610f057e88548d5d6a381401f6b4501a8bc6c1a9dc8498\n",
            "creating metadata file for /root/.cache/huggingface/transformers/c239f3738252f8d8e83d9813ea82866aeec476c467a008db86229f4edc6490b0.a21d51735cf8667bcd610f057e88548d5d6a381401f6b4501a8bc6c1a9dc8498\n",
            "loading file https://huggingface.co/patrickvonplaten/wav2vec2-base-timit-demo-google-colab/resolve/main/vocab.json from cache at /root/.cache/huggingface/transformers/f739813380b0880ba302557f0f990f0f64e8efe81fcc91a4fce08206a91ee215.c44a036121683e19f1a033a1765d4344364cb4633a6cbf5cf51b153f2388abb1\n",
            "loading file https://huggingface.co/patrickvonplaten/wav2vec2-base-timit-demo-google-colab/resolve/main/tokenizer_config.json from cache at /root/.cache/huggingface/transformers/7bf2e07c1c7ed7e3d055d87aa6bd33c75e6883d98029ae3744fed6bea9e35095.59710b1a6a5501d31e746b6e464f5c44de3e55a58f80634196025936683a68a9\n",
            "loading file https://huggingface.co/patrickvonplaten/wav2vec2-base-timit-demo-google-colab/resolve/main/added_tokens.json from cache at None\n",
            "loading file https://huggingface.co/patrickvonplaten/wav2vec2-base-timit-demo-google-colab/resolve/main/special_tokens_map.json from cache at /root/.cache/huggingface/transformers/c239f3738252f8d8e83d9813ea82866aeec476c467a008db86229f4edc6490b0.a21d51735cf8667bcd610f057e88548d5d6a381401f6b4501a8bc6c1a9dc8498\n",
            "Adding <s> to the vocabulary\n",
            "Adding </s> to the vocabulary\n",
            "Special tokens have been added in the vocabulary, make sure the associated word embeddings are fine-tuned or trained.\n"
          ]
        }
      ]
    },
    {
      "cell_type": "code",
      "metadata": {
        "id": "sSpFW3pDn23P",
        "colab": {
          "base_uri": "https://localhost:8080/"
        },
        "outputId": "dd9ac831-3620-4b87-98b6-c85a57150a15"
      },
      "source": [
        "model = Wav2Vec2ForCTC.from_pretrained(\"patrickvonplaten/wav2vec2-base-timit-demo-google-colab\").cuda()"
      ],
      "execution_count": null,
      "outputs": [
        {
          "output_type": "stream",
          "name": "stderr",
          "text": [
            "loading configuration file https://huggingface.co/patrickvonplaten/wav2vec2-base-timit-demo-google-colab/resolve/main/config.json from cache at /root/.cache/huggingface/transformers/7606a293c66b1cba6bb9a342dcffe3831dc19a120cfeeb9e57cdf6ffb9630f3f.3202909be16e9c482257d0c4d35b4f4c2558cea585027c729eed803ba4bf0d8e\n",
            "Model config Wav2Vec2Config {\n",
            "  \"_name_or_path\": \"facebook/wav2vec2-base\",\n",
            "  \"activation_dropout\": 0.0,\n",
            "  \"adapter_kernel_size\": 3,\n",
            "  \"adapter_stride\": 2,\n",
            "  \"add_adapter\": false,\n",
            "  \"apply_spec_augment\": true,\n",
            "  \"architectures\": [\n",
            "    \"Wav2Vec2ForCTC\"\n",
            "  ],\n",
            "  \"attention_dropout\": 0.1,\n",
            "  \"bos_token_id\": 1,\n",
            "  \"classifier_proj_size\": 256,\n",
            "  \"codevector_dim\": 256,\n",
            "  \"contrastive_logits_temperature\": 0.1,\n",
            "  \"conv_bias\": false,\n",
            "  \"conv_dim\": [\n",
            "    512,\n",
            "    512,\n",
            "    512,\n",
            "    512,\n",
            "    512,\n",
            "    512,\n",
            "    512\n",
            "  ],\n",
            "  \"conv_kernel\": [\n",
            "    10,\n",
            "    3,\n",
            "    3,\n",
            "    3,\n",
            "    3,\n",
            "    2,\n",
            "    2\n",
            "  ],\n",
            "  \"conv_stride\": [\n",
            "    5,\n",
            "    2,\n",
            "    2,\n",
            "    2,\n",
            "    2,\n",
            "    2,\n",
            "    2\n",
            "  ],\n",
            "  \"ctc_loss_reduction\": \"mean\",\n",
            "  \"ctc_zero_infinity\": false,\n",
            "  \"diversity_loss_weight\": 0.1,\n",
            "  \"do_stable_layer_norm\": false,\n",
            "  \"eos_token_id\": 2,\n",
            "  \"feat_extract_activation\": \"gelu\",\n",
            "  \"feat_extract_norm\": \"group\",\n",
            "  \"feat_proj_dropout\": 0.1,\n",
            "  \"feat_quantizer_dropout\": 0.0,\n",
            "  \"final_dropout\": 0.0,\n",
            "  \"freeze_feat_extract_train\": true,\n",
            "  \"hidden_act\": \"gelu\",\n",
            "  \"hidden_dropout\": 0.1,\n",
            "  \"hidden_size\": 768,\n",
            "  \"initializer_range\": 0.02,\n",
            "  \"intermediate_size\": 3072,\n",
            "  \"layer_norm_eps\": 1e-05,\n",
            "  \"layerdrop\": 0.0,\n",
            "  \"mask_channel_length\": 10,\n",
            "  \"mask_channel_min_space\": 1,\n",
            "  \"mask_channel_other\": 0.0,\n",
            "  \"mask_channel_prob\": 0.0,\n",
            "  \"mask_channel_selection\": \"static\",\n",
            "  \"mask_feature_length\": 10,\n",
            "  \"mask_feature_min_masks\": 0,\n",
            "  \"mask_feature_prob\": 0.0,\n",
            "  \"mask_time_length\": 10,\n",
            "  \"mask_time_min_masks\": 2,\n",
            "  \"mask_time_min_space\": 1,\n",
            "  \"mask_time_other\": 0.0,\n",
            "  \"mask_time_prob\": 0.05,\n",
            "  \"mask_time_selection\": \"static\",\n",
            "  \"model_type\": \"wav2vec2\",\n",
            "  \"no_mask_channel_overlap\": false,\n",
            "  \"no_mask_time_overlap\": false,\n",
            "  \"num_adapter_layers\": 3,\n",
            "  \"num_attention_heads\": 12,\n",
            "  \"num_codevector_groups\": 2,\n",
            "  \"num_codevectors_per_group\": 320,\n",
            "  \"num_conv_pos_embedding_groups\": 16,\n",
            "  \"num_conv_pos_embeddings\": 128,\n",
            "  \"num_feat_extract_layers\": 7,\n",
            "  \"num_hidden_layers\": 12,\n",
            "  \"num_negatives\": 100,\n",
            "  \"output_hidden_size\": 768,\n",
            "  \"pad_token_id\": 29,\n",
            "  \"proj_codevector_dim\": 256,\n",
            "  \"tdnn_dilation\": [\n",
            "    1,\n",
            "    2,\n",
            "    3,\n",
            "    1,\n",
            "    1\n",
            "  ],\n",
            "  \"tdnn_dim\": [\n",
            "    512,\n",
            "    512,\n",
            "    512,\n",
            "    512,\n",
            "    1500\n",
            "  ],\n",
            "  \"tdnn_kernel\": [\n",
            "    5,\n",
            "    3,\n",
            "    3,\n",
            "    1,\n",
            "    1\n",
            "  ],\n",
            "  \"torch_dtype\": \"float32\",\n",
            "  \"transformers_version\": \"4.17.0\",\n",
            "  \"use_weighted_layer_sum\": false,\n",
            "  \"vocab_size\": 32,\n",
            "  \"xvector_output_dim\": 512\n",
            "}\n",
            "\n",
            "loading weights file https://huggingface.co/patrickvonplaten/wav2vec2-base-timit-demo-google-colab/resolve/main/pytorch_model.bin from cache at /root/.cache/huggingface/transformers/666767bce47a87d50dfd1ceac759d5dc9db6eac8d185ae8f9a7dd388687c28c5.20bdf845b9896c1d0a213f03187b544f2a12b23d751b88c7b49a95d00bd946e1\n",
            "All model checkpoint weights were used when initializing Wav2Vec2ForCTC.\n",
            "\n",
            "All the weights of Wav2Vec2ForCTC were initialized from the model checkpoint at patrickvonplaten/wav2vec2-base-timit-demo-google-colab.\n",
            "If your task is similar to the task the model of the checkpoint was trained on, you can already use Wav2Vec2ForCTC for predictions without further training.\n"
          ]
        }
      ]
    },
    {
      "cell_type": "markdown",
      "metadata": {
        "id": "TUuZpB0v5jn_"
      },
      "source": [
        "Now, we will make use of the `map(...)` function to predict the transcription of every test sample and to save the prediction in the dataset itself. We will call the resulting dictionary `\"results\"`.\n",
        "\n",
        "**Note**: we evaluate the test data set with `batch_size=1` on purpose due to this [issue](https://github.com/pytorch/fairseq/issues/3227). Since padded inputs don't yield the exact same output as non-padded inputs, a better WER can be achieved by not padding the input at all."
      ]
    },
    {
      "cell_type": "code",
      "metadata": {
        "id": "40naJl53n7jT"
      },
      "source": [
        "def map_to_result(batch):\n",
        "  with torch.no_grad():\n",
        "    input_values = torch.tensor(batch[\"input_values\"], device=\"cuda\").unsqueeze(0)\n",
        "    logits = model(input_values).logits\n",
        "\n",
        "  pred_ids = torch.argmax(logits, dim=-1)\n",
        "  batch[\"pred_str\"] = processor.batch_decode(pred_ids)[0]\n",
        "  batch[\"text\"] = processor.decode(batch[\"labels\"], group_tokens=False)\n",
        "\n",
        "  return batch"
      ],
      "execution_count": null,
      "outputs": []
    },
    {
      "cell_type": "code",
      "metadata": {
        "id": "uPqH7gZqrGPi",
        "colab": {
          "base_uri": "https://localhost:8080/",
          "height": 48,
          "referenced_widgets": [
            "8fbdb230253a4152be95bf6229049f09",
            "857f0c099d8549e98991a93c791db4c1",
            "16561789e2b9417a80ddcb6ef9d8676a",
            "050c9d6bfd1e4b6ebe67401183a8d397",
            "5874591082f944ff9b32202a1edbfd60",
            "8c968b160d3d4fbb998840734f9f07e4",
            "d2fd7c9e56b1419f9d23a10c260a7c7d",
            "4a03fb6d945f4102bc4f7192195d810d",
            "8ab2466b187047fbbe4d8b72455b1108",
            "89472d79793e4db9afa6845fb016c8ad",
            "f5e79b8c3a634eae8a555f18b9dc9bd6"
          ]
        },
        "outputId": "1eb633f5-c487-4cd1-8be6-aac4af385a2e"
      },
      "source": [
        "results = timit[\"test\"].map(map_to_result, remove_columns=timit[\"test\"].column_names)"
      ],
      "execution_count": null,
      "outputs": [
        {
          "output_type": "display_data",
          "data": {
            "text/plain": [
              "0ex [00:00, ?ex/s]"
            ],
            "application/vnd.jupyter.widget-view+json": {
              "version_major": 2,
              "version_minor": 0,
              "model_id": "8fbdb230253a4152be95bf6229049f09"
            }
          },
          "metadata": {}
        }
      ]
    },
    {
      "cell_type": "markdown",
      "metadata": {
        "id": "-mqpdB8R6rty"
      },
      "source": [
        "Let's compute the overall WER now."
      ]
    },
    {
      "cell_type": "code",
      "metadata": {
        "id": "PmqAb4Isx8OK",
        "colab": {
          "base_uri": "https://localhost:8080/"
        },
        "outputId": "d70180e0-77e4-458b-daff-61df307f500c"
      },
      "source": [
        "print(\"Test WER: {:.3f}\".format(wer_metric.compute(predictions=results[\"pred_str\"], references=results[\"text\"])))"
      ],
      "execution_count": null,
      "outputs": [
        {
          "output_type": "stream",
          "name": "stdout",
          "text": [
            "Test WER: 0.218\n"
          ]
        }
      ]
    },
    {
      "cell_type": "markdown",
      "metadata": {
        "id": "6Va94d8Y7Q98"
      },
      "source": [
        "21.8% WER - not bad! Our demo model would have probably made it on the official [leaderboard](https://paperswithcode.com/sota/speech-recognition-on-timit).\n",
        "\n",
        "Let's take a look at some predictions to see what errors are made by the model."
      ]
    },
    {
      "cell_type": "code",
      "metadata": {
        "id": "odNDiFVRy53w",
        "colab": {
          "base_uri": "https://localhost:8080/",
          "height": 363
        },
        "outputId": "cb787bc7-5346-449e-e314-202df442185a"
      },
      "source": [
        "show_random_elements(results)"
      ],
      "execution_count": null,
      "outputs": [
        {
          "output_type": "display_data",
          "data": {
            "text/plain": [
              "<IPython.core.display.HTML object>"
            ],
            "text/html": [
              "<table border=\"1\" class=\"dataframe\">\n",
              "  <thead>\n",
              "    <tr style=\"text-align: right;\">\n",
              "      <th></th>\n",
              "      <th>pred_str</th>\n",
              "      <th>text</th>\n",
              "    </tr>\n",
              "  </thead>\n",
              "  <tbody>\n",
              "    <tr>\n",
              "      <th>0</th>\n",
              "      <td>aim to balenge your employ you benefits package</td>\n",
              "      <td>aim to balance your employee benefit package</td>\n",
              "    </tr>\n",
              "    <tr>\n",
              "      <th>1</th>\n",
              "      <td>the fog prevented them from ariving on tom</td>\n",
              "      <td>the fog prevented them from arriving on time</td>\n",
              "    </tr>\n",
              "    <tr>\n",
              "      <th>2</th>\n",
              "      <td>young children should avoid exposure to contageous diseases</td>\n",
              "      <td>young children should avoid exposure to contagious diseases</td>\n",
              "    </tr>\n",
              "    <tr>\n",
              "      <th>3</th>\n",
              "      <td>art official intelligence is for real</td>\n",
              "      <td>artificial intelligence is for real</td>\n",
              "    </tr>\n",
              "    <tr>\n",
              "      <th>4</th>\n",
              "      <td>theire propes were two step latters a chair and a pame fen</td>\n",
              "      <td>their props were two stepladders a chair and a palm fan</td>\n",
              "    </tr>\n",
              "    <tr>\n",
              "      <th>5</th>\n",
              "      <td>if people were more generous there would be no need for wealfar</td>\n",
              "      <td>if people were more generous there would be no need for welfare</td>\n",
              "    </tr>\n",
              "    <tr>\n",
              "      <th>6</th>\n",
              "      <td>the fish began to leep frantically on the surface of the smalleaku</td>\n",
              "      <td>the fish began to leap frantically on the surface of the small lake</td>\n",
              "    </tr>\n",
              "    <tr>\n",
              "      <th>7</th>\n",
              "      <td>her rite hand aques whenever the baramatric presuer changes</td>\n",
              "      <td>her right hand aches whenever the barometric pressure changes</td>\n",
              "    </tr>\n",
              "    <tr>\n",
              "      <th>8</th>\n",
              "      <td>only lawyers loved milunears</td>\n",
              "      <td>only lawyers love millionaires</td>\n",
              "    </tr>\n",
              "    <tr>\n",
              "      <th>9</th>\n",
              "      <td>the nearest synnegu may not be within walk in distance</td>\n",
              "      <td>the nearest synagogue may not be within walking distance</td>\n",
              "    </tr>\n",
              "  </tbody>\n",
              "</table>"
            ]
          },
          "metadata": {}
        }
      ]
    },
    {
      "cell_type": "markdown",
      "metadata": {
        "id": "5HFCujhd9n4N"
      },
      "source": [
        "It becomes clear that the predicted transcriptions are acoustically very similar to the target transcriptions, but often contain spelling or grammatical errors. This shouldn't be very surprising though given that we purely rely on Wav2Vec2 without making use of a language model."
      ]
    },
    {
      "cell_type": "markdown",
      "metadata": {
        "id": "a3ydKvUl9FTK"
      },
      "source": [
        "Finally, to better understand how CTC works, it is worth taking a deeper look at the exact output of the model. Let's run the first test sample through the model, take the predicted ids and convert them to their corresponding tokens."
      ]
    },
    {
      "cell_type": "code",
      "metadata": {
        "id": "AqaM45t87uM4",
        "colab": {
          "base_uri": "https://localhost:8080/",
          "height": 73
        },
        "outputId": "2d181121-2184-48dc-a337-bb33194fd68b"
      },
      "source": [
        "model.to(\"cuda\")\n",
        "\n",
        "with torch.no_grad():\n",
        "  logits = model(torch.tensor(timit[\"test\"][:1][\"input_values\"], device=\"cuda\")).logits\n",
        "\n",
        "pred_ids = torch.argmax(logits, dim=-1)\n",
        "\n",
        "# convert ids to tokens\n",
        "\" \".join(processor.tokenizer.convert_ids_to_tokens(pred_ids[0].tolist()))"
      ],
      "execution_count": null,
      "outputs": [
        {
          "output_type": "execute_result",
          "data": {
            "text/plain": [
              "'[PAD] [PAD] [PAD] [PAD] [PAD] t t h h e | | | b [PAD] [PAD] [PAD] u u n n g g [PAD] [PAD] l l l l [PAD] o o o | | w w a a s s | | [PAD] [PAD] [PAD] p l l [PAD] e s s s s [PAD] n n t t [PAD] l l l y y | | [PAD] s s s i i t t t [PAD] u u u u u [PAD] [PAD] [PAD] [PAD] a a t t [PAD] e e d d | | [PAD] n n e e a a r | | t t h e e | | s s h h [PAD] [PAD] [PAD] [PAD] o o r r r r | [PAD] [PAD] [PAD] [PAD] [PAD] [PAD] [PAD] [PAD] [PAD]'"
            ],
            "application/vnd.google.colaboratory.intrinsic+json": {
              "type": "string"
            }
          },
          "metadata": {},
          "execution_count": 98
        }
      ]
    },
    {
      "cell_type": "markdown",
      "metadata": {
        "id": "tdO8E28g-n5C"
      },
      "source": [
        "The output should make it a bit clearer how CTC works in practice. The model is to some extent invariant to speaking rate since it has learned to either just repeat the same token in case the speech chunk to be classified still corresponds to the same token. This makes CTC a very powerful algorithm for speech recognition since the speech file's transcription is often very much independent of its length.\n",
        "\n",
        "I again advise the reader to take a look at [this](https://distill.pub/2017/ctc) very nice blog post to better understand CTC."
      ]
    }
  ]
}